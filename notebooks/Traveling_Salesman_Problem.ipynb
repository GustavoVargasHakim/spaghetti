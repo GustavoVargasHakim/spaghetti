{
 "cells": [
  {
   "cell_type": "markdown",
   "metadata": {},
   "source": [
    "------------------------------------"
   ]
  },
  {
   "cell_type": "markdown",
   "metadata": {},
   "source": [
    "### If any part of this notebook is used in your research, please cite with the reference found in [`README.md`](https://github.com/pysal/spaghetti#bibtex-citation)."
   ]
  },
  {
   "cell_type": "markdown",
   "metadata": {},
   "source": [
    "-----------------------------"
   ]
  },
  {
   "cell_type": "markdown",
   "metadata": {},
   "source": [
    "#### This notebook requires installations of:\n",
    "* [`geopandas`](http://geopandas.org)\n",
    "    * `$ conda install -c conda-forge geopandas`\n",
    "\n",
    "* [`shapely`](https://shapely.readthedocs.io/en/latest/)\n",
    "    * `$ conda install -c conda-forge shapely`\n",
    "\n",
    "* [`descartes`](https://pypi.org/project/descartes/)\n",
    "    * `$ conda install -c conda-forge descartes`\n",
    "\n",
    "* [`matplotlib`](https://matplotlib.org)\n",
    "    * `$ conda install matplotlib`\n",
    "\n",
    "* [`seaborn`](https://seaborn.pydata.org/index.html)\n",
    "    * `$ conda install seaborn`\n",
    "\n",
    "* [`pulp`](https://anaconda.org/conda-forge/pulp)\n",
    "    * `$ pip install pulp`"
   ]
  },
  {
   "cell_type": "markdown",
   "metadata": {},
   "source": [
    "-------------"
   ]
  },
  {
   "cell_type": "markdown",
   "metadata": {},
   "source": [
    "# The Traveling Sales(man)(person) Problem — TSP"
   ]
  },
  {
   "cell_type": "markdown",
   "metadata": {},
   "source": [
    "#### James D. Gaboardi [<jgaboardi@gmail.com>]"
   ]
  },
  {
   "cell_type": "code",
   "execution_count": 4,
   "metadata": {
    "ExecuteTime": {
     "end_time": "2019-11-14T13:18:40.399934Z",
     "start_time": "2019-11-14T13:18:40.367045Z"
    }
   },
   "outputs": [],
   "source": [
    "import os\n",
    "last_modified = None\n",
    "if os.name == \"posix\":\n",
    "    last_modified = !stat -f\\\n",
    "                    \"# This notebook was last updated: %Sm\"\\\n",
    "                     Traveling_Salesman_Problem.ipynb\n",
    "elif os.name == \"nt\":\n",
    "    last_modified = !for %a in (Traveling_Salesman_Problem.ipynb)\\\n",
    "                    do echo # This notebook was last updated: %~ta\n",
    "    \n",
    "if last_modified:\n",
    "    get_ipython().set_next_input(last_modified[-1])"
   ]
  },
  {
   "cell_type": "code",
   "execution_count": null,
   "metadata": {},
   "outputs": [],
   "source": [
    "# This notebook was last updated: Nov 14 08:18:30 2019"
   ]
  },
  {
   "cell_type": "code",
   "execution_count": null,
   "metadata": {},
   "outputs": [],
   "source": []
  },
  {
   "cell_type": "code",
   "execution_count": null,
   "metadata": {},
   "outputs": [],
   "source": []
  },
  {
   "cell_type": "markdown",
   "metadata": {},
   "source": [
    "* even in pop culture... https://en.wikipedia.org/wiki/Travelling_Salesman_(2012_film)"
   ]
  },
  {
   "cell_type": "code",
   "execution_count": null,
   "metadata": {},
   "outputs": [],
   "source": []
  },
  {
   "cell_type": "markdown",
   "metadata": {},
   "source": [
    "https://en.wikipedia.org/wiki/Travelling_salesman_problem"
   ]
  },
  {
   "cell_type": "markdown",
   "metadata": {},
   "source": []
  },
  {
   "cell_type": "markdown",
   "metadata": {},
   "source": [
    "formulation...\n",
    "\n",
    "* source from Harvey Miller book\n",
    "* source from Church Murray book...\n",
    "\n",
    "* where do they get their formulations...\n",
    "\n",
    "* cite integer programming formulation...."
   ]
  },
  {
   "cell_type": "markdown",
   "metadata": {},
   "source": [
    "\\begin{aligned}\n",
    "\\Huge \\min_{w,b,\\xi} \\quad & \\Huge \\frac{1}{2}w^{t}w+C\\sum_{i=1}^{N}{\\xi_{i}}\\\\\n",
    "\\Huge \\textrm{s.t.} \\quad & \\Huge y_{i}(w\\phi(x_{i}+b))+\\xi_{i}-1\\\\\n",
    "\\Huge & \\Huge \\xi\\geq0    \\\\\n",
    "\\end{aligned}"
   ]
  },
  {
   "cell_type": "code",
   "execution_count": null,
   "metadata": {},
   "outputs": [],
   "source": []
  },
  {
   "cell_type": "markdown",
   "metadata": {},
   "source": [
    "### Scenario:\n",
    "\n",
    "* newspaper boys needs to decide his route...\n",
    "* his parents/(other) are renowned operations research folks...\n",
    "* top woman/man in OR...\n",
    "* they help newspaper boy find an optimal route..."
   ]
  },
  {
   "cell_type": "markdown",
   "metadata": {},
   "source": [
    "* Traveling Salesman Problem\n",
    "  * ... textual description...\n",
    "  * ... mathematical programming formulation...\n",
    "  * ... references ... \n"
   ]
  },
  {
   "cell_type": "markdown",
   "metadata": {},
   "source": [
    "---------------------"
   ]
  },
  {
   "cell_type": "code",
   "execution_count": 7,
   "metadata": {
    "ExecuteTime": {
     "end_time": "2019-11-14T13:27:24.748940Z",
     "start_time": "2019-11-14T13:27:24.740645Z"
    }
   },
   "outputs": [],
   "source": [
    "import spaghetti as spgh\n",
    "from libpysal import examples\n",
    "import pulp\n",
    "import geopandas as gpd\n",
    "import matplotlib.pyplot as plt\n",
    "import matplotlib.lines as mlines\n",
    "from shapely.geometry import Point, LineString\n",
    "\n",
    "try:\n",
    "    from IPython.display import set_matplotlib_formats\n",
    "    set_matplotlib_formats('retina')\n",
    "except ImportError:\n",
    "    pass\n",
    "\n",
    "%matplotlib inline\n",
    "\n",
    "__author__ = \"James Gaboardi <jgaboardi@gmail.com>\""
   ]
  },
  {
   "cell_type": "code",
   "execution_count": null,
   "metadata": {},
   "outputs": [],
   "source": []
  },
  {
   "cell_type": "code",
   "execution_count": null,
   "metadata": {},
   "outputs": [],
   "source": []
  },
  {
   "cell_type": "markdown",
   "metadata": {},
   "source": [
    "# --> get headings from Facility Location notebook."
   ]
  },
  {
   "cell_type": "markdown",
   "metadata": {},
   "source": [
    "### Streets as empirical data"
   ]
  },
  {
   "cell_type": "code",
   "execution_count": 8,
   "metadata": {
    "ExecuteTime": {
     "end_time": "2019-11-14T13:27:58.325248Z",
     "start_time": "2019-11-14T13:27:57.980860Z"
    }
   },
   "outputs": [
    {
     "data": {
      "text/html": [
       "<div>\n",
       "<style scoped>\n",
       "    .dataframe tbody tr th:only-of-type {\n",
       "        vertical-align: middle;\n",
       "    }\n",
       "\n",
       "    .dataframe tbody tr th {\n",
       "        vertical-align: top;\n",
       "    }\n",
       "\n",
       "    .dataframe thead th {\n",
       "        text-align: right;\n",
       "    }\n",
       "</style>\n",
       "<table border=\"1\" class=\"dataframe\">\n",
       "  <thead>\n",
       "    <tr style=\"text-align: right;\">\n",
       "      <th></th>\n",
       "      <th>ID</th>\n",
       "      <th>Length</th>\n",
       "      <th>geometry</th>\n",
       "    </tr>\n",
       "  </thead>\n",
       "  <tbody>\n",
       "    <tr>\n",
       "      <th>0</th>\n",
       "      <td>1.0</td>\n",
       "      <td>244.116229</td>\n",
       "      <td>LINESTRING (222006.581 267347.973, 222006.609 ...</td>\n",
       "    </tr>\n",
       "    <tr>\n",
       "      <th>1</th>\n",
       "      <td>2.0</td>\n",
       "      <td>375.974828</td>\n",
       "      <td>LINESTRING (222006.401 267549.141, 222006.581 ...</td>\n",
       "    </tr>\n",
       "    <tr>\n",
       "      <th>2</th>\n",
       "      <td>3.0</td>\n",
       "      <td>400.353405</td>\n",
       "      <td>LINESTRING (221419.878 267804.150, 221410.853 ...</td>\n",
       "    </tr>\n",
       "    <tr>\n",
       "      <th>3</th>\n",
       "      <td>4.0</td>\n",
       "      <td>660.000000</td>\n",
       "      <td>LINESTRING (220874.568 268352.647, 220803.400 ...</td>\n",
       "    </tr>\n",
       "    <tr>\n",
       "      <th>4</th>\n",
       "      <td>5.0</td>\n",
       "      <td>660.000000</td>\n",
       "      <td>LINESTRING (220801.878 268398.082, 220916.451 ...</td>\n",
       "    </tr>\n",
       "  </tbody>\n",
       "</table>\n",
       "</div>"
      ],
      "text/plain": [
       "    ID      Length                                           geometry\n",
       "0  1.0  244.116229  LINESTRING (222006.581 267347.973, 222006.609 ...\n",
       "1  2.0  375.974828  LINESTRING (222006.401 267549.141, 222006.581 ...\n",
       "2  3.0  400.353405  LINESTRING (221419.878 267804.150, 221410.853 ...\n",
       "3  4.0  660.000000  LINESTRING (220874.568 268352.647, 220803.400 ...\n",
       "4  5.0  660.000000  LINESTRING (220801.878 268398.082, 220916.451 ..."
      ]
     },
     "execution_count": 8,
     "metadata": {},
     "output_type": "execute_result"
    }
   ],
   "source": [
    "streets = gpd.read_file(examples.get_path('streets.shp'))\n",
    "streets.crs = {'init':'epsg:2223'}\n",
    "streets = streets.to_crs(epsg=2762)\n",
    "streets.head()"
   ]
  },
  {
   "cell_type": "code",
   "execution_count": null,
   "metadata": {},
   "outputs": [],
   "source": []
  },
  {
   "cell_type": "code",
   "execution_count": null,
   "metadata": {},
   "outputs": [],
   "source": []
  },
  {
   "cell_type": "code",
   "execution_count": null,
   "metadata": {},
   "outputs": [],
   "source": []
  },
  {
   "cell_type": "code",
   "execution_count": null,
   "metadata": {},
   "outputs": [],
   "source": []
  },
  {
   "cell_type": "code",
   "execution_count": null,
   "metadata": {},
   "outputs": [],
   "source": []
  },
  {
   "cell_type": "code",
   "execution_count": null,
   "metadata": {},
   "outputs": [],
   "source": []
  },
  {
   "cell_type": "code",
   "execution_count": null,
   "metadata": {},
   "outputs": [],
   "source": []
  },
  {
   "cell_type": "code",
   "execution_count": null,
   "metadata": {},
   "outputs": [],
   "source": []
  },
  {
   "cell_type": "code",
   "execution_count": null,
   "metadata": {},
   "outputs": [],
   "source": []
  },
  {
   "cell_type": "code",
   "execution_count": null,
   "metadata": {},
   "outputs": [],
   "source": []
  },
  {
   "cell_type": "markdown",
   "metadata": {},
   "source": [
    "----------------------"
   ]
  }
 ],
 "metadata": {
  "kernelspec": {
   "display_name": "Python [conda env:py3_spgh_dev]",
   "language": "python",
   "name": "conda-env-py3_spgh_dev-py"
  },
  "language_info": {
   "codemirror_mode": {
    "name": "ipython",
    "version": 3
   },
   "file_extension": ".py",
   "mimetype": "text/x-python",
   "name": "python",
   "nbconvert_exporter": "python",
   "pygments_lexer": "ipython3",
   "version": "3.6.7"
  }
 },
 "nbformat": 4,
 "nbformat_minor": 2
}
