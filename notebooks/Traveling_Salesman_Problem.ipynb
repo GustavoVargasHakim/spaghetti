{
 "cells": [
  {
   "cell_type": "markdown",
   "metadata": {},
   "source": [
    "------------------------------------"
   ]
  },
  {
   "cell_type": "markdown",
   "metadata": {},
   "source": [
    "### If any part of this notebook is used in your research, please cite with the reference found in [`README.md`](https://github.com/pysal/spaghetti#bibtex-citation)."
   ]
  },
  {
   "cell_type": "markdown",
   "metadata": {},
   "source": [
    "-----------------------------"
   ]
  },
  {
   "cell_type": "markdown",
   "metadata": {},
   "source": [
    "#### This notebook requires installations of:\n",
    "* [`geopandas`](http://geopandas.org)\n",
    "    * `$ conda install -c conda-forge geopandas`\n",
    "\n",
    "* [`shapely`](https://shapely.readthedocs.io/en/latest/)\n",
    "    * `$ conda install -c conda-forge shapely`\n",
    "\n",
    "* [`descartes`](https://pypi.org/project/descartes/)\n",
    "    * `$ conda install -c conda-forge descartes`\n",
    "\n",
    "* [`matplotlib`](https://matplotlib.org)\n",
    "    * `$ conda install matplotlib`\n",
    "\n",
    "* [`pulp`](https://anaconda.org/conda-forge/pulp)\n",
    "    * `$ pip install pulp`\n",
    "\n",
    "* [`watermark`](https://github.com/rasbt/watermark)\n",
    "    * `$ pip install watermark`"
   ]
  },
  {
   "cell_type": "markdown",
   "metadata": {},
   "source": [
    "-------------"
   ]
  },
  {
   "cell_type": "markdown",
   "metadata": {},
   "source": [
    "# The Traveling Sales(man)(person) Problem — TSP"
   ]
  },
  {
   "cell_type": "markdown",
   "metadata": {},
   "source": [
    "#### James D. Gaboardi [<jgaboardi@gmail.com>]"
   ]
  },
  {
   "cell_type": "markdown",
   "metadata": {},
   "source": [
    "-----------------"
   ]
  },
  {
   "cell_type": "markdown",
   "metadata": {},
   "source": [
    "# original time tagger for update"
   ]
  },
  {
   "cell_type": "code",
   "execution_count": 4,
   "metadata": {
    "ExecuteTime": {
     "end_time": "2019-11-14T13:18:40.399934Z",
     "start_time": "2019-11-14T13:18:40.367045Z"
    }
   },
   "outputs": [],
   "source": [
    "import os\n",
    "last_modified = None\n",
    "if os.name == \"posix\":\n",
    "    last_modified = !stat -f\\\n",
    "                    \"# This notebook was last updated: %Sm\"\\\n",
    "                     Traveling_Salesman_Problem.ipynb\n",
    "elif os.name == \"nt\":\n",
    "    last_modified = !for %a in (Traveling_Salesman_Problem.ipynb)\\\n",
    "                    do echo # This notebook was last updated: %~ta\n",
    "    \n",
    "if last_modified:\n",
    "    get_ipython().set_next_input(last_modified[-1])"
   ]
  },
  {
   "cell_type": "code",
   "execution_count": null,
   "metadata": {},
   "outputs": [],
   "source": [
    "# This notebook was last updated: Nov 14 08:18:30 2019"
   ]
  },
  {
   "cell_type": "markdown",
   "metadata": {},
   "source": [
    "----------------\n",
    "\n",
    "# fresh watermarks for update"
   ]
  },
  {
   "cell_type": "code",
   "execution_count": 1,
   "metadata": {
    "ExecuteTime": {
     "end_time": "2019-11-18T21:39:47.210906Z",
     "start_time": "2019-11-18T21:39:47.046356Z"
    }
   },
   "outputs": [],
   "source": [
    "%load_ext watermark\n",
    "def notebook_watermark(packages=False):\n",
    "    if not packages:\n",
    "        %watermark -u -n -t -z -v\n",
    "        print(\"\")\n",
    "        %watermark -m\n",
    "    else:\n",
    "        %watermark -iv"
   ]
  },
  {
   "cell_type": "code",
   "execution_count": 2,
   "metadata": {
    "ExecuteTime": {
     "end_time": "2019-11-18T21:39:47.853881Z",
     "start_time": "2019-11-18T21:39:47.833558Z"
    }
   },
   "outputs": [
    {
     "name": "stdout",
     "output_type": "stream",
     "text": [
      "last updated: Mon Nov 18 2019 16:39:47 EST \n",
      "\n",
      "CPython 3.6.7\n",
      "IPython 7.9.0\n",
      "\n",
      "compiler   : GCC Clang 9.0.0 (tags/RELEASE_900/final)\n",
      "system     : Darwin\n",
      "release    : 19.0.0\n",
      "machine    : x86_64\n",
      "processor  : i386\n",
      "CPU cores  : 4\n",
      "interpreter: 64bit\n"
     ]
    }
   ],
   "source": [
    "notebook_watermark()"
   ]
  },
  {
   "cell_type": "code",
   "execution_count": null,
   "metadata": {},
   "outputs": [],
   "source": []
  },
  {
   "cell_type": "markdown",
   "metadata": {},
   "source": [
    "* even in pop culture... https://en.wikipedia.org/wiki/Travelling_Salesman_(2012_film)"
   ]
  },
  {
   "cell_type": "code",
   "execution_count": null,
   "metadata": {},
   "outputs": [],
   "source": []
  },
  {
   "cell_type": "markdown",
   "metadata": {},
   "source": [
    "https://en.wikipedia.org/wiki/Travelling_salesman_problem"
   ]
  },
  {
   "cell_type": "markdown",
   "metadata": {},
   "source": []
  },
  {
   "cell_type": "markdown",
   "metadata": {},
   "source": [
    "formulation...\n",
    "\n",
    "* source from Harvey Miller book\n",
    "* source from Church Murray book...\n",
    "\n",
    "* where do they get their formulations...\n",
    "\n",
    "* cite integer programming formulation...."
   ]
  },
  {
   "cell_type": "markdown",
   "metadata": {},
   "source": [
    "\\begin{aligned}\n",
    "\\Huge \\min_{w,b,\\xi} \\quad & \\Huge \\frac{1}{2}w^{t}w+C\\sum_{i=1}^{N}{\\xi_{i}}\\\\\n",
    "\\Huge \\textrm{s.t.} \\quad & \\Huge y_{i}(w\\phi(x_{i}+b))+\\xi_{i}-1\\\\\n",
    "\\Huge & \\Huge \\xi\\geq0    \\\\\n",
    "\\end{aligned}"
   ]
  },
  {
   "cell_type": "code",
   "execution_count": null,
   "metadata": {},
   "outputs": [],
   "source": []
  },
  {
   "cell_type": "markdown",
   "metadata": {},
   "source": [
    "### Scenario:\n",
    "\n",
    "* newspaper boys needs to decide his route...\n",
    "* his parents/(other) are renowned operations research folks...\n",
    "* top woman/man in OR...\n",
    "* they help newspaper boy find an optimal route..."
   ]
  },
  {
   "cell_type": "markdown",
   "metadata": {},
   "source": [
    "* Traveling Salesman Problem\n",
    "  * ... textual description...\n",
    "  * ... mathematical programming formulation...\n",
    "  * ... references ... \n"
   ]
  },
  {
   "cell_type": "markdown",
   "metadata": {},
   "source": [
    "---------------------"
   ]
  },
  {
   "cell_type": "code",
   "execution_count": 4,
   "metadata": {
    "ExecuteTime": {
     "end_time": "2019-11-18T21:40:04.412090Z",
     "start_time": "2019-11-18T21:40:02.882856Z"
    }
   },
   "outputs": [],
   "source": [
    "import spaghetti as spgh\n",
    "from libpysal import examples\n",
    "import pulp\n",
    "import geopandas as gpd\n",
    "import matplotlib.pyplot as plt\n",
    "import matplotlib.lines as mlines\n",
    "from shapely.geometry import Point, LineString\n",
    "\n",
    "try:\n",
    "    from IPython.display import set_matplotlib_formats\n",
    "    set_matplotlib_formats('retina')\n",
    "except ImportError:\n",
    "    pass\n",
    "\n",
    "%matplotlib inline\n",
    "\n",
    "__author__ = \"James Gaboardi <jgaboardi@gmail.com>\""
   ]
  },
  {
   "cell_type": "code",
   "execution_count": 5,
   "metadata": {
    "ExecuteTime": {
     "end_time": "2019-11-18T21:40:04.422064Z",
     "start_time": "2019-11-18T21:40:04.414638Z"
    }
   },
   "outputs": [
    {
     "name": "stdout",
     "output_type": "stream",
     "text": [
      "matplotlib 3.1.2\n",
      "spaghetti  1.3.1\n",
      "geopandas  0.6.2\n",
      "libpysal   4.1.1\n",
      "\n"
     ]
    }
   ],
   "source": [
    "notebook_watermark(packages=True)"
   ]
  },
  {
   "cell_type": "code",
   "execution_count": 9,
   "metadata": {
    "ExecuteTime": {
     "end_time": "2019-11-18T21:41:02.965764Z",
     "start_time": "2019-11-18T21:41:02.956767Z"
    }
   },
   "outputs": [
    {
     "data": {
      "text/plain": [
       "'1.6.8'"
      ]
     },
     "execution_count": 9,
     "metadata": {},
     "output_type": "execute_result"
    }
   ],
   "source": [
    "pulp.VERSION"
   ]
  },
  {
   "cell_type": "code",
   "execution_count": 10,
   "metadata": {
    "ExecuteTime": {
     "end_time": "2019-11-18T21:42:04.953474Z",
     "start_time": "2019-11-18T21:42:04.942790Z"
    }
   },
   "outputs": [],
   "source": [
    "def _get_packages(self, pkgs):\n",
    "    if self.out:\n",
    "        self.out += '\\n'\n",
    "    packages = pkgs.split(',')\n",
    "\n",
    "    for p in packages:\n",
    "        if p == 'scikit-learn':\n",
    "            p = 'sklearn'\n",
    "        try:\n",
    "            imported = __import__(p)\n",
    "        except ImportError:\n",
    "            ver = 'not installed'\n",
    "        else:\n",
    "            try:\n",
    "                ver = pkg_resources.get_distribution(p).version\n",
    "            except DistributionNotFound:\n",
    "                try:\n",
    "                    ver = imported.__version__\n",
    "                except AttributeError:\n",
    "                    try:\n",
    "                        ver = imported.version\n",
    "                    except AttributeError:\n",
    "                        try:\n",
    "                            ver = imported.version_info\n",
    "                        except AttributeError:\n",
    "                            ver = 'unknown'\n",
    "\n",
    "        self.out += '\\n%s %s' % (p, ver)"
   ]
  },
  {
   "cell_type": "code",
   "execution_count": 13,
   "metadata": {
    "ExecuteTime": {
     "end_time": "2019-11-18T21:46:04.034905Z",
     "start_time": "2019-11-18T21:46:04.030467Z"
    }
   },
   "outputs": [],
   "source": [
    "import types\n",
    "import pkg_resources\n",
    "from pkg_resources import DistributionNotFound"
   ]
  },
  {
   "cell_type": "code",
   "execution_count": 14,
   "metadata": {
    "ExecuteTime": {
     "end_time": "2019-11-18T21:46:29.955352Z",
     "start_time": "2019-11-18T21:46:29.947121Z"
    }
   },
   "outputs": [],
   "source": [
    "def _print_all_import_versions(vars):\n",
    "    to_print = set()\n",
    "    for val in list(vars.values()):\n",
    "        if isinstance(val, types.ModuleType):\n",
    "            if val.__name__ != 'builtins':\n",
    "                try:\n",
    "                    to_print.add((val.__name__, val.__version__))\n",
    "                except AttributeError as e:\n",
    "                    try:\n",
    "                        imported = __import__(val.__name__.split('.')[0])\n",
    "                        to_print.add((imported.__name__,\n",
    "                                      imported.__version__))\n",
    "                    except AttributeError as e:\n",
    "                        continue"
   ]
  },
  {
   "cell_type": "code",
   "execution_count": null,
   "metadata": {},
   "outputs": [],
   "source": []
  },
  {
   "cell_type": "code",
   "execution_count": 15,
   "metadata": {
    "ExecuteTime": {
     "end_time": "2019-11-18T21:46:35.889787Z",
     "start_time": "2019-11-18T21:46:35.868112Z"
    }
   },
   "outputs": [
    {
     "ename": "AttributeError",
     "evalue": "'builtin_function_or_method' object has no attribute 'values'",
     "output_type": "error",
     "traceback": [
      "\u001b[0;31m---------------------------------------------------------------------------\u001b[0m",
      "\u001b[0;31mAttributeError\u001b[0m                            Traceback (most recent call last)",
      "\u001b[0;32m<ipython-input-15-79b5c2da3f18>\u001b[0m in \u001b[0;36m<module>\u001b[0;34m\u001b[0m\n\u001b[0;32m----> 1\u001b[0;31m \u001b[0m_print_all_import_versions\u001b[0m\u001b[0;34m(\u001b[0m\u001b[0mvars\u001b[0m\u001b[0;34m)\u001b[0m\u001b[0;34m\u001b[0m\u001b[0;34m\u001b[0m\u001b[0m\n\u001b[0m",
      "\u001b[0;32m<ipython-input-14-339417f123ce>\u001b[0m in \u001b[0;36m_print_all_import_versions\u001b[0;34m(vars)\u001b[0m\n\u001b[1;32m      1\u001b[0m \u001b[0;32mdef\u001b[0m \u001b[0m_print_all_import_versions\u001b[0m\u001b[0;34m(\u001b[0m\u001b[0mvars\u001b[0m\u001b[0;34m)\u001b[0m\u001b[0;34m:\u001b[0m\u001b[0;34m\u001b[0m\u001b[0;34m\u001b[0m\u001b[0m\n\u001b[1;32m      2\u001b[0m     \u001b[0mto_print\u001b[0m \u001b[0;34m=\u001b[0m \u001b[0mset\u001b[0m\u001b[0;34m(\u001b[0m\u001b[0;34m)\u001b[0m\u001b[0;34m\u001b[0m\u001b[0;34m\u001b[0m\u001b[0m\n\u001b[0;32m----> 3\u001b[0;31m     \u001b[0;32mfor\u001b[0m \u001b[0mval\u001b[0m \u001b[0;32min\u001b[0m \u001b[0mlist\u001b[0m\u001b[0;34m(\u001b[0m\u001b[0mvars\u001b[0m\u001b[0;34m.\u001b[0m\u001b[0mvalues\u001b[0m\u001b[0;34m(\u001b[0m\u001b[0;34m)\u001b[0m\u001b[0;34m)\u001b[0m\u001b[0;34m:\u001b[0m\u001b[0;34m\u001b[0m\u001b[0;34m\u001b[0m\u001b[0m\n\u001b[0m\u001b[1;32m      4\u001b[0m         \u001b[0;32mif\u001b[0m \u001b[0misinstance\u001b[0m\u001b[0;34m(\u001b[0m\u001b[0mval\u001b[0m\u001b[0;34m,\u001b[0m \u001b[0mtypes\u001b[0m\u001b[0;34m.\u001b[0m\u001b[0mModuleType\u001b[0m\u001b[0;34m)\u001b[0m\u001b[0;34m:\u001b[0m\u001b[0;34m\u001b[0m\u001b[0;34m\u001b[0m\u001b[0m\n\u001b[1;32m      5\u001b[0m             \u001b[0;32mif\u001b[0m \u001b[0mval\u001b[0m\u001b[0;34m.\u001b[0m\u001b[0m__name__\u001b[0m \u001b[0;34m!=\u001b[0m \u001b[0;34m'builtins'\u001b[0m\u001b[0;34m:\u001b[0m\u001b[0;34m\u001b[0m\u001b[0;34m\u001b[0m\u001b[0m\n",
      "\u001b[0;31mAttributeError\u001b[0m: 'builtin_function_or_method' object has no attribute 'values'"
     ]
    }
   ],
   "source": [
    "_print_all_import_versions(vars)"
   ]
  },
  {
   "cell_type": "code",
   "execution_count": 16,
   "metadata": {
    "ExecuteTime": {
     "end_time": "2019-11-18T21:52:05.758872Z",
     "start_time": "2019-11-18T21:52:05.754998Z"
    }
   },
   "outputs": [],
   "source": [
    "import watermark"
   ]
  },
  {
   "cell_type": "code",
   "execution_count": 17,
   "metadata": {
    "ExecuteTime": {
     "end_time": "2019-11-18T21:52:11.386505Z",
     "start_time": "2019-11-18T21:52:11.380268Z"
    }
   },
   "outputs": [
    {
     "name": "stdout",
     "output_type": "stream",
     "text": [
      "['DistributionNotFound', 'IPython', 'Magics', 'PackageNotFoundError', 'WaterMark', '__all__', '__builtins__', '__cached__', '__doc__', '__file__', '__loader__', '__name__', '__package__', '__path__', '__spec__', '__version__', 'argument', 'cpu_count', 'datetime', 'gethostname', 'line_magic', 'load_ipython_extension', 'magic_arguments', 'magics_class', 'parse_argstring', 'pkg_resources', 'platform', 'strftime', 'subprocess', 'sys', 'time', 'types', 'watermark']\n"
     ]
    }
   ],
   "source": [
    "print(dir(watermark))"
   ]
  },
  {
   "cell_type": "code",
   "execution_count": 26,
   "metadata": {
    "ExecuteTime": {
     "end_time": "2019-11-18T21:53:51.508877Z",
     "start_time": "2019-11-18T21:53:51.504885Z"
    }
   },
   "outputs": [],
   "source": []
  },
  {
   "cell_type": "code",
   "execution_count": 31,
   "metadata": {
    "ExecuteTime": {
     "end_time": "2019-11-18T21:57:45.340670Z",
     "start_time": "2019-11-18T21:57:45.336402Z"
    }
   },
   "outputs": [],
   "source": []
  },
  {
   "cell_type": "code",
   "execution_count": null,
   "metadata": {},
   "outputs": [],
   "source": []
  },
  {
   "cell_type": "code",
   "execution_count": 72,
   "metadata": {
    "ExecuteTime": {
     "end_time": "2019-11-18T22:12:18.448115Z",
     "start_time": "2019-11-18T22:12:18.384414Z"
    }
   },
   "outputs": [],
   "source": [
    "\"\"\"\n",
    "IPython magic function to print date/time stamps and\n",
    "various system information.\n",
    "\n",
    "Author: Sebastian Raschka <sebastianraschka.com>\n",
    "License: BSD 3 clause\n",
    "\"\"\"\n",
    "\n",
    "#from . import __version__\n",
    "import platform\n",
    "import subprocess\n",
    "from time import strftime\n",
    "from time import time\n",
    "import datetime\n",
    "from socket import gethostname\n",
    "from multiprocessing import cpu_count\n",
    "import types\n",
    "import pkg_resources\n",
    "from pkg_resources import DistributionNotFound\n",
    "\n",
    "import IPython\n",
    "from IPython.core.magic import Magics\n",
    "from IPython.core.magic import magics_class\n",
    "from IPython.core.magic import line_magic\n",
    "from IPython.core.magic_arguments import argument\n",
    "from IPython.core.magic_arguments import magic_arguments\n",
    "from IPython.core.magic_arguments import parse_argstring\n",
    "\n",
    "\n",
    "class PackageNotFoundError(Exception):\n",
    "    pass\n",
    "\n",
    "\n",
    "@magics_class\n",
    "class James_WaterMark(Magics):\n",
    "    \"\"\"\n",
    "    IPython magic function to print date/time stamps\n",
    "    and various system information.\n",
    "\n",
    "    \"\"\"\n",
    "    @magic_arguments()\n",
    "    @argument('-a', '--author', type=str,\n",
    "              help='prints author name')\n",
    "    @argument('-d', '--date', action='store_true',\n",
    "              help='prints current date as YYYY-mm-dd')\n",
    "    @argument('-n', '--datename', action='store_true',\n",
    "              help='prints date with abbrv. day and month names')\n",
    "    @argument('-t', '--time', action='store_true',\n",
    "              help='prints current time as HH-MM-SS')\n",
    "    @argument('-i', '--iso8601', action='store_true',\n",
    "              help='prints the combined date and time including the time zone'\n",
    "                   ' in the ISO 8601 standard with UTC offset')\n",
    "    @argument('-z', '--timezone', action='store_true',\n",
    "              help='appends the local time zone')\n",
    "    @argument('-u', '--updated', action='store_true',\n",
    "              help='appends a string \"Last updated: \"')\n",
    "    @argument('-c', '--custom_time', type=str,\n",
    "              help='prints a valid strftime() string')\n",
    "    @argument('-v', '--python', action='store_true',\n",
    "              help='prints Python and IPython version')\n",
    "    @argument('-p', '--packages', type=str,\n",
    "              help='prints versions of specified Python modules and packages')\n",
    "    @argument('-h', '--hostname', action='store_true',\n",
    "              help='prints the host name')\n",
    "    @argument('-m', '--machine', action='store_true',\n",
    "              help='prints system and machine info')\n",
    "    @argument('-g', '--githash', action='store_true',\n",
    "              help='prints current Git commit hash')\n",
    "    @argument('-r', '--gitrepo', action='store_true',\n",
    "              help='prints current Git remote address')\n",
    "    @argument('-b', '--gitbranch', action='store_true',\n",
    "              help='prints current Git branch')\n",
    "    @argument('-w', '--watermark', action='store_true',\n",
    "              help='prints the current version of watermark')\n",
    "    @argument('-iv', '--iversions', action='store_true',\n",
    "              help='prints the name/version of all imported modules')\n",
    "    @line_magic\n",
    "    def james_watermark(self, line):\n",
    "        \"\"\"\n",
    "        IPython magic function to print date/time stamps\n",
    "        and various system information.\n",
    "        \"\"\"\n",
    "        self.out = ''\n",
    "        args = parse_argstring(self.watermark, line)\n",
    "\n",
    "        if not any(vars(args).values()) or args.iso8601:\n",
    "            try:\n",
    "                dt = datetime.datetime.fromtimestamp(int(time()),\n",
    "                                                     datetime.timezone.utc)\n",
    "                iso_dt = dt.astimezone().isoformat()\n",
    "            except AttributeError:  # timezone only supported by Py >=3.2:\n",
    "                iso_dt = strftime('%Y-%m-%dT%H:%M:%S')\n",
    "\n",
    "        if not any(vars(args).values()):\n",
    "            self.out += iso_dt\n",
    "            self._get_pyversions()\n",
    "            self._get_sysinfo()\n",
    "\n",
    "        else:\n",
    "            if args.author:\n",
    "                self.out += '% s ' % args.author.strip('\\'\"')\n",
    "            if args.updated and args.author:\n",
    "                self.out += '\\n'\n",
    "            if args.updated:\n",
    "                self.out += 'last updated: '\n",
    "            if args.custom_time:\n",
    "                self.out += '%s ' % strftime(args.custom_time)\n",
    "            if args.date:\n",
    "                self.out += '%s ' % strftime('%Y-%m-%d')\n",
    "            elif args.datename:\n",
    "                self.out += '%s ' % strftime('%a %b %d %Y')\n",
    "            if args.time:\n",
    "                self.out += '%s ' % strftime('%H:%M:%S')\n",
    "            if args.timezone:\n",
    "                self.out += '%s ' % strftime('%Z')\n",
    "            if args.iso8601:\n",
    "                self.out += iso_dt\n",
    "            if args.python:\n",
    "                self._get_pyversions()\n",
    "            if args.packages:\n",
    "                self._get_packages(args.packages)\n",
    "            if args.machine:\n",
    "                self._get_sysinfo()\n",
    "            if args.hostname:\n",
    "                space = ''\n",
    "                if args.machine:\n",
    "                    space = '  '\n",
    "                self.out += '\\nhost name%s: %s' % (space, gethostname())\n",
    "            if args.githash:\n",
    "                self._get_commit_hash(bool(args.machine))\n",
    "            if args.gitrepo:\n",
    "                self._get_git_remote_origin(bool(args.machine))\n",
    "            if args.gitbranch:\n",
    "                self._get_git_branch(bool(args.machine))\n",
    "            if args.iversions:\n",
    "                self._print_all_import_versions(self.shell.user_ns)\n",
    "            if args.watermark:\n",
    "                if self.out:\n",
    "                    self.out += '\\n'\n",
    "                self.out += 'watermark %s' % __version__\n",
    "        print(self.out.strip())\n",
    "\n",
    "    def _get_packages(self, pkgs):\n",
    "        if self.out:\n",
    "            self.out += '\\n'\n",
    "        packages = pkgs.split(',')\n",
    "\n",
    "        for p in packages:\n",
    "            if p == 'scikit-learn':\n",
    "                p = 'sklearn'\n",
    "            try:\n",
    "                imported = __import__(p)\n",
    "            except ImportError:\n",
    "                ver = 'not installed'\n",
    "            else:\n",
    "                try:\n",
    "                    ver = pkg_resources.get_distribution(p).version\n",
    "                except DistributionNotFound:\n",
    "                    try:\n",
    "                        ver = imported.__version__\n",
    "                    except AttributeError:\n",
    "                        try:\n",
    "                            ver = imported.version\n",
    "                        except AttributeError:\n",
    "                            try:\n",
    "                                ver = imported.version_info\n",
    "                            except AttributeError:\n",
    "                                ver = 'unknown'\n",
    "\n",
    "            self.out += '\\n%s %s' % (p, ver)\n",
    "\n",
    "    def _get_pyversions(self):\n",
    "        if self.out:\n",
    "            self.out += '\\n\\n'\n",
    "        self.out += '%s %s\\nIPython %s' % (\n",
    "            platform.python_implementation(),\n",
    "            platform.python_version(),\n",
    "            IPython.__version__)\n",
    "\n",
    "    def _get_sysinfo(self):\n",
    "        if self.out:\n",
    "            self.out += '\\n\\n'\n",
    "        self.out += ('compiler   : %s\\nsystem     : %s\\n'\n",
    "                     'release    : %s\\nmachine    : %s\\n'\n",
    "                     'processor  : %s\\nCPU cores  : %s\\ninterpreter: %s') % (\n",
    "            platform.python_compiler(),\n",
    "            platform.system(),\n",
    "            platform.release(),\n",
    "            platform.machine(),\n",
    "            platform.processor(),\n",
    "            cpu_count(),\n",
    "            platform.architecture()[0])\n",
    "\n",
    "    def _get_commit_hash(self, machine):\n",
    "        process = subprocess.Popen(['git', 'rev-parse', 'HEAD'],\n",
    "                                   shell=False,\n",
    "                                   stdout=subprocess.PIPE)\n",
    "        git_head_hash = process.communicate()[0].strip()\n",
    "        space = ''\n",
    "        if machine:\n",
    "            space = '   '\n",
    "        self.out += '\\nGit hash%s: %s' % (space,\n",
    "                                          git_head_hash.decode(\"utf-8\"))\n",
    "\n",
    "    def _get_git_remote_origin(self, machine):\n",
    "        process = subprocess.Popen(['git', 'config', '--get',\n",
    "                                    'remote.origin.url'],\n",
    "                                   shell=False,\n",
    "                                   stdout=subprocess.PIPE)\n",
    "        git_remote_origin = process.communicate()[0].strip()\n",
    "        space = ''\n",
    "        if machine:\n",
    "            space = '   '\n",
    "        self.out += '\\nGit repo%s: %s' % (space,\n",
    "                                          git_remote_origin.decode(\"utf-8\"))\n",
    "\n",
    "    def _get_git_branch(self, machine):\n",
    "        process = subprocess.Popen(['git', 'rev-parse', '--abbrev-ref',\n",
    "                                    'HEAD'],\n",
    "                                   shell=False,\n",
    "                                   stdout=subprocess.PIPE)\n",
    "        git_branch = process.communicate()[0].strip()\n",
    "        space = ''\n",
    "        if machine:\n",
    "            space = ' '\n",
    "        self.out += '\\nGit branch%s: %s' % (space,\n",
    "                                            git_branch.decode(\"utf-8\"))\n",
    "\n",
    "    @staticmethod\n",
    "    def _print_all_import_versions(vars):\n",
    "        to_print = set()\n",
    "        for val in list(vars.values()):\n",
    "            if isinstance(val, types.ModuleType):\n",
    "                if val.__name__ != 'builtins':\n",
    "                    try:\n",
    "                        to_print.add((val.__name__, val.__version__))\n",
    "                    except AttributeError as e:\n",
    "                        try:\n",
    "                            imported = __import__(val.__name__.split('.')[0])\n",
    "                            to_print.add((imported.__name__,\n",
    "                                          imported.__version__))\n",
    "                        except AttributeError as e:\n",
    "                            continue\n",
    "\n",
    "        longest = max([len(i[0]) for i in to_print] + [0]) + 1\n",
    "        for entry in to_print:\n",
    "            print(('%s' % entry[0]).ljust(longest) + entry[1])\n",
    "\n",
    "\n",
    "def load_ipython_extension(ipython):\n",
    "    ipython.register_magics(James_WaterMark)"
   ]
  },
  {
   "cell_type": "code",
   "execution_count": 73,
   "metadata": {
    "ExecuteTime": {
     "end_time": "2019-11-18T22:12:19.890162Z",
     "start_time": "2019-11-18T22:12:19.885038Z"
    }
   },
   "outputs": [],
   "source": [
    "wm = James_WaterMark()"
   ]
  },
  {
   "cell_type": "code",
   "execution_count": 74,
   "metadata": {
    "ExecuteTime": {
     "end_time": "2019-11-18T22:12:47.704801Z",
     "start_time": "2019-11-18T22:12:47.658484Z"
    }
   },
   "outputs": [
    {
     "ename": "ModuleNotFoundError",
     "evalue": "No module named 'james_watermark'",
     "output_type": "error",
     "traceback": [
      "\u001b[0;31m---------------------------------------------------------------------------\u001b[0m",
      "\u001b[0;31mModuleNotFoundError\u001b[0m                       Traceback (most recent call last)",
      "\u001b[0;32m<ipython-input-74-548eecb38738>\u001b[0m in \u001b[0;36m<module>\u001b[0;34m\u001b[0m\n\u001b[0;32m----> 1\u001b[0;31m \u001b[0mget_ipython\u001b[0m\u001b[0;34m(\u001b[0m\u001b[0;34m)\u001b[0m\u001b[0;34m.\u001b[0m\u001b[0mrun_line_magic\u001b[0m\u001b[0;34m(\u001b[0m\u001b[0;34m'load_ext'\u001b[0m\u001b[0;34m,\u001b[0m \u001b[0;34m'james_watermark'\u001b[0m\u001b[0;34m)\u001b[0m\u001b[0;34m\u001b[0m\u001b[0;34m\u001b[0m\u001b[0m\n\u001b[0m",
      "\u001b[0;32m~/miniconda3/envs/py3_spgh_dev/lib/python3.6/site-packages/IPython/core/interactiveshell.py\u001b[0m in \u001b[0;36mrun_line_magic\u001b[0;34m(self, magic_name, line, _stack_depth)\u001b[0m\n\u001b[1;32m   2312\u001b[0m                 \u001b[0mkwargs\u001b[0m\u001b[0;34m[\u001b[0m\u001b[0;34m'local_ns'\u001b[0m\u001b[0;34m]\u001b[0m \u001b[0;34m=\u001b[0m \u001b[0msys\u001b[0m\u001b[0;34m.\u001b[0m\u001b[0m_getframe\u001b[0m\u001b[0;34m(\u001b[0m\u001b[0mstack_depth\u001b[0m\u001b[0;34m)\u001b[0m\u001b[0;34m.\u001b[0m\u001b[0mf_locals\u001b[0m\u001b[0;34m\u001b[0m\u001b[0;34m\u001b[0m\u001b[0m\n\u001b[1;32m   2313\u001b[0m             \u001b[0;32mwith\u001b[0m \u001b[0mself\u001b[0m\u001b[0;34m.\u001b[0m\u001b[0mbuiltin_trap\u001b[0m\u001b[0;34m:\u001b[0m\u001b[0;34m\u001b[0m\u001b[0;34m\u001b[0m\u001b[0m\n\u001b[0;32m-> 2314\u001b[0;31m                 \u001b[0mresult\u001b[0m \u001b[0;34m=\u001b[0m \u001b[0mfn\u001b[0m\u001b[0;34m(\u001b[0m\u001b[0;34m*\u001b[0m\u001b[0margs\u001b[0m\u001b[0;34m,\u001b[0m \u001b[0;34m**\u001b[0m\u001b[0mkwargs\u001b[0m\u001b[0;34m)\u001b[0m\u001b[0;34m\u001b[0m\u001b[0;34m\u001b[0m\u001b[0m\n\u001b[0m\u001b[1;32m   2315\u001b[0m             \u001b[0;32mreturn\u001b[0m \u001b[0mresult\u001b[0m\u001b[0;34m\u001b[0m\u001b[0;34m\u001b[0m\u001b[0m\n\u001b[1;32m   2316\u001b[0m \u001b[0;34m\u001b[0m\u001b[0m\n",
      "\u001b[0;32m</Users/jgaboardi/miniconda3/envs/py3_spgh_dev/lib/python3.6/site-packages/decorator.py:decorator-gen-64>\u001b[0m in \u001b[0;36mload_ext\u001b[0;34m(self, module_str)\u001b[0m\n",
      "\u001b[0;32m~/miniconda3/envs/py3_spgh_dev/lib/python3.6/site-packages/IPython/core/magic.py\u001b[0m in \u001b[0;36m<lambda>\u001b[0;34m(f, *a, **k)\u001b[0m\n\u001b[1;32m    185\u001b[0m     \u001b[0;31m# but it's overkill for just that one bit of state.\u001b[0m\u001b[0;34m\u001b[0m\u001b[0;34m\u001b[0m\u001b[0;34m\u001b[0m\u001b[0m\n\u001b[1;32m    186\u001b[0m     \u001b[0;32mdef\u001b[0m \u001b[0mmagic_deco\u001b[0m\u001b[0;34m(\u001b[0m\u001b[0marg\u001b[0m\u001b[0;34m)\u001b[0m\u001b[0;34m:\u001b[0m\u001b[0;34m\u001b[0m\u001b[0;34m\u001b[0m\u001b[0m\n\u001b[0;32m--> 187\u001b[0;31m         \u001b[0mcall\u001b[0m \u001b[0;34m=\u001b[0m \u001b[0;32mlambda\u001b[0m \u001b[0mf\u001b[0m\u001b[0;34m,\u001b[0m \u001b[0;34m*\u001b[0m\u001b[0ma\u001b[0m\u001b[0;34m,\u001b[0m \u001b[0;34m**\u001b[0m\u001b[0mk\u001b[0m\u001b[0;34m:\u001b[0m \u001b[0mf\u001b[0m\u001b[0;34m(\u001b[0m\u001b[0;34m*\u001b[0m\u001b[0ma\u001b[0m\u001b[0;34m,\u001b[0m \u001b[0;34m**\u001b[0m\u001b[0mk\u001b[0m\u001b[0;34m)\u001b[0m\u001b[0;34m\u001b[0m\u001b[0;34m\u001b[0m\u001b[0m\n\u001b[0m\u001b[1;32m    188\u001b[0m \u001b[0;34m\u001b[0m\u001b[0m\n\u001b[1;32m    189\u001b[0m         \u001b[0;32mif\u001b[0m \u001b[0mcallable\u001b[0m\u001b[0;34m(\u001b[0m\u001b[0marg\u001b[0m\u001b[0;34m)\u001b[0m\u001b[0;34m:\u001b[0m\u001b[0;34m\u001b[0m\u001b[0;34m\u001b[0m\u001b[0m\n",
      "\u001b[0;32m~/miniconda3/envs/py3_spgh_dev/lib/python3.6/site-packages/IPython/core/magics/extension.py\u001b[0m in \u001b[0;36mload_ext\u001b[0;34m(self, module_str)\u001b[0m\n\u001b[1;32m     31\u001b[0m         \u001b[0;32mif\u001b[0m \u001b[0;32mnot\u001b[0m \u001b[0mmodule_str\u001b[0m\u001b[0;34m:\u001b[0m\u001b[0;34m\u001b[0m\u001b[0;34m\u001b[0m\u001b[0m\n\u001b[1;32m     32\u001b[0m             \u001b[0;32mraise\u001b[0m \u001b[0mUsageError\u001b[0m\u001b[0;34m(\u001b[0m\u001b[0;34m'Missing module name.'\u001b[0m\u001b[0;34m)\u001b[0m\u001b[0;34m\u001b[0m\u001b[0;34m\u001b[0m\u001b[0m\n\u001b[0;32m---> 33\u001b[0;31m         \u001b[0mres\u001b[0m \u001b[0;34m=\u001b[0m \u001b[0mself\u001b[0m\u001b[0;34m.\u001b[0m\u001b[0mshell\u001b[0m\u001b[0;34m.\u001b[0m\u001b[0mextension_manager\u001b[0m\u001b[0;34m.\u001b[0m\u001b[0mload_extension\u001b[0m\u001b[0;34m(\u001b[0m\u001b[0mmodule_str\u001b[0m\u001b[0;34m)\u001b[0m\u001b[0;34m\u001b[0m\u001b[0;34m\u001b[0m\u001b[0m\n\u001b[0m\u001b[1;32m     34\u001b[0m \u001b[0;34m\u001b[0m\u001b[0m\n\u001b[1;32m     35\u001b[0m         \u001b[0;32mif\u001b[0m \u001b[0mres\u001b[0m \u001b[0;34m==\u001b[0m \u001b[0;34m'already loaded'\u001b[0m\u001b[0;34m:\u001b[0m\u001b[0;34m\u001b[0m\u001b[0;34m\u001b[0m\u001b[0m\n",
      "\u001b[0;32m~/miniconda3/envs/py3_spgh_dev/lib/python3.6/site-packages/IPython/core/extensions.py\u001b[0m in \u001b[0;36mload_extension\u001b[0;34m(self, module_str)\u001b[0m\n\u001b[1;32m     78\u001b[0m             \u001b[0;32mif\u001b[0m \u001b[0mmodule_str\u001b[0m \u001b[0;32mnot\u001b[0m \u001b[0;32min\u001b[0m \u001b[0msys\u001b[0m\u001b[0;34m.\u001b[0m\u001b[0mmodules\u001b[0m\u001b[0;34m:\u001b[0m\u001b[0;34m\u001b[0m\u001b[0;34m\u001b[0m\u001b[0m\n\u001b[1;32m     79\u001b[0m                 \u001b[0;32mwith\u001b[0m \u001b[0mprepended_to_syspath\u001b[0m\u001b[0;34m(\u001b[0m\u001b[0mself\u001b[0m\u001b[0;34m.\u001b[0m\u001b[0mipython_extension_dir\u001b[0m\u001b[0;34m)\u001b[0m\u001b[0;34m:\u001b[0m\u001b[0;34m\u001b[0m\u001b[0;34m\u001b[0m\u001b[0m\n\u001b[0;32m---> 80\u001b[0;31m                     \u001b[0mmod\u001b[0m \u001b[0;34m=\u001b[0m \u001b[0mimport_module\u001b[0m\u001b[0;34m(\u001b[0m\u001b[0mmodule_str\u001b[0m\u001b[0;34m)\u001b[0m\u001b[0;34m\u001b[0m\u001b[0;34m\u001b[0m\u001b[0m\n\u001b[0m\u001b[1;32m     81\u001b[0m                     \u001b[0;32mif\u001b[0m \u001b[0mmod\u001b[0m\u001b[0;34m.\u001b[0m\u001b[0m__file__\u001b[0m\u001b[0;34m.\u001b[0m\u001b[0mstartswith\u001b[0m\u001b[0;34m(\u001b[0m\u001b[0mself\u001b[0m\u001b[0;34m.\u001b[0m\u001b[0mipython_extension_dir\u001b[0m\u001b[0;34m)\u001b[0m\u001b[0;34m:\u001b[0m\u001b[0;34m\u001b[0m\u001b[0;34m\u001b[0m\u001b[0m\n\u001b[1;32m     82\u001b[0m                         print((\"Loading extensions from {dir} is deprecated. \"\n",
      "\u001b[0;32m~/miniconda3/envs/py3_spgh_dev/lib/python3.6/importlib/__init__.py\u001b[0m in \u001b[0;36mimport_module\u001b[0;34m(name, package)\u001b[0m\n\u001b[1;32m    124\u001b[0m                 \u001b[0;32mbreak\u001b[0m\u001b[0;34m\u001b[0m\u001b[0;34m\u001b[0m\u001b[0m\n\u001b[1;32m    125\u001b[0m             \u001b[0mlevel\u001b[0m \u001b[0;34m+=\u001b[0m \u001b[0;36m1\u001b[0m\u001b[0;34m\u001b[0m\u001b[0;34m\u001b[0m\u001b[0m\n\u001b[0;32m--> 126\u001b[0;31m     \u001b[0;32mreturn\u001b[0m \u001b[0m_bootstrap\u001b[0m\u001b[0;34m.\u001b[0m\u001b[0m_gcd_import\u001b[0m\u001b[0;34m(\u001b[0m\u001b[0mname\u001b[0m\u001b[0;34m[\u001b[0m\u001b[0mlevel\u001b[0m\u001b[0;34m:\u001b[0m\u001b[0;34m]\u001b[0m\u001b[0;34m,\u001b[0m \u001b[0mpackage\u001b[0m\u001b[0;34m,\u001b[0m \u001b[0mlevel\u001b[0m\u001b[0;34m)\u001b[0m\u001b[0;34m\u001b[0m\u001b[0;34m\u001b[0m\u001b[0m\n\u001b[0m\u001b[1;32m    127\u001b[0m \u001b[0;34m\u001b[0m\u001b[0m\n\u001b[1;32m    128\u001b[0m \u001b[0;34m\u001b[0m\u001b[0m\n",
      "\u001b[0;32m~/miniconda3/envs/py3_spgh_dev/lib/python3.6/importlib/_bootstrap.py\u001b[0m in \u001b[0;36m_gcd_import\u001b[0;34m(name, package, level)\u001b[0m\n",
      "\u001b[0;32m~/miniconda3/envs/py3_spgh_dev/lib/python3.6/importlib/_bootstrap.py\u001b[0m in \u001b[0;36m_find_and_load\u001b[0;34m(name, import_)\u001b[0m\n",
      "\u001b[0;32m~/miniconda3/envs/py3_spgh_dev/lib/python3.6/importlib/_bootstrap.py\u001b[0m in \u001b[0;36m_find_and_load_unlocked\u001b[0;34m(name, import_)\u001b[0m\n",
      "\u001b[0;31mModuleNotFoundError\u001b[0m: No module named 'james_watermark'"
     ]
    }
   ],
   "source": [
    "%load_ext james_watermark"
   ]
  },
  {
   "cell_type": "code",
   "execution_count": null,
   "metadata": {},
   "outputs": [],
   "source": []
  },
  {
   "cell_type": "code",
   "execution_count": null,
   "metadata": {},
   "outputs": [],
   "source": []
  },
  {
   "cell_type": "code",
   "execution_count": null,
   "metadata": {},
   "outputs": [],
   "source": []
  },
  {
   "cell_type": "code",
   "execution_count": null,
   "metadata": {},
   "outputs": [],
   "source": []
  },
  {
   "cell_type": "code",
   "execution_count": null,
   "metadata": {},
   "outputs": [],
   "source": []
  },
  {
   "cell_type": "code",
   "execution_count": null,
   "metadata": {},
   "outputs": [],
   "source": []
  },
  {
   "cell_type": "code",
   "execution_count": null,
   "metadata": {},
   "outputs": [],
   "source": []
  },
  {
   "cell_type": "code",
   "execution_count": 32,
   "metadata": {
    "ExecuteTime": {
     "end_time": "2019-11-18T21:57:53.840681Z",
     "start_time": "2019-11-18T21:57:53.836346Z"
    }
   },
   "outputs": [
    {
     "name": "stdout",
     "output_type": "stream",
     "text": [
      "['__annotations__', '__call__', '__class__', '__closure__', '__code__', '__defaults__', '__delattr__', '__dict__', '__dir__', '__doc__', '__eq__', '__format__', '__ge__', '__get__', '__getattribute__', '__globals__', '__gt__', '__hash__', '__init__', '__init_subclass__', '__kwdefaults__', '__le__', '__lt__', '__module__', '__name__', '__ne__', '__new__', '__qualname__', '__reduce__', '__reduce_ex__', '__repr__', '__setattr__', '__sizeof__', '__str__', '__subclasshook__']\n"
     ]
    }
   ],
   "source": []
  },
  {
   "cell_type": "code",
   "execution_count": null,
   "metadata": {},
   "outputs": [],
   "source": []
  },
  {
   "cell_type": "markdown",
   "metadata": {},
   "source": [
    "# --> get headings from Facility Location notebook."
   ]
  },
  {
   "cell_type": "markdown",
   "metadata": {},
   "source": [
    "### Streets as empirical data"
   ]
  },
  {
   "cell_type": "code",
   "execution_count": 8,
   "metadata": {
    "ExecuteTime": {
     "end_time": "2019-11-14T13:27:58.325248Z",
     "start_time": "2019-11-14T13:27:57.980860Z"
    }
   },
   "outputs": [
    {
     "data": {
      "text/html": [
       "<div>\n",
       "<style scoped>\n",
       "    .dataframe tbody tr th:only-of-type {\n",
       "        vertical-align: middle;\n",
       "    }\n",
       "\n",
       "    .dataframe tbody tr th {\n",
       "        vertical-align: top;\n",
       "    }\n",
       "\n",
       "    .dataframe thead th {\n",
       "        text-align: right;\n",
       "    }\n",
       "</style>\n",
       "<table border=\"1\" class=\"dataframe\">\n",
       "  <thead>\n",
       "    <tr style=\"text-align: right;\">\n",
       "      <th></th>\n",
       "      <th>ID</th>\n",
       "      <th>Length</th>\n",
       "      <th>geometry</th>\n",
       "    </tr>\n",
       "  </thead>\n",
       "  <tbody>\n",
       "    <tr>\n",
       "      <th>0</th>\n",
       "      <td>1.0</td>\n",
       "      <td>244.116229</td>\n",
       "      <td>LINESTRING (222006.581 267347.973, 222006.609 ...</td>\n",
       "    </tr>\n",
       "    <tr>\n",
       "      <th>1</th>\n",
       "      <td>2.0</td>\n",
       "      <td>375.974828</td>\n",
       "      <td>LINESTRING (222006.401 267549.141, 222006.581 ...</td>\n",
       "    </tr>\n",
       "    <tr>\n",
       "      <th>2</th>\n",
       "      <td>3.0</td>\n",
       "      <td>400.353405</td>\n",
       "      <td>LINESTRING (221419.878 267804.150, 221410.853 ...</td>\n",
       "    </tr>\n",
       "    <tr>\n",
       "      <th>3</th>\n",
       "      <td>4.0</td>\n",
       "      <td>660.000000</td>\n",
       "      <td>LINESTRING (220874.568 268352.647, 220803.400 ...</td>\n",
       "    </tr>\n",
       "    <tr>\n",
       "      <th>4</th>\n",
       "      <td>5.0</td>\n",
       "      <td>660.000000</td>\n",
       "      <td>LINESTRING (220801.878 268398.082, 220916.451 ...</td>\n",
       "    </tr>\n",
       "  </tbody>\n",
       "</table>\n",
       "</div>"
      ],
      "text/plain": [
       "    ID      Length                                           geometry\n",
       "0  1.0  244.116229  LINESTRING (222006.581 267347.973, 222006.609 ...\n",
       "1  2.0  375.974828  LINESTRING (222006.401 267549.141, 222006.581 ...\n",
       "2  3.0  400.353405  LINESTRING (221419.878 267804.150, 221410.853 ...\n",
       "3  4.0  660.000000  LINESTRING (220874.568 268352.647, 220803.400 ...\n",
       "4  5.0  660.000000  LINESTRING (220801.878 268398.082, 220916.451 ..."
      ]
     },
     "execution_count": 8,
     "metadata": {},
     "output_type": "execute_result"
    }
   ],
   "source": [
    "streets = gpd.read_file(examples.get_path('streets.shp'))\n",
    "streets.crs = {'init':'epsg:2223'}\n",
    "streets = streets.to_crs(epsg=2762)\n",
    "streets.head()"
   ]
  },
  {
   "cell_type": "code",
   "execution_count": null,
   "metadata": {},
   "outputs": [],
   "source": []
  },
  {
   "cell_type": "code",
   "execution_count": null,
   "metadata": {},
   "outputs": [],
   "source": []
  },
  {
   "cell_type": "code",
   "execution_count": null,
   "metadata": {},
   "outputs": [],
   "source": []
  },
  {
   "cell_type": "code",
   "execution_count": null,
   "metadata": {},
   "outputs": [],
   "source": []
  },
  {
   "cell_type": "code",
   "execution_count": null,
   "metadata": {},
   "outputs": [],
   "source": []
  },
  {
   "cell_type": "code",
   "execution_count": null,
   "metadata": {},
   "outputs": [],
   "source": []
  },
  {
   "cell_type": "code",
   "execution_count": null,
   "metadata": {},
   "outputs": [],
   "source": []
  },
  {
   "cell_type": "code",
   "execution_count": null,
   "metadata": {},
   "outputs": [],
   "source": []
  },
  {
   "cell_type": "code",
   "execution_count": null,
   "metadata": {},
   "outputs": [],
   "source": []
  },
  {
   "cell_type": "code",
   "execution_count": null,
   "metadata": {},
   "outputs": [],
   "source": []
  },
  {
   "cell_type": "markdown",
   "metadata": {},
   "source": [
    "----------------------"
   ]
  }
 ],
 "metadata": {
  "kernelspec": {
   "display_name": "Python [conda env:py3_spgh_dev]",
   "language": "python",
   "name": "conda-env-py3_spgh_dev-py"
  },
  "language_info": {
   "codemirror_mode": {
    "name": "ipython",
    "version": 3
   },
   "file_extension": ".py",
   "mimetype": "text/x-python",
   "name": "python",
   "nbconvert_exporter": "python",
   "pygments_lexer": "ipython3",
   "version": "3.6.7"
  }
 },
 "nbformat": 4,
 "nbformat_minor": 2
}
