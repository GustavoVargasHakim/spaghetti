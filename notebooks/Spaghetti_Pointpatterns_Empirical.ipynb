{
 "cells": [
  {
   "cell_type": "markdown",
   "metadata": {},
   "source": [
    "---------------------------------------"
   ]
  },
  {
   "cell_type": "markdown",
   "metadata": {},
   "source": [
    "### If any part of this notebook is used in your research, please cite with the reference found in [`README.md`](https://github.com/pysal/spaghetti#bibtex-citation)."
   ]
  },
  {
   "cell_type": "markdown",
   "metadata": {},
   "source": [
    "--------------------------------------"
   ]
  },
  {
   "cell_type": "markdown",
   "metadata": {},
   "source": [
    "# $SPA$tial $G$rap$H$s: n$ET$works, $T$opology, & $I$nference\n",
    "\n",
    "## Tutorial for `pysal.spaghetti`: Working with point patterns: empirical observations\n",
    "#### James D. Gaboardi [<jgaboardi@gmail.com>]"
   ]
  },
  {
   "cell_type": "markdown",
   "metadata": {},
   "source": [
    "1. Instantiating a `pysal.spaghetti.Network`\n",
    "2. Allocating observations to a network\n",
    "    * snapping\n",
    "3. Visualizing original and snapped locations\n",
    "    * visualization with `geopandas` and `matplotlib`"
   ]
  },
  {
   "cell_type": "code",
   "execution_count": null,
   "metadata": {
    "ExecuteTime": {
     "end_time": "2019-11-12T17:32:21.221588Z",
     "start_time": "2019-11-12T17:32:21.199197Z"
    }
   },
   "outputs": [],
   "source": [
    "import os\n",
    "last_modified = None\n",
    "if os.name == \"posix\":\n",
    "    last_modified = !stat -f\\\n",
    "                    \"# This notebook was last updated: %Sm\"\\\n",
    "                     Spaghetti_Pointpatterns_Empirical.ipynb\n",
    "elif os.name == \"nt\":\n",
    "    last_modified = !for %a in (Spaghetti_Pointpatterns_Empirical.ipynb)\\\n",
    "                    do echo # This notebook was last updated: %~ta\n",
    "    \n",
    "if last_modified:\n",
    "    get_ipython().set_next_input(last_modified[-1])"
   ]
  },
  {
   "cell_type": "code",
   "execution_count": null,
   "metadata": {},
   "outputs": [],
   "source": [
    "# This notebook was last updated: Nov 12 12:32:17 2019"
   ]
  },
  {
   "cell_type": "markdown",
   "metadata": {},
   "source": [
    "-----------------"
   ]
  },
  {
   "cell_type": "code",
   "execution_count": null,
   "metadata": {
    "ExecuteTime": {
     "end_time": "2019-11-12T17:32:22.489812Z",
     "start_time": "2019-11-12T17:32:21.224779Z"
    }
   },
   "outputs": [],
   "source": [
    "import spaghetti as spgh\n",
    "from libpysal import examples\n",
    "import geopandas as gpd\n",
    "import matplotlib.pyplot as plt\n",
    "import matplotlib.lines as mlines\n",
    "from shapely.geometry import Point, LineString\n",
    "\n",
    "%matplotlib inline\n",
    "\n",
    "__author__ = \"James Gaboardi <jgaboardi@gmail.com>\""
   ]
  },
  {
   "cell_type": "markdown",
   "metadata": {},
   "source": [
    "# 1. Instantiating a `pysal.spaghetti.Network`\n",
    "### Instantiate the network from `.shp` file"
   ]
  },
  {
   "cell_type": "code",
   "execution_count": null,
   "metadata": {
    "ExecuteTime": {
     "end_time": "2019-11-12T17:32:22.568462Z",
     "start_time": "2019-11-12T17:32:22.492902Z"
    }
   },
   "outputs": [],
   "source": [
    "ntw = spgh.Network(in_data=examples.get_path('streets.shp'))"
   ]
  },
  {
   "cell_type": "markdown",
   "metadata": {},
   "source": [
    "# 2. Allocating observations to a network\n",
    "### Snap point patterns to the network"
   ]
  },
  {
   "cell_type": "code",
   "execution_count": null,
   "metadata": {
    "ExecuteTime": {
     "end_time": "2019-11-12T17:32:22.815632Z",
     "start_time": "2019-11-12T17:32:22.571277Z"
    }
   },
   "outputs": [],
   "source": [
    "# Crimes with attributes\n",
    "ntw.snapobservations(\n",
    "    examples.get_path('crimes.shp'), 'crimes', attribute=True\n",
    ")\n",
    "\n",
    "# Schools without attributes\n",
    "ntw.snapobservations(\n",
    "    examples.get_path('schools.shp'), 'schools', attribute=False\n",
    ")"
   ]
  },
  {
   "cell_type": "markdown",
   "metadata": {
    "collapsed": true
   },
   "source": [
    "# 3. Visualizing original and snapped locations"
   ]
  },
  {
   "cell_type": "markdown",
   "metadata": {},
   "source": [
    "## True and snapped school locations"
   ]
  },
  {
   "cell_type": "code",
   "execution_count": null,
   "metadata": {
    "ExecuteTime": {
     "end_time": "2019-11-12T17:32:22.831761Z",
     "start_time": "2019-11-12T17:32:22.817885Z"
    }
   },
   "outputs": [],
   "source": [
    "schools_df = spgh.element_as_gdf(ntw, pp_name='schools', snapped=False)\n",
    "\n",
    "snapped_schools_df = spgh.element_as_gdf(ntw, pp_name='schools', snapped=True)"
   ]
  },
  {
   "cell_type": "markdown",
   "metadata": {},
   "source": [
    "## True and snapped crime locations"
   ]
  },
  {
   "cell_type": "code",
   "execution_count": null,
   "metadata": {
    "ExecuteTime": {
     "end_time": "2019-11-12T17:32:22.855915Z",
     "start_time": "2019-11-12T17:32:22.834354Z"
    }
   },
   "outputs": [],
   "source": [
    "crimes_df = spgh.element_as_gdf(ntw, pp_name='crimes', snapped=False)\n",
    "\n",
    "snapped_crimes_df = spgh.element_as_gdf(ntw, pp_name='crimes', snapped=True)"
   ]
  },
  {
   "cell_type": "markdown",
   "metadata": {},
   "source": [
    "## Create `geopandas.GeoDataFrame` objects of the vertices and arcs"
   ]
  },
  {
   "cell_type": "code",
   "execution_count": null,
   "metadata": {
    "ExecuteTime": {
     "end_time": "2019-11-12T17:32:23.253752Z",
     "start_time": "2019-11-12T17:32:22.862573Z"
    }
   },
   "outputs": [],
   "source": [
    "# network nodes and edges\n",
    "vertices_df, arcs_df = spgh.element_as_gdf(ntw, vertices=True, arcs=True)"
   ]
  },
  {
   "cell_type": "markdown",
   "metadata": {},
   "source": [
    "## Plotting `geopandas.GeoDataFrame` objects"
   ]
  },
  {
   "cell_type": "code",
   "execution_count": null,
   "metadata": {
    "ExecuteTime": {
     "end_time": "2019-11-12T17:32:23.265420Z",
     "start_time": "2019-11-12T17:32:23.256264Z"
    }
   },
   "outputs": [],
   "source": [
    "# legend patches\n",
    "arcs = mlines.Line2D([], [], c='k', label='Network Arcs', alpha=.5)\n",
    "vtxs = mlines.Line2D(\n",
    "    [], [], c='k', lw=0, ms=2.5, marker='o', label='Network Vertices'\n",
    ")\n",
    "schl = mlines.Line2D(\n",
    "    [], [], c='k', lw=0, ms=25, marker='X', label='School Locations'\n",
    ")\n",
    "snp_schl = mlines.Line2D(\n",
    "    [], [], c='k', lw=0, ms=12, marker='o', label='Snapped Schools'\n",
    ")\n",
    "crme = mlines.Line2D(\n",
    "    [], [], c='r', lw=0, ms=7, marker='x', label='Crime Locations', alpha=.75\n",
    ")\n",
    "snp_crme = mlines.Line2D(\n",
    "    [], [], c='r', lw=0, ms=3, marker='o', label='Snapped Crimes', alpha=.75\n",
    ")\n",
    "patches = [arcs, vtxs, schl, snp_schl, crme, snp_crme]"
   ]
  },
  {
   "cell_type": "code",
   "execution_count": null,
   "metadata": {
    "ExecuteTime": {
     "end_time": "2019-11-12T17:32:23.833512Z",
     "start_time": "2019-11-12T17:32:23.269542Z"
    }
   },
   "outputs": [],
   "source": [
    "# plot figure\n",
    "base = arcs_df.plot(color='k', alpha=.25, figsize=(12,12), zorder=0)\n",
    "vertices_df.plot(ax=base, color='k', markersize=5, alpha=1)\n",
    "crimes_df.plot(\n",
    "    ax=base, color='r', marker='x', markersize=50, alpha=.5, zorder=1\n",
    ")\n",
    "snapped_crimes_df.plot(\n",
    "    ax=base, color='r', markersize=20, alpha=.5, zorder=1\n",
    ")\n",
    "schools_df.plot(\n",
    "    ax=base, cmap='tab20', column='id', marker='X', markersize=500, alpha=.5, zorder=2\n",
    ")\n",
    "snapped_schools_df.plot(\n",
    "    ax=base,cmap='tab20', column='id', markersize=200, alpha=.5, zorder=2\n",
    ")\n",
    "\n",
    "# add legend\n",
    "plt.legend(\n",
    "    handles=patches,\n",
    "    fancybox=True,\n",
    "    framealpha=0.8,\n",
    "    scatterpoints=1,\n",
    "    fontsize=\"xx-large\",\n",
    "    bbox_to_anchor=(1.04, .6)\n",
    ");"
   ]
  },
  {
   "cell_type": "markdown",
   "metadata": {},
   "source": [
    "-----------"
   ]
  }
 ],
 "metadata": {
  "_draft": {
   "nbviewer_url": "https://gist.github.com/cbf4e5b556b77f3a03ff2e65c3481b63"
  },
  "anaconda-cloud": {},
  "gist": {
   "data": {
    "description": "notebooks/Spaghetti_Pointpatterns_Empirical.ipynb",
    "public": true
   },
   "id": "cbf4e5b556b77f3a03ff2e65c3481b63"
  },
  "kernelspec": {
   "display_name": "Python [conda env:py3_spgh_dev]",
   "language": "python",
   "name": "conda-env-py3_spgh_dev-py"
  },
  "language_info": {
   "codemirror_mode": {
    "name": "ipython",
    "version": 3
   },
   "file_extension": ".py",
   "mimetype": "text/x-python",
   "name": "python",
   "nbconvert_exporter": "python",
   "pygments_lexer": "ipython3",
   "version": "3.6.7"
  }
 },
 "nbformat": 4,
 "nbformat_minor": 1
}
