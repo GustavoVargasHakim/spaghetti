{
 "cells": [
  {
   "cell_type": "markdown",
   "metadata": {},
   "source": [
    "---------------------------------------"
   ]
  },
  {
   "cell_type": "markdown",
   "metadata": {},
   "source": [
    "# $SPA$tial $G$rap$H$s: n$ET$works, $T$opology, & $I$nference\n",
    "\n",
    "## Tutorial for `pysal.spaghetti`: Working with point patterns: empirical observations\n",
    "\n",
    "\n",
    "#### updated 08/2018; James D. Gaboardi [<jgaboardi@fsu.edu>]"
   ]
  },
  {
   "cell_type": "markdown",
   "metadata": {},
   "source": [
    "1. Instantiating a `pysal.spaghetti.Network`\n",
    "2. Allocating observations to a network\n",
    "    * snapping\n",
    "3. Visualizing original and snapped locations\n",
    "    * visualization with `networkx`"
   ]
  },
  {
   "cell_type": "code",
   "execution_count": null,
   "metadata": {},
   "outputs": [],
   "source": [
    "import spaghetti as spgh\n",
    "from libpysal import examples\n",
    "import matplotlib.pyplot as plt\n",
    "import matplotlib as mpl\n",
    "import networkx as nx\n",
    "from collections import OrderedDict\n",
    "\n",
    "% matplotlib inline\n",
    "\n",
    "__author__ = \"James Gaboardi <jgaboardi@gmail.com>\""
   ]
  },
  {
   "cell_type": "markdown",
   "metadata": {},
   "source": [
    "# 1. Instantiating a `pysal.spaghetti.Network`\n",
    "### Instantiate the network from `.shp` file"
   ]
  },
  {
   "cell_type": "code",
   "execution_count": null,
   "metadata": {},
   "outputs": [],
   "source": [
    "ntw = spgh.Network(examples.get_path('streets.shp'))"
   ]
  },
  {
   "cell_type": "markdown",
   "metadata": {},
   "source": [
    "# 2. Allocating observations to a network\n",
    "### Snap point patterns to the network"
   ]
  },
  {
   "cell_type": "code",
   "execution_count": null,
   "metadata": {},
   "outputs": [],
   "source": [
    "# Crimes with attributes\n",
    "ntw.snapobservations(examples.get_path('crimes.shp'), 'crimes', attribute=True)\n",
    "# Schools without attributes\n",
    "ntw.snapobservations(examples.get_path('schools.shp'), 'schools', attribute=False)"
   ]
  },
  {
   "cell_type": "markdown",
   "metadata": {},
   "source": [
    "### A network is composed of a single topological representation of a road and $n$ point patterns which are snapped to the network."
   ]
  },
  {
   "cell_type": "code",
   "execution_count": null,
   "metadata": {},
   "outputs": [],
   "source": [
    "ntw.pointpatterns"
   ]
  },
  {
   "cell_type": "code",
   "execution_count": null,
   "metadata": {},
   "outputs": [],
   "source": [
    "dir(ntw.pointpatterns['crimes'])"
   ]
  },
  {
   "cell_type": "markdown",
   "metadata": {},
   "source": [
    "### Attributes for every point pattern"
   ]
  },
  {
   "cell_type": "markdown",
   "metadata": {},
   "source": [
    "1. `dist_to_node` dict keyed by pointID with the value being a dict in the form \n",
    "        {node: distance to node, node: distance to node}\n",
    "2. `obs_to_edge` dict keyed by edgeID (tuple) with the value being a dict in the form \n",
    "        {pointID:(x-coord, y-coord), pointID:(x-coord, y-coord), ... }\n",
    "3. `obs_to_node` dict keyed by nodeID with the value being a list of pointIDs\n",
    "        {nodeID:[pointID]}\n",
    "4. `points` geojson like representation of the point pattern.  Includes properties if read with attributes=True.\n",
    "        {pointID: {'coordinates': (x-coord, y-coord), 'properties': [[attributes, attributes,...]]}\n",
    "5. `snapped_coordinates` dict keyed by pointID with the value being (x-coord, y-coord)\n",
    "        {pointID: (x-coord, y-coord)}"
   ]
  },
  {
   "cell_type": "markdown",
   "metadata": {
    "collapsed": true
   },
   "source": [
    "# 3. Visualizing original and snapped locations"
   ]
  },
  {
   "cell_type": "markdown",
   "metadata": {},
   "source": [
    "## School locations"
   ]
  },
  {
   "cell_type": "code",
   "execution_count": null,
   "metadata": {},
   "outputs": [],
   "source": [
    "school_points = ntw.pointpatterns['schools'].points\n",
    "print(type(school_points))\n",
    "print(school_points[0])"
   ]
  },
  {
   "cell_type": "markdown",
   "metadata": {},
   "source": [
    "### **  The original coordinates of the schools need to be extracted from `school_points`"
   ]
  },
  {
   "cell_type": "code",
   "execution_count": null,
   "metadata": {},
   "outputs": [],
   "source": [
    "schools = range(len(school_points))\n",
    "school_coords = {school:school_points[school][\"coordinates\"] for school in schools}\n",
    "print(type(school_coords))\n",
    "print(school_coords[0])"
   ]
  },
  {
   "cell_type": "markdown",
   "metadata": {},
   "source": [
    "## Snapped school locations"
   ]
  },
  {
   "cell_type": "code",
   "execution_count": null,
   "metadata": {},
   "outputs": [],
   "source": [
    "snapped_school_coords = ntw.pointpatterns['schools'].snapped_coordinates\n",
    "print(type(snapped_school_coords))\n",
    "print(snapped_school_coords[0])"
   ]
  },
  {
   "cell_type": "markdown",
   "metadata": {},
   "source": [
    "## Crime locations"
   ]
  },
  {
   "cell_type": "code",
   "execution_count": null,
   "metadata": {},
   "outputs": [],
   "source": [
    "crime_points = ntw.pointpatterns['crimes'].points\n",
    "print(type(crime_points))\n",
    "print(crime_points[0])"
   ]
  },
  {
   "cell_type": "markdown",
   "metadata": {},
   "source": [
    "### **  The original coordinates of the schools need to be extracted from `school_points`"
   ]
  },
  {
   "cell_type": "code",
   "execution_count": null,
   "metadata": {},
   "outputs": [],
   "source": [
    "crimes = range(len(crime_points))\n",
    "crime_coords = {crime:crime_points[crime][\"coordinates\"] for crime in crimes}\n",
    "print(type(crime_coords))\n",
    "print(crime_coords[0])"
   ]
  },
  {
   "cell_type": "markdown",
   "metadata": {},
   "source": [
    "## Snapped school locations"
   ]
  },
  {
   "cell_type": "code",
   "execution_count": null,
   "metadata": {},
   "outputs": [],
   "source": [
    "snapped_crime_coords = ntw.pointpatterns['crimes'].snapped_coordinates\n",
    "print(type(snapped_crime_coords))\n",
    "print(snapped_crime_coords[0])"
   ]
  },
  {
   "cell_type": "markdown",
   "metadata": {},
   "source": [
    "## Plotting with `networkx`"
   ]
  },
  {
   "cell_type": "markdown",
   "metadata": {},
   "source": [
    "### ** This is 5 `networkx.Graph` objects plotted together"
   ]
  },
  {
   "cell_type": "code",
   "execution_count": null,
   "metadata": {},
   "outputs": [],
   "source": [
    "plt.figure(figsize=(8,8))\n",
    "\n",
    "# Graph edges & nodes\n",
    "g1 = nx.Graph()\n",
    "for e in ntw.edges:\n",
    "    g1.add_edge(*e)\n",
    "for n, p in ntw.node_coords.items():\n",
    "    g1.add_node(n, pos=p)\n",
    "nx.draw(g1, ntw.node_coords, node_size=20, alpha=0.5)\n",
    "\n",
    "# School locations\n",
    "g2 = nx.Graph()\n",
    "for n, p in school_coords.items():\n",
    "    #g2.node[n].update({n:p})\n",
    "    g2.add_node(n, pos=p)\n",
    "nx.draw(g2, school_coords, node_size=200, node_shape='x', alpha=.5, node_color='blue')\n",
    "\n",
    "# School locations snapped to the network\n",
    "g3 = nx.Graph()\n",
    "for n, p in snapped_school_coords.items():\n",
    "    g3.add_node(n, pos=p)\n",
    "nx.draw(g3, snapped_school_coords, node_size=200, alpha=1.0, node_color='blue')\n",
    "\n",
    "# Crime locations\n",
    "g4 = nx.Graph()\n",
    "for n, p in crime_coords.items():\n",
    "    g4.add_node(n, pos=p)\n",
    "nx.draw(g4, crime_coords, node_size=50, node_shape='x', alpha=.5, node_color='green')\n",
    "\n",
    "# Crime locations snapped to the network\n",
    "g5 = nx.Graph()\n",
    "for n, p in snapped_crime_coords.items():\n",
    "    g5.add_node(n, pos=p)\n",
    "nx.draw(g5, snapped_crime_coords, node_size=50, alpha=1.0, node_color='green')\n",
    "\n",
    "leg = OrderedDict()\n",
    "leg['Network Nodes']=g1\n",
    "leg['Network Segments']=g1\n",
    "leg['School Locations']=g2\n",
    "leg['Snapped School Locations']=g3\n",
    "leg['Crime Locations']=g4\n",
    "leg['Snapped Crime Locations']=g5\n",
    "plt.legend(leg, loc='best', fancybox=True, framealpha=0.8,\n",
    "           scatterpoints=1, fontsize=\"x-large\", bbox_to_anchor=(1.5, .5))"
   ]
  },
  {
   "cell_type": "markdown",
   "metadata": {},
   "source": [
    "-----------"
   ]
  }
 ],
 "metadata": {
  "anaconda-cloud": {},
  "kernelspec": {
   "display_name": "Python [conda env:py3_spgh_dev]",
   "language": "python",
   "name": "conda-env-py3_spgh_dev-py"
  },
  "language_info": {
   "codemirror_mode": {
    "name": "ipython",
    "version": 3
   },
   "file_extension": ".py",
   "mimetype": "text/x-python",
   "name": "python",
   "nbconvert_exporter": "python",
   "pygments_lexer": "ipython3",
   "version": "3.6.6"
  }
 },
 "nbformat": 4,
 "nbformat_minor": 1
}
