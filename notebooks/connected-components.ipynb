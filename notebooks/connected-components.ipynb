{
 "cells": [
  {
   "cell_type": "code",
   "execution_count": 1,
   "metadata": {
    "ExecuteTime": {
     "end_time": "2020-02-23T02:39:12.877857Z",
     "start_time": "2020-02-23T02:39:12.765427Z"
    }
   },
   "outputs": [
    {
     "data": {
      "application/javascript": [
       "\n",
       "            setTimeout(function() {\n",
       "                var nbb_cell_id = 1;\n",
       "                var nbb_unformatted_code = \"%load_ext nb_black\";\n",
       "                var nbb_formatted_code = \"%load_ext nb_black\";\n",
       "                var nbb_cells = Jupyter.notebook.get_cells();\n",
       "                for (var i = 0; i < nbb_cells.length; ++i) {\n",
       "                    if (nbb_cells[i].input_prompt_number == nbb_cell_id) {\n",
       "                        if (nbb_cells[i].get_text() == nbb_unformatted_code) {\n",
       "                             nbb_cells[i].set_text(nbb_formatted_code);\n",
       "                        }\n",
       "                        break;\n",
       "                    }\n",
       "                }\n",
       "            }, 500);\n",
       "            "
      ],
      "text/plain": [
       "<IPython.core.display.Javascript object>"
      ]
     },
     "metadata": {},
     "output_type": "display_data"
    }
   ],
   "source": [
    "%load_ext nb_black"
   ]
  },
  {
   "cell_type": "markdown",
   "metadata": {},
   "source": [
    "---------------\n",
    "\n",
    "**If any part of this notebook is used in your research, please cite with the reference found in** **[README.md](https://github.com/pysal/spaghetti#bibtex-citation).**\n",
    "\n",
    "\n",
    "----------------\n",
    "\n",
    "## Connected components in a spatial network\n",
    "### Identifying and visualizing the parts of a network\n",
    "\n",
    "**Author: James D. Gaboardi** **<jgaboardi@gmail.com>**\n",
    "\n",
    "**This notebook is a walk-through for:**\n",
    "\n",
    "1. Instantiating a simple network with `libpysal.cg.Chain` objects\n",
    "2. Working with the network components and isolated rings\n",
    "3. Visualizing the components and (non)articulation vertices\n",
    "4. Longest vs. Largest components\n",
    "5. Extracting network components"
   ]
  },
  {
   "cell_type": "code",
   "execution_count": 2,
   "metadata": {
    "ExecuteTime": {
     "end_time": "2020-02-23T02:39:14.328762Z",
     "start_time": "2020-02-23T02:39:14.093494Z"
    }
   },
   "outputs": [
    {
     "name": "stdout",
     "output_type": "stream",
     "text": [
      "2020-02-22T21:39:14-05:00\n",
      "\n",
      "CPython 3.7.3\n",
      "IPython 7.10.2\n",
      "\n",
      "compiler   : Clang 9.0.0 (tags/RELEASE_900/final)\n",
      "system     : Darwin\n",
      "release    : 19.3.0\n",
      "machine    : x86_64\n",
      "processor  : i386\n",
      "CPU cores  : 4\n",
      "interpreter: 64bit\n"
     ]
    },
    {
     "data": {
      "application/javascript": [
       "\n",
       "            setTimeout(function() {\n",
       "                var nbb_cell_id = 2;\n",
       "                var nbb_unformatted_code = \"%load_ext watermark\\n%watermark\";\n",
       "                var nbb_formatted_code = \"%load_ext watermark\\n%watermark\";\n",
       "                var nbb_cells = Jupyter.notebook.get_cells();\n",
       "                for (var i = 0; i < nbb_cells.length; ++i) {\n",
       "                    if (nbb_cells[i].input_prompt_number == nbb_cell_id) {\n",
       "                        if (nbb_cells[i].get_text() == nbb_unformatted_code) {\n",
       "                             nbb_cells[i].set_text(nbb_formatted_code);\n",
       "                        }\n",
       "                        break;\n",
       "                    }\n",
       "                }\n",
       "            }, 500);\n",
       "            "
      ],
      "text/plain": [
       "<IPython.core.display.Javascript object>"
      ]
     },
     "metadata": {},
     "output_type": "display_data"
    }
   ],
   "source": [
    "%load_ext watermark\n",
    "%watermark"
   ]
  },
  {
   "cell_type": "code",
   "execution_count": 3,
   "metadata": {
    "ExecuteTime": {
     "end_time": "2020-02-23T02:39:17.153044Z",
     "start_time": "2020-02-23T02:39:15.389997Z"
    }
   },
   "outputs": [
    {
     "ename": "ImportError",
     "evalue": "cannot import name 'extract_components' from 'spaghetti.network' (/Users/jgaboardi/spaghetti/spaghetti/network.py)",
     "output_type": "error",
     "traceback": [
      "\u001b[0;31m---------------------------------------------------------------------------\u001b[0m",
      "\u001b[0;31mImportError\u001b[0m                               Traceback (most recent call last)",
      "\u001b[0;32m<ipython-input-3-4aa5233f2d0c>\u001b[0m in \u001b[0;36m<module>\u001b[0;34m\u001b[0m\n\u001b[1;32m      6\u001b[0m \u001b[0;32mimport\u001b[0m \u001b[0mmatplotlib_scalebar\u001b[0m\u001b[0;34m\u001b[0m\u001b[0;34m\u001b[0m\u001b[0m\n\u001b[1;32m      7\u001b[0m \u001b[0;32mfrom\u001b[0m \u001b[0mmatplotlib_scalebar\u001b[0m\u001b[0;34m.\u001b[0m\u001b[0mscalebar\u001b[0m \u001b[0;32mimport\u001b[0m \u001b[0mScaleBar\u001b[0m\u001b[0;34m\u001b[0m\u001b[0;34m\u001b[0m\u001b[0m\n\u001b[0;32m----> 8\u001b[0;31m \u001b[0;32mimport\u001b[0m \u001b[0mspaghetti\u001b[0m\u001b[0;34m\u001b[0m\u001b[0;34m\u001b[0m\u001b[0m\n\u001b[0m\u001b[1;32m      9\u001b[0m \u001b[0;34m\u001b[0m\u001b[0m\n\u001b[1;32m     10\u001b[0m \u001b[0mget_ipython\u001b[0m\u001b[0;34m(\u001b[0m\u001b[0;34m)\u001b[0m\u001b[0;34m.\u001b[0m\u001b[0mrun_line_magic\u001b[0m\u001b[0;34m(\u001b[0m\u001b[0;34m'matplotlib'\u001b[0m\u001b[0;34m,\u001b[0m \u001b[0;34m'inline'\u001b[0m\u001b[0;34m)\u001b[0m\u001b[0;34m\u001b[0m\u001b[0;34m\u001b[0m\u001b[0m\n",
      "\u001b[0;32m~/spaghetti/spaghetti/__init__.py\u001b[0m in \u001b[0;36m<module>\u001b[0;34m\u001b[0m\n\u001b[1;32m      6\u001b[0m \"\"\"\n\u001b[1;32m      7\u001b[0m \u001b[0;32mfrom\u001b[0m \u001b[0;34m.\u001b[0m\u001b[0mnetwork\u001b[0m \u001b[0;32mimport\u001b[0m \u001b[0mNetwork\u001b[0m\u001b[0;34m,\u001b[0m \u001b[0mPointPattern\u001b[0m\u001b[0;34m,\u001b[0m \u001b[0mSimulatedPointPattern\u001b[0m\u001b[0;34m\u001b[0m\u001b[0;34m\u001b[0m\u001b[0m\n\u001b[0;32m----> 8\u001b[0;31m \u001b[0;32mfrom\u001b[0m \u001b[0;34m.\u001b[0m\u001b[0mnetwork\u001b[0m \u001b[0;32mimport\u001b[0m \u001b[0mextract_components\u001b[0m\u001b[0;34m,\u001b[0m \u001b[0melement_as_gdf\u001b[0m\u001b[0;34m,\u001b[0m \u001b[0mregular_lattice\u001b[0m\u001b[0;34m\u001b[0m\u001b[0;34m\u001b[0m\u001b[0m\n\u001b[0m",
      "\u001b[0;31mImportError\u001b[0m: cannot import name 'extract_components' from 'spaghetti.network' (/Users/jgaboardi/spaghetti/spaghetti/network.py)"
     ]
    },
    {
     "data": {
      "application/javascript": [
       "\n",
       "            setTimeout(function() {\n",
       "                var nbb_cell_id = 3;\n",
       "                var nbb_unformatted_code = \"import geopandas\\nimport libpysal\\nfrom libpysal import examples\\nfrom libpysal.cg import Point, Chain\\nimport matplotlib\\nimport matplotlib_scalebar\\nfrom matplotlib_scalebar.scalebar import ScaleBar\\nimport spaghetti\\n\\n%matplotlib inline\\n%watermark -w\\n%watermark -iv\";\n",
       "                var nbb_formatted_code = \"import geopandas\\nimport libpysal\\nfrom libpysal import examples\\nfrom libpysal.cg import Point, Chain\\nimport matplotlib\\nimport matplotlib_scalebar\\nfrom matplotlib_scalebar.scalebar import ScaleBar\\nimport spaghetti\\n\\n%matplotlib inline\\n%watermark -w\\n%watermark -iv\";\n",
       "                var nbb_cells = Jupyter.notebook.get_cells();\n",
       "                for (var i = 0; i < nbb_cells.length; ++i) {\n",
       "                    if (nbb_cells[i].input_prompt_number == nbb_cell_id) {\n",
       "                        if (nbb_cells[i].get_text() == nbb_unformatted_code) {\n",
       "                             nbb_cells[i].set_text(nbb_formatted_code);\n",
       "                        }\n",
       "                        break;\n",
       "                    }\n",
       "                }\n",
       "            }, 500);\n",
       "            "
      ],
      "text/plain": [
       "<IPython.core.display.Javascript object>"
      ]
     },
     "metadata": {},
     "output_type": "display_data"
    }
   ],
   "source": [
    "import geopandas\n",
    "import libpysal\n",
    "from libpysal import examples\n",
    "from libpysal.cg import Point, Chain\n",
    "import matplotlib\n",
    "import matplotlib_scalebar\n",
    "from matplotlib_scalebar.scalebar import ScaleBar\n",
    "import spaghetti\n",
    "\n",
    "%matplotlib inline\n",
    "%watermark -w\n",
    "%watermark -iv"
   ]
  },
  {
   "cell_type": "code",
   "execution_count": null,
   "metadata": {
    "ExecuteTime": {
     "end_time": "2020-02-23T02:36:15.955592Z",
     "start_time": "2020-02-23T02:36:11.977Z"
    }
   },
   "outputs": [],
   "source": [
    "try:\n",
    "    from IPython.display import set_matplotlib_formats\n",
    "    set_matplotlib_formats(\"retina\")\n",
    "except ImportError:\n",
    "    pass"
   ]
  },
  {
   "cell_type": "markdown",
   "metadata": {},
   "source": [
    "----------------\n",
    "\n",
    "### 1. Instantiate a network from two collections of `libpysal.cg.Chain` objects"
   ]
  },
  {
   "cell_type": "code",
   "execution_count": null,
   "metadata": {
    "ExecuteTime": {
     "end_time": "2020-02-23T02:36:15.963342Z",
     "start_time": "2020-02-23T02:36:11.987Z"
    }
   },
   "outputs": [],
   "source": [
    "plus1 = [\n",
    "    Chain([Point([1, 2]), Point([0, 2])]),\n",
    "    Chain([Point([1, 2]), Point([1, 1])]),\n",
    "    Chain([Point([1, 2]), Point([1, 3])]),\n",
    "]\n",
    "plus2 = [\n",
    "    Chain([Point([2, 1]), Point([2, 0])]),\n",
    "    Chain([Point([2, 1]), Point([3, 1])]),\n",
    "    Chain([Point([2, 1]), Point([2, 2])]),\n",
    "]\n",
    "lines = plus1 + plus2"
   ]
  },
  {
   "cell_type": "code",
   "execution_count": null,
   "metadata": {
    "ExecuteTime": {
     "end_time": "2020-02-23T02:36:15.972423Z",
     "start_time": "2020-02-23T02:36:11.989Z"
    }
   },
   "outputs": [],
   "source": [
    "ntw = spaghetti.Network(in_data=lines)"
   ]
  },
  {
   "cell_type": "markdown",
   "metadata": {},
   "source": [
    "#### Here we get a warning because the network we created is not fully connected"
   ]
  },
  {
   "cell_type": "code",
   "execution_count": null,
   "metadata": {
    "ExecuteTime": {
     "end_time": "2020-02-23T02:36:15.978767Z",
     "start_time": "2020-02-23T02:36:12.001Z"
    }
   },
   "outputs": [],
   "source": [
    "ntw.network_fully_connected"
   ]
  },
  {
   "cell_type": "markdown",
   "metadata": {},
   "source": [
    "#### It has 2 connected components"
   ]
  },
  {
   "cell_type": "code",
   "execution_count": null,
   "metadata": {
    "ExecuteTime": {
     "end_time": "2020-02-23T02:36:15.995257Z",
     "start_time": "2020-02-23T02:36:12.010Z"
    }
   },
   "outputs": [],
   "source": [
    "ntw.network_n_components"
   ]
  },
  {
   "cell_type": "markdown",
   "metadata": {},
   "source": [
    "#### The network components can be inspected through the following attributes\n",
    "##### `network_component_labels`"
   ]
  },
  {
   "cell_type": "code",
   "execution_count": null,
   "metadata": {
    "ExecuteTime": {
     "end_time": "2020-02-23T02:36:16.001307Z",
     "start_time": "2020-02-23T02:36:12.019Z"
    }
   },
   "outputs": [],
   "source": [
    "ntw.network_component_labels"
   ]
  },
  {
   "cell_type": "markdown",
   "metadata": {},
   "source": [
    "##### `network_component2arc` "
   ]
  },
  {
   "cell_type": "code",
   "execution_count": null,
   "metadata": {
    "ExecuteTime": {
     "end_time": "2020-02-23T02:36:16.011630Z",
     "start_time": "2020-02-23T02:36:12.032Z"
    }
   },
   "outputs": [],
   "source": [
    "ntw.network_component2arc"
   ]
  },
  {
   "cell_type": "markdown",
   "metadata": {},
   "source": [
    "##### `network_component_lengths`"
   ]
  },
  {
   "cell_type": "code",
   "execution_count": null,
   "metadata": {
    "ExecuteTime": {
     "end_time": "2020-02-23T02:36:16.021895Z",
     "start_time": "2020-02-23T02:36:12.040Z"
    }
   },
   "outputs": [],
   "source": [
    "ntw.network_component_lengths"
   ]
  },
  {
   "cell_type": "markdown",
   "metadata": {},
   "source": [
    "##### `network_longest_component`"
   ]
  },
  {
   "cell_type": "code",
   "execution_count": null,
   "metadata": {
    "ExecuteTime": {
     "end_time": "2020-02-23T02:36:16.032890Z",
     "start_time": "2020-02-23T02:36:12.047Z"
    }
   },
   "outputs": [],
   "source": [
    "ntw.network_longest_component"
   ]
  },
  {
   "cell_type": "markdown",
   "metadata": {},
   "source": [
    "##### `network_component_vertices` "
   ]
  },
  {
   "cell_type": "code",
   "execution_count": null,
   "metadata": {
    "ExecuteTime": {
     "end_time": "2020-02-23T02:36:16.043809Z",
     "start_time": "2020-02-23T02:36:12.054Z"
    }
   },
   "outputs": [],
   "source": [
    "ntw.network_component_vertices"
   ]
  },
  {
   "cell_type": "markdown",
   "metadata": {},
   "source": [
    "##### `network_component_vertex_count` "
   ]
  },
  {
   "cell_type": "code",
   "execution_count": null,
   "metadata": {
    "ExecuteTime": {
     "end_time": "2020-02-23T02:36:16.047252Z",
     "start_time": "2020-02-23T02:36:12.061Z"
    }
   },
   "outputs": [],
   "source": [
    "ntw.network_component_vertex_count"
   ]
  },
  {
   "cell_type": "markdown",
   "metadata": {},
   "source": [
    "##### `network_largest_component` "
   ]
  },
  {
   "cell_type": "code",
   "execution_count": null,
   "metadata": {
    "ExecuteTime": {
     "end_time": "2020-02-23T02:36:16.051743Z",
     "start_time": "2020-02-23T02:36:12.068Z"
    }
   },
   "outputs": [],
   "source": [
    "ntw.network_largest_component"
   ]
  },
  {
   "cell_type": "markdown",
   "metadata": {},
   "source": [
    "##### `network_component_is_ring` "
   ]
  },
  {
   "cell_type": "code",
   "execution_count": null,
   "metadata": {
    "ExecuteTime": {
     "end_time": "2020-02-23T02:36:16.055722Z",
     "start_time": "2020-02-23T02:36:12.076Z"
    }
   },
   "outputs": [],
   "source": [
    "ntw.network_component_is_ring"
   ]
  },
  {
   "cell_type": "markdown",
   "metadata": {},
   "source": [
    "#### The same can be performed for graph representations, for example:\n",
    "##### `graph_component_labels`"
   ]
  },
  {
   "cell_type": "code",
   "execution_count": null,
   "metadata": {
    "ExecuteTime": {
     "end_time": "2020-02-23T02:36:16.061916Z",
     "start_time": "2020-02-23T02:36:12.084Z"
    }
   },
   "outputs": [],
   "source": [
    "ntw.graph_component_labels"
   ]
  },
  {
   "cell_type": "markdown",
   "metadata": {},
   "source": [
    "##### `graph_component2edge` "
   ]
  },
  {
   "cell_type": "code",
   "execution_count": null,
   "metadata": {
    "ExecuteTime": {
     "end_time": "2020-02-23T02:36:16.071557Z",
     "start_time": "2020-02-23T02:36:12.092Z"
    }
   },
   "outputs": [],
   "source": [
    "ntw.graph_component2edge"
   ]
  },
  {
   "cell_type": "markdown",
   "metadata": {},
   "source": [
    "#### Extract the network arc and vertices as `geopandas.GeoDataFrame` objects"
   ]
  },
  {
   "cell_type": "code",
   "execution_count": null,
   "metadata": {
    "ExecuteTime": {
     "end_time": "2020-02-23T02:36:16.074690Z",
     "start_time": "2020-02-23T02:36:12.101Z"
    }
   },
   "outputs": [],
   "source": [
    "# network vertices and arcs\n",
    "vertices_df, arcs_df = spaghetti.element_as_gdf(ntw, vertices=True, arcs=True)"
   ]
  },
  {
   "cell_type": "markdown",
   "metadata": {},
   "source": [
    "#### Network component labels are found in the `\"comp_label\"` field"
   ]
  },
  {
   "cell_type": "code",
   "execution_count": null,
   "metadata": {
    "ExecuteTime": {
     "end_time": "2020-02-23T02:36:16.083674Z",
     "start_time": "2020-02-23T02:36:12.108Z"
    }
   },
   "outputs": [],
   "source": [
    "vertices_df"
   ]
  },
  {
   "cell_type": "code",
   "execution_count": null,
   "metadata": {
    "ExecuteTime": {
     "end_time": "2020-02-23T02:36:16.087854Z",
     "start_time": "2020-02-23T02:36:12.111Z"
    }
   },
   "outputs": [],
   "source": [
    "arcs_df"
   ]
  },
  {
   "cell_type": "markdown",
   "metadata": {},
   "source": [
    "#### Plot the disconnected network and symbolize the arcs bases on the value of `\"comp_label\"`"
   ]
  },
  {
   "cell_type": "code",
   "execution_count": null,
   "metadata": {
    "ExecuteTime": {
     "end_time": "2020-02-23T02:36:16.091677Z",
     "start_time": "2020-02-23T02:36:12.120Z"
    }
   },
   "outputs": [],
   "source": [
    "base = arcs_df.plot(column=\"comp_label\", cmap=\"Set2\", linewidth=5, figsize=(7, 7))\n",
    "vertices_df.plot(ax=base, color=\"k\", markersize=100, zorder=2);"
   ]
  },
  {
   "cell_type": "markdown",
   "metadata": {
    "ExecuteTime": {
     "end_time": "2020-01-17T02:24:00.431130Z",
     "start_time": "2020-01-17T02:24:00.414100Z"
    }
   },
   "source": [
    "\n",
    "----------------\n",
    "\n",
    "### 2. Add to the network created above"
   ]
  },
  {
   "cell_type": "code",
   "execution_count": null,
   "metadata": {
    "ExecuteTime": {
     "end_time": "2020-02-23T02:36:16.099332Z",
     "start_time": "2020-02-23T02:36:12.136Z"
    }
   },
   "outputs": [],
   "source": [
    "new_lines = [\n",
    "    Chain([Point([1, 1]), Point([2, 2])]),\n",
    "    Chain([Point([0.5, 1]), Point([0.5, 0.5])]),\n",
    "    Chain([Point([0.5, 0.5]), Point([1, 0.5])]),\n",
    "    Chain([Point([2, 2.5]), Point([2.5, 2.5])]),\n",
    "    Chain([Point([2.5, 2.5]), Point([2.5, 2])]),\n",
    "]\n",
    "lines += new_lines"
   ]
  },
  {
   "cell_type": "code",
   "execution_count": null,
   "metadata": {
    "ExecuteTime": {
     "end_time": "2020-02-23T02:36:16.112857Z",
     "start_time": "2020-02-23T02:36:12.138Z"
    }
   },
   "outputs": [],
   "source": [
    "ntw = spaghetti.Network(in_data=lines)"
   ]
  },
  {
   "cell_type": "markdown",
   "metadata": {},
   "source": [
    "#### Now there are 3 connected components in the network"
   ]
  },
  {
   "cell_type": "code",
   "execution_count": null,
   "metadata": {
    "ExecuteTime": {
     "end_time": "2020-02-23T02:36:16.117600Z",
     "start_time": "2020-02-23T02:36:12.154Z"
    }
   },
   "outputs": [],
   "source": [
    "ntw.network_n_components"
   ]
  },
  {
   "cell_type": "code",
   "execution_count": null,
   "metadata": {
    "ExecuteTime": {
     "end_time": "2020-02-23T02:36:16.122270Z",
     "start_time": "2020-02-23T02:36:12.157Z"
    }
   },
   "outputs": [],
   "source": [
    "ntw.network_component2arc"
   ]
  },
  {
   "cell_type": "code",
   "execution_count": null,
   "metadata": {
    "ExecuteTime": {
     "end_time": "2020-02-23T02:36:16.126728Z",
     "start_time": "2020-02-23T02:36:12.167Z"
    }
   },
   "outputs": [],
   "source": [
    "# network vertices and arcs\n",
    "vertices_df, arcs_df = spaghetti.element_as_gdf(ntw, vertices=True, arcs=True)"
   ]
  },
  {
   "cell_type": "code",
   "execution_count": null,
   "metadata": {
    "ExecuteTime": {
     "end_time": "2020-02-23T02:36:16.137475Z",
     "start_time": "2020-02-23T02:36:12.172Z"
    }
   },
   "outputs": [],
   "source": [
    "arcs_df"
   ]
  },
  {
   "cell_type": "markdown",
   "metadata": {},
   "source": [
    "#### We can also inspect the non-articulation points in the network. Non-articulation points are vertices in a network that are degree-2. A vertex is degree-2 if, and only if, it is directly connected to only 2 other vertices."
   ]
  },
  {
   "cell_type": "code",
   "execution_count": null,
   "metadata": {
    "ExecuteTime": {
     "end_time": "2020-02-23T02:36:16.144328Z",
     "start_time": "2020-02-23T02:36:12.206Z"
    }
   },
   "outputs": [],
   "source": [
    "ntw.non_articulation_points"
   ]
  },
  {
   "cell_type": "markdown",
   "metadata": {},
   "source": [
    "#### Slice out the articulation points and non-articulation points"
   ]
  },
  {
   "cell_type": "code",
   "execution_count": null,
   "metadata": {
    "ExecuteTime": {
     "end_time": "2020-02-23T02:36:16.147267Z",
     "start_time": "2020-02-23T02:36:12.216Z"
    }
   },
   "outputs": [],
   "source": [
    "napts = ntw.non_articulation_points\n",
    "articulation_vertices = vertices_df[~vertices_df[\"id\"].isin(napts)]\n",
    "non_articulation_vertices = vertices_df[vertices_df[\"id\"].isin(napts)]"
   ]
  },
  {
   "cell_type": "markdown",
   "metadata": {},
   "source": [
    "#### Plot the connected components while making a distinction between articulation points and non-articulation points"
   ]
  },
  {
   "cell_type": "code",
   "execution_count": null,
   "metadata": {
    "ExecuteTime": {
     "end_time": "2020-02-23T02:36:16.155706Z",
     "start_time": "2020-02-23T02:36:12.231Z"
    }
   },
   "outputs": [],
   "source": [
    "base = arcs_df.plot(column=\"comp_label\", cmap=\"Set2\", linewidth=5, figsize=(7, 7))\n",
    "articulation_vertices.plot(ax=base, color=\"k\", markersize=100, zorder=2)\n",
    "non_articulation_vertices.plot(ax=base, marker=\"s\", color=\"k\", markersize=20, zorder=2);"
   ]
  },
  {
   "cell_type": "markdown",
   "metadata": {},
   "source": [
    "----------------\n",
    "\n",
    "### 3. Add a loop of `libpysal.cg.Chain` objects"
   ]
  },
  {
   "cell_type": "code",
   "execution_count": null,
   "metadata": {
    "ExecuteTime": {
     "end_time": "2020-02-23T02:36:16.160956Z",
     "start_time": "2020-02-23T02:36:12.244Z"
    }
   },
   "outputs": [],
   "source": [
    "new_lines = [\n",
    "    Chain([Point([3, 1]), Point([3.25, 1.25])]),\n",
    "    Chain([Point([3.25, 1.25]), Point([3.5, 1.25])]),\n",
    "    Chain([Point([3.5, 1.25]), Point([3.75, 1])]),\n",
    "    Chain([Point([3.75, 1]), Point([3.5, .75])]),\n",
    "    Chain([Point([3.5, .75]), Point([3.25, .75])]),\n",
    "    Chain([Point([3.25, .75]), Point([3, 1])]),\n",
    "]\n",
    "lines += new_lines"
   ]
  },
  {
   "cell_type": "code",
   "execution_count": null,
   "metadata": {
    "ExecuteTime": {
     "end_time": "2020-02-23T02:36:16.164459Z",
     "start_time": "2020-02-23T02:36:12.245Z"
    }
   },
   "outputs": [],
   "source": [
    "ntw = spaghetti.Network(in_data=lines)"
   ]
  },
  {
   "cell_type": "code",
   "execution_count": null,
   "metadata": {
    "ExecuteTime": {
     "end_time": "2020-02-23T02:36:16.170564Z",
     "start_time": "2020-02-23T02:36:12.247Z"
    }
   },
   "outputs": [],
   "source": [
    "ntw.network_n_components"
   ]
  },
  {
   "cell_type": "code",
   "execution_count": null,
   "metadata": {
    "ExecuteTime": {
     "end_time": "2020-02-23T02:36:16.174275Z",
     "start_time": "2020-02-23T02:36:12.254Z"
    }
   },
   "outputs": [],
   "source": [
    "ntw.network_component2arc"
   ]
  },
  {
   "cell_type": "code",
   "execution_count": null,
   "metadata": {
    "ExecuteTime": {
     "end_time": "2020-02-23T02:36:16.180962Z",
     "start_time": "2020-02-23T02:36:12.256Z"
    }
   },
   "outputs": [],
   "source": [
    "# network vertices and arcs\n",
    "vertices_df, arcs_df = spaghetti.element_as_gdf(ntw, vertices=True, arcs=True)"
   ]
  },
  {
   "cell_type": "code",
   "execution_count": null,
   "metadata": {
    "ExecuteTime": {
     "end_time": "2020-02-23T02:36:16.185680Z",
     "start_time": "2020-02-23T02:36:12.262Z"
    }
   },
   "outputs": [],
   "source": [
    "arcs_df"
   ]
  },
  {
   "cell_type": "markdown",
   "metadata": {},
   "source": [
    "#### Here we can see that all the new network vertices are non-articulation point"
   ]
  },
  {
   "cell_type": "code",
   "execution_count": null,
   "metadata": {
    "ExecuteTime": {
     "end_time": "2020-02-23T02:36:16.187974Z",
     "start_time": "2020-02-23T02:36:12.275Z"
    }
   },
   "outputs": [],
   "source": [
    "ntw.non_articulation_points"
   ]
  },
  {
   "cell_type": "markdown",
   "metadata": {},
   "source": [
    "#### Slice out the articulation points and non-articulation points"
   ]
  },
  {
   "cell_type": "code",
   "execution_count": null,
   "metadata": {
    "ExecuteTime": {
     "end_time": "2020-02-23T02:36:16.191492Z",
     "start_time": "2020-02-23T02:36:12.293Z"
    }
   },
   "outputs": [],
   "source": [
    "napts = ntw.non_articulation_points\n",
    "articulation_vertices = vertices_df[~vertices_df[\"id\"].isin(napts)]\n",
    "non_articulation_vertices = vertices_df[vertices_df[\"id\"].isin(napts)]"
   ]
  },
  {
   "cell_type": "markdown",
   "metadata": {},
   "source": [
    "#### The new network vertices are non-articulation points because they form a closed ring"
   ]
  },
  {
   "cell_type": "code",
   "execution_count": null,
   "metadata": {
    "ExecuteTime": {
     "end_time": "2020-02-23T02:36:16.195212Z",
     "start_time": "2020-02-23T02:36:12.302Z"
    }
   },
   "outputs": [],
   "source": [
    "base = arcs_df.plot(column=\"comp_label\", cmap=\"Set2\", linewidth=5, figsize=(7, 7))\n",
    "articulation_vertices.plot(ax=base, color=\"k\", markersize=100, zorder=2)\n",
    "non_articulation_vertices.plot(ax=base, marker=\"s\", color=\"k\", markersize=20, zorder=2);"
   ]
  },
  {
   "cell_type": "markdown",
   "metadata": {},
   "source": [
    "-----------------------------------------------------"
   ]
  },
  {
   "cell_type": "markdown",
   "metadata": {},
   "source": [
    "### 4. Longest vs. largest components — cross vs. hexagon"
   ]
  },
  {
   "cell_type": "code",
   "execution_count": null,
   "metadata": {
    "ExecuteTime": {
     "end_time": "2020-02-23T02:36:16.197701Z",
     "start_time": "2020-02-23T02:36:12.329Z"
    }
   },
   "outputs": [],
   "source": [
    "cross = [\n",
    "    Chain([Point([0, 5]), Point([5, 5]), Point([5, 10])]),\n",
    "    Chain([Point([5, 0]), Point([5, 5]), Point([10, 5])])\n",
    "]\n",
    "hexagon = [\n",
    "    Chain(\n",
    "        [\n",
    "            Point([12, 5]),\n",
    "            Point([13, 6]),\n",
    "            Point([14, 6]),\n",
    "            Point([15, 5]),\n",
    "            Point([14, 4]),\n",
    "            Point([13, 4]),\n",
    "            Point([12, 5])\n",
    "        ]\n",
    "    ),\n",
    "]\n",
    "lines = cross + hexagon"
   ]
  },
  {
   "cell_type": "code",
   "execution_count": null,
   "metadata": {
    "ExecuteTime": {
     "end_time": "2020-02-23T02:36:16.202476Z",
     "start_time": "2020-02-23T02:36:12.331Z"
    }
   },
   "outputs": [],
   "source": [
    "ntw = spaghetti.Network(in_data=lines)"
   ]
  },
  {
   "cell_type": "code",
   "execution_count": null,
   "metadata": {
    "ExecuteTime": {
     "end_time": "2020-02-23T02:36:16.205773Z",
     "start_time": "2020-02-23T02:36:12.359Z"
    }
   },
   "outputs": [],
   "source": [
    "# network vertices and arcs\n",
    "vertices_df, arcs_df = spaghetti.element_as_gdf(ntw, vertices=True, arcs=True)"
   ]
  },
  {
   "cell_type": "code",
   "execution_count": null,
   "metadata": {
    "ExecuteTime": {
     "end_time": "2020-02-23T02:36:16.208767Z",
     "start_time": "2020-02-23T02:36:12.363Z"
    }
   },
   "outputs": [],
   "source": [
    "base = arcs_df.plot(column=\"comp_label\", cmap=\"Set2\", linewidth=5, figsize=(7, 7))\n",
    "vertices_df.plot(ax=base, color=\"k\", markersize=100, zorder=2);"
   ]
  },
  {
   "cell_type": "markdown",
   "metadata": {},
   "source": [
    "#### The longest component is not necessarily the largest\n",
    "##### This is because in `spaghetti` the largest compnent equates to the most vertices"
   ]
  },
  {
   "cell_type": "code",
   "execution_count": null,
   "metadata": {
    "ExecuteTime": {
     "end_time": "2020-02-23T02:36:16.212575Z",
     "start_time": "2020-02-23T02:36:12.385Z"
    }
   },
   "outputs": [],
   "source": [
    "ntw.network_longest_component, ntw.network_largest_component"
   ]
  },
  {
   "cell_type": "markdown",
   "metadata": {
    "ExecuteTime": {
     "end_time": "2020-02-22T22:00:11.038343Z",
     "start_time": "2020-02-22T22:00:11.029198Z"
    }
   },
   "source": [
    "### 5. Extracting components\n",
    "#### Extract the longest component"
   ]
  },
  {
   "cell_type": "code",
   "execution_count": null,
   "metadata": {
    "ExecuteTime": {
     "end_time": "2020-02-23T02:36:16.219530Z",
     "start_time": "2020-02-23T02:36:12.398Z"
    }
   },
   "outputs": [],
   "source": [
    "longest = spaghetti.extract_component(ntw, ntw.network_longest_component)"
   ]
  },
  {
   "cell_type": "code",
   "execution_count": null,
   "metadata": {
    "ExecuteTime": {
     "end_time": "2020-02-23T02:36:16.233855Z",
     "start_time": "2020-02-23T02:36:12.400Z"
    }
   },
   "outputs": [],
   "source": [
    "# network vertices and arcs\n",
    "vertices_df, arcs_df = spaghetti.element_as_gdf(longest, vertices=True, arcs=True)"
   ]
  },
  {
   "cell_type": "code",
   "execution_count": null,
   "metadata": {
    "ExecuteTime": {
     "end_time": "2020-02-23T02:36:16.243370Z",
     "start_time": "2020-02-23T02:36:12.405Z"
    }
   },
   "outputs": [],
   "source": [
    "vertices_df"
   ]
  },
  {
   "cell_type": "code",
   "execution_count": null,
   "metadata": {
    "ExecuteTime": {
     "end_time": "2020-02-23T02:36:16.253380Z",
     "start_time": "2020-02-23T02:36:12.408Z"
    }
   },
   "outputs": [],
   "source": [
    "base = arcs_df.plot(column=\"comp_label\", cmap=\"Set2\", linewidth=5, figsize=(7, 7))\n",
    "vertices_df.plot(ax=base, color=\"k\", markersize=100, zorder=2);"
   ]
  },
  {
   "cell_type": "markdown",
   "metadata": {},
   "source": [
    "#### Extract the largest component and plot"
   ]
  },
  {
   "cell_type": "code",
   "execution_count": null,
   "metadata": {
    "ExecuteTime": {
     "end_time": "2020-02-23T02:36:16.259935Z",
     "start_time": "2020-02-23T02:36:12.415Z"
    }
   },
   "outputs": [],
   "source": [
    "largest = spaghetti.extract_component(ntw, ntw.network_largest_component)\n",
    "# network vertices and arcs\n",
    "vertices_df, arcs_df = spaghetti.element_as_gdf(largest, vertices=True, arcs=True)\n",
    "base = arcs_df.plot(column=\"comp_label\", cmap=\"Set2\", linewidth=5, figsize=(7, 7))\n",
    "vertices_df.plot(ax=base, color=\"k\", markersize=100, zorder=2);"
   ]
  },
  {
   "cell_type": "markdown",
   "metadata": {},
   "source": [
    "#### Empirical Example — New Haven, Connecticut"
   ]
  },
  {
   "cell_type": "code",
   "execution_count": null,
   "metadata": {
    "ExecuteTime": {
     "end_time": "2020-02-23T02:36:16.262834Z",
     "start_time": "2020-02-23T02:36:12.426Z"
    }
   },
   "outputs": [],
   "source": [
    "newhaven = libpysal.examples.get_path(\"newhaven_nework.shp\")\n",
    "ntw = spaghetti.Network(in_data=newhaven, extractgraph=False)"
   ]
  },
  {
   "cell_type": "markdown",
   "metadata": {},
   "source": [
    "#### Extract the longest component"
   ]
  },
  {
   "cell_type": "code",
   "execution_count": null,
   "metadata": {
    "ExecuteTime": {
     "end_time": "2020-02-23T02:36:16.267671Z",
     "start_time": "2020-02-23T02:36:12.445Z"
    }
   },
   "outputs": [],
   "source": [
    "longest = spaghetti.extract_component(ntw, ntw.network_longest_component)"
   ]
  },
  {
   "cell_type": "code",
   "execution_count": null,
   "metadata": {
    "ExecuteTime": {
     "end_time": "2020-02-23T02:36:16.272380Z",
     "start_time": "2020-02-23T02:36:12.447Z"
    }
   },
   "outputs": [],
   "source": [
    "# network vertices and arcs\n",
    "vertices_df, arcs_df = spaghetti.element_as_gdf(ntw, vertices=True, arcs=True)\n",
    "arcs_df.crs = \"epsg:4269\"\n",
    "arcs_df = arcs_df.to_crs(\"epsg:6433\")"
   ]
  },
  {
   "cell_type": "code",
   "execution_count": null,
   "metadata": {
    "ExecuteTime": {
     "end_time": "2020-02-23T02:36:16.277248Z",
     "start_time": "2020-02-23T02:36:12.450Z"
    }
   },
   "outputs": [],
   "source": [
    "# longest vertices and arcs\n",
    "lc_vertices, lc_arcs = spaghetti.element_as_gdf(longest, vertices=True, arcs=True)\n",
    "lc_arcs.crs = \"epsg:4269\"\n",
    "lc_arcs = lc_arcs.to_crs(\"epsg:6433\")"
   ]
  },
  {
   "cell_type": "markdown",
   "metadata": {},
   "source": [
    "#### Filter non-longest component arcs"
   ]
  },
  {
   "cell_type": "code",
   "execution_count": null,
   "metadata": {
    "ExecuteTime": {
     "end_time": "2020-02-23T02:36:16.279712Z",
     "start_time": "2020-02-23T02:36:12.463Z"
    }
   },
   "outputs": [],
   "source": [
    "nlc = ntw.network_longest_component\n",
    "arcs_df = arcs_df[arcs_df.comp_label != nlc]\n",
    "ocomp = list(set(ntw.network_component_labels))\n",
    "ocomp.remove(nlc)"
   ]
  },
  {
   "cell_type": "markdown",
   "metadata": {},
   "source": [
    "#### Plot network arcs"
   ]
  },
  {
   "cell_type": "code",
   "execution_count": null,
   "metadata": {
    "ExecuteTime": {
     "end_time": "2020-02-23T02:36:16.284710Z",
     "start_time": "2020-02-23T02:36:12.479Z"
    }
   },
   "outputs": [],
   "source": [
    "def legend(objects):\n",
    "    \"\"\"Add a legend to a plot\"\"\"\n",
    "    patches = make_patches(*objects)\n",
    "    kws = {\"fancybox\": True, \"framealpha\": 0.85, \"fontsize\": \"x-large\"}\n",
    "    kws.update({\"loc\":\"lower left\", \"labelspacing\":2., \"borderpad\":2.})\n",
    "    legend = matplotlib.pyplot.legend(handles=patches, **kws)\n",
    "    legend.get_frame().set_facecolor(\"white\")"
   ]
  },
  {
   "cell_type": "code",
   "execution_count": null,
   "metadata": {
    "ExecuteTime": {
     "end_time": "2020-02-23T02:36:16.288284Z",
     "start_time": "2020-02-23T02:36:12.481Z"
    }
   },
   "outputs": [],
   "source": [
    "def make_patches(comp_type, in_comp, oc):\n",
    "    \"\"\"Create patches for legend\"\"\"\n",
    "    labels_colors_alpha = [\n",
    "        [\"%s component: %s\" % (comp_type.capitalize(), in_comp), \"k\", .5], \n",
    "        [\"Other components: %s-%s\" % (oc[0], oc[1]), \"r\", 1]\n",
    "    ]\n",
    "    patches = []\n",
    "    for l, c, a in labels_colors_alpha:\n",
    "        p = matplotlib.lines.Line2D([], [], lw=2, label=l, c=c, alpha=a)\n",
    "        patches.append(p)\n",
    "    return patches"
   ]
  },
  {
   "cell_type": "code",
   "execution_count": null,
   "metadata": {
    "ExecuteTime": {
     "end_time": "2020-02-23T02:36:16.292981Z",
     "start_time": "2020-02-23T02:36:12.488Z"
    }
   },
   "outputs": [],
   "source": [
    "base = arcs_df.plot(color=\"r\", alpha=1, linewidth=3, figsize=(10, 10))\n",
    "lc_arcs.plot(ax=base, color=\"k\", linewidth=2, alpha=.5, zorder=2);\n",
    "# add legend\n",
    "legend((\"longest\", nlc, (ocomp[0], ocomp[-1])))\n",
    "# add scale bar\n",
    "scalebar = ScaleBar(3, units=\"m\", location=\"lower right\")\n",
    "base.add_artist(scalebar);"
   ]
  },
  {
   "cell_type": "markdown",
   "metadata": {},
   "source": [
    "---------------------------------------"
   ]
  }
 ],
 "metadata": {
  "kernelspec": {
   "display_name": "Python [conda env:py3_spgh_dev]",
   "language": "python",
   "name": "conda-env-py3_spgh_dev-py"
  },
  "language_info": {
   "codemirror_mode": {
    "name": "ipython",
    "version": 3
   },
   "file_extension": ".py",
   "mimetype": "text/x-python",
   "name": "python",
   "nbconvert_exporter": "python",
   "pygments_lexer": "ipython3",
   "version": "3.7.3"
  }
 },
 "nbformat": 4,
 "nbformat_minor": 2
}
