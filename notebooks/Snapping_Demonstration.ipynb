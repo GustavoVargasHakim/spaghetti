{
 "cells": [
  {
   "cell_type": "markdown",
   "metadata": {},
   "source": [
    "--------------------------"
   ]
  },
  {
   "cell_type": "markdown",
   "metadata": {},
   "source": [
    "# Snapping point to segments"
   ]
  },
  {
   "cell_type": "code",
   "execution_count": null,
   "metadata": {
    "ExecuteTime": {
     "end_time": "2018-11-16T18:39:09.069155Z",
     "start_time": "2018-11-16T18:39:09.040891Z"
    }
   },
   "outputs": [],
   "source": [
    "import os\n",
    "last_modified = None\n",
    "if os.name == \"posix\":\n",
    "    last_modified = !stat -f\\\n",
    "                    \"# This notebook was last updated: %Sm\"\\\n",
    "                     Snapping_Demonstration.ipynb\n",
    "elif os.name == \"nt\":\n",
    "    last_modified = !for %a in (Snapping_Demonstration.ipynb)\\\n",
    "                    do echo # This notebook was last updated: %~ta\n",
    "    \n",
    "if last_modified:\n",
    "    get_ipython().set_next_input(last_modified[-1])"
   ]
  },
  {
   "cell_type": "code",
   "execution_count": null,
   "metadata": {},
   "outputs": [],
   "source": [
    "# This notebook was last updated: Nov 16 13:39:00 2018"
   ]
  },
  {
   "cell_type": "markdown",
   "metadata": {},
   "source": [
    "-------------------------------"
   ]
  },
  {
   "cell_type": "code",
   "execution_count": null,
   "metadata": {
    "ExecuteTime": {
     "end_time": "2018-11-16T18:39:10.307898Z",
     "start_time": "2018-11-16T18:39:09.073627Z"
    }
   },
   "outputs": [],
   "source": [
    "import numpy as np\n",
    "from libpysal import examples\n",
    "import geopandas as gpd\n",
    "import spaghetti as spgh\n",
    "from shapely.geometry import Point\n",
    "\n",
    "%matplotlib inline\n",
    "\n",
    "__author__ = 'James Gaboardi <jgaboardi@gmail.com>'"
   ]
  },
  {
   "cell_type": "markdown",
   "metadata": {},
   "source": [
    "-----------------------------------------"
   ]
  },
  {
   "cell_type": "markdown",
   "metadata": {},
   "source": [
    "## Segments"
   ]
  },
  {
   "cell_type": "code",
   "execution_count": null,
   "metadata": {
    "ExecuteTime": {
     "end_time": "2018-11-16T18:39:10.630055Z",
     "start_time": "2018-11-16T18:39:10.310958Z"
    }
   },
   "outputs": [],
   "source": [
    "streets = examples.get_path(\"streets.shp\")\n",
    "streets = gpd.read_file(streets)"
   ]
  },
  {
   "cell_type": "markdown",
   "metadata": {},
   "source": [
    "## Points"
   ]
  },
  {
   "cell_type": "code",
   "execution_count": null,
   "metadata": {
    "ExecuteTime": {
     "end_time": "2018-11-16T18:39:10.706002Z",
     "start_time": "2018-11-16T18:39:10.634102Z"
    }
   },
   "outputs": [],
   "source": [
    "crimes = examples.get_path(\"crimes.shp\")\n",
    "crimes = gpd.read_file(crimes)\n",
    "np.random.seed(1)\n",
    "crimes['geometry'] = np.random.permutation(crimes['geometry'])"
   ]
  },
  {
   "cell_type": "markdown",
   "metadata": {},
   "source": [
    "## Initial plot"
   ]
  },
  {
   "cell_type": "code",
   "execution_count": null,
   "metadata": {
    "ExecuteTime": {
     "end_time": "2018-11-16T18:39:11.140794Z",
     "start_time": "2018-11-16T18:39:10.707804Z"
    }
   },
   "outputs": [],
   "source": [
    "base = streets.plot(figsize=(10,10), color='k', alpha=.35, linewidth=3)\n",
    "crimes.plot(ax=base, cmap='tab20', markersize=75)"
   ]
  },
  {
   "cell_type": "markdown",
   "metadata": {},
   "source": [
    "# Network"
   ]
  },
  {
   "cell_type": "code",
   "execution_count": null,
   "metadata": {
    "ExecuteTime": {
     "end_time": "2018-11-16T18:39:11.194040Z",
     "start_time": "2018-11-16T18:39:11.142792Z"
    }
   },
   "outputs": [],
   "source": [
    "net = spgh.Network(in_data=streets)"
   ]
  },
  {
   "cell_type": "markdown",
   "metadata": {},
   "source": [
    "## Snap point onto nearest segments"
   ]
  },
  {
   "cell_type": "code",
   "execution_count": null,
   "metadata": {
    "ExecuteTime": {
     "end_time": "2018-11-16T18:39:11.467784Z",
     "start_time": "2018-11-16T18:39:11.195833Z"
    }
   },
   "outputs": [],
   "source": [
    "net.snapobservations(crimes, 'crimes')\n",
    "original = net.pointpatterns['crimes'].points\n",
    "snapped = net.pointpatterns['crimes'].snapped_coordinates"
   ]
  },
  {
   "cell_type": "markdown",
   "metadata": {},
   "source": [
    "## Original point coordinates, snapped point coordinates"
   ]
  },
  {
   "cell_type": "code",
   "execution_count": null,
   "metadata": {
    "ExecuteTime": {
     "end_time": "2018-11-16T18:39:11.473315Z",
     "start_time": "2018-11-16T18:39:11.469574Z"
    }
   },
   "outputs": [],
   "source": [
    "original[0]['coordinates'], snapped[0]"
   ]
  },
  {
   "cell_type": "markdown",
   "metadata": {},
   "source": [
    "## Snapped points plot"
   ]
  },
  {
   "cell_type": "code",
   "execution_count": null,
   "metadata": {
    "ExecuteTime": {
     "end_time": "2018-11-16T18:39:11.497570Z",
     "start_time": "2018-11-16T18:39:11.477360Z"
    }
   },
   "outputs": [],
   "source": [
    "snapped_gdf = gpd.GeoDataFrame([Point(p) for p in list(snapped.values())],\n",
    "                               columns=['geometry'])"
   ]
  },
  {
   "cell_type": "code",
   "execution_count": null,
   "metadata": {
    "ExecuteTime": {
     "end_time": "2018-11-16T18:39:12.017375Z",
     "start_time": "2018-11-16T18:39:11.502791Z"
    }
   },
   "outputs": [],
   "source": [
    "base = streets.plot(figsize=(10,10), color='k', alpha=.35, linewidth=3)\n",
    "crimes.plot(ax=base, cmap='tab20', markersize=75)\n",
    "snapped_gdf.plot(ax=base, cmap='tab20', markersize=30)"
   ]
  },
  {
   "cell_type": "markdown",
   "metadata": {},
   "source": [
    "---------------------------------------------"
   ]
  }
 ],
 "metadata": {
  "_draft": {
   "nbviewer_url": "https://gist.github.com/0d9ea5c966a4ad57123bef35b87c4607"
  },
  "gist": {
   "data": {
    "description": "spaghetti/notebooks/Snapping_Demonstration.ipynb",
    "public": true
   },
   "id": "0d9ea5c966a4ad57123bef35b87c4607"
  },
  "kernelspec": {
   "display_name": "Python [conda env:py3_spgh_dev]",
   "language": "python",
   "name": "conda-env-py3_spgh_dev-py"
  },
  "language_info": {
   "codemirror_mode": {
    "name": "ipython",
    "version": 3
   },
   "file_extension": ".py",
   "mimetype": "text/x-python",
   "name": "python",
   "nbconvert_exporter": "python",
   "pygments_lexer": "ipython3",
   "version": "3.6.6"
  }
 },
 "nbformat": 4,
 "nbformat_minor": 1
}
