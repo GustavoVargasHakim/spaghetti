{
 "cells": [
  {
   "cell_type": "markdown",
   "metadata": {},
   "source": [
    "--------------------------"
   ]
  },
  {
   "cell_type": "markdown",
   "metadata": {},
   "source": [
    "# Snapping point to segements\n",
    "\n",
    "### A demonstration of internal functionality found in `spaghetti.network` and `spaghetti.util`"
   ]
  },
  {
   "cell_type": "code",
   "execution_count": null,
   "metadata": {},
   "outputs": [],
   "source": [
    "import numpy as np\n",
    "from libpysal import cg, examples, io\n",
    "import matplotlib.pyplot as plt\n",
    "import matplotlib as mpl\n",
    "% matplotlib inline\n",
    "\n",
    "__author__ = \"Serge Rey <sjsrey@gmail.com>, James Gaboardi <jgaboardi@gmail.com>\""
   ]
  },
  {
   "cell_type": "code",
   "execution_count": null,
   "metadata": {},
   "outputs": [],
   "source": [
    "def squaredDistance(point, segment):\n",
    "    \"\"\"Find the squared distance between a point and a segment\n",
    "    \n",
    "    Arguments\n",
    "    =========\n",
    "    point: tuple (x,y)\n",
    "    segment: list of tuples [(x0,y0), (x1,y1)]\n",
    "    Returns\n",
    "    =======\n",
    "    tuple: 2 elements\n",
    "           distance squared between point and segment\n",
    "           array(xb, yb): the nearest point on the segment\n",
    "    \"\"\"\n",
    "    p0,p1 = [np.array(p) for p in segment]\n",
    "    v = p1 - p0\n",
    "    p = np.array(point)\n",
    "    w = p - p0\n",
    "    c1 = np.dot(w,v)\n",
    "    if c1 <= 0.:\n",
    "        return np.dot(w.T,w), p0\n",
    "    c2 = np.dot(v,v)\n",
    "    if c2 <= c1:\n",
    "        dp1 = p - p1\n",
    "        return np.dot(dp1.T,dp1), p1\n",
    "    \n",
    "    b = c1 / c2\n",
    "    bv = np.dot(b,v)\n",
    "    pb = p0 + bv\n",
    "    d2 = p - pb\n",
    "    \n",
    "    return np.dot(d2,d2), pb"
   ]
  },
  {
   "cell_type": "code",
   "execution_count": null,
   "metadata": {},
   "outputs": [],
   "source": [
    "def snapPointsOnSegments(points, segments):\n",
    "    \"\"\"Place points onto closet segment in a set of segments\n",
    "    \n",
    "    Arguments\n",
    "    =========\n",
    "    points: dictionary of (id, (x,y))\n",
    "    segments: sequence of pysal.cg.shapes.Chain\n",
    "              Note that the each segment is a chain with\n",
    "              *one head and one tail node*, in other words\n",
    "              one link only.         \n",
    "    Returns\n",
    "    =======\n",
    "    p2s: dictionary\n",
    "         key: a point (see points in arguments)\n",
    "         value:  a 2-tuple: ((head, tail), point)\n",
    "                 where (head, tail) is the target segment,\n",
    "                 and point is the snapped location on the segment     \n",
    "    \"\"\"\n",
    "    # Put segments in an Rtree\n",
    "    rt = cg.Rtree()\n",
    "    SMALL = 0.01\n",
    "    node2segs = {}\n",
    "    \n",
    "    for segment in segments:\n",
    "        head,tail = segment.vertices\n",
    "        x0,y0 = head\n",
    "        x1,y1 = tail\n",
    "        if (x0,y0) not in node2segs:\n",
    "            node2segs[(x0,y0)] = []\n",
    "        if (x1,y1) not in node2segs:\n",
    "            node2segs[(x1,y1)] = []\n",
    "        node2segs[(x0,y0)].append(segment)\n",
    "        node2segs[(x1,y1)].append(segment)\n",
    "        x0,y0,x1,y1 =  segment.bounding_box\n",
    "        x0 -= SMALL\n",
    "        y0 -= SMALL\n",
    "        x1 += SMALL\n",
    "        y1 += SMALL\n",
    "        r = cg.Rect(x0,y0,x1,y1)\n",
    "        rt.insert(segment, r)\n",
    "    \n",
    "    # Build a KDtree on segment nodes\n",
    "    kt = cg.KDTree(list(node2segs.keys()))\n",
    "    p2s = {}\n",
    "    \n",
    "    for ptIdx, point in points.items():\n",
    "        # first find nearest neighbor segment node for point\n",
    "        dmin, node = kt.query(point, k=1)\n",
    "        node = tuple(kt.data[node])\n",
    "        closest = node2segs[node][0].vertices\n",
    "        \n",
    "        # use this segment as the candidate closest segment: closest\n",
    "        # use the distance as the distance to beat: dmin\n",
    "        p2s[ptIdx] = (closest, node) # sna\n",
    "        x0 = point[0] - dmin\n",
    "        y0 = point[1] - dmin\n",
    "        x1 = point[0] + dmin\n",
    "        y1 = point[1] + dmin\n",
    "        \n",
    "        # find all segments with bounding boxes that intersect\n",
    "        # a query rectangle centered on the point with sides of length 2*dmin\n",
    "        candidates = [cand for cand in rt.intersection([x0,y0,x1,y1])]\n",
    "        dmin += SMALL\n",
    "        dmin2 = dmin * dmin\n",
    "        \n",
    "        # of the candidate segments, find the one that is the minimum distance to the query point\n",
    "        for candidate in candidates:\n",
    "            dnc, p2b = squaredDistance(point, candidate.vertices)\n",
    "            if dnc <= dmin2:\n",
    "                closest = candidate.vertices\n",
    "                dmin2 = dnc\n",
    "                p2s[ptIdx] = (closest, p2b)\n",
    "        \n",
    "    return p2s"
   ]
  },
  {
   "cell_type": "markdown",
   "metadata": {},
   "source": [
    "-----------------------------------------"
   ]
  },
  {
   "cell_type": "markdown",
   "metadata": {},
   "source": [
    "# Demonstration"
   ]
  },
  {
   "cell_type": "markdown",
   "metadata": {},
   "source": [
    "## Segments"
   ]
  },
  {
   "cell_type": "code",
   "execution_count": null,
   "metadata": {},
   "outputs": [],
   "source": [
    "eb = io.FileIO.FileIO.open(examples.get_path(\"eberly_net.shp\"))"
   ]
  },
  {
   "cell_type": "markdown",
   "metadata": {},
   "source": [
    "#### Note that eberly has `chain == segment`, for all chains. This is not necessarily true for all chains in polyline shapefiles."
   ]
  },
  {
   "cell_type": "code",
   "execution_count": null,
   "metadata": {},
   "outputs": [],
   "source": [
    "segments = [chain for chain in eb]\n",
    "segments[:3]"
   ]
  },
  {
   "cell_type": "markdown",
   "metadata": {},
   "source": [
    "## Points"
   ]
  },
  {
   "cell_type": "code",
   "execution_count": null,
   "metadata": {},
   "outputs": [],
   "source": [
    "ep = io.FileIO.FileIO.open(examples.get_path(\"eberly_net_pts_offnetwork.shp\"))"
   ]
  },
  {
   "cell_type": "code",
   "execution_count": null,
   "metadata": {
    "scrolled": true
   },
   "outputs": [],
   "source": [
    "points = {}\n",
    "for i,pnt in enumerate(ep):\n",
    "    points[i] = pnt\n",
    "list(points.items())[:3]"
   ]
  },
  {
   "cell_type": "markdown",
   "metadata": {},
   "source": [
    "## Initial plot"
   ]
  },
  {
   "cell_type": "code",
   "execution_count": null,
   "metadata": {},
   "outputs": [],
   "source": [
    "plt.figure(figsize=(12,12))\n",
    "network = []\n",
    "for segment in segments:\n",
    "    head, tail = segment.vertices\n",
    "    x1, y1 = head\n",
    "    x2, y2 = tail\n",
    "    network.append((x1, x2))\n",
    "    network.append((y1, y2))\n",
    "    network.append('b')\n",
    "plt.plot(*network)\n",
    "for i, point in points.items():\n",
    "    x,y = point\n",
    "    plt.plot(x, y, 'o')\n",
    "plt.xlim(-1, 25), plt.ylim(-1, 10)"
   ]
  },
  {
   "cell_type": "markdown",
   "metadata": {},
   "source": [
    "## Snap point onto nearest segments"
   ]
  },
  {
   "cell_type": "code",
   "execution_count": null,
   "metadata": {},
   "outputs": [],
   "source": [
    "res = snapPointsOnSegments(points, segments)"
   ]
  },
  {
   "cell_type": "markdown",
   "metadata": {},
   "source": [
    "## Snapped points plot"
   ]
  },
  {
   "cell_type": "code",
   "execution_count": null,
   "metadata": {},
   "outputs": [],
   "source": [
    "plt.figure(figsize=(12,12))\n",
    "network = []\n",
    "for segment in segments:\n",
    "    head, tail = segment.vertices\n",
    "    x1, y1 = head\n",
    "    x2, y2 = tail\n",
    "    network.append((x1, x2))\n",
    "    network.append((y1, y2))\n",
    "    network.append('b')\n",
    "plt.plot(*network)\n",
    "for i, point in points.items():\n",
    "    snapped = res[i]\n",
    "    x, y = snapped[1]\n",
    "    plt.plot(x,y, 'o')\n",
    "plt.xlim(-1,25), plt.ylim(-1,10)"
   ]
  },
  {
   "cell_type": "markdown",
   "metadata": {},
   "source": [
    "---------------------------------------------"
   ]
  }
 ],
 "metadata": {
  "kernelspec": {
   "display_name": "Python [conda env:py3_spgh_dev]",
   "language": "python",
   "name": "conda-env-py3_spgh_dev-py"
  },
  "language_info": {
   "codemirror_mode": {
    "name": "ipython",
    "version": 3
   },
   "file_extension": ".py",
   "mimetype": "text/x-python",
   "name": "python",
   "nbconvert_exporter": "python",
   "pygments_lexer": "ipython3",
   "version": "3.6.6"
  }
 },
 "nbformat": 4,
 "nbformat_minor": 1
}
