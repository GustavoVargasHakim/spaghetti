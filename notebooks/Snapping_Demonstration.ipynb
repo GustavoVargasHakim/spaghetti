{
 "cells": [
  {
   "cell_type": "markdown",
   "metadata": {},
   "source": [
    "--------------------------"
   ]
  },
  {
   "cell_type": "markdown",
   "metadata": {},
   "source": [
    "# Snapping point to segments"
   ]
  },
  {
   "cell_type": "code",
   "execution_count": null,
   "metadata": {
    "ExecuteTime": {
     "end_time": "2018-11-24T21:24:02.585627Z",
     "start_time": "2018-11-24T21:24:02.566084Z"
    }
   },
   "outputs": [],
   "source": [
    "import os\n",
    "last_modified = None\n",
    "if os.name == \"posix\":\n",
    "    last_modified = !stat -f\\\n",
    "                    \"# This notebook was last updated: %Sm\"\\\n",
    "                     Snapping_Demonstration.ipynb\n",
    "elif os.name == \"nt\":\n",
    "    last_modified = !for %a in (Snapping_Demonstration.ipynb)\\\n",
    "                    do echo # This notebook was last updated: %~ta\n",
    "    \n",
    "if last_modified:\n",
    "    get_ipython().set_next_input(last_modified[-1])"
   ]
  },
  {
   "cell_type": "code",
   "execution_count": null,
   "metadata": {},
   "outputs": [],
   "source": [
    "# This notebook was last updated: Nov 24 16:08:12 2018"
   ]
  },
  {
   "cell_type": "markdown",
   "metadata": {},
   "source": [
    "-------------------------------"
   ]
  },
  {
   "cell_type": "code",
   "execution_count": null,
   "metadata": {
    "ExecuteTime": {
     "end_time": "2018-11-24T21:24:04.281348Z",
     "start_time": "2018-11-24T21:24:02.608404Z"
    }
   },
   "outputs": [],
   "source": [
    "import numpy as np\n",
    "from libpysal import examples\n",
    "import geopandas as gpd\n",
    "import spaghetti as spgh\n",
    "from shapely.geometry import Point\n",
    "\n",
    "%matplotlib inline\n",
    "\n",
    "__author__ = 'James Gaboardi <jgaboardi@gmail.com>'"
   ]
  },
  {
   "cell_type": "markdown",
   "metadata": {},
   "source": [
    "-----------------------------------------"
   ]
  },
  {
   "cell_type": "markdown",
   "metadata": {},
   "source": [
    "## Segments"
   ]
  },
  {
   "cell_type": "code",
   "execution_count": null,
   "metadata": {
    "ExecuteTime": {
     "end_time": "2018-11-24T21:24:04.668088Z",
     "start_time": "2018-11-24T21:24:04.283838Z"
    }
   },
   "outputs": [],
   "source": [
    "streets = examples.get_path(\"streets.shp\")\n",
    "streets = gpd.read_file(streets)"
   ]
  },
  {
   "cell_type": "markdown",
   "metadata": {},
   "source": [
    "## Points"
   ]
  },
  {
   "cell_type": "code",
   "execution_count": null,
   "metadata": {
    "ExecuteTime": {
     "end_time": "2018-11-24T21:24:04.735657Z",
     "start_time": "2018-11-24T21:24:04.670284Z"
    }
   },
   "outputs": [],
   "source": [
    "crimes = examples.get_path(\"crimes.shp\")\n",
    "crimes = gpd.read_file(crimes)\n",
    "np.random.seed(1)\n",
    "crimes['geometry'] = np.random.permutation(crimes['geometry'])"
   ]
  },
  {
   "cell_type": "markdown",
   "metadata": {},
   "source": [
    "## Initial plot"
   ]
  },
  {
   "cell_type": "code",
   "execution_count": null,
   "metadata": {
    "ExecuteTime": {
     "end_time": "2018-11-24T21:24:05.193918Z",
     "start_time": "2018-11-24T21:24:04.739583Z"
    }
   },
   "outputs": [],
   "source": [
    "base = streets.plot(figsize=(10,10), color='k', alpha=.35, linewidth=3)\n",
    "crimes.plot(ax=base, cmap='tab20', markersize=75)"
   ]
  },
  {
   "cell_type": "markdown",
   "metadata": {},
   "source": [
    "# Network"
   ]
  },
  {
   "cell_type": "code",
   "execution_count": null,
   "metadata": {
    "ExecuteTime": {
     "end_time": "2018-11-24T21:24:05.232561Z",
     "start_time": "2018-11-24T21:24:05.199541Z"
    }
   },
   "outputs": [],
   "source": [
    "net = spgh.Network(in_data=streets)"
   ]
  },
  {
   "cell_type": "markdown",
   "metadata": {},
   "source": [
    "## Snap point onto nearest segments"
   ]
  },
  {
   "cell_type": "code",
   "execution_count": null,
   "metadata": {
    "ExecuteTime": {
     "end_time": "2018-11-24T21:24:05.501242Z",
     "start_time": "2018-11-24T21:24:05.234386Z"
    }
   },
   "outputs": [],
   "source": [
    "net.snapobservations(crimes, 'crimes')"
   ]
  },
  {
   "cell_type": "markdown",
   "metadata": {},
   "source": [
    "## Create `geopandas.GeoDataFrame` objects of snapped points"
   ]
  },
  {
   "cell_type": "code",
   "execution_count": null,
   "metadata": {
    "ExecuteTime": {
     "end_time": "2018-11-24T21:24:05.515791Z",
     "start_time": "2018-11-24T21:24:05.502860Z"
    }
   },
   "outputs": [],
   "source": [
    "snapped_gdf = spgh.element_as_gdf(net, pp_name='crimes', snapped=True)"
   ]
  },
  {
   "cell_type": "markdown",
   "metadata": {},
   "source": [
    "## Original point coordinates, snapped point coordinates"
   ]
  },
  {
   "cell_type": "code",
   "execution_count": null,
   "metadata": {
    "ExecuteTime": {
     "end_time": "2018-11-24T21:24:05.527856Z",
     "start_time": "2018-11-24T21:24:05.518105Z"
    }
   },
   "outputs": [],
   "source": [
    "original = net.pointpatterns['crimes'].points\n",
    "print(original[0]['coordinates'], snapped_gdf.geometry[0].coords[:])"
   ]
  },
  {
   "cell_type": "markdown",
   "metadata": {},
   "source": [
    "## Snapped points plot"
   ]
  },
  {
   "cell_type": "code",
   "execution_count": null,
   "metadata": {
    "ExecuteTime": {
     "end_time": "2018-11-24T21:24:06.005142Z",
     "start_time": "2018-11-24T21:24:05.531614Z"
    }
   },
   "outputs": [],
   "source": [
    "base = streets.plot(figsize=(10,10), color='k', alpha=.35, linewidth=3)\n",
    "crimes.plot(ax=base, cmap='tab20', markersize=75)\n",
    "snapped_gdf.plot(ax=base, cmap='tab20', markersize=30)"
   ]
  },
  {
   "cell_type": "markdown",
   "metadata": {},
   "source": [
    "---------------------------------------------"
   ]
  }
 ],
 "metadata": {
  "_draft": {
   "nbviewer_url": "https://gist.github.com/0d9ea5c966a4ad57123bef35b87c4607"
  },
  "gist": {
   "data": {
    "description": "spaghetti/notebooks/Snapping_Demonstration.ipynb",
    "public": true
   },
   "id": "0d9ea5c966a4ad57123bef35b87c4607"
  },
  "kernelspec": {
   "display_name": "Python [conda env:py3_spgh_dev]",
   "language": "python",
   "name": "conda-env-py3_spgh_dev-py"
  },
  "language_info": {
   "codemirror_mode": {
    "name": "ipython",
    "version": 3
   },
   "file_extension": ".py",
   "mimetype": "text/x-python",
   "name": "python",
   "nbconvert_exporter": "python",
   "pygments_lexer": "ipython3",
   "version": "3.6.6"
  }
 },
 "nbformat": 4,
 "nbformat_minor": 1
}
