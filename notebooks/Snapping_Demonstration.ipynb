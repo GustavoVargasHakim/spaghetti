{
 "cells": [
  {
   "cell_type": "markdown",
   "metadata": {},
   "source": [
    "--------------------------"
   ]
  },
  {
   "cell_type": "markdown",
   "metadata": {},
   "source": [
    "# Snapping point to segments"
   ]
  },
  {
   "cell_type": "code",
   "execution_count": 1,
   "metadata": {},
   "outputs": [],
   "source": [
    "import os\n",
    "if os.name == \"posix\":\n",
    "    last_modified = !stat -f\\\n",
    "                    \"# This notebook was last updated: %Sm\"\\\n",
    "                     Snapping_Demonstration.ipynb # notebook file name\n",
    "get_ipython().set_next_input(last_modified.s)"
   ]
  },
  {
   "cell_type": "code",
   "execution_count": null,
   "metadata": {},
   "outputs": [],
   "source": [
    "# This notebook was last updated: Aug 19 20:22:49 2018"
   ]
  },
  {
   "cell_type": "markdown",
   "metadata": {},
   "source": [
    "-------------------------------"
   ]
  },
  {
   "cell_type": "code",
   "execution_count": 2,
   "metadata": {},
   "outputs": [],
   "source": [
    "import numpy as np\n",
    "from libpysal import cg, examples, io\n",
    "import matplotlib.pyplot as plt\n",
    "import matplotlib as mpl\n",
    "% matplotlib inline\n",
    "\n",
    "__author__ = \"Serge Rey <sjsrey@gmail.com>, James Gaboardi <jgaboardi@gmail.com>\""
   ]
  },
  {
   "cell_type": "code",
   "execution_count": 3,
   "metadata": {},
   "outputs": [],
   "source": [
    "def squaredDistance(point, segment):\n",
    "    \"\"\"Find the squared distance between a point and a segment\n",
    "    \n",
    "    Arguments\n",
    "    =========\n",
    "    point: tuple (x,y)\n",
    "    segment: list of tuples [(x0,y0), (x1,y1)]\n",
    "    Returns\n",
    "    =======\n",
    "    tuple: 2 elements\n",
    "           distance squared between point and segment\n",
    "           array(xb, yb): the nearest point on the segment\n",
    "    \"\"\"\n",
    "    p0,p1 = [np.array(p) for p in segment]\n",
    "    v = p1 - p0\n",
    "    p = np.array(point)\n",
    "    w = p - p0\n",
    "    c1 = np.dot(w,v)\n",
    "    if c1 <= 0.:\n",
    "        return np.dot(w.T,w), p0\n",
    "    c2 = np.dot(v,v)\n",
    "    if c2 <= c1:\n",
    "        dp1 = p - p1\n",
    "        return np.dot(dp1.T,dp1), p1\n",
    "    \n",
    "    b = c1 / c2\n",
    "    bv = np.dot(b,v)\n",
    "    pb = p0 + bv\n",
    "    d2 = p - pb\n",
    "    \n",
    "    return np.dot(d2,d2), pb"
   ]
  },
  {
   "cell_type": "code",
   "execution_count": 4,
   "metadata": {},
   "outputs": [],
   "source": [
    "def snapPointsOnSegments(points, segments):\n",
    "    \"\"\"Place points onto closet segment in a set of segments\n",
    "    \n",
    "    Arguments\n",
    "    =========\n",
    "    points: dictionary of (id, (x,y))\n",
    "    segments: sequence of pysal.cg.shapes.Chain\n",
    "              Note that the each segment is a chain with\n",
    "              *one head and one tail node*, in other words\n",
    "              one link only.         \n",
    "    Returns\n",
    "    =======\n",
    "    p2s: dictionary\n",
    "         key: a point (see points in arguments)\n",
    "         value:  a 2-tuple: ((head, tail), point)\n",
    "                 where (head, tail) is the target segment,\n",
    "                 and point is the snapped location on the segment     \n",
    "    \"\"\"\n",
    "    # Put segments in an Rtree\n",
    "    rt = cg.Rtree()\n",
    "    SMALL = np.finfo(float).eps\n",
    "    node2segs = {}\n",
    "    \n",
    "    for segment in segments:\n",
    "        head,tail = segment.vertices\n",
    "        x0,y0 = head\n",
    "        x1,y1 = tail\n",
    "        if (x0,y0) not in node2segs:\n",
    "            node2segs[(x0,y0)] = []\n",
    "        if (x1,y1) not in node2segs:\n",
    "            node2segs[(x1,y1)] = []\n",
    "        node2segs[(x0,y0)].append(segment)\n",
    "        node2segs[(x1,y1)].append(segment)\n",
    "        x0,y0,x1,y1 =  segment.bounding_box\n",
    "        x0 -= SMALL\n",
    "        y0 -= SMALL\n",
    "        x1 += SMALL\n",
    "        y1 += SMALL\n",
    "        r = cg.Rect(x0,y0,x1,y1)\n",
    "        rt.insert(segment, r)\n",
    "    \n",
    "    # Build a KDtree on segment nodes\n",
    "    kt = cg.KDTree(list(node2segs.keys()))\n",
    "    p2s = {}\n",
    "    \n",
    "    for ptIdx, point in points.items():\n",
    "        # first find nearest neighbor segment node for point\n",
    "        dmin, node = kt.query(point, k=1)\n",
    "        node = tuple(kt.data[node])\n",
    "        closest = node2segs[node][0].vertices\n",
    "        \n",
    "        # use this segment as the candidate closest segment: closest\n",
    "        # use the distance as the distance to beat: dmin\n",
    "        p2s[ptIdx] = (closest, node) # sna\n",
    "        x0 = point[0] - dmin\n",
    "        y0 = point[1] - dmin\n",
    "        x1 = point[0] + dmin\n",
    "        y1 = point[1] + dmin\n",
    "        \n",
    "        # find all segments with bounding boxes that intersect\n",
    "        # a query rectangle centered on the point with sides of length 2*dmin\n",
    "        candidates = [cand for cand in rt.intersection([x0,y0,x1,y1])]\n",
    "        dmin += SMALL\n",
    "        dmin2 = dmin * dmin\n",
    "        \n",
    "        # of the candidate segments, find the one that is the minimum distance to the query point\n",
    "        for candidate in candidates:\n",
    "            dnc, p2b = squaredDistance(point, candidate.vertices)\n",
    "            if dnc <= dmin2:\n",
    "                closest = candidate.vertices\n",
    "                dmin2 = dnc\n",
    "                p2s[ptIdx] = (closest, p2b)\n",
    "        \n",
    "    return p2s"
   ]
  },
  {
   "cell_type": "markdown",
   "metadata": {},
   "source": [
    "-----------------------------------------"
   ]
  },
  {
   "cell_type": "markdown",
   "metadata": {},
   "source": [
    "# Demonstration"
   ]
  },
  {
   "cell_type": "markdown",
   "metadata": {},
   "source": [
    "## Segments"
   ]
  },
  {
   "cell_type": "code",
   "execution_count": 5,
   "metadata": {},
   "outputs": [],
   "source": [
    "eb = io.FileIO.FileIO.open(examples.get_path(\"eberly_net.shp\"))"
   ]
  },
  {
   "cell_type": "markdown",
   "metadata": {},
   "source": [
    "#### Note that eberly has `chain == segment`, for all chains. This is not necessarily true for all chains in polyline shapefiles."
   ]
  },
  {
   "cell_type": "code",
   "execution_count": 6,
   "metadata": {},
   "outputs": [
    {
     "data": {
      "text/plain": [
       "[<libpysal.cg.shapes.Chain at 0x1a1904e630>,\n",
       " <libpysal.cg.shapes.Chain at 0x1a1904ea58>,\n",
       " <libpysal.cg.shapes.Chain at 0x1a1904ebe0>]"
      ]
     },
     "execution_count": 6,
     "metadata": {},
     "output_type": "execute_result"
    }
   ],
   "source": [
    "segments = [chain for chain in eb]\n",
    "segments[:3]"
   ]
  },
  {
   "cell_type": "markdown",
   "metadata": {},
   "source": [
    "## Points"
   ]
  },
  {
   "cell_type": "code",
   "execution_count": 7,
   "metadata": {},
   "outputs": [],
   "source": [
    "ep = io.FileIO.FileIO.open(examples.get_path(\"eberly_net_pts_offnetwork.shp\"))"
   ]
  },
  {
   "cell_type": "code",
   "execution_count": 8,
   "metadata": {
    "scrolled": true
   },
   "outputs": [
    {
     "data": {
      "text/plain": [
       "[(0, (7.305940740259589, 5.343966284055054)),\n",
       " (1, (17.484772861944425, 1.3880022945802004)),\n",
       " (2, (8.031236399903136, 6.876326289957974))]"
      ]
     },
     "execution_count": 8,
     "metadata": {},
     "output_type": "execute_result"
    }
   ],
   "source": [
    "points = {}\n",
    "for i,pnt in enumerate(ep):\n",
    "    points[i] = pnt\n",
    "list(points.items())[:3]"
   ]
  },
  {
   "cell_type": "markdown",
   "metadata": {},
   "source": [
    "## Initial plot"
   ]
  },
  {
   "cell_type": "code",
   "execution_count": 9,
   "metadata": {},
   "outputs": [
    {
     "data": {
      "text/plain": [
       "((-1, 25), (-1, 10))"
      ]
     },
     "execution_count": 9,
     "metadata": {},
     "output_type": "execute_result"
    },
    {
     "data": {
      "image/png": "[encoded data removed]",
      "text/plain": [
       "<Figure size 864x864 with 1 Axes>"
      ]
     },
     "metadata": {},
     "output_type": "display_data"
    }
   ],
   "source": [
    "plt.figure(figsize=(12,12))\n",
    "network = []\n",
    "for segment in segments:\n",
    "    head, tail = segment.vertices\n",
    "    x1, y1 = head\n",
    "    x2, y2 = tail\n",
    "    network.append((x1, x2))\n",
    "    network.append((y1, y2))\n",
    "    network.append('b')\n",
    "plt.plot(*network)\n",
    "for i, point in points.items():\n",
    "    x,y = point\n",
    "    plt.plot(x, y, 'o')\n",
    "plt.xlim(-1, 25), plt.ylim(-1, 10)"
   ]
  },
  {
   "cell_type": "markdown",
   "metadata": {},
   "source": [
    "## Snap point onto nearest segments"
   ]
  },
  {
   "cell_type": "code",
   "execution_count": 10,
   "metadata": {},
   "outputs": [
    {
     "ename": "ZeroDivisionError",
     "evalue": "float division by zero",
     "output_type": "error",
     "traceback": [
      "\u001b[0;31m---------------------------------------------------------------------------\u001b[0m",
      "\u001b[0;31mZeroDivisionError\u001b[0m                         Traceback (most recent call last)",
      "\u001b[0;32m<ipython-input-10-e4861267e57c>\u001b[0m in \u001b[0;36m<module>\u001b[0;34m()\u001b[0m\n\u001b[0;32m----> 1\u001b[0;31m \u001b[0mres\u001b[0m \u001b[0;34m=\u001b[0m \u001b[0msnapPointsOnSegments\u001b[0m\u001b[0;34m(\u001b[0m\u001b[0mpoints\u001b[0m\u001b[0;34m,\u001b[0m \u001b[0msegments\u001b[0m\u001b[0;34m)\u001b[0m\u001b[0;34m\u001b[0m\u001b[0m\n\u001b[0m",
      "\u001b[0;32m<ipython-input-4-d152d2265ca6>\u001b[0m in \u001b[0;36msnapPointsOnSegments\u001b[0;34m(points, segments)\u001b[0m\n\u001b[1;32m     38\u001b[0m         \u001b[0my1\u001b[0m \u001b[0;34m+=\u001b[0m \u001b[0mSMALL\u001b[0m\u001b[0;34m\u001b[0m\u001b[0m\n\u001b[1;32m     39\u001b[0m         \u001b[0mr\u001b[0m \u001b[0;34m=\u001b[0m \u001b[0mcg\u001b[0m\u001b[0;34m.\u001b[0m\u001b[0mRect\u001b[0m\u001b[0;34m(\u001b[0m\u001b[0mx0\u001b[0m\u001b[0;34m,\u001b[0m\u001b[0my0\u001b[0m\u001b[0;34m,\u001b[0m\u001b[0mx1\u001b[0m\u001b[0;34m,\u001b[0m\u001b[0my1\u001b[0m\u001b[0;34m)\u001b[0m\u001b[0;34m\u001b[0m\u001b[0m\n\u001b[0;32m---> 40\u001b[0;31m         \u001b[0mrt\u001b[0m\u001b[0;34m.\u001b[0m\u001b[0minsert\u001b[0m\u001b[0;34m(\u001b[0m\u001b[0msegment\u001b[0m\u001b[0;34m,\u001b[0m \u001b[0mr\u001b[0m\u001b[0;34m)\u001b[0m\u001b[0;34m\u001b[0m\u001b[0m\n\u001b[0m\u001b[1;32m     41\u001b[0m \u001b[0;34m\u001b[0m\u001b[0m\n\u001b[1;32m     42\u001b[0m     \u001b[0;31m# Build a KDtree on segment nodes\u001b[0m\u001b[0;34m\u001b[0m\u001b[0;34m\u001b[0m\u001b[0m\n",
      "\u001b[0;32m~/miniconda3/envs/py3_spgh_dev/lib/python3.6/site-packages/libpysal/cg/rtree.py\u001b[0m in \u001b[0;36minsert\u001b[0;34m(self, o, orect)\u001b[0m\n\u001b[1;32m    198\u001b[0m \u001b[0;34m\u001b[0m\u001b[0m\n\u001b[1;32m    199\u001b[0m     \u001b[0;32mdef\u001b[0m \u001b[0minsert\u001b[0m\u001b[0;34m(\u001b[0m\u001b[0mself\u001b[0m\u001b[0;34m,\u001b[0m \u001b[0mo\u001b[0m\u001b[0;34m,\u001b[0m \u001b[0morect\u001b[0m\u001b[0;34m)\u001b[0m\u001b[0;34m:\u001b[0m\u001b[0;34m\u001b[0m\u001b[0m\n\u001b[0;32m--> 200\u001b[0;31m         \u001b[0mself\u001b[0m\u001b[0;34m.\u001b[0m\u001b[0mcursor\u001b[0m\u001b[0;34m.\u001b[0m\u001b[0minsert\u001b[0m\u001b[0;34m(\u001b[0m\u001b[0mo\u001b[0m\u001b[0;34m,\u001b[0m \u001b[0morect\u001b[0m\u001b[0;34m)\u001b[0m\u001b[0;34m\u001b[0m\u001b[0m\n\u001b[0m\u001b[1;32m    201\u001b[0m         \u001b[0;32massert\u001b[0m\u001b[0;34m(\u001b[0m\u001b[0mself\u001b[0m\u001b[0;34m.\u001b[0m\u001b[0mcursor\u001b[0m\u001b[0;34m.\u001b[0m\u001b[0mindex\u001b[0m \u001b[0;34m==\u001b[0m \u001b[0;36m0\u001b[0m\u001b[0;34m)\u001b[0m\u001b[0;34m\u001b[0m\u001b[0m\n\u001b[1;32m    202\u001b[0m \u001b[0;34m\u001b[0m\u001b[0m\n",
      "\u001b[0;32m~/miniconda3/envs/py3_spgh_dev/lib/python3.6/site-packages/libpysal/cg/rtree.py\u001b[0m in \u001b[0;36minsert\u001b[0;34m(self, leafo, leafrect)\u001b[0m\n\u001b[1;32m    415\u001b[0m                     self.root, leafo, leafrect))\n\u001b[1;32m    416\u001b[0m \u001b[0;34m\u001b[0m\u001b[0m\n\u001b[0;32m--> 417\u001b[0;31m                 \u001b[0mself\u001b[0m\u001b[0;34m.\u001b[0m\u001b[0m_balance\u001b[0m\u001b[0;34m(\u001b[0m\u001b[0;34m)\u001b[0m\u001b[0;34m\u001b[0m\u001b[0m\n\u001b[0m\u001b[1;32m    418\u001b[0m \u001b[0;34m\u001b[0m\u001b[0m\n\u001b[1;32m    419\u001b[0m                 \u001b[0;31m# done: become the original again\u001b[0m\u001b[0;34m\u001b[0m\u001b[0;34m\u001b[0m\u001b[0m\n",
      "\u001b[0;32m~/miniconda3/envs/py3_spgh_dev/lib/python3.6/site-packages/libpysal/cg/rtree.py\u001b[0m in \u001b[0;36m_balance\u001b[0;34m(self)\u001b[0m\n\u001b[1;32m    458\u001b[0m \u001b[0;34m\u001b[0m\u001b[0m\n\u001b[1;32m    459\u001b[0m         clusterings = [k_means_cluster(\n\u001b[0;32m--> 460\u001b[0;31m             self.root, k, s_children) for k in range(2, MAX_KMEANS)]\n\u001b[0m\u001b[1;32m    461\u001b[0m         score, bestcluster = max(\n\u001b[1;32m    462\u001b[0m             [(silhouette_coeff(c, memo), c) for c in clusterings])\n",
      "\u001b[0;32m~/miniconda3/envs/py3_spgh_dev/lib/python3.6/site-packages/libpysal/cg/rtree.py\u001b[0m in \u001b[0;36m<listcomp>\u001b[0;34m(.0)\u001b[0m\n\u001b[1;32m    458\u001b[0m \u001b[0;34m\u001b[0m\u001b[0m\n\u001b[1;32m    459\u001b[0m         clusterings = [k_means_cluster(\n\u001b[0;32m--> 460\u001b[0;31m             self.root, k, s_children) for k in range(2, MAX_KMEANS)]\n\u001b[0m\u001b[1;32m    461\u001b[0m         score, bestcluster = max(\n\u001b[1;32m    462\u001b[0m             [(silhouette_coeff(c, memo), c) for c in clusterings])\n",
      "\u001b[0;32m~/miniconda3/envs/py3_spgh_dev/lib/python3.6/site-packages/libpysal/cg/rtree.py\u001b[0m in \u001b[0;36mk_means_cluster\u001b[0;34m(root, k, nodes)\u001b[0m\n\u001b[1;32m    605\u001b[0m \u001b[0;34m\u001b[0m\u001b[0m\n\u001b[1;32m    606\u001b[0m     \u001b[0mcluster_starts\u001b[0m \u001b[0;34m=\u001b[0m \u001b[0mns\u001b[0m\u001b[0;34m[\u001b[0m\u001b[0;34m:\u001b[0m\u001b[0mk\u001b[0m\u001b[0;34m]\u001b[0m\u001b[0;34m\u001b[0m\u001b[0m\n\u001b[0;32m--> 607\u001b[0;31m     \u001b[0mcluster_centers\u001b[0m \u001b[0;34m=\u001b[0m \u001b[0;34m[\u001b[0m\u001b[0mcenter_of_gravity\u001b[0m\u001b[0;34m(\u001b[0m\u001b[0;34m[\u001b[0m\u001b[0mn\u001b[0m\u001b[0;34m]\u001b[0m\u001b[0;34m)\u001b[0m \u001b[0;32mfor\u001b[0m \u001b[0mn\u001b[0m \u001b[0;32min\u001b[0m \u001b[0mns\u001b[0m\u001b[0;34m[\u001b[0m\u001b[0;34m:\u001b[0m\u001b[0mk\u001b[0m\u001b[0;34m]\u001b[0m\u001b[0;34m]\u001b[0m\u001b[0;34m\u001b[0m\u001b[0m\n\u001b[0m\u001b[1;32m    608\u001b[0m \u001b[0;34m\u001b[0m\u001b[0m\n\u001b[1;32m    609\u001b[0m     \u001b[0;31m# Loop until stable:\u001b[0m\u001b[0;34m\u001b[0m\u001b[0;34m\u001b[0m\u001b[0m\n",
      "\u001b[0;32m~/miniconda3/envs/py3_spgh_dev/lib/python3.6/site-packages/libpysal/cg/rtree.py\u001b[0m in \u001b[0;36m<listcomp>\u001b[0;34m(.0)\u001b[0m\n\u001b[1;32m    605\u001b[0m \u001b[0;34m\u001b[0m\u001b[0m\n\u001b[1;32m    606\u001b[0m     \u001b[0mcluster_starts\u001b[0m \u001b[0;34m=\u001b[0m \u001b[0mns\u001b[0m\u001b[0;34m[\u001b[0m\u001b[0;34m:\u001b[0m\u001b[0mk\u001b[0m\u001b[0;34m]\u001b[0m\u001b[0;34m\u001b[0m\u001b[0m\n\u001b[0;32m--> 607\u001b[0;31m     \u001b[0mcluster_centers\u001b[0m \u001b[0;34m=\u001b[0m \u001b[0;34m[\u001b[0m\u001b[0mcenter_of_gravity\u001b[0m\u001b[0;34m(\u001b[0m\u001b[0;34m[\u001b[0m\u001b[0mn\u001b[0m\u001b[0;34m]\u001b[0m\u001b[0;34m)\u001b[0m \u001b[0;32mfor\u001b[0m \u001b[0mn\u001b[0m \u001b[0;32min\u001b[0m \u001b[0mns\u001b[0m\u001b[0;34m[\u001b[0m\u001b[0;34m:\u001b[0m\u001b[0mk\u001b[0m\u001b[0;34m]\u001b[0m\u001b[0;34m]\u001b[0m\u001b[0;34m\u001b[0m\u001b[0m\n\u001b[0m\u001b[1;32m    608\u001b[0m \u001b[0;34m\u001b[0m\u001b[0m\n\u001b[1;32m    609\u001b[0m     \u001b[0;31m# Loop until stable:\u001b[0m\u001b[0;34m\u001b[0m\u001b[0;34m\u001b[0m\u001b[0m\n",
      "\u001b[0;32m~/miniconda3/envs/py3_spgh_dev/lib/python3.6/site-packages/libpysal/cg/rtree.py\u001b[0m in \u001b[0;36mcenter_of_gravity\u001b[0;34m(nodes)\u001b[0m\n\u001b[1;32m    577\u001b[0m             \u001b[0mys\u001b[0m \u001b[0;34m=\u001b[0m \u001b[0mys\u001b[0m \u001b[0;34m+\u001b[0m \u001b[0;34m(\u001b[0m\u001b[0ma\u001b[0m \u001b[0;34m*\u001b[0m \u001b[0;34m(\u001b[0m\u001b[0my\u001b[0m \u001b[0;34m+\u001b[0m \u001b[0;34m(\u001b[0m\u001b[0;36m0.5\u001b[0m \u001b[0;34m*\u001b[0m \u001b[0mh\u001b[0m\u001b[0;34m)\u001b[0m\u001b[0;34m)\u001b[0m\u001b[0;34m)\u001b[0m\u001b[0;34m\u001b[0m\u001b[0m\n\u001b[1;32m    578\u001b[0m             \u001b[0mtotarea\u001b[0m \u001b[0;34m=\u001b[0m \u001b[0mtotarea\u001b[0m \u001b[0;34m+\u001b[0m \u001b[0ma\u001b[0m\u001b[0;34m\u001b[0m\u001b[0m\n\u001b[0;32m--> 579\u001b[0;31m     \u001b[0;32mreturn\u001b[0m \u001b[0;34m(\u001b[0m\u001b[0mxs\u001b[0m \u001b[0;34m/\u001b[0m \u001b[0mtotarea\u001b[0m\u001b[0;34m)\u001b[0m\u001b[0;34m,\u001b[0m \u001b[0;34m(\u001b[0m\u001b[0mys\u001b[0m \u001b[0;34m/\u001b[0m \u001b[0mtotarea\u001b[0m\u001b[0;34m)\u001b[0m\u001b[0;34m\u001b[0m\u001b[0m\n\u001b[0m\u001b[1;32m    580\u001b[0m \u001b[0;34m\u001b[0m\u001b[0m\n\u001b[1;32m    581\u001b[0m \u001b[0;34m\u001b[0m\u001b[0m\n",
      "\u001b[0;31mZeroDivisionError\u001b[0m: float division by zero"
     ]
    }
   ],
   "source": [
    "res = snapPointsOnSegments(points, segments)"
   ]
  },
  {
   "cell_type": "markdown",
   "metadata": {},
   "source": [
    "## Snapped points plot"
   ]
  },
  {
   "cell_type": "code",
   "execution_count": null,
   "metadata": {},
   "outputs": [],
   "source": [
    "plt.figure(figsize=(12,12))\n",
    "network = []\n",
    "for segment in segments:\n",
    "    head, tail = segment.vertices\n",
    "    x1, y1 = head\n",
    "    x2, y2 = tail\n",
    "    network.append((x1, x2))\n",
    "    network.append((y1, y2))\n",
    "    network.append('b')\n",
    "plt.plot(*network)\n",
    "for i, point in points.items():\n",
    "    snapped = res[i]\n",
    "    x, y = snapped[1]\n",
    "    plt.plot(x,y, 'o')\n",
    "plt.xlim(-1,25), plt.ylim(-1,10)"
   ]
  },
  {
   "cell_type": "markdown",
   "metadata": {},
   "source": [
    "---------------------------------------------"
   ]
  }
 ],
 "metadata": {
  "kernelspec": {
   "display_name": "Python [conda env:py3_spgh_dev]",
   "language": "python",
   "name": "conda-env-py3_spgh_dev-py"
  },
  "language_info": {
   "codemirror_mode": {
    "name": "ipython",
    "version": 3
   },
   "file_extension": ".py",
   "mimetype": "text/x-python",
   "name": "python",
   "nbconvert_exporter": "python",
   "pygments_lexer": "ipython3",
   "version": "3.6.6"
  }
 },
 "nbformat": 4,
 "nbformat_minor": 1
}
