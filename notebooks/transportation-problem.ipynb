{
 "cells": [
  {
   "cell_type": "markdown",
   "metadata": {},
   "source": [
    "---------------\n",
    "\n",
    "**If any part of this notebook is used in your research, please cite with the reference found in** **[README.md](https://github.com/pysal/spaghetti#bibtex-citation).**\n",
    "\n",
    "----------------\n",
    "\n",
    "## The Transportation Problem\n",
    "### Integrating `pysal/spaghetti` and [python-mip](https://github.com/coin-or/python-mip) for optimal shipping\n",
    "\n",
    "**Author: James D. Gaboardi** **<jgaboardi@gmail.com>**\n",
    "\n",
    "**This notebook provides a use case for:**\n",
    "\n",
    "1. Introducing the Transportation Problem\n",
    "2. Declaration of a solution class and model parameters\n",
    "3. Solving the Transportation Problem for an optimal shipment plan"
   ]
  },
  {
   "cell_type": "code",
   "execution_count": 1,
   "metadata": {
    "ExecuteTime": {
     "end_time": "2020-02-03T15:54:44.312678Z",
     "start_time": "2020-02-03T15:54:43.951633Z"
    }
   },
   "outputs": [
    {
     "name": "stdout",
     "output_type": "stream",
     "text": [
      "2020-02-03T10:54:44-05:00\n",
      "\n",
      "CPython 3.7.3\n",
      "IPython 7.10.2\n",
      "\n",
      "compiler   : Clang 9.0.0 (tags/RELEASE_900/final)\n",
      "system     : Darwin\n",
      "release    : 19.3.0\n",
      "machine    : x86_64\n",
      "processor  : i386\n",
      "CPU cores  : 4\n",
      "interpreter: 64bit\n"
     ]
    }
   ],
   "source": [
    "%load_ext watermark\n",
    "%watermark"
   ]
  },
  {
   "cell_type": "markdown",
   "metadata": {},
   "source": [
    "**In addtion to the base** **[spaghetti requirements](https://github.com/pysal/spaghetti/blob/master/requirements.txt)** **(and their dependecies), this notebook requires installations of:**\n",
    "\n",
    "* [geopandas](http://geopandas.org)\n",
    "    * `$ conda install -c conda-forge geopandas`\n",
    "* [matplotlib](https://matplotlib.org)\n",
    "    * `$ conda install matplotlib`\n",
    "* [pulp](https://anaconda.org/conda-forge/pulp)\n",
    "    * `$ conda install -c conda-forge pulp`    \n",
    "\n",
    "-----------------------"
   ]
  },
  {
   "cell_type": "code",
   "execution_count": 2,
   "metadata": {
    "ExecuteTime": {
     "end_time": "2020-02-03T15:54:47.183688Z",
     "start_time": "2020-02-03T15:54:44.317803Z"
    }
   },
   "outputs": [
    {
     "name": "stdout",
     "output_type": "stream",
     "text": [
      "Using Python-MIP package version 1.6.8\n",
      "watermark 2.0.2\n",
      "numpy      1.17.3\n",
      "spaghetti  1.4.1\n",
      "matplotlib 3.1.2\n",
      "geopandas  0.6.2\n",
      "mip        1.6.8\n",
      "\n"
     ]
    }
   ],
   "source": [
    "import spaghetti\n",
    "import geopandas\n",
    "from libpysal import examples\n",
    "import matplotlib\n",
    "import numpy\n",
    "import mip\n",
    "try:\n",
    "    from IPython.display import set_matplotlib_formats\n",
    "\n",
    "    set_matplotlib_formats(\"retina\")\n",
    "except ImportError:\n",
    "    pass\n",
    "%matplotlib inline\n",
    "%watermark -w\n",
    "%watermark -iv"
   ]
  },
  {
   "cell_type": "markdown",
   "metadata": {
    "variables": {
     "Business Site Selection, Locational Analysis, and GIS": "<p><strong>SyntaxError</strong>: invalid syntax (<ipython-input-3-c96ef2ce0d7e>, line 1)</p>\n",
     "Fundamentals of Network Analysis": "<p><strong>SyntaxError</strong>: invalid syntax (<ipython-input-3-f69921f0946f>, line 1)</p>\n",
     "Optimum Utilization of the Transportation System": "<p><strong>SyntaxError</strong>: invalid syntax (<ipython-input-3-ef34a3eab4a4>, line 1)</p>\n"
    }
   },
   "source": [
    "-----------------------------\n",
    "\n",
    "### 1 Introduction\n",
    "#### Scenario\n",
    "The Transportation Problem, which is also known as the Transportation Simplex or the Transshipment Problem, seeks to allocate supply to demand while minimizing transportation costs and was formally described by Hitchcock (1941). Supply ($\\textit{n}$) and demand ($\\textit{m}$) are generally represented as unit weights of decision variables at facilities along a network with the time or distance between nodes representing the cost of transporting one unit from a supply node to a demand node. These costs are stored in an $\\textit{n x m}$ cost matrix.\n",
    "\n",
    "--------------------------------\n",
    "\n",
    "#### Integer Linear Programming Formulation based on Daskin (2013, Ch. 2).\n",
    "\n",
    "$\\begin{array}\n",
    "\\displaystyle \\normalsize \\textrm{Minimize} & \\displaystyle \\normalsize \\sum_{i \\in I} \\sum_{j \\in J} c_{ij}x_{ij}  & & & &  \\normalsize (1) \\\\\n",
    "\\normalsize \\textrm{Subject To} & \\displaystyle \\normalsize \\sum_{j \\in J} x_{ij} \\leq S_i & \\normalsize \\forall i \\in I; &  & &\\normalsize (2)\\\\\n",
    " & \\displaystyle \\normalsize \\sum_{i \\in I} x_{ij} \\geq D_j & \\normalsize \\forall j \\in J; &  & &\\normalsize (3)\\\\\n",
    "& \\displaystyle \\normalsize x_{ij} \\geq 0 & \\displaystyle \\normalsize \\forall i \\in I & \\displaystyle \\normalsize \\normalsize \\forall j \\in j. & &\\normalsize (4)\\\\\n",
    "\\end{array}$\n",
    "\n",
    "$\\begin{array}\n",
    "\\displaystyle \\normalsize \\textrm{Where} & \\small i & \\small = & \\small \\textrm{each potential origin node} &&&&\\\\\n",
    "& \\small I & \\small = & \\small \\textrm{the complete set of potential origin nodes} &&&&\\\\\n",
    "& \\small j & \\small = & \\small \\textrm{each potential destination node} &&&&\\\\\n",
    "& \\small J & \\small = & \\small \\textrm{the complete set of potential destination nodes} &&&&\\\\\n",
    "& \\small x_{ij} & \\small = & \\small \\textrm{amount to be shipped from } i \\in I \\textrm{ to } j \\in J  &&&&\\\\\n",
    "& \\small c_{ij} & \\small = & \\small \\textrm{per unit shipping costs between all } i,j \\textrm{ pairs} &&&& \\\\\n",
    "& \\small S_i & \\small = & \\small \\textrm{node } i \\textrm{ supply for } i \\in I &&&&\\\\\n",
    "& \\small D_j & \\small = & \\small \\textrm{node } j \\textrm{ demand for } j \\in J &&&&\\\\\n",
    "\\end{array}$\n",
    "\n",
    "\n",
    "---------------------------------\n",
    "\n",
    "**References**\n",
    "\n",
    "* **Church, Richard L. and Murray, Alan T.** (2009) *Business Site Selection, Locational Analysis, and GIS*. Hoboken. John Wiley & Sons, Inc.\n",
    "\n",
    "* **Daskin, M.** (2013) *Network and Discrete Location: Models, Algorithms, and Applications*. New York: John Wiley & Sons, Inc.\n",
    "\n",
    "* **Gass, S. I. and Assad, A. A.** (2005) *An Annotated Timeline of Operations Research: An Informal History*. Springer US.\n",
    "\n",
    "* **Hitchcock, Frank L.** (1941) *The Distribution of a Product from Several Sources to Numerous Localities*. Journal of Mathematics and Physics. 20(1):224-230.\n",
    "\n",
    "* **Koopmans, Tjalling C.** (1949) *Optimum Utilization of the Transportation System*. Econometrica. 17:136-146.\n",
    "\n",
    "* **Miller, H. J. and Shaw, S.-L.** (2001) *Geographic Information Systems for Transportation: Principles and Applications*. New York. Oxford University Press.\n",
    "\n",
    "\n",
    "* **Phillips, Don T. and Garcia‐Diaz, Alberto.** (1981) *Fundamentals of Network Analysis*. Englewood Cliffs. Prentice Hall. \n",
    "\n",
    "-----------------\n",
    "\n",
    "@book{Church2009,\n",
    "address = {Hoboken},\n",
    "author = {Church, Richard L. and Murray, Alan T.},\n",
    "publisher = {John Wiley {\\&} Sons, Inc.},\n",
    "title = {{Business Site Selection, Locational Analysis, and GIS}},\n",
    "year = {2009}\n",
    "}\n",
    "\n",
    "\n",
    "\n",
    "@article{Koopmans1949,\n",
    "author = {Koopmans, Tjalling},\n",
    "journal = {Econometrica},\n",
    "pages = {136--146},\n",
    "title = {{Optimum Utilization of the Transportation System}},\n",
    "volume = {17},\n",
    "year = {1949}\n",
    "}\n",
    "\n",
    "\n",
    "@book{Phillips1981a,\n",
    "address = {Englewood Cliffs, NJ},\n",
    "author = {Phillips, Don T. and Garcia‐Diaz, Alberto},\n",
    "publisher = {Prentice Hall},\n",
    "title = {{Fundamentals of Network Analysis}},\n",
    "year = {1981}\n",
    "}\n",
    "\n",
    "\n",
    "------------------\n",
    "\n",
    "\n",
    "\n",
    "\n",
    "-------------------------------------\n",
    "\n",
    "### 2. A model, data and parameters\n",
    "#### Solution class"
   ]
  },
  {
   "cell_type": "code",
   "execution_count": null,
   "metadata": {},
   "outputs": [],
   "source": []
  },
  {
   "cell_type": "code",
   "execution_count": null,
   "metadata": {},
   "outputs": [],
   "source": []
  },
  {
   "cell_type": "code",
   "execution_count": null,
   "metadata": {},
   "outputs": [],
   "source": []
  },
  {
   "cell_type": "code",
   "execution_count": null,
   "metadata": {},
   "outputs": [],
   "source": []
  },
  {
   "cell_type": "code",
   "execution_count": 3,
   "metadata": {
    "ExecuteTime": {
     "end_time": "2020-02-03T15:54:47.256462Z",
     "start_time": "2020-02-03T15:54:47.223479Z"
    }
   },
   "outputs": [],
   "source": [
    "class TransportationProblem:\n",
    "    def __init__(self, nodes, cij, xij_tag=\"x_%s,%s\", si_tag=\"s_%s\", dj_tag=\"d_%s\"):\n",
    "        \"\"\"Instantiate and solve the Primal Transportation Problem\n",
    "        based the formulation from Daskin (2013, Ch. 2).\n",
    "        \n",
    "        Parameters\n",
    "        ----------\n",
    "        nodes : geopandas.GeoSeries\n",
    "            All nodes to be visited in the tour.\n",
    "        cij : numpy.array\n",
    "            All-to-all distance matrix for nodes.\n",
    "        xij_tag : str\n",
    "            Tour decision variable names within the model. Default is\n",
    "            'x_%s,%s' where %s indicates string formatting.\n",
    "        si_tag : str\n",
    "            Supply capacity from location 'i'.\n",
    "            Default is 's_%s' where %s indicates string formatting.\n",
    "        dj_tag : str\n",
    "            Demand capacity from location 'j'.\n",
    "            Default is 'd_%s' where %s indicates string formatting.\n",
    "        \n",
    "        Attributes\n",
    "        ----------\n",
    "        nodes : geopandas.GeoSeries\n",
    "            See description in above.\n",
    "        p : int\n",
    "            The number of nodes in the set.   \n",
    "        rp_0n : range\n",
    "            Range of node IDs in ``nodes`` from 0,...,``p``.\n",
    "        rp_1n : range\n",
    "            Range of node IDs in ``nodes`` from 1,...,``p``.\n",
    "        id : str\n",
    "            Column name for ``nodes``.\n",
    "        cij : numpy.array\n",
    "            See description in above.\n",
    "        xij_tag : str\n",
    "            See description in above.\n",
    "        si_tag : str\n",
    "            See description in above.\n",
    "        dj_tag : str\n",
    "            See description in above.\n",
    "        trans_prob : pulp.LpProblem\n",
    "            Integer Linear Programming problem instance.\n",
    "        xij : numpy.array\n",
    "            Binary tour decision variables (``pulp.LpVariable``).\n",
    "        si : numpy.array\n",
    "            Continuous arbitrary real number decision variables\n",
    "            (``pulp.LpVariable``).\n",
    "        \n",
    "        \n",
    "        cycle_ods : dict\n",
    "            Cycle origin-destination lookup keyed by origin with\n",
    "            destination as the value.\n",
    "        tour_pairs : list\n",
    "            OD pairs comprising each abstract tour arc.\n",
    "        \"\"\"\n",
    "\n",
    "        # all nodes to be visited and the distance matrix\n",
    "        self.nodes, self.cij = nodes, cij\n",
    "        # number of nodes in the set\n",
    "        self.p = self.nodes.shape[0]\n",
    "        # full and truncated range of nodes (p) in the set\n",
    "        self.rp_0n, self.rp_1n = range(self.p), range(1, self.p)\n",
    "        # column name for node IDs\n",
    "        self.id = self.nodes.name\n",
    "        # alpha tag for decision and dummy variable prefixes\n",
    "        self.xij_tag, self.ui_tag = xij_tag, ui_tag\n",
    "\n",
    "        # instantiate a model\n",
    "        self.trans_prob = pulp.LpProblem(\"Transportation Problem\", pulp.LpMinimize)\n",
    "        # create and set the tour decision variables\n",
    "        self.tour_dvs()\n",
    "        # create and set the arbitraty real number decision variables\n",
    "        self.arn_dvs()\n",
    "        # set the objective function\n",
    "        self.objective_func()\n",
    "        # node entry constraints\n",
    "        self.entry_exit_constrs(entry=True)\n",
    "        # node exit constraints\n",
    "        self.entry_exit_constrs(entry=False)\n",
    "        # subtour prevention constraints\n",
    "        self.prevent_subtours()\n",
    "        # solve\n",
    "        self.tsp.solve()\n",
    "        # origin-destination lookup\n",
    "        self.get_decisions(display=display)\n",
    "        # extract the sequence of nodes to construct the optimal tour\n",
    "        self.construct_tour()\n",
    "\n",
    "    def shipping_dvs(self):\n",
    "        \"\"\"Create the shipping decision variables - eq (4).\"\"\"\n",
    "\n",
    "        def _name(_x):\n",
    "            \"\"\"Helper for naming variables\"\"\"\n",
    "            return self.nodes[_x].split(\"_\")[-1]\n",
    "\n",
    "        xij = numpy.array(\n",
    "            [\n",
    "                [\n",
    "                    pulp.LpVariable(self.xij_tag % (_name(i), _name(j)), cat=\"Binary\")\n",
    "                    for j in self.rp_0n\n",
    "                ]\n",
    "                for i in self.rp_0n\n",
    "            ]\n",
    "        )\n",
    "\n",
    "        self.xij = xij\n",
    "\n",
    "    def arn_dvs(self):\n",
    "        \"\"\"Create arbitrary real number decision variables - eq (6).\"\"\"\n",
    "        ui = numpy.array(\n",
    "            [pulp.LpVariable(self.ui_tag % (i), lowBound=0) for i in self.rp_0n]\n",
    "        )\n",
    "\n",
    "        self.ui = ui\n",
    "\n",
    "    def objective_func(self):\n",
    "        \"\"\"Add the objective function - eq (1).\"\"\"\n",
    "        self.tsp += pulp.lpSum(\n",
    "            [\n",
    "                self.cij[i, j] * self.xij[i, j]\n",
    "                for i in self.rp_0n\n",
    "                for j in self.rp_0n\n",
    "                if i != j\n",
    "            ]\n",
    "        )\n",
    "\n",
    "    def entry_exit_constrs(self, entry=True):\n",
    "        \"\"\"Add entry and exit constraints - eq (2) and (3).\"\"\"\n",
    "        if entry:\n",
    "            for i in self.rp_0n:\n",
    "                self.tsp += (\n",
    "                    pulp.lpSum([self.xij[i, j] for j in self.rp_0n if i != j]) == 1\n",
    "                )\n",
    "        # exit constraints\n",
    "        else:\n",
    "            for j in self.rp_0n:\n",
    "                self.tsp += (\n",
    "                    pulp.lpSum([self.xij[i, j] for i in self.rp_0n if i != j]) == 1\n",
    "                )\n",
    "\n",
    "    def prevent_subtours(self):\n",
    "        \"\"\"Add subtour prevention constraints - eq (4).\"\"\"\n",
    "        for i in self.rp_1n:\n",
    "            for j in self.rp_1n:\n",
    "                if i != j:\n",
    "                    self.tsp += (\n",
    "                        self.ui[i] - self.ui[j] + self.p * self.xij[i, j] <= self.p - 1\n",
    "                    )\n",
    "\n",
    "    def get_decisions(self, display=True):\n",
    "        \"\"\"Fetch the selected decision variables.\"\"\"\n",
    "        cycle_ods = {}\n",
    "        for var in self.tsp.variables():\n",
    "            if var.name.startswith(self.ui_tag[0]):\n",
    "                continue\n",
    "            if var.varValue > 0:\n",
    "                if display:\n",
    "                    print(\"%s: %s\" % (var.name, var.varValue))\n",
    "                od = var.name.split(\"_\")[-1]\n",
    "                o, d = [int(tf) for tf in od.split(\",\")]\n",
    "                cycle_ods[o] = d\n",
    "        if display:\n",
    "            print(\"Status: %s\" % pulp.LpStatus[self.tsp.status])\n",
    "\n",
    "        self.cycle_ods = cycle_ods\n",
    "\n",
    "    def extract_shipments(self, paths, id_col, ship=\"leg\"):\n",
    "        \"\"\"Extract the supply to demand shipments as a \n",
    "        ``geopandas.GeoDataFrame`` of ``shapely.geometry.LineString`` objects.\n",
    "        \n",
    "        Parameters\n",
    "        ----------\n",
    "        paths : geopandas.GeoDataFrame\n",
    "            Shortest-path routes between all observations.\n",
    "        id_col : str\n",
    "            ID column name.\n",
    "        leg_label : str\n",
    "            Column name for the tour sequence. Default is 'leg'.\n",
    "        \n",
    "        Returns\n",
    "        -------\n",
    "        shipments : geopandas.GeoDataFrame\n",
    "            Optimal tour of ``self.nodes`` squenced by ``leg_label``.\n",
    "        \"\"\"\n",
    "        paths[leg_label] = int\n",
    "        # set label of journey leg for each OD pair.\n",
    "        for leg, cp in self.tour_pairs.items():\n",
    "            paths.loc[(paths[id_col] == tuple(cp)), leg_label] = leg\n",
    "        # extract only paths in the tour\n",
    "        shipments = paths[paths[leg_label] != int].copy()\n",
    "        shipments.sort_values(by=[leg_label], inplace=True)\n",
    "\n",
    "        return tour"
   ]
  },
  {
   "cell_type": "code",
   "execution_count": 4,
   "metadata": {
    "ExecuteTime": {
     "end_time": "2020-02-03T15:54:47.274272Z",
     "start_time": "2020-02-03T15:54:47.264681Z"
    }
   },
   "outputs": [
    {
     "name": "stdout",
     "output_type": "stream",
     "text": [
      "['Any', 'BINARY', 'BranchSelector', 'CBC', 'CONTINUOUS', 'CPLEX', 'CPX', 'Column', 'ColumnsGenerator', 'Constr', 'ConstrList', 'ConstrsGenerator', 'CutPool', 'Dict', 'EPS', 'EQUAL', 'Enum', 'GRB', 'GREATER_OR_EQUAL', 'GUROBI', 'INF', 'INTEGER', 'IncumbentUpdater', 'InfeasibleSolution', 'InvalidLinExpr', 'InvalidParameter', 'LESS_OR_EQUAL', 'LP_Method', 'LinExpr', 'List', 'MAX', 'MAXIMIZE', 'MIN', 'MINIMIZE', 'Model', 'OptimizationStatus', 'Optional', 'ParameterNotAvailable', 'ProgressLog', 'SCIP', 'SearchEmphasis', 'Solver', 'TYPE_CHECKING', 'Tuple', 'Union', 'VConstrList', 'VERSION', 'VVarList', 'Var', 'VarList', '__builtins__', '__cached__', '__doc__', '__file__', '__loader__', '__name__', '__package__', '__path__', '__spec__', '__version__', 'callbacks', 'constants', 'customCbcLib', 'defaultdict', 'entities', 'environ', 'exceptions', 'isfile', 'lists', 'load_mipstart', 'log', 'maximize', 'minimize', 'model', 'name', 'out', 'quicksum', 'read_custom_settings', 'save_mipstart', 'solver', 'xsum']\n"
     ]
    }
   ],
   "source": [
    "print(dir(mip))"
   ]
  },
  {
   "cell_type": "code",
   "execution_count": 5,
   "metadata": {
    "ExecuteTime": {
     "end_time": "2020-02-03T15:54:47.288990Z",
     "start_time": "2020-02-03T15:54:47.279561Z"
    }
   },
   "outputs": [
    {
     "data": {
      "text/plain": [
       "array([[2, 2, 2],\n",
       "       [2, 2, 2],\n",
       "       [2, 2, 2]])"
      ]
     },
     "execution_count": 5,
     "metadata": {},
     "output_type": "execute_result"
    }
   ],
   "source": [
    "#cij = numpy.array([[3, 4, 5], [1, 1, 1], [5, 4, 3]])\n",
    "cij = numpy.array([[2, 2, 2], [2, 2, 2], [2, 2, 2]])\n",
    "cij"
   ]
  },
  {
   "cell_type": "code",
   "execution_count": 41,
   "metadata": {
    "ExecuteTime": {
     "end_time": "2020-02-03T16:01:37.370197Z",
     "start_time": "2020-02-03T16:01:37.364344Z"
    }
   },
   "outputs": [
    {
     "data": {
      "text/plain": [
       "array([10, 10, 10])"
      ]
     },
     "execution_count": 41,
     "metadata": {},
     "output_type": "execute_result"
    }
   ],
   "source": [
    "#si = numpy.array([30, 40, 50])\n",
    "si = numpy.array([10, 10, 10])\n",
    "si"
   ]
  },
  {
   "cell_type": "code",
   "execution_count": 42,
   "metadata": {
    "ExecuteTime": {
     "end_time": "2020-02-03T16:01:37.535754Z",
     "start_time": "2020-02-03T16:01:37.529496Z"
    }
   },
   "outputs": [
    {
     "data": {
      "text/plain": [
       "array([10, 10, 10])"
      ]
     },
     "execution_count": 42,
     "metadata": {},
     "output_type": "execute_result"
    }
   ],
   "source": [
    "#dj = numpy.array([[10], [70], [40]])\n",
    "dj = numpy.array([10, 10, 10])\n",
    "dj"
   ]
  },
  {
   "cell_type": "code",
   "execution_count": 43,
   "metadata": {
    "ExecuteTime": {
     "end_time": "2020-02-03T16:01:37.673262Z",
     "start_time": "2020-02-03T16:01:37.665866Z"
    }
   },
   "outputs": [
    {
     "data": {
      "text/plain": [
       "True"
      ]
     },
     "execution_count": 43,
     "metadata": {},
     "output_type": "execute_result"
    }
   ],
   "source": [
    "si.sum() == dj.sum()"
   ]
  },
  {
   "cell_type": "code",
   "execution_count": 44,
   "metadata": {
    "ExecuteTime": {
     "end_time": "2020-02-03T16:01:37.837602Z",
     "start_time": "2020-02-03T16:01:37.830730Z"
    }
   },
   "outputs": [
    {
     "data": {
      "text/plain": [
       "10"
      ]
     },
     "execution_count": 44,
     "metadata": {},
     "output_type": "execute_result"
    }
   ],
   "source": [
    "si[0]"
   ]
  },
  {
   "cell_type": "code",
   "execution_count": 59,
   "metadata": {
    "ExecuteTime": {
     "end_time": "2020-02-03T16:02:08.477205Z",
     "start_time": "2020-02-03T16:02:08.469062Z"
    }
   },
   "outputs": [
    {
     "data": {
      "text/plain": [
       "<mip.model.Model at 0x11d0595f8>"
      ]
     },
     "execution_count": 59,
     "metadata": {},
     "output_type": "execute_result"
    }
   ],
   "source": [
    "model = mip.Model(\"trans_prob\", solver_name=\"cbc\", sense=mip.MINIMIZE)\n",
    "model"
   ]
  },
  {
   "cell_type": "code",
   "execution_count": 60,
   "metadata": {
    "ExecuteTime": {
     "end_time": "2020-02-03T16:02:08.715415Z",
     "start_time": "2020-02-03T16:02:08.703959Z"
    }
   },
   "outputs": [],
   "source": [
    "rows, cols = cij.shape[0], cij.shape[1]"
   ]
  },
  {
   "cell_type": "markdown",
   "metadata": {
    "ExecuteTime": {
     "end_time": "2020-02-03T15:37:56.274055Z",
     "start_time": "2020-02-03T15:37:56.259216Z"
    }
   },
   "source": [
    "xij = numpy.array([\n",
    "    [model.add_var(\n",
    "        \"x_%s,%s\" % (i,j), \n",
    "        var_type=mip.CONTINUOUS,\n",
    "        lb=0,\n",
    "        obj=cij[i,j]\n",
    "    ) for j in range(cols)]\n",
    "    for i in range(rows)\n",
    "])\n",
    "xij"
   ]
  },
  {
   "cell_type": "code",
   "execution_count": 61,
   "metadata": {
    "ExecuteTime": {
     "end_time": "2020-02-03T16:02:09.119576Z",
     "start_time": "2020-02-03T16:02:09.113344Z"
    }
   },
   "outputs": [
    {
     "data": {
      "text/plain": [
       "'C'"
      ]
     },
     "execution_count": 61,
     "metadata": {},
     "output_type": "execute_result"
    }
   ],
   "source": [
    "mip.CONTINUOUS"
   ]
  },
  {
   "cell_type": "code",
   "execution_count": 62,
   "metadata": {
    "ExecuteTime": {
     "end_time": "2020-02-03T16:02:09.534509Z",
     "start_time": "2020-02-03T16:02:09.524140Z"
    }
   },
   "outputs": [
    {
     "data": {
      "text/plain": [
       "array([[<mip.entities.Var object at 0x11d062550>,\n",
       "        <mip.entities.Var object at 0x11d0625c0>,\n",
       "        <mip.entities.Var object at 0x11d0625f8>],\n",
       "       [<mip.entities.Var object at 0x11d062630>,\n",
       "        <mip.entities.Var object at 0x11d062668>,\n",
       "        <mip.entities.Var object at 0x11d0626a0>],\n",
       "       [<mip.entities.Var object at 0x11d0626d8>,\n",
       "        <mip.entities.Var object at 0x11d062710>,\n",
       "        <mip.entities.Var object at 0x11d062748>]], dtype=object)"
      ]
     },
     "execution_count": 62,
     "metadata": {},
     "output_type": "execute_result"
    }
   ],
   "source": [
    "xij = numpy.array([\n",
    "    [model.add_var(\n",
    "        \"x_%s,%s\" % (i,j), \n",
    "        var_type=mip.CONTINUOUS,\n",
    "        lb=0,\n",
    "        obj=cij[i,j]\n",
    "    ) for j in range(cols)]\n",
    "    for i in range(rows)\n",
    "], dtype=mip.entities.Var)\n",
    "xij"
   ]
  },
  {
   "cell_type": "code",
   "execution_count": 63,
   "metadata": {
    "ExecuteTime": {
     "end_time": "2020-02-03T16:02:09.939468Z",
     "start_time": "2020-02-03T16:02:09.931260Z"
    }
   },
   "outputs": [
    {
     "data": {
      "text/plain": [
       "('x_0,0', 0.0, 1.7976931348623157e+308, 2.0)"
      ]
     },
     "execution_count": 63,
     "metadata": {},
     "output_type": "execute_result"
    }
   ],
   "source": [
    "xij[0,0].name, xij[0,0].lb, xij[0,0].ub, xij[0,0].obj"
   ]
  },
  {
   "cell_type": "code",
   "execution_count": 64,
   "metadata": {
    "ExecuteTime": {
     "end_time": "2020-02-03T16:02:10.775399Z",
     "start_time": "2020-02-03T16:02:10.767578Z"
    }
   },
   "outputs": [
    {
     "data": {
      "text/plain": [
       "('x_0,1', 0.0, 1.7976931348623157e+308, 2.0)"
      ]
     },
     "execution_count": 64,
     "metadata": {},
     "output_type": "execute_result"
    }
   ],
   "source": [
    "xij[0,1].name, xij[0,1].lb, xij[0,1].ub, xij[0,1].obj"
   ]
  },
  {
   "cell_type": "code",
   "execution_count": 65,
   "metadata": {
    "ExecuteTime": {
     "end_time": "2020-02-03T16:02:11.591935Z",
     "start_time": "2020-02-03T16:02:11.586207Z"
    }
   },
   "outputs": [],
   "source": [
    "model.objective = mip.minimize(\n",
    "    mip.xsum(cij[i,j]*xij[i,j] for i in range(rows) for j in range(cols))\n",
    ")"
   ]
  },
  {
   "cell_type": "markdown",
   "metadata": {
    "ExecuteTime": {
     "end_time": "2020-02-03T15:52:05.354293Z",
     "start_time": "2020-02-03T15:52:05.348877Z"
    }
   },
   "source": [
    "model.objective = mip.minimize(\n",
    "    mip.xsum(cij[i,j]*xij[i,j] for i in range(rows) for j in range(cols))\n",
    ")"
   ]
  },
  {
   "cell_type": "code",
   "execution_count": 66,
   "metadata": {
    "ExecuteTime": {
     "end_time": "2020-02-03T16:02:12.667279Z",
     "start_time": "2020-02-03T16:02:12.656195Z"
    }
   },
   "outputs": [
    {
     "name": "stdout",
     "output_type": "stream",
     "text": [
      "10 [2.0, 2.0, 2.0]\n",
      "10 [2.0, 2.0, 2.0]\n",
      "10 [2.0, 2.0, 2.0]\n",
      "10\n",
      "10\n",
      "10\n"
     ]
    }
   ],
   "source": [
    "# one per row\n",
    "for i in range(rows):\n",
    "    model += mip.xsum(xij[i,j] for j in range(cols)) <= si[i], 'supply({})'.format(i)\n",
    "    print(si[i], [xij[i,j].obj for j in range(cols)])\n",
    "    \n",
    "# one per column\n",
    "for j in range(cols):\n",
    "    print(dj[j])\n",
    "    model += mip.xsum(xij[i,j] for i in range(rows)) >= dj[j], 'demand({})'.format(j)"
   ]
  },
  {
   "cell_type": "code",
   "execution_count": null,
   "metadata": {
    "ExecuteTime": {
     "end_time": "2020-02-03T14:45:34.549833Z",
     "start_time": "2020-02-03T14:45:34.542251Z"
    }
   },
   "outputs": [],
   "source": []
  },
  {
   "cell_type": "code",
   "execution_count": 67,
   "metadata": {
    "ExecuteTime": {
     "end_time": "2020-02-03T16:02:13.739441Z",
     "start_time": "2020-02-03T16:02:13.730769Z"
    }
   },
   "outputs": [
    {
     "data": {
      "text/plain": [
       "<OptimizationStatus.OPTIMAL: 0>"
      ]
     },
     "execution_count": 67,
     "metadata": {},
     "output_type": "execute_result"
    }
   ],
   "source": [
    "model.optimize()"
   ]
  },
  {
   "cell_type": "code",
   "execution_count": 68,
   "metadata": {
    "ExecuteTime": {
     "end_time": "2020-02-03T16:02:14.657813Z",
     "start_time": "2020-02-03T16:02:14.651354Z"
    }
   },
   "outputs": [
    {
     "data": {
      "text/plain": [
       "1"
      ]
     },
     "execution_count": 68,
     "metadata": {},
     "output_type": "execute_result"
    }
   ],
   "source": [
    "model.num_solutions"
   ]
  },
  {
   "cell_type": "code",
   "execution_count": null,
   "metadata": {},
   "outputs": [],
   "source": []
  },
  {
   "cell_type": "code",
   "execution_count": 69,
   "metadata": {
    "ExecuteTime": {
     "end_time": "2020-02-03T16:02:15.492908Z",
     "start_time": "2020-02-03T16:02:15.487531Z"
    }
   },
   "outputs": [],
   "source": [
    "model.write(\"transportation.lp\")"
   ]
  },
  {
   "cell_type": "code",
   "execution_count": 70,
   "metadata": {
    "ExecuteTime": {
     "end_time": "2020-02-03T16:02:15.876381Z",
     "start_time": "2020-02-03T16:02:15.870164Z"
    }
   },
   "outputs": [
    {
     "name": "stdout",
     "output_type": "stream",
     "text": [
      "['_Var__model', '__add__', '__class__', '__delattr__', '__dict__', '__dir__', '__doc__', '__eq__', '__format__', '__ge__', '__getattribute__', '__gt__', '__hash__', '__init__', '__init_subclass__', '__le__', '__lt__', '__module__', '__mul__', '__ne__', '__neg__', '__new__', '__radd__', '__reduce__', '__reduce_ex__', '__repr__', '__rmul__', '__rsub__', '__setattr__', '__sizeof__', '__str__', '__sub__', '__subclasshook__', '__truediv__', '__weakref__', 'column', 'idx', 'lb', 'name', 'obj', 'rc', 'ub', 'var_type', 'x', 'xi']\n"
     ]
    }
   ],
   "source": [
    "print(dir(xij[0,0]))"
   ]
  },
  {
   "cell_type": "code",
   "execution_count": 71,
   "metadata": {
    "ExecuteTime": {
     "end_time": "2020-02-03T16:02:16.363225Z",
     "start_time": "2020-02-03T16:02:16.353698Z"
    }
   },
   "outputs": [
    {
     "name": "stdout",
     "output_type": "stream",
     "text": [
      "x_0,0 0.0\n",
      "x_0,1 0.0\n",
      "x_0,2 0.0\n",
      "x_1,0 0.0\n",
      "x_1,1 0.0\n",
      "x_1,2 0.0\n",
      "x_2,0 0.0\n",
      "x_2,1 0.0\n",
      "x_2,2 0.0\n"
     ]
    }
   ],
   "source": [
    "for i in range(rows):\n",
    "    for j in range(cols):\n",
    "        print(xij[i][j], xij[i][j].x)"
   ]
  },
  {
   "cell_type": "code",
   "execution_count": 1,
   "metadata": {
    "ExecuteTime": {
     "end_time": "2020-02-03T15:53:47.718880Z",
     "start_time": "2020-02-03T15:53:47.588971Z"
    }
   },
   "outputs": [
    {
     "ename": "NameError",
     "evalue": "name 'model' is not defined",
     "output_type": "error",
     "traceback": [
      "\u001b[0;31m---------------------------------------------------------------------------\u001b[0m",
      "\u001b[0;31mNameError\u001b[0m                                 Traceback (most recent call last)",
      "\u001b[0;32m<ipython-input-1-9c35107fd075>\u001b[0m in \u001b[0;36m<module>\u001b[0;34m\u001b[0m\n\u001b[0;32m----> 1\u001b[0;31m \u001b[0mmodel\u001b[0m\u001b[0;34m.\u001b[0m\u001b[0mobjective_values\u001b[0m\u001b[0;34m(\u001b[0m\u001b[0;34m)\u001b[0m\u001b[0;34m\u001b[0m\u001b[0;34m\u001b[0m\u001b[0m\n\u001b[0m",
      "\u001b[0;31mNameError\u001b[0m: name 'model' is not defined"
     ]
    }
   ],
   "source": [
    "model.objective_values()"
   ]
  },
  {
   "cell_type": "code",
   "execution_count": 277,
   "metadata": {
    "ExecuteTime": {
     "end_time": "2020-02-03T15:43:42.757996Z",
     "start_time": "2020-02-03T15:43:42.751310Z"
    }
   },
   "outputs": [
    {
     "name": "stdout",
     "output_type": "stream",
     "text": [
      "['_Model__clique', '_Model__cut_passes', '_Model__cuts', '_Model__cuts_generator', '_Model__gap', '_Model__infeas_tol', '_Model__integer_tol', '_Model__lazy_constrs_generator', '_Model__lp_method', '_Model__max_mip_gap', '_Model__max_mip_gap_abs', '_Model__n_cols', '_Model__n_rows', '_Model__opt_tol', '_Model__plog', '_Model__preprocess', '_Model__start', '_Model__store_search_progress_log', '_Model__threads', '__class__', '__del__', '__delattr__', '__dict__', '__dir__', '__doc__', '__eq__', '__format__', '__ge__', '__getattribute__', '__gt__', '__hash__', '__iadd__', '__init__', '__init_subclass__', '__le__', '__lt__', '__module__', '__ne__', '__new__', '__reduce__', '__reduce_ex__', '__repr__', '__setattr__', '__sizeof__', '__str__', '__subclasshook__', '__weakref__', '_ownSolver', '_status', 'add_constr', 'add_cut', 'add_lazy_constr', 'add_sos', 'add_var', 'check_optimization_results', 'clear', 'clique', 'constr_by_name', 'constrs', 'copy', 'cut_passes', 'cutoff', 'cuts', 'cuts_generator', 'emphasis', 'gap', 'infeas_tol', 'integer_tol', 'lazy_constrs_generator', 'lp_method', 'max_mip_gap', 'max_mip_gap_abs', 'max_nodes', 'max_seconds', 'max_solutions', 'name', 'num_cols', 'num_int', 'num_nz', 'num_rows', 'num_solutions', 'objective', 'objective_bound', 'objective_const', 'objective_value', 'objective_values', 'opt_tol', 'optimize', 'preprocess', 'pump_passes', 'read', 'relax', 'remove', 'search_progress_log', 'sense', 'solver', 'solver_name', 'start', 'status', 'store_search_progress_log', 'threads', 'translate', 'validate_mip_start', 'var_by_name', 'vars', 'verbose', 'write']\n"
     ]
    }
   ],
   "source": [
    "print(dir(model))"
   ]
  },
  {
   "cell_type": "code",
   "execution_count": null,
   "metadata": {},
   "outputs": [],
   "source": []
  },
  {
   "cell_type": "code",
   "execution_count": 43,
   "metadata": {
    "ExecuteTime": {
     "end_time": "2020-02-03T02:25:47.856409Z",
     "start_time": "2020-02-03T02:25:47.844042Z"
    }
   },
   "outputs": [
    {
     "name": "stdout",
     "output_type": "stream",
     "text": [
      "Help on class Model in module mip.model:\n",
      "\n",
      "class Model(builtins.object)\n",
      " |  Model(name: str = '', sense: str = 'MIN', solver_name: str = '', solver: Union[mip.solver.Solver, NoneType] = None)\n",
      " |  \n",
      " |  Mixed Integer Programming Model\n",
      " |  \n",
      " |  This is the main class, providing methods for building, optimizing,\n",
      " |  querying optimization results and re-optimizing Mixed-Integer Programming\n",
      " |  Models.\n",
      " |  \n",
      " |  To check how models are created please see the\n",
      " |  :ref:`examples <chapExamples>` included.\n",
      " |  \n",
      " |  Attributes:\n",
      " |      vars(VarList): list of problem variables (:class:`~mip.model.Var`)\n",
      " |      constrs(ConstrList): list of constraints (:class:`~mip.model.Constr`)\n",
      " |  \n",
      " |  Examples:\n",
      " |      >>> from mip import Model, MAXIMIZE, CBC, INTEGER, OptimizationStatus\n",
      " |      >>> model = Model(sense=MAXIMIZE, solver_name=CBC)\n",
      " |      >>> x = model.add_var(name='x', var_type=INTEGER, lb=0, ub=10)\n",
      " |      >>> y = model.add_var(name='y', var_type=INTEGER, lb=0, ub=10)\n",
      " |      >>> model += x + y <= 10\n",
      " |      >>> model.objective = x + y\n",
      " |      >>> status = model.optimize(max_seconds=2)\n",
      " |      >>> status == OptimizationStatus.OPTIMAL\n",
      " |      True\n",
      " |  \n",
      " |  Methods defined here:\n",
      " |  \n",
      " |  __del__(self: 'Model')\n",
      " |  \n",
      " |  __iadd__(self: 'Model', other) -> 'Model'\n",
      " |  \n",
      " |  __init__(self: 'Model', name: str = '', sense: str = 'MIN', solver_name: str = '', solver: Union[mip.solver.Solver, NoneType] = None)\n",
      " |      Model constructor\n",
      " |      \n",
      " |      Creates a Mixed-Integer Linear Programming Model. The default model\n",
      " |      optimization direction is Minimization. To store and optimize the model\n",
      " |      the MIP package automatically searches and connects in runtime to the\n",
      " |      dynamic library of some MIP solver installed on your computer, nowadays\n",
      " |      gurobi and cbc are supported. This solver is automatically selected,\n",
      " |      but you can force the selection of a specific solver with the parameter\n",
      " |      solver_name.\n",
      " |      \n",
      " |      Args:\n",
      " |          name (str): model name\n",
      " |          sense (str): MINIMIZATION (\"MIN\") or MAXIMIZATION (\"MAX\")\n",
      " |          solver_name(str): gurobi or cbc, searches for which\n",
      " |              solver is available if not informed\n",
      " |          solver(Solver): a (:class:`~mip.solver.Solver`) object; note that\n",
      " |              if this argument is provided, solver_name will be ignored\n",
      " |  \n",
      " |  add_constr(self: 'Model', lin_expr: mip.entities.LinExpr, name: str = '') -> mip.entities.Constr\n",
      " |      Creates a new constraint (row).\n",
      " |      \n",
      " |      Adds a new constraint to the model, returning its reference.\n",
      " |      \n",
      " |      Args:\n",
      " |          lin_expr(LinExpr): linear expression\n",
      " |          name(str): optional constraint name, used when saving model to            lp or mps files\n",
      " |      \n",
      " |      Examples:\n",
      " |      \n",
      " |      The following code adds the constraint :math:`x_1 + x_2 \\leq 1`\n",
      " |      (x1 and x2 should be created first using\n",
      " |      :func:`add_var<mip.model.Model.add_var>`)::\n",
      " |      \n",
      " |          m += x1 + x2 <= 1\n",
      " |      \n",
      " |      Which is equivalent to::\n",
      " |      \n",
      " |          m.add_constr( x1 + x2 <= 1 )\n",
      " |      \n",
      " |      Summation expressions can be used also, to add the constraint         :math:`\\displaystyle \\sum_{i=0}^{n-1} x_i = y` and name this         constraint :code:`cons1`::\n",
      " |      \n",
      " |          m += xsum(x[i] for i in range(n)) == y, \"cons1\"\n",
      " |      \n",
      " |      Which is equivalent to::\n",
      " |      \n",
      " |          m.add_constr( xsum(x[i] for i in range(n)) == y, \"cons1\" )\n",
      " |  \n",
      " |  add_cut(self: mip.solver.Solver, cut: mip.entities.LinExpr)\n",
      " |      Adds a violated inequality (cutting plane) to the linear programming\n",
      " |      model. If called outside the cut callback performs exactly as\n",
      " |      :meth:`~mip.model.Model.add_constr`. When called inside the cut\n",
      " |      callback the cut is included in the solver's cut pool, which will later\n",
      " |      decide if this cut should be added or not to the model. Repeated cuts,\n",
      " |      or cuts which will probably be less effective, e.g. with a very small\n",
      " |      violation, can be discarded.\n",
      " |      \n",
      " |      Args:\n",
      " |          cut(LinExpr): violated inequality\n",
      " |  \n",
      " |  add_lazy_constr(self: 'Model', expr: mip.entities.LinExpr)\n",
      " |      Adds a lazy constraint\n",
      " |      \n",
      " |      A lazy constraint is a constraint that is only inserted\n",
      " |      into the model after the first integer solution that violates\n",
      " |      it is found. When lazy constraints are used a restricted\n",
      " |      pre-processing is executed since the complete model is not\n",
      " |      available at the beginning. If the number of lazy constraints\n",
      " |      is too large then they can be added during the search process\n",
      " |      by implementing a\n",
      " |      :class:`~mip.callbacks.ConstrsGenerator` and setting the\n",
      " |      property :attr:`~mip.model.Model.lazy_constrs_generator` of\n",
      " |      :class:`~mip.model.Model`.\n",
      " |      \n",
      " |      Args:\n",
      " |          expr(LinExpr): the linear constraint\n",
      " |  \n",
      " |  add_sos(self: mip.solver.Solver, sos: List[Tuple[mip.entities.Var, float]], sos_type: int)\n",
      " |      Adds an Special Ordered Set (SOS) to the model\n",
      " |      \n",
      " |      In models with binary variables it is often the case that from a list\n",
      " |      of variables only one can receive value 1 in a feasible solution. When\n",
      " |      large constraints of this type exist (packing and partitioning),\n",
      " |      branching in one variable at time usually doesn't work well: while\n",
      " |      fixing one of these variables to one leaves only one possible feasible\n",
      " |      value for the other variables in this set (zero), fixing one variable\n",
      " |      to zero keeps all other variables free. This *unbalanced* branching is\n",
      " |      highly ineffective. A Special ordered set (SOS) is a set\n",
      " |      :math:`\\mathcal{S}=\\{s_1, s_2, \\ldots, s_k\\}` with weights\n",
      " |      :math:`[w_1, w_2, \\ldots, w_k] \\in \\mathbb{R}^+`. With this structure\n",
      " |      available branching on a fractional solution :math:`x^*` for these\n",
      " |      variables can be performed computing:\n",
      " |      \n",
      " |      \n",
      " |      .. math::\n",
      " |      \n",
      " |          \\min \\{ u_{k'} : u_{k'} = | \\sum_{j=1\\,\\ldots \\,k'-1}\n",
      " |          w_j \\ldotp x^*_j - \\sum_{j=k'\\,\\ldots ,k} w_j \\ldotp x^*_j | \\}\n",
      " |      \n",
      " |      \n",
      " |      Then, branching :math:`\\mathcal{S}_1` would be\n",
      " |      :math:`\\displaystyle \\sum_{j=1, \\ldots, k'-1} x_j = 0`\n",
      " |      and\n",
      " |      :math:`\\displaystyle \\mathcal{S}_2 = \\sum_{j=k', \\ldots, k} x_j = 0`.\n",
      " |      \n",
      " |      Args:\n",
      " |          sos(List[Tuple[Var, float]]):\n",
      " |              list including variables (not necessarily binary) and\n",
      " |              respective weights in the model\n",
      " |          sos_type(int):\n",
      " |              1 for Type 1 SOS, where at most one of the binary\n",
      " |              variables can be set to one and 2 for Type 2 SOS, where at\n",
      " |              most two variables from the list may be selected. In type\n",
      " |              2 SOS the two selected variables will be consecutive in\n",
      " |              the list.\n",
      " |  \n",
      " |  add_var(self: 'Model', name: str = '', lb: float = 0.0, ub: float = inf, obj: float = 0.0, var_type: str = 'C', column: mip.entities.Column = None) -> mip.entities.Var\n",
      " |      Creates a new variable in the model, returning its reference\n",
      " |      \n",
      " |      Args:\n",
      " |          name (str): variable name (optional)\n",
      " |          lb (float): variable lower bound, default 0.0\n",
      " |          ub (float): variable upper bound, default infinity\n",
      " |          obj (float): coefficient of this variable in the objective\n",
      " |            function, default 0\n",
      " |          var_type (str): CONTINUOUS (\"C\"), BINARY (\"B\") or INTEGER (\"I\")\n",
      " |          column (Column): constraints where this variable will appear,\n",
      " |              necessary only when constraints are already created in\n",
      " |              the model and a new variable will be created.\n",
      " |      \n",
      " |      Examples:\n",
      " |      \n",
      " |          To add a variable :code:`x` which is continuous and greater or\n",
      " |          equal to zero to model :code:`m`::\n",
      " |      \n",
      " |              x = m.add_var()\n",
      " |      \n",
      " |          The following code creates a vector of binary variables\n",
      " |          :code:`x[0], ..., x[n-1]` to model :code:`m`::\n",
      " |      \n",
      " |              x = [m.add_var(var_type=BINARY) for i in range(n)]\n",
      " |  \n",
      " |  check_optimization_results(self)\n",
      " |      Checks the consistency of the optimization results, i.e., if the\n",
      " |      solution(s) produced by the MIP solver respect all constraints and\n",
      " |      variable values are within acceptable bounds and are integral when\n",
      " |      requested\n",
      " |  \n",
      " |  clear(self: mip.solver.Solver)\n",
      " |      Clears the model\n",
      " |      \n",
      " |      All variables, constraints and parameters will be reset. In addition,\n",
      " |      a new solver instance will be instantiated to implement the\n",
      " |      formulation.\n",
      " |  \n",
      " |  constr_by_name(self: mip.solver.Solver, name: str) -> Union[mip.entities.Constr, NoneType]\n",
      " |      Queries a constraint by its name\n",
      " |      \n",
      " |      Args:\n",
      " |          name(str): constraint name\n",
      " |      \n",
      " |      Returns:\n",
      " |          constraint or None if not found\n",
      " |  \n",
      " |  copy(self: mip.solver.Solver, solver_name: str = '') -> 'Model'\n",
      " |      Creates a copy of the current model\n",
      " |      \n",
      " |      Args:\n",
      " |          solver_name(str): solver name (optional)\n",
      " |      \n",
      " |      Returns:\n",
      " |          clone of current model\n",
      " |  \n",
      " |  optimize(self: mip.solver.Solver, max_seconds: float = inf, max_nodes: int = inf, max_solutions: int = inf) -> mip.constants.OptimizationStatus\n",
      " |      Optimizes current model\n",
      " |      \n",
      " |      Optimizes current model, optionally specifying processing limits.\n",
      " |      \n",
      " |      To optimize model :code:`m` within a processing time limit of\n",
      " |      300 seconds::\n",
      " |      \n",
      " |          m.optimize(max_seconds=300)\n",
      " |      \n",
      " |      Args:\n",
      " |          max_seconds (float): Maximum runtime in seconds (default: inf)\n",
      " |          max_nodes (float): Maximum number of nodes (default: inf)\n",
      " |          max_solutions (float): Maximum number of solutions (default: inf)\n",
      " |      \n",
      " |      Returns:\n",
      " |          optimization status, which can be OPTIMAL(0), ERROR(-1),\n",
      " |          INFEASIBLE(1), UNBOUNDED(2). When optimizing problems\n",
      " |          with integer variables some additional cases may happen,\n",
      " |          FEASIBLE(3) for the case when a feasible solution was found\n",
      " |          but optimality was not proved, INT_INFEASIBLE(4) for the case\n",
      " |          when the lp relaxation is feasible but no feasible integer\n",
      " |          solution exists and NO_SOLUTION_FOUND(5) for the case when\n",
      " |          an integer solution was not found in the optimization.\n",
      " |  \n",
      " |  read(self: mip.solver.Solver, path: str)\n",
      " |      Reads a MIP model or an initial feasible solution.\n",
      " |      \n",
      " |         One of  the following file name extensions should be used\n",
      " |         to define the contents of what will be loaded:\n",
      " |      \n",
      " |         :code:`.lp`\n",
      " |           mip model stored in the\n",
      " |           `LP file format <https://www.ibm.com/support/knowledgecenter/SSSA5P_12.9.0/ilog.odms.cplex.help/CPLEX/GettingStarted/topics/tutorials/InteractiveOptimizer/usingLPformat.html>`_\n",
      " |      \n",
      " |         :code:`.mps`\n",
      " |           mip model stored in the\n",
      " |           `MPS file format <https://en.wikipedia.org/wiki/MPS_(format)>`_\n",
      " |      \n",
      " |         :code:`.sol`\n",
      " |           initial feasible solution\n",
      " |      \n",
      " |      Note: if a new problem is readed, all variables, constraints\n",
      " |      and parameters from the current model will be cleared.\n",
      " |      \n",
      " |      Args:\n",
      " |          path(str): file name\n",
      " |  \n",
      " |  relax(self: mip.solver.Solver)\n",
      " |      Relax integrality constraints of variables\n",
      " |      \n",
      " |      Changes the type of all integer and binary variables to\n",
      " |      continuous. Bounds are preserved.\n",
      " |  \n",
      " |  remove(self: mip.solver.Solver, objects)\n",
      " |      removes variable(s) and/or constraint(s) from the model\n",
      " |      \n",
      " |      Args:\n",
      " |          objects: can be a Var, a Constr or a list of these objects\n",
      " |  \n",
      " |  translate(self: mip.solver.Solver, ref) -> Union[List[Any], Dict[Any, Any], mip.entities.Var]\n",
      " |      Translates references of variables/containers of variables\n",
      " |      from another model to this model. Can be used to translate\n",
      " |      references of variables in the original model to references\n",
      " |      of variables in the pre-processed model.\n",
      " |  \n",
      " |  validate_mip_start(self: mip.solver.Solver)\n",
      " |      Validates solution entered in MIPStart\n",
      " |      \n",
      " |      If the solver engine printed messages indicating that the initial\n",
      " |      feasible solution that you entered in :attr:`~mip.model.start` is not\n",
      " |      valid then you can call this method to help discovering which set of\n",
      " |      variables is causing infeasibility. The current version is quite\n",
      " |      simple: the model is relaxed and one variable entered in mipstart is\n",
      " |      fixed per iteration, indicating if the model still feasible or not.\n",
      " |  \n",
      " |  var_by_name(self: mip.solver.Solver, name: str) -> Union[mip.entities.Var, NoneType]\n",
      " |      Searchers a variable by its name\n",
      " |      \n",
      " |      Returns:\n",
      " |          Variable or None if not found\n",
      " |  \n",
      " |  write(self: mip.solver.Solver, file_path: str)\n",
      " |      Saves a MIP model or an initial feasible solution.\n",
      " |      \n",
      " |         One of  the following file name extensions should be used\n",
      " |         to define the contents of what will be saved:\n",
      " |      \n",
      " |         :code:`.lp`\n",
      " |           mip model stored in the\n",
      " |           `LP file format <https://www.ibm.com/support/knowledgecenter/SSSA5P_12.9.0/ilog.odms.cplex.help/CPLEX/GettingStarted/topics/tutorials/InteractiveOptimizer/usingLPformat.html>`_\n",
      " |      \n",
      " |         :code:`.mps`\n",
      " |           mip model stored in the\n",
      " |           `MPS file format <https://en.wikipedia.org/wiki/MPS_(format)>`_\n",
      " |      \n",
      " |         :code:`.sol`\n",
      " |           initial feasible solution\n",
      " |      \n",
      " |      Args:\n",
      " |          file_path(str): file name\n",
      " |  \n",
      " |  ----------------------------------------------------------------------\n",
      " |  Data descriptors defined here:\n",
      " |  \n",
      " |  __dict__\n",
      " |      dictionary for instance variables (if defined)\n",
      " |  \n",
      " |  __weakref__\n",
      " |      list of weak references to the object (if defined)\n",
      " |  \n",
      " |  clique\n",
      " |      Controls the generation of clique cuts. -1 means automatic,\n",
      " |      0 disables it, 1 enables it and 2 enables more aggressive clique\n",
      " |      generation.\n",
      " |  \n",
      " |  cut_passes\n",
      " |      Maximum number of rounds of cutting planes. You may set this\n",
      " |      parameter to low values if you see that a significant amount of\n",
      " |      time is being spent generating cuts without any improvement in\n",
      " |      the lower bound. -1 means automatic, values greater than zero\n",
      " |      specify the maximum number of rounds.\n",
      " |  \n",
      " |  cutoff\n",
      " |      upper limit for the solution cost, solutions with cost > cutoff\n",
      " |      will be removed from the search space, a small cutoff value may\n",
      " |      significantly speedup the search, but if cutoff is set to a value too\n",
      " |      low the model will become infeasible\n",
      " |  \n",
      " |  cuts\n",
      " |      Controls the generation of cutting planes, -1 means automatic, 0\n",
      " |      disables completely, 1 (default) generates cutting planes in a moderate\n",
      " |      way, 2 generates cutting planes aggressively and 3 generates even more\n",
      " |      cutting planes. Cutting planes usually improve the LP relaxation bound\n",
      " |      but also make the solution time of the LP relaxation larger, so the\n",
      " |      overall effect is hard to predict and experimenting different values\n",
      " |      for this parameter may be beneficial.\n",
      " |  \n",
      " |  cuts_generator\n",
      " |      A cuts generator is an :class:`~mip.callbacks.ConstrsGenerator`\n",
      " |      object that receives a fractional solution and tries to generate one or\n",
      " |      more constraints (cuts) to remove it. The cuts generator is called in\n",
      " |      every node of the branch-and-cut tree where a solution that violates\n",
      " |      the integrality constraint of one or more variables is found.\n",
      " |  \n",
      " |  emphasis\n",
      " |      defines the main objective of the search, if set to 1 (FEASIBILITY)\n",
      " |      then the search process will focus on try to find quickly feasible\n",
      " |      solutions and improving them; if set to 2 (OPTIMALITY) then the\n",
      " |      search process will try to find a provable optimal solution,\n",
      " |      procedures to further improve the lower bounds will be activated in\n",
      " |      this setting, this may increase the time to produce the first\n",
      " |      feasible solutions but will probably pay off in longer runs;\n",
      " |      the default option if 0, where a balance between optimality and\n",
      " |      feasibility is sought.\n",
      " |  \n",
      " |  gap\n",
      " |      The optimality gap considering the cost of the best solution found\n",
      " |      (:attr:`~mip.model.Model.objective_value`)\n",
      " |      :math:`b` and the best objective bound :math:`l`\n",
      " |      (:attr:`~mip.model.Model.objective_bound`) :math:`g` is\n",
      " |      computed as: :math:`g=\\frac{|b-l|}{|b|}`.\n",
      " |      If no solution was found or if :math:`b=0` then :math:`g=\\infty`.\n",
      " |      If the optimal solution was found then :math:`g=0`.\n",
      " |  \n",
      " |  infeas_tol\n",
      " |      Maximum allowed violation for constraints. Default value: 1e-6.\n",
      " |      Tightening this value can increase the numerical precision but also\n",
      " |      probably increase the running time. As floating point computations\n",
      " |      always involve some loss of precision, values too close to zero will\n",
      " |      likely render some models impossible to optimize.\n",
      " |  \n",
      " |  integer_tol\n",
      " |      Maximum distance to the nearest integer for a variable to be\n",
      " |      considered with an integer value. Default value: 1e-6. Tightening this\n",
      " |      value can increase the numerical precision but also probably increase\n",
      " |      the running time. As floating point computations always involve some\n",
      " |      loss of precision, values too close to zero will likely render some\n",
      " |      models impossible to optimize.\n",
      " |  \n",
      " |  lazy_constrs_generator\n",
      " |      A lazy constraints generator is an\n",
      " |      :class:`~mip.callbacks.ConstrsGenerator` object that receives\n",
      " |      an integer solution and checks its feasibility. If\n",
      " |      the solution is not feasible then one or more constraints can be\n",
      " |      generated to remove it. When a lazy constraints generator is informed\n",
      " |      it is assumed that the initial formulation is incomplete. Thus, a\n",
      " |      restricted pre-processing routine may be applied. If the initial\n",
      " |      formulation is incomplete, it may be interesting to use the same\n",
      " |      :class:`~mip.callbacks.ConstrsGenerator` to generate cuts *and* lazy\n",
      " |      constraints. The use of *only* lazy constraints may be useful then\n",
      " |      integer solutions rarely violate these constraints.\n",
      " |  \n",
      " |  lp_method\n",
      " |      Which  method should be used to solve the linear programming\n",
      " |      problem. If the problem has integer variables that this affects only\n",
      " |      the solution of the first linear programming relaxation.\n",
      " |  \n",
      " |  max_mip_gap\n",
      " |      value indicating the tolerance for the maximum percentage deviation\n",
      " |      from the optimal solution cost, if a solution with cost :math:`c` and\n",
      " |      a lower bound :math:`l` are available and\n",
      " |      :math:`(c-l)/l <` :code:`max_mip_gap` the search will be concluded.\n",
      " |      Default value: 1e-4.\n",
      " |  \n",
      " |  max_mip_gap_abs\n",
      " |      Tolerance for the quality of the optimal solution, if a solution\n",
      " |      with cost :math:`c` and a lower bound :math:`l` are available and\n",
      " |      :math:`c-l<` :code:`mip_gap_abs`, the search will be concluded, see\n",
      " |      :attr:`~mip.model.Model.max_mip_gap` to determine a percentage value.\n",
      " |      Default value: 1e-10.\n",
      " |  \n",
      " |  max_nodes\n",
      " |      maximum number of nodes to be explored in the search tree\n",
      " |  \n",
      " |  max_seconds\n",
      " |      time limit in seconds for search\n",
      " |  \n",
      " |  max_solutions\n",
      " |      solution limit, search will be stopped when :code:`max_solutions`\n",
      " |      were found\n",
      " |  \n",
      " |  name\n",
      " |      The problem (instance) name\n",
      " |      \n",
      " |      This name should be used to identify the instance that this model\n",
      " |      refers, e.g.: productionPlanningMay19. This name is stored when\n",
      " |      saving (:meth:`~mip.model.Model.write`) the model in :code:`.LP`\n",
      " |      or :code:`.MPS` file formats.\n",
      " |  \n",
      " |  num_cols\n",
      " |      number of columns (variables) in the model\n",
      " |  \n",
      " |  num_int\n",
      " |      number of integer variables in the model\n",
      " |  \n",
      " |  num_nz\n",
      " |      number of non-zeros in the constraint matrix\n",
      " |  \n",
      " |  num_rows\n",
      " |      number of rows (constraints) in the model\n",
      " |  \n",
      " |  num_solutions\n",
      " |      Number of solutions found during the MIP search\n",
      " |      \n",
      " |      Returns:\n",
      " |          number of solutions stored in the solution pool\n",
      " |  \n",
      " |  objective\n",
      " |      The objective function of the problem as a linear expression.\n",
      " |      \n",
      " |      Examples:\n",
      " |      \n",
      " |          The following code adds all :code:`x` variables :code:`x[0],\n",
      " |          ..., x[n-1]`, to the objective function of model :code:`m`\n",
      " |          with the same cost :code:`w`::\n",
      " |      \n",
      " |              m.objective = xsum(w*x[i] for i in range(n))\n",
      " |      \n",
      " |          A simpler way to define the objective function is the use of the\n",
      " |          model operator += ::\n",
      " |      \n",
      " |              m += xsum(w*x[i] for i in range(n))\n",
      " |      \n",
      " |          Note that the only difference of adding a constraint is the lack of\n",
      " |          a sense and a rhs.\n",
      " |  \n",
      " |  objective_bound\n",
      " |      A valid estimate computed for the optimal solution cost,\n",
      " |      lower bound in the case of minimization, equals to\n",
      " |      :attr:`~mip.model.Model.objective_value` if the\n",
      " |      optimal solution was found.\n",
      " |  \n",
      " |  objective_const\n",
      " |      Returns the constant part of the objective function\n",
      " |  \n",
      " |  objective_value\n",
      " |      Objective function value of the solution found or None\n",
      " |      if model was not optimized\n",
      " |  \n",
      " |  objective_values\n",
      " |      List of costs of all solutions in the solution pool\n",
      " |      \n",
      " |      Returns:\n",
      " |          costs of all solutions stored in the solution pool\n",
      " |          as an array from 0 (the best solution) to\n",
      " |          :attr:`~mip.model.Model.num_solutions`-1.\n",
      " |  \n",
      " |  opt_tol\n",
      " |      Maximum reduced cost value for a solution of the LP relaxation to be\n",
      " |      considered optimal. Default value: 1e-6.  Tightening this value can\n",
      " |      increase the numerical precision but also probably increase the running\n",
      " |      time. As floating point computations always involve some loss of\n",
      " |      precision, values too close to zero will likely render some models\n",
      " |      impossible to optimize.\n",
      " |  \n",
      " |  preprocess\n",
      " |      Enables/disables pre-processing. Pre-processing tries to improve\n",
      " |      your MIP formulation. -1 means automatic, 0 means off and 1\n",
      " |      means on.\n",
      " |  \n",
      " |  pump_passes\n",
      " |      Number of passes of the Feasibility Pump [FGL05]_ heuristic.\n",
      " |      You may increase this value if you are not getting feasible\n",
      " |      solutions.\n",
      " |  \n",
      " |  search_progress_log\n",
      " |      Log of bound improvements in the search.\n",
      " |      The output of MIP solvers is a sequence of improving\n",
      " |      incumbent solutions (primal bound) and estimates for the optimal\n",
      " |      cost (dual bound). When the costs of these two bounds match the\n",
      " |      search is concluded. In truncated searches, the most common\n",
      " |      situation for hard problems, at the end of the search there is a\n",
      " |      :attr:`~mip.model.Model.gap` between these bounds. This\n",
      " |      property stores the detailed events of improving these\n",
      " |      bounds during the search process. Analyzing the evolution\n",
      " |      of these bounds you can see if you need to improve your\n",
      " |      solver w.r.t. the production of feasible solutions, by including an\n",
      " |      heuristic to produce a better initial feasible solution, for\n",
      " |      example, or improve the formulation with cutting planes, for\n",
      " |      example, to produce better dual bounds. To enable storing the\n",
      " |      :attr:`~mip.model.Model.search_progress_log` set\n",
      " |      :attr:`~mip.model.Model.store_search_progress_log` to True.\n",
      " |  \n",
      " |  sense\n",
      " |      The optimization sense\n",
      " |      \n",
      " |      Returns:\n",
      " |          the objective function sense, MINIMIZE (default) or (MAXIMIZE)\n",
      " |  \n",
      " |  start\n",
      " |      Initial feasible solution\n",
      " |      \n",
      " |      Enters an initial feasible solution. Only the main binary/integer\n",
      " |      decision variables which appear with non-zero values in the initial\n",
      " |      feasible solution need to be informed. Auxiliary or continuous\n",
      " |      variables are automatically computed.\n",
      " |  \n",
      " |  status\n",
      " |      optimization status, which can be OPTIMAL(0), ERROR(-1),\n",
      " |      INFEASIBLE(1), UNBOUNDED(2). When optimizing problems\n",
      " |      with integer variables some additional cases may happen, FEASIBLE(3)\n",
      " |      for the case when a feasible solution was found but optimality was\n",
      " |      not proved, INT_INFEASIBLE(4) for the case when the lp relaxation is\n",
      " |      feasible but no feasible integer solution exists and\n",
      " |      NO_SOLUTION_FOUND(5) for the case when an integer solution was not\n",
      " |      found in the optimization.\n",
      " |  \n",
      " |  store_search_progress_log\n",
      " |      Wether :attr:`~mip.model.Model.search_progress_log` will be stored\n",
      " |      or not when optimizing. Default False. Activate it if you want to\n",
      " |      analyze bound improvements over time.\n",
      " |  \n",
      " |  threads\n",
      " |      number of threads to be used when solving the problem.\n",
      " |      0 uses solver default configuration, -1 uses the number of available\n",
      " |      processing cores and :math:`\\geq 1` uses the specified number of\n",
      " |      threads. An increased number of threads may improve the solution\n",
      " |      time but also increases the memory consumption.\n",
      " |  \n",
      " |  verbose\n",
      " |      0 to disable solver messages printed on the screen, 1 to enable\n",
      "\n",
      "None\n"
     ]
    }
   ],
   "source": [
    "print(help(mip.Model))"
   ]
  },
  {
   "cell_type": "code",
   "execution_count": null,
   "metadata": {},
   "outputs": [],
   "source": []
  },
  {
   "cell_type": "code",
   "execution_count": null,
   "metadata": {},
   "outputs": [],
   "source": []
  },
  {
   "cell_type": "code",
   "execution_count": 77,
   "metadata": {
    "ExecuteTime": {
     "end_time": "2020-02-03T16:13:52.834994Z",
     "start_time": "2020-02-03T16:13:52.814996Z"
    }
   },
   "outputs": [
    {
     "name": "stdout",
     "output_type": "stream",
     "text": [
      "x_0,0 0.0\n",
      "x_0,1 10.0\n",
      "x_0,2 0.0\n",
      "x_1,0 0.0\n",
      "x_1,1 0.0\n",
      "x_1,2 10.0\n",
      "x_2,0 10.0\n",
      "x_2,1 0.0\n",
      "x_2,2 0.0\n"
     ]
    }
   ],
   "source": [
    "cij = [[2, 2, 2], [2, 2, 2], [2, 2, 2]]\n",
    "si = [10,10,10]\n",
    "dj = [10,10,10]\n",
    "model = mip.Model(\"trans_prob\", solver_name=\"cbc\", sense=mip.MINIMIZE)\n",
    "rows, cols = len(si), len(dj)\n",
    "xij = [\n",
    "    [model.add_var(\n",
    "        \"x_%s,%s\" % (i,j), \n",
    "        var_type=mip.CONTINUOUS,\n",
    "        lb=0,\n",
    "        obj=cij[i][j]\n",
    "    ) for j in range(cols)]\n",
    "    for i in range(rows)\n",
    "]\n",
    "model.objective = mip.minimize(\n",
    "    mip.xsum(cij[i][j]*xij[i][j] for i in range(rows) for j in range(cols))\n",
    ")\n",
    "# one per row\n",
    "for i in range(rows):\n",
    "    model += mip.xsum(xij[i][j] for j in range(cols)) <= si[i], 'supply({})'.format(i) \n",
    "# one per column\n",
    "for j in range(cols):\n",
    "    model += mip.xsum(xij[i][j] for i in range(rows)) >= dj[j], 'demand({})'.format(j) \n",
    "model.optimize()\n",
    "model.write(\"transportation.lp\")\n",
    "for i in range(rows):\n",
    "    for j in range(cols):\n",
    "        print(xij[i][j], xij[i][j].x)"
   ]
  },
  {
   "cell_type": "code",
   "execution_count": null,
   "metadata": {},
   "outputs": [],
   "source": []
  },
  {
   "cell_type": "code",
   "execution_count": null,
   "metadata": {},
   "outputs": [],
   "source": []
  },
  {
   "cell_type": "code",
   "execution_count": null,
   "metadata": {},
   "outputs": [],
   "source": []
  },
  {
   "cell_type": "code",
   "execution_count": null,
   "metadata": {},
   "outputs": [],
   "source": []
  },
  {
   "cell_type": "code",
   "execution_count": null,
   "metadata": {},
   "outputs": [],
   "source": []
  },
  {
   "cell_type": "code",
   "execution_count": null,
   "metadata": {},
   "outputs": [],
   "source": []
  },
  {
   "cell_type": "code",
   "execution_count": null,
   "metadata": {},
   "outputs": [],
   "source": []
  },
  {
   "cell_type": "code",
   "execution_count": null,
   "metadata": {},
   "outputs": [],
   "source": []
  },
  {
   "cell_type": "code",
   "execution_count": null,
   "metadata": {},
   "outputs": [],
   "source": []
  },
  {
   "cell_type": "code",
   "execution_count": null,
   "metadata": {},
   "outputs": [],
   "source": []
  },
  {
   "cell_type": "code",
   "execution_count": 210,
   "metadata": {
    "ExecuteTime": {
     "end_time": "2020-02-03T15:33:47.384789Z",
     "start_time": "2020-02-03T15:33:47.331631Z"
    }
   },
   "outputs": [
    {
     "name": "stdout",
     "output_type": "stream",
     "text": [
      "selected items: [0, 1, 2]\n"
     ]
    }
   ],
   "source": [
    "from mip import Model, xsum, maximize, BINARY\n",
    "\n",
    "p = [10, 13, 18, 31, 7, 15]\n",
    "w = [11, 15, 20, 35, 10, 33]\n",
    "c, I = 47, range(len(w))\n",
    "\n",
    "m = Model('knapsack')\n",
    "\n",
    "x = [m.add_var(var_type=BINARY) for i in I]\n",
    "\n",
    "m.objective = maximize(xsum(p[i] * x[i] for i in I))\n",
    "\n",
    "m += xsum(w[i] * x[i] for i in I) <= c\n",
    "\n",
    "m.optimize()\n",
    "\n",
    "selected = [i for i in I if x[i].x >= 0.99]\n",
    "print('selected items: {}'.format(selected))"
   ]
  },
  {
   "cell_type": "code",
   "execution_count": null,
   "metadata": {},
   "outputs": [],
   "source": []
  },
  {
   "cell_type": "code",
   "execution_count": null,
   "metadata": {},
   "outputs": [],
   "source": []
  },
  {
   "cell_type": "markdown",
   "metadata": {},
   "source": [
    "#### Streets"
   ]
  },
  {
   "cell_type": "code",
   "execution_count": 4,
   "metadata": {
    "ExecuteTime": {
     "end_time": "2020-02-03T00:54:03.539372Z",
     "start_time": "2020-02-03T00:54:03.145399Z"
    }
   },
   "outputs": [],
   "source": [
    "streets = geopandas.read_file(examples.get_path(\"streets.shp\"))\n",
    "streets.crs = \"epsg:2223\"\n",
    "streets = streets.to_crs(\"epsg:2762\")"
   ]
  },
  {
   "cell_type": "markdown",
   "metadata": {},
   "source": [
    "#### Schools"
   ]
  },
  {
   "cell_type": "code",
   "execution_count": 5,
   "metadata": {
    "ExecuteTime": {
     "end_time": "2020-02-03T00:54:04.373144Z",
     "start_time": "2020-02-03T00:54:04.080889Z"
    }
   },
   "outputs": [],
   "source": [
    "schools = geopandas.read_file(examples.get_path(\"schools.shp\"))\n",
    "schools.crs = \"epsg:2223\"\n",
    "schools = schools.to_crs(\"epsg:2762\")"
   ]
  },
  {
   "cell_type": "markdown",
   "metadata": {},
   "source": [
    "#### Schools - supply nodes"
   ]
  },
  {
   "cell_type": "code",
   "execution_count": 9,
   "metadata": {
    "ExecuteTime": {
     "end_time": "2020-02-03T01:01:02.781617Z",
     "start_time": "2020-02-03T01:01:02.765509Z"
    }
   },
   "outputs": [
    {
     "data": {
      "text/html": [
       "<div>\n",
       "<style scoped>\n",
       "    .dataframe tbody tr th:only-of-type {\n",
       "        vertical-align: middle;\n",
       "    }\n",
       "\n",
       "    .dataframe tbody tr th {\n",
       "        vertical-align: top;\n",
       "    }\n",
       "\n",
       "    .dataframe thead th {\n",
       "        text-align: right;\n",
       "    }\n",
       "</style>\n",
       "<table border=\"1\" class=\"dataframe\">\n",
       "  <thead>\n",
       "    <tr style=\"text-align: right;\">\n",
       "      <th></th>\n",
       "      <th>POLYID</th>\n",
       "      <th>geometry</th>\n",
       "    </tr>\n",
       "  </thead>\n",
       "  <tbody>\n",
       "    <tr>\n",
       "      <th>0</th>\n",
       "      <td>1</td>\n",
       "      <td>POINT (221614.608 268182.322)</td>\n",
       "    </tr>\n",
       "    <tr>\n",
       "      <th>5</th>\n",
       "      <td>6</td>\n",
       "      <td>POINT (221542.156 268184.287)</td>\n",
       "    </tr>\n",
       "    <tr>\n",
       "      <th>6</th>\n",
       "      <td>7</td>\n",
       "      <td>POINT (221847.332 267982.491)</td>\n",
       "    </tr>\n",
       "    <tr>\n",
       "      <th>7</th>\n",
       "      <td>8</td>\n",
       "      <td>POINT (221406.289 267990.060)</td>\n",
       "    </tr>\n",
       "  </tbody>\n",
       "</table>\n",
       "</div>"
      ],
      "text/plain": [
       "   POLYID                       geometry\n",
       "0       1  POINT (221614.608 268182.322)\n",
       "5       6  POINT (221542.156 268184.287)\n",
       "6       7  POINT (221847.332 267982.491)\n",
       "7       8  POINT (221406.289 267990.060)"
      ]
     },
     "execution_count": 9,
     "metadata": {},
     "output_type": "execute_result"
    }
   ],
   "source": [
    "supply = schools[schools[\"POLYID\"].isin([1,6,7,8])]\n",
    "supply"
   ]
  },
  {
   "cell_type": "markdown",
   "metadata": {},
   "source": [
    "#### Schools - demand nodes"
   ]
  },
  {
   "cell_type": "code",
   "execution_count": 15,
   "metadata": {
    "ExecuteTime": {
     "end_time": "2020-02-03T01:20:41.169459Z",
     "start_time": "2020-02-03T01:20:41.150707Z"
    }
   },
   "outputs": [
    {
     "data": {
      "text/html": [
       "<div>\n",
       "<style scoped>\n",
       "    .dataframe tbody tr th:only-of-type {\n",
       "        vertical-align: middle;\n",
       "    }\n",
       "\n",
       "    .dataframe tbody tr th {\n",
       "        vertical-align: top;\n",
       "    }\n",
       "\n",
       "    .dataframe thead th {\n",
       "        text-align: right;\n",
       "    }\n",
       "</style>\n",
       "<table border=\"1\" class=\"dataframe\">\n",
       "  <thead>\n",
       "    <tr style=\"text-align: right;\">\n",
       "      <th></th>\n",
       "      <th>POLYID</th>\n",
       "      <th>geometry</th>\n",
       "    </tr>\n",
       "  </thead>\n",
       "  <tbody>\n",
       "    <tr>\n",
       "      <th>1</th>\n",
       "      <td>2</td>\n",
       "      <td>POINT (221121.722 268130.726)</td>\n",
       "    </tr>\n",
       "    <tr>\n",
       "      <th>2</th>\n",
       "      <td>3</td>\n",
       "      <td>POINT (221474.120 267187.725)</td>\n",
       "    </tr>\n",
       "    <tr>\n",
       "      <th>3</th>\n",
       "      <td>4</td>\n",
       "      <td>POINT (220452.594 268086.776)</td>\n",
       "    </tr>\n",
       "    <tr>\n",
       "      <th>4</th>\n",
       "      <td>5</td>\n",
       "      <td>POINT (221235.286 267684.289)</td>\n",
       "    </tr>\n",
       "  </tbody>\n",
       "</table>\n",
       "</div>"
      ],
      "text/plain": [
       "   POLYID                       geometry\n",
       "1       2  POINT (221121.722 268130.726)\n",
       "2       3  POINT (221474.120 267187.725)\n",
       "3       4  POINT (220452.594 268086.776)\n",
       "4       5  POINT (221235.286 267684.289)"
      ]
     },
     "execution_count": 15,
     "metadata": {},
     "output_type": "execute_result"
    }
   ],
   "source": [
    "demand = schools[schools[\"POLYID\"].isin([2,3,4,5])]\n",
    "demand"
   ]
  },
  {
   "cell_type": "markdown",
   "metadata": {
    "ExecuteTime": {
     "end_time": "2020-01-21T04:39:16.711389Z",
     "start_time": "2020-01-21T04:39:16.702359Z"
    }
   },
   "source": [
    "#### Instantiate a network object"
   ]
  },
  {
   "cell_type": "code",
   "execution_count": 16,
   "metadata": {
    "ExecuteTime": {
     "end_time": "2020-02-03T01:20:43.364844Z",
     "start_time": "2020-02-03T01:20:42.804300Z"
    }
   },
   "outputs": [],
   "source": [
    "ntw = spaghetti.Network(in_data=streets)\n",
    "vertices, arcs = spaghetti.element_as_gdf(ntw, vertices=True, arcs=True)"
   ]
  },
  {
   "cell_type": "markdown",
   "metadata": {},
   "source": [
    "#### Plot"
   ]
  },
  {
   "cell_type": "code",
   "execution_count": 17,
   "metadata": {
    "ExecuteTime": {
     "end_time": "2020-02-03T01:20:44.135206Z",
     "start_time": "2020-02-03T01:20:43.401954Z"
    }
   },
   "outputs": [
    {
     "data": {
      "image/png": "[encoded data removed]",
      "text/plain": [
       "<Figure size 720x720 with 1 Axes>"
      ]
     },
     "metadata": {
      "image/png": {
       "height": 574,
       "width": 610
      },
      "needs_background": "light"
     },
     "output_type": "display_data"
    }
   ],
   "source": [
    "base = arcs.plot(linewidth=3, alpha=0.25, color=\"k\", zorder=0, figsize=(10, 10))\n",
    "vertices.plot(ax=base, markersize=2, color=\"red\", zorder=1)\n",
    "schools.plot(ax=base, markersize=5, color=\"k\", zorder=2)\n",
    "supply.plot(ax=base, markersize=100, alpha=0.25, color=\"blue\", zorder=2)\n",
    "demand.plot(ax=base, markersize=100, alpha=0.25, color=\"green\", zorder=2);"
   ]
  },
  {
   "cell_type": "markdown",
   "metadata": {},
   "source": [
    "#### Associate both the supply and demand schools with the network and plot"
   ]
  },
  {
   "cell_type": "code",
   "execution_count": 18,
   "metadata": {
    "ExecuteTime": {
     "end_time": "2020-02-03T01:20:44.275432Z",
     "start_time": "2020-02-03T01:20:44.199447Z"
    }
   },
   "outputs": [
    {
     "data": {
      "text/html": [
       "<div>\n",
       "<style scoped>\n",
       "    .dataframe tbody tr th:only-of-type {\n",
       "        vertical-align: middle;\n",
       "    }\n",
       "\n",
       "    .dataframe tbody tr th {\n",
       "        vertical-align: top;\n",
       "    }\n",
       "\n",
       "    .dataframe thead th {\n",
       "        text-align: right;\n",
       "    }\n",
       "</style>\n",
       "<table border=\"1\" class=\"dataframe\">\n",
       "  <thead>\n",
       "    <tr style=\"text-align: right;\">\n",
       "      <th></th>\n",
       "      <th>id</th>\n",
       "      <th>geometry</th>\n",
       "    </tr>\n",
       "  </thead>\n",
       "  <tbody>\n",
       "    <tr>\n",
       "      <th>0</th>\n",
       "      <td>0</td>\n",
       "      <td>POINT (221677.280 268183.579)</td>\n",
       "    </tr>\n",
       "    <tr>\n",
       "      <th>1</th>\n",
       "      <td>1</td>\n",
       "      <td>POINT (221538.890 268184.326)</td>\n",
       "    </tr>\n",
       "    <tr>\n",
       "      <th>2</th>\n",
       "      <td>2</td>\n",
       "      <td>POINT (221847.381 267926.950)</td>\n",
       "    </tr>\n",
       "    <tr>\n",
       "      <th>3</th>\n",
       "      <td>3</td>\n",
       "      <td>POINT (221406.647 268046.397)</td>\n",
       "    </tr>\n",
       "  </tbody>\n",
       "</table>\n",
       "</div>"
      ],
      "text/plain": [
       "   id                       geometry\n",
       "0   0  POINT (221677.280 268183.579)\n",
       "1   1  POINT (221538.890 268184.326)\n",
       "2   2  POINT (221847.381 267926.950)\n",
       "3   3  POINT (221406.647 268046.397)"
      ]
     },
     "execution_count": 18,
     "metadata": {},
     "output_type": "execute_result"
    }
   ],
   "source": [
    "ntw.snapobservations(supply, \"supply\")\n",
    "pp_supply = spaghetti.element_as_gdf(ntw, pp_name=\"supply\")\n",
    "pp_supply_snapped = spaghetti.element_as_gdf(ntw, pp_name=\"supply\", snapped=True)\n",
    "pp_supply_snapped"
   ]
  },
  {
   "cell_type": "code",
   "execution_count": 19,
   "metadata": {
    "ExecuteTime": {
     "end_time": "2020-02-03T01:20:44.840756Z",
     "start_time": "2020-02-03T01:20:44.751962Z"
    }
   },
   "outputs": [
    {
     "data": {
      "text/html": [
       "<div>\n",
       "<style scoped>\n",
       "    .dataframe tbody tr th:only-of-type {\n",
       "        vertical-align: middle;\n",
       "    }\n",
       "\n",
       "    .dataframe tbody tr th {\n",
       "        vertical-align: top;\n",
       "    }\n",
       "\n",
       "    .dataframe thead th {\n",
       "        text-align: right;\n",
       "    }\n",
       "</style>\n",
       "<table border=\"1\" class=\"dataframe\">\n",
       "  <thead>\n",
       "    <tr style=\"text-align: right;\">\n",
       "      <th></th>\n",
       "      <th>id</th>\n",
       "      <th>geometry</th>\n",
       "    </tr>\n",
       "  </thead>\n",
       "  <tbody>\n",
       "    <tr>\n",
       "      <th>0</th>\n",
       "      <td>0</td>\n",
       "      <td>POINT (221052.520 268129.805)</td>\n",
       "    </tr>\n",
       "    <tr>\n",
       "      <th>1</th>\n",
       "      <td>1</td>\n",
       "      <td>POINT (221525.970 267187.138)</td>\n",
       "    </tr>\n",
       "    <tr>\n",
       "      <th>2</th>\n",
       "      <td>2</td>\n",
       "      <td>POINT (220504.172 268087.247)</td>\n",
       "    </tr>\n",
       "    <tr>\n",
       "      <th>3</th>\n",
       "      <td>3</td>\n",
       "      <td>POINT (221292.004 267684.336)</td>\n",
       "    </tr>\n",
       "  </tbody>\n",
       "</table>\n",
       "</div>"
      ],
      "text/plain": [
       "   id                       geometry\n",
       "0   0  POINT (221052.520 268129.805)\n",
       "1   1  POINT (221525.970 267187.138)\n",
       "2   2  POINT (220504.172 268087.247)\n",
       "3   3  POINT (221292.004 267684.336)"
      ]
     },
     "execution_count": 19,
     "metadata": {},
     "output_type": "execute_result"
    }
   ],
   "source": [
    "ntw.snapobservations(demand, \"demand\")\n",
    "pp_demand = spaghetti.element_as_gdf(ntw, pp_name=\"demand\")\n",
    "pp_demand_snapped = spaghetti.element_as_gdf(ntw, pp_name=\"demand\", snapped=True)\n",
    "pp_demand_snapped"
   ]
  },
  {
   "cell_type": "code",
   "execution_count": 25,
   "metadata": {
    "ExecuteTime": {
     "end_time": "2020-02-03T01:24:48.168816Z",
     "start_time": "2020-02-03T01:24:47.441396Z"
    }
   },
   "outputs": [
    {
     "data": {
      "image/png": "[encoded data removed]",
      "text/plain": [
       "<Figure size 720x720 with 1 Axes>"
      ]
     },
     "metadata": {
      "image/png": {
       "height": 574,
       "width": 610
      },
      "needs_background": "light"
     },
     "output_type": "display_data"
    }
   ],
   "source": [
    "base = arcs.plot(linewidth=3, alpha=0.25, color=\"k\", zorder=0, figsize=(10, 10))\n",
    "vertices.plot(ax=base, markersize=5, color=\"r\", zorder=1)\n",
    "schools.plot(ax=base, markersize=5, color=\"k\", zorder=2)\n",
    "pp_supply.plot(ax=base, markersize=100, alpha=0.25, color=\"b\", zorder=3)\n",
    "pp_supply_snapped.plot(ax=base, markersize=20, marker=\"x\", color=\"b\", zorder=3)\n",
    "pp_demand.plot(ax=base, markersize=100, alpha=0.25, color=\"g\", zorder=2)\n",
    "pp_demand_snapped.plot(ax=base, markersize=20, marker=\"x\", color=\"g\", zorder=3);"
   ]
  },
  {
   "cell_type": "markdown",
   "metadata": {},
   "source": [
    "#### Calculate distance matrix while generating shortest path trees"
   ]
  },
  {
   "cell_type": "code",
   "execution_count": 27,
   "metadata": {
    "ExecuteTime": {
     "end_time": "2020-02-03T01:25:09.935652Z",
     "start_time": "2020-02-03T01:25:09.240598Z"
    }
   },
   "outputs": [
    {
     "data": {
      "text/plain": [
       "array([[ 849.03214874, 1141.07882307, 1355.96894348],\n",
       "       [ 705.24686884,  997.29354317, 1212.18366358],\n",
       "       [ 993.3892737 , 1052.63164495, 1500.32606844]])"
      ]
     },
     "execution_count": 27,
     "metadata": {},
     "output_type": "execute_result"
    }
   ],
   "source": [
    "d2d_dist, tree = ntw.allneighbordistances(\"supply\", \"demand\", gen_tree=True)\n",
    "d2d_dist[:3, :3]"
   ]
  },
  {
   "cell_type": "code",
   "execution_count": 28,
   "metadata": {
    "ExecuteTime": {
     "end_time": "2020-02-03T01:25:14.423111Z",
     "start_time": "2020-02-03T01:25:14.414879Z"
    }
   },
   "outputs": [
    {
     "data": {
      "text/plain": [
       "([((0, 0), (216, 218)),\n",
       "  ((0, 1), (216, 130)),\n",
       "  ((0, 2), (216, 24)),\n",
       "  ((0, 3), (216, 55))],\n",
       " [((3, 0), (65, 218)),\n",
       "  ((3, 1), (64, 130)),\n",
       "  ((3, 2), (65, 24)),\n",
       "  ((3, 3), (65, 55))])"
      ]
     },
     "execution_count": 28,
     "metadata": {},
     "output_type": "execute_result"
    }
   ],
   "source": [
    "list(tree.items())[:4], list(tree.items())[-4:]"
   ]
  },
  {
   "cell_type": "markdown",
   "metadata": {},
   "source": [
    "--------------------------------\n",
    "### 3. The Transportation Problem\n",
    "#### Create decision variables for the supply locations"
   ]
  },
  {
   "cell_type": "code",
   "execution_count": 29,
   "metadata": {
    "ExecuteTime": {
     "end_time": "2020-02-03T01:25:55.197626Z",
     "start_time": "2020-02-03T01:25:55.183475Z"
    }
   },
   "outputs": [
    {
     "data": {
      "text/html": [
       "<div>\n",
       "<style scoped>\n",
       "    .dataframe tbody tr th:only-of-type {\n",
       "        vertical-align: middle;\n",
       "    }\n",
       "\n",
       "    .dataframe tbody tr th {\n",
       "        vertical-align: top;\n",
       "    }\n",
       "\n",
       "    .dataframe thead th {\n",
       "        text-align: right;\n",
       "    }\n",
       "</style>\n",
       "<table border=\"1\" class=\"dataframe\">\n",
       "  <thead>\n",
       "    <tr style=\"text-align: right;\">\n",
       "      <th></th>\n",
       "      <th>id</th>\n",
       "      <th>geometry</th>\n",
       "      <th>dv</th>\n",
       "    </tr>\n",
       "  </thead>\n",
       "  <tbody>\n",
       "    <tr>\n",
       "      <th>0</th>\n",
       "      <td>0</td>\n",
       "      <td>POINT (221614.608 268182.322)</td>\n",
       "      <td>S_0</td>\n",
       "    </tr>\n",
       "    <tr>\n",
       "      <th>1</th>\n",
       "      <td>1</td>\n",
       "      <td>POINT (221542.156 268184.287)</td>\n",
       "      <td>S_1</td>\n",
       "    </tr>\n",
       "    <tr>\n",
       "      <th>2</th>\n",
       "      <td>2</td>\n",
       "      <td>POINT (221847.332 267982.491)</td>\n",
       "      <td>S_2</td>\n",
       "    </tr>\n",
       "    <tr>\n",
       "      <th>3</th>\n",
       "      <td>3</td>\n",
       "      <td>POINT (221406.289 267990.060)</td>\n",
       "      <td>S_3</td>\n",
       "    </tr>\n",
       "  </tbody>\n",
       "</table>\n",
       "</div>"
      ],
      "text/plain": [
       "   id                       geometry   dv\n",
       "0   0  POINT (221614.608 268182.322)  S_0\n",
       "1   1  POINT (221542.156 268184.287)  S_1\n",
       "2   2  POINT (221847.332 267982.491)  S_2\n",
       "3   3  POINT (221406.289 267990.060)  S_3"
      ]
     },
     "execution_count": 29,
     "metadata": {},
     "output_type": "execute_result"
    }
   ],
   "source": [
    "pp_supply[\"dv\"] = pp_supply[\"id\"].apply(lambda _id: \"S_%s\" % _id)\n",
    "pp_supply"
   ]
  },
  {
   "cell_type": "markdown",
   "metadata": {},
   "source": [
    "#### Create decision variables for the demand locations"
   ]
  },
  {
   "cell_type": "code",
   "execution_count": 30,
   "metadata": {
    "ExecuteTime": {
     "end_time": "2020-02-03T01:26:52.257675Z",
     "start_time": "2020-02-03T01:26:52.241492Z"
    }
   },
   "outputs": [
    {
     "data": {
      "text/html": [
       "<div>\n",
       "<style scoped>\n",
       "    .dataframe tbody tr th:only-of-type {\n",
       "        vertical-align: middle;\n",
       "    }\n",
       "\n",
       "    .dataframe tbody tr th {\n",
       "        vertical-align: top;\n",
       "    }\n",
       "\n",
       "    .dataframe thead th {\n",
       "        text-align: right;\n",
       "    }\n",
       "</style>\n",
       "<table border=\"1\" class=\"dataframe\">\n",
       "  <thead>\n",
       "    <tr style=\"text-align: right;\">\n",
       "      <th></th>\n",
       "      <th>id</th>\n",
       "      <th>geometry</th>\n",
       "      <th>dv</th>\n",
       "    </tr>\n",
       "  </thead>\n",
       "  <tbody>\n",
       "    <tr>\n",
       "      <th>0</th>\n",
       "      <td>0</td>\n",
       "      <td>POINT (221121.722 268130.726)</td>\n",
       "      <td>D_0</td>\n",
       "    </tr>\n",
       "    <tr>\n",
       "      <th>1</th>\n",
       "      <td>1</td>\n",
       "      <td>POINT (221474.120 267187.725)</td>\n",
       "      <td>D_1</td>\n",
       "    </tr>\n",
       "    <tr>\n",
       "      <th>2</th>\n",
       "      <td>2</td>\n",
       "      <td>POINT (220452.594 268086.776)</td>\n",
       "      <td>D_2</td>\n",
       "    </tr>\n",
       "    <tr>\n",
       "      <th>3</th>\n",
       "      <td>3</td>\n",
       "      <td>POINT (221235.286 267684.289)</td>\n",
       "      <td>D_3</td>\n",
       "    </tr>\n",
       "  </tbody>\n",
       "</table>\n",
       "</div>"
      ],
      "text/plain": [
       "   id                       geometry   dv\n",
       "0   0  POINT (221121.722 268130.726)  D_0\n",
       "1   1  POINT (221474.120 267187.725)  D_1\n",
       "2   2  POINT (220452.594 268086.776)  D_2\n",
       "3   3  POINT (221235.286 267684.289)  D_3"
      ]
     },
     "execution_count": 30,
     "metadata": {},
     "output_type": "execute_result"
    }
   ],
   "source": [
    "pp_demand[\"dv\"] = pp_demand[\"id\"].apply(lambda _id: \"D_%s\" % _id)\n",
    "pp_demand"
   ]
  },
  {
   "cell_type": "markdown",
   "metadata": {},
   "source": [
    "#### Solve the Transportation Problem"
   ]
  },
  {
   "cell_type": "code",
   "execution_count": 31,
   "metadata": {
    "ExecuteTime": {
     "end_time": "2020-02-03T01:31:59.539872Z",
     "start_time": "2020-02-03T01:31:59.536658Z"
    }
   },
   "outputs": [],
   "source": [
    "#trans_prob = TransportationProblem(pp_obs[\"dv\"], d2d_dist)"
   ]
  },
  {
   "cell_type": "markdown",
   "metadata": {},
   "source": [
    "####  Extract all network shortest paths"
   ]
  },
  {
   "cell_type": "code",
   "execution_count": 15,
   "metadata": {
    "ExecuteTime": {
     "end_time": "2020-02-02T18:48:54.539268Z",
     "start_time": "2020-02-02T18:48:54.482173Z"
    }
   },
   "outputs": [
    {
     "data": {
      "text/html": [
       "<div>\n",
       "<style scoped>\n",
       "    .dataframe tbody tr th:only-of-type {\n",
       "        vertical-align: middle;\n",
       "    }\n",
       "\n",
       "    .dataframe tbody tr th {\n",
       "        vertical-align: top;\n",
       "    }\n",
       "\n",
       "    .dataframe thead th {\n",
       "        text-align: right;\n",
       "    }\n",
       "</style>\n",
       "<table border=\"1\" class=\"dataframe\">\n",
       "  <thead>\n",
       "    <tr style=\"text-align: right;\">\n",
       "      <th></th>\n",
       "      <th>id</th>\n",
       "      <th>geometry</th>\n",
       "    </tr>\n",
       "  </thead>\n",
       "  <tbody>\n",
       "    <tr>\n",
       "      <th>0</th>\n",
       "      <td>(0, 1)</td>\n",
       "      <td>LINESTRING (221652.388 266992.490, 221523.237 ...</td>\n",
       "    </tr>\n",
       "    <tr>\n",
       "      <th>1</th>\n",
       "      <td>(0, 2)</td>\n",
       "      <td>LINESTRING (221652.388 266992.490, 221523.237 ...</td>\n",
       "    </tr>\n",
       "    <tr>\n",
       "      <th>2</th>\n",
       "      <td>(0, 3)</td>\n",
       "      <td>LINESTRING (221652.388 266992.490, 221523.237 ...</td>\n",
       "    </tr>\n",
       "    <tr>\n",
       "      <th>3</th>\n",
       "      <td>(0, 4)</td>\n",
       "      <td>LINESTRING (221652.388 266992.490, 221523.237 ...</td>\n",
       "    </tr>\n",
       "    <tr>\n",
       "      <th>4</th>\n",
       "      <td>(0, 5)</td>\n",
       "      <td>LINESTRING (221652.388 266992.490, 221523.237 ...</td>\n",
       "    </tr>\n",
       "  </tbody>\n",
       "</table>\n",
       "</div>"
      ],
      "text/plain": [
       "       id                                           geometry\n",
       "0  (0, 1)  LINESTRING (221652.388 266992.490, 221523.237 ...\n",
       "1  (0, 2)  LINESTRING (221652.388 266992.490, 221523.237 ...\n",
       "2  (0, 3)  LINESTRING (221652.388 266992.490, 221523.237 ...\n",
       "3  (0, 4)  LINESTRING (221652.388 266992.490, 221523.237 ...\n",
       "4  (0, 5)  LINESTRING (221652.388 266992.490, 221523.237 ..."
      ]
     },
     "execution_count": 15,
     "metadata": {},
     "output_type": "execute_result"
    }
   ],
   "source": [
    "paths = ntw.shortest_paths(tree, \"supply\", \"demand\")\n",
    "paths_gdf = spaghetti.element_as_gdf(ntw, routes=paths)\n",
    "paths_gdf.head()"
   ]
  },
  {
   "cell_type": "markdown",
   "metadata": {},
   "source": [
    "####  Extract the tour"
   ]
  },
  {
   "cell_type": "code",
   "execution_count": 16,
   "metadata": {
    "ExecuteTime": {
     "end_time": "2020-02-02T18:48:54.606378Z",
     "start_time": "2020-02-02T18:48:54.550601Z"
    }
   },
   "outputs": [
    {
     "data": {
      "text/html": [
       "<div>\n",
       "<style scoped>\n",
       "    .dataframe tbody tr th:only-of-type {\n",
       "        vertical-align: middle;\n",
       "    }\n",
       "\n",
       "    .dataframe tbody tr th {\n",
       "        vertical-align: top;\n",
       "    }\n",
       "\n",
       "    .dataframe thead th {\n",
       "        text-align: right;\n",
       "    }\n",
       "</style>\n",
       "<table border=\"1\" class=\"dataframe\">\n",
       "  <thead>\n",
       "    <tr style=\"text-align: right;\">\n",
       "      <th></th>\n",
       "      <th>id</th>\n",
       "      <th>geometry</th>\n",
       "      <th>leg</th>\n",
       "    </tr>\n",
       "  </thead>\n",
       "  <tbody>\n",
       "    <tr>\n",
       "      <th>0</th>\n",
       "      <td>(0, 1)</td>\n",
       "      <td>LINESTRING (221652.388 266992.490, 221523.237 ...</td>\n",
       "      <td>0</td>\n",
       "    </tr>\n",
       "    <tr>\n",
       "      <th>13</th>\n",
       "      <td>(1, 2)</td>\n",
       "      <td>LINESTRING (220775.021 267000.303, 220807.418 ...</td>\n",
       "      <td>1</td>\n",
       "    </tr>\n",
       "    <tr>\n",
       "      <th>25</th>\n",
       "      <td>(2, 3)</td>\n",
       "      <td>LINESTRING (220961.989 267315.817, 220853.037 ...</td>\n",
       "      <td>2</td>\n",
       "    </tr>\n",
       "    <tr>\n",
       "      <th>36</th>\n",
       "      <td>(3, 4)</td>\n",
       "      <td>LINESTRING (220807.120 267386.436, 220806.992 ...</td>\n",
       "      <td>3</td>\n",
       "    </tr>\n",
       "    <tr>\n",
       "      <th>47</th>\n",
       "      <td>(4, 6)</td>\n",
       "      <td>LINESTRING (220796.691 267553.295, 220695.386 ...</td>\n",
       "      <td>4</td>\n",
       "    </tr>\n",
       "  </tbody>\n",
       "</table>\n",
       "</div>"
      ],
      "text/plain": [
       "        id                                           geometry leg\n",
       "0   (0, 1)  LINESTRING (221652.388 266992.490, 221523.237 ...   0\n",
       "13  (1, 2)  LINESTRING (220775.021 267000.303, 220807.418 ...   1\n",
       "25  (2, 3)  LINESTRING (220961.989 267315.817, 220853.037 ...   2\n",
       "36  (3, 4)  LINESTRING (220807.120 267386.436, 220806.992 ...   3\n",
       "47  (4, 6)  LINESTRING (220796.691 267553.295, 220695.386 ...   4"
      ]
     },
     "execution_count": 16,
     "metadata": {},
     "output_type": "execute_result"
    }
   ],
   "source": [
    "tour = trans_prob.extract_shipments(paths_gdf, \"id\")\n",
    "tour.head()"
   ]
  },
  {
   "cell_type": "markdown",
   "metadata": {},
   "source": [
    "#### Define label helper functions and plot the.... optimal shipping schedule"
   ]
  },
  {
   "cell_type": "code",
   "execution_count": 17,
   "metadata": {
    "ExecuteTime": {
     "end_time": "2020-02-02T18:48:54.631165Z",
     "start_time": "2020-02-02T18:48:54.614845Z"
    }
   },
   "outputs": [],
   "source": [
    "def tour_labels(t, b):\n",
    "    \"\"\"Label each leg of the tour.\"\"\"\n",
    "\n",
    "    def _lab_loc(_x):\n",
    "        \"\"\"Helper for labeling location.\"\"\"\n",
    "        return _x.geometry.interpolate(0.5, normalized=True).coords[0]\n",
    "\n",
    "    kws = {\"size\": 20, \"ha\": \"center\", \"va\": \"bottom\", \"weight\": \"bold\"}\n",
    "    t.apply(lambda x: b.annotate(s=x.leg, xy=_lab_loc(x), **kws), axis=1)\n",
    "\n",
    "\n",
    "def obs_labels(o, b):\n",
    "    \"\"\"Label each point pattern observation.\"\"\"\n",
    "\n",
    "    def _lab_loc(_x):\n",
    "        \"\"\"Helper for labeling observations.\"\"\"\n",
    "        return _x.geometry.coords[0]\n",
    "\n",
    "    kws = {\"size\": 14, \"ha\": \"left\", \"va\": \"bottom\", \"style\": \"oblique\", \"color\": \"k\"}\n",
    "    o.apply(lambda x: b.annotate(s=x.id, xy=_lab_loc(x), **kws), axis=1)"
   ]
  },
  {
   "cell_type": "code",
   "execution_count": 18,
   "metadata": {
    "ExecuteTime": {
     "end_time": "2020-02-02T18:48:55.970025Z",
     "start_time": "2020-02-02T18:48:54.638765Z"
    }
   },
   "outputs": [
    {
     "data": {
      "image/png": "[encoded data removed]",
      "text/plain": [
       "<Figure size 720x720 with 1 Axes>"
      ]
     },
     "metadata": {
      "needs_background": "light"
     },
     "output_type": "display_data"
    }
   ],
   "source": [
    "base = arcs.plot(alpha=0.2, linewidth=1, color=\"k\", figsize=(10, 10), zorder=0)\n",
    "tour.plot(ax=base, column=\"id\", cmap=\"tab20\", alpha=0.50, linewidth=10, zorder=1)\n",
    "vertices.plot(ax=base, markersize=1, color=\"r\", zorder=2)\n",
    "pp_obs.plot(ax=base, markersize=20, color=\"k\", zorder=3)\n",
    "pp_obs_snapped.plot(ax=base, markersize=20, color=\"k\", marker=\"x\", zorder=2)\n",
    "# tour leg labels\n",
    "tour_labels(tour, base)\n",
    "# crime scene labels\n",
    "obs_labels(pp_obs, base)"
   ]
  },
  {
   "cell_type": "markdown",
   "metadata": {},
   "source": [
    "----------------------"
   ]
  }
 ],
 "metadata": {
  "hide_input": false,
  "kernelspec": {
   "display_name": "Python [conda env:py3_spgh_dev]",
   "language": "python",
   "name": "conda-env-py3_spgh_dev-py"
  },
  "language_info": {
   "codemirror_mode": {
    "name": "ipython",
    "version": 3
   },
   "file_extension": ".py",
   "mimetype": "text/x-python",
   "name": "python",
   "nbconvert_exporter": "python",
   "pygments_lexer": "ipython3",
   "version": "3.7.3"
  },
  "latex_envs": {
   "LaTeX_envs_menu_present": true,
   "autocomplete": true,
   "bibliofile": "biblio.bib",
   "cite_by": "apalike",
   "current_citInitial": 1,
   "eqLabelWithNumbers": true,
   "eqNumInitial": 1,
   "hotkeys": {
    "equation": "Ctrl-E",
    "itemize": "Ctrl-I"
   },
   "labels_anchors": false,
   "latex_user_defs": false,
   "report_style_numbering": false,
   "user_envs_cfg": false
  }
 },
 "nbformat": 4,
 "nbformat_minor": 2
}
