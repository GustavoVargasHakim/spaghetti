{
 "cells": [
  {
   "cell_type": "markdown",
   "metadata": {},
   "source": [
    "-------------------"
   ]
  },
  {
   "cell_type": "markdown",
   "metadata": {
    "extensions": {
     "jupyter_dashboards": {
      "version": 1,
      "views": {
       "grid_default": {
        "col": 0,
        "height": 4,
        "hidden": false,
        "row": 0,
        "width": 12
       },
       "report_default": {}
      }
     }
    }
   },
   "source": [
    "## Basic Tutorial for `pysal.spaghetti`"
   ]
  },
  {
   "cell_type": "code",
   "execution_count": 1,
   "metadata": {
    "ExecuteTime": {
     "end_time": "2018-11-24T20:29:52.132235Z",
     "start_time": "2018-11-24T20:29:52.111080Z"
    }
   },
   "outputs": [],
   "source": [
    "import os\n",
    "last_modified = None\n",
    "if os.name == \"posix\":\n",
    "    last_modified = !stat -f\\\n",
    "                    \"# This notebook was last updated: %Sm\"\\\n",
    "                     Network_Usage.ipynb\n",
    "elif os.name == \"nt\":\n",
    "    last_modified = !for %a in (Network_Usage.ipynb)\\\n",
    "                    do echo # This notebook was last updated: %~ta\n",
    "    \n",
    "if last_modified:\n",
    "    get_ipython().set_next_input(last_modified[-1])"
   ]
  },
  {
   "cell_type": "code",
   "execution_count": null,
   "metadata": {},
   "outputs": [],
   "source": [
    "# This notebook was last updated: Nov 24 15:23:24 2018"
   ]
  },
  {
   "cell_type": "markdown",
   "metadata": {},
   "source": [
    "--------------------------"
   ]
  },
  {
   "cell_type": "code",
   "execution_count": 4,
   "metadata": {
    "ExecuteTime": {
     "end_time": "2018-11-24T20:29:53.580413Z",
     "start_time": "2018-11-24T20:29:52.175296Z"
    },
    "extensions": {
     "jupyter_dashboards": {
      "version": 1,
      "views": {
       "grid_default": {
        "hidden": true
       },
       "report_default": {}
      }
     }
    }
   },
   "outputs": [],
   "source": [
    "# pysal submodule imports\n",
    "from libpysal import examples\n",
    "import spaghetti as spgh\n",
    "import esda\n",
    "\n",
    "import geopandas as gpd\n",
    "from shapely.geometry import Point, LineString\n",
    "import numpy as np\n",
    "import matplotlib.pyplot as plt\n",
    "import time\n",
    "%matplotlib inline\n",
    "\n",
    "__author__ = \"James Gaboardi <jgaboardi@gmail.com>\""
   ]
  },
  {
   "cell_type": "markdown",
   "metadata": {
    "extensions": {
     "jupyter_dashboards": {
      "version": 1,
      "views": {
       "grid_default": {
        "col": 4,
        "height": 4,
        "hidden": false,
        "row": 4,
        "width": 4
       },
       "report_default": {}
      }
     }
    }
   },
   "source": [
    "### Instantiate a network"
   ]
  },
  {
   "cell_type": "code",
   "execution_count": 5,
   "metadata": {
    "ExecuteTime": {
     "end_time": "2018-11-24T20:29:53.660385Z",
     "start_time": "2018-11-24T20:29:53.583359Z"
    },
    "extensions": {
     "jupyter_dashboards": {
      "version": 1,
      "views": {
       "grid_default": {
        "hidden": true
       },
       "report_default": {}
      }
     }
    }
   },
   "outputs": [],
   "source": [
    "ntw = spgh.Network(in_data=examples.get_path('streets.shp'))"
   ]
  },
  {
   "cell_type": "markdown",
   "metadata": {
    "extensions": {
     "jupyter_dashboards": {
      "version": 1,
      "views": {
       "grid_default": {
        "col": 8,
        "height": 4,
        "hidden": false,
        "row": 4,
        "width": 4
       },
       "report_default": {}
      }
     }
    }
   },
   "source": [
    "### Snap point patterns to the network"
   ]
  },
  {
   "cell_type": "code",
   "execution_count": 6,
   "metadata": {
    "ExecuteTime": {
     "end_time": "2018-11-24T20:29:53.989045Z",
     "start_time": "2018-11-24T20:29:53.662127Z"
    },
    "extensions": {
     "jupyter_dashboards": {
      "version": 1,
      "views": {
       "grid_default": {
        "hidden": true
       },
       "report_default": {}
      }
     }
    }
   },
   "outputs": [],
   "source": [
    "# Crimes\n",
    "ntw.snapobservations(examples.get_path('crimes.shp'), 'crimes', attribute=True)\n",
    "# Schools\n",
    "ntw.snapobservations(examples.get_path('schools.shp'), 'schools', attribute=False)"
   ]
  },
  {
   "cell_type": "markdown",
   "metadata": {
    "extensions": {
     "jupyter_dashboards": {
      "version": 1,
      "views": {
       "grid_default": {
        "col": 0,
        "height": 4,
        "hidden": false,
        "row": 8,
        "width": null
       },
       "report_default": {}
      }
     }
    }
   },
   "source": [
    "### A network is composed of a single topological representation of a road and $n$ point patterns which are snapped to the network."
   ]
  },
  {
   "cell_type": "code",
   "execution_count": 7,
   "metadata": {
    "ExecuteTime": {
     "end_time": "2018-11-24T20:29:54.001274Z",
     "start_time": "2018-11-24T20:29:53.992030Z"
    },
    "extensions": {
     "jupyter_dashboards": {
      "version": 1,
      "views": {
       "grid_default": {
        "hidden": true
       },
       "report_default": {}
      }
     }
    }
   },
   "outputs": [
    {
     "data": {
      "text/plain": [
       "{'crimes': <spaghetti.network.PointPattern at 0x1a20c3a668>,\n",
       " 'schools': <spaghetti.network.PointPattern at 0x1a20c3a5f8>}"
      ]
     },
     "execution_count": 7,
     "metadata": {},
     "output_type": "execute_result"
    }
   ],
   "source": [
    "ntw.pointpatterns"
   ]
  },
  {
   "cell_type": "markdown",
   "metadata": {
    "extensions": {
     "jupyter_dashboards": {
      "version": 1,
      "views": {
       "grid_default": {
        "col": 0,
        "height": 4,
        "hidden": false,
        "row": 12,
        "width": 4
       },
       "report_default": {}
      }
     }
    }
   },
   "source": [
    "### Attributes for every point pattern"
   ]
  },
  {
   "cell_type": "markdown",
   "metadata": {
    "extensions": {
     "jupyter_dashboards": {
      "version": 1,
      "views": {
       "grid_default": {
        "col": 0,
        "height": 8,
        "hidden": false,
        "row": 16,
        "width": 12
       },
       "report_default": {}
      }
     }
    }
   },
   "source": [
    "1. `dist_to_node` dict keyed by pointid with the value being a dict in the form \n",
    "        {node: distance to node, node: distance to node}\n",
    "2. `obs_to_edge` dict keyed by edge with the value being a dict in the form \n",
    "        {pointID:(x-coord, y-coord), pointID:(x-coord, y-coord), ... }\n",
    "3. `obs_to_node`\n",
    "4. `points` geojson like representation of the point pattern.  Includes properties if read with attributes=True\n",
    "5. `snapped_coordinates` dict keyed by pointid with the value being (x-coord, y-coord)"
   ]
  },
  {
   "cell_type": "markdown",
   "metadata": {
    "extensions": {
     "jupyter_dashboards": {
      "version": 1,
      "views": {
       "grid_default": {
        "col": 0,
        "height": 4,
        "hidden": false,
        "row": 24,
        "width": 12
       },
       "report_default": {}
      }
     }
    }
   },
   "source": [
    "### Counts per edge are important, but should not be precomputed since we have different representations of the network (digitized and graph currently).  (Relatively) Uniform segmentation still needs to be done."
   ]
  },
  {
   "cell_type": "code",
   "execution_count": 8,
   "metadata": {
    "ExecuteTime": {
     "end_time": "2018-11-24T20:29:54.012773Z",
     "start_time": "2018-11-24T20:29:54.006022Z"
    },
    "extensions": {
     "jupyter_dashboards": {
      "version": 1,
      "views": {
       "grid_default": {
        "hidden": true
       },
       "report_default": {}
      }
     }
    }
   },
   "outputs": [],
   "source": [
    "counts = ntw.count_per_edge(ntw.pointpatterns['crimes'].obs_to_edge,\n",
    "                            graph=False)"
   ]
  },
  {
   "cell_type": "code",
   "execution_count": 9,
   "metadata": {
    "ExecuteTime": {
     "end_time": "2018-11-24T20:29:54.025997Z",
     "start_time": "2018-11-24T20:29:54.016103Z"
    },
    "extensions": {
     "jupyter_dashboards": {
      "version": 1,
      "views": {
       "grid_default": {
        "hidden": true
       },
       "report_default": {}
      }
     }
    }
   },
   "outputs": [
    {
     "data": {
      "text/plain": [
       "2.682242990654206"
      ]
     },
     "execution_count": 9,
     "metadata": {},
     "output_type": "execute_result"
    }
   ],
   "source": [
    "sum(list(counts.values())) / float(len(counts.keys()))"
   ]
  },
  {
   "cell_type": "markdown",
   "metadata": {
    "extensions": {
     "jupyter_dashboards": {
      "version": 1,
      "views": {
       "grid_default": {
        "col": 4,
        "height": 4,
        "hidden": false,
        "row": 12,
        "width": 4
       },
       "report_default": {}
      }
     }
    }
   },
   "source": [
    "### Segmentation"
   ]
  },
  {
   "cell_type": "code",
   "execution_count": 10,
   "metadata": {
    "ExecuteTime": {
     "end_time": "2018-11-24T20:29:54.512961Z",
     "start_time": "2018-11-24T20:29:54.030618Z"
    },
    "extensions": {
     "jupyter_dashboards": {
      "version": 1,
      "views": {
       "grid_default": {
        "hidden": true
       },
       "report_default": {}
      }
     }
    }
   },
   "outputs": [],
   "source": [
    "n200 = ntw.segment_edges(200.0)"
   ]
  },
  {
   "cell_type": "code",
   "execution_count": 11,
   "metadata": {
    "ExecuteTime": {
     "end_time": "2018-11-24T20:29:54.524188Z",
     "start_time": "2018-11-24T20:29:54.514515Z"
    },
    "extensions": {
     "jupyter_dashboards": {
      "version": 1,
      "views": {
       "grid_default": {
        "hidden": true
       },
       "report_default": {}
      }
     }
    }
   },
   "outputs": [
    {
     "data": {
      "text/plain": [
       "2.05"
      ]
     },
     "execution_count": 11,
     "metadata": {},
     "output_type": "execute_result"
    }
   ],
   "source": [
    "counts = n200.count_per_edge(n200.pointpatterns['crimes'].obs_to_edge, graph=False)\n",
    "sum(counts.values()) / float(len(counts.keys()))"
   ]
  },
  {
   "cell_type": "markdown",
   "metadata": {},
   "source": [
    "### Create `geopandas.GeoDataFrame` objects of the nodes and edges"
   ]
  },
  {
   "cell_type": "code",
   "execution_count": 12,
   "metadata": {
    "ExecuteTime": {
     "end_time": "2018-11-24T20:29:55.092156Z",
     "start_time": "2018-11-24T20:29:54.527716Z"
    }
   },
   "outputs": [],
   "source": [
    "# 'full' unsegmented network\n",
    "nodes_df, edges_df = spgh.element_as_gdf(ntw, nodes=ntw.node_coords,\n",
    "                                         edges=ntw.edges)\n",
    "# network segmented at 200-meter increments\n",
    "nodes200_df, edges200_df = spgh.element_as_gdf(ntw, nodes=n200.node_coords,\n",
    "                                               edges=n200.edges)"
   ]
  },
  {
   "cell_type": "markdown",
   "metadata": {
    "extensions": {
     "jupyter_dashboards": {
      "version": 1,
      "views": {
       "grid_default": {
        "col": 0,
        "height": 4,
        "hidden": false,
        "row": 28,
        "width": 12
       },
       "report_default": {}
      }
     }
    }
   },
   "source": [
    "### Visualization of the shapefile derived, unsegmented network with nodes in a larger, blue, semi-opaque form and the distance segmented network with small, red, fully opaque nodes."
   ]
  },
  {
   "cell_type": "code",
   "execution_count": 13,
   "metadata": {
    "ExecuteTime": {
     "end_time": "2018-11-24T20:29:55.670890Z",
     "start_time": "2018-11-24T20:29:55.093931Z"
    }
   },
   "outputs": [
    {
     "data": {
      "text/plain": [
       "<matplotlib.axes._subplots.AxesSubplot at 0x1a20e6d550>"
      ]
     },
     "execution_count": 13,
     "metadata": {},
     "output_type": "execute_result"
    },
    {
     "data": {
      "image/png": "[encoded data removed]",
      "text/plain": [
       "<Figure size 864x864 with 1 Axes>"
      ]
     },
     "metadata": {
      "needs_background": "light"
     },
     "output_type": "display_data"
    }
   ],
   "source": [
    "base = edges_df.plot(color='k', alpha=.25, figsize=(12,12))\n",
    "nodes_df.plot(ax=base, color='b', markersize=300, alpha=.25)\n",
    "edges200_df.plot(ax=base, color='k', alpha=.25)\n",
    "nodes200_df.plot(ax=base, color='r', markersize=25, alpha=1.)"
   ]
  },
  {
   "cell_type": "markdown",
   "metadata": {
    "extensions": {
     "jupyter_dashboards": {
      "version": 1,
      "views": {
       "grid_default": {
        "col": 8,
        "height": 4,
        "hidden": false,
        "row": 12,
        "width": 4
       },
       "report_default": {}
      }
     }
    }
   },
   "source": [
    "### Moran's I using the digitized network"
   ]
  },
  {
   "cell_type": "code",
   "execution_count": 14,
   "metadata": {
    "ExecuteTime": {
     "end_time": "2018-11-24T20:29:55.718917Z",
     "start_time": "2018-11-24T20:29:55.672896Z"
    },
    "extensions": {
     "jupyter_dashboards": {
      "version": 1,
      "views": {
       "grid_default": {
        "hidden": true
       },
       "report_default": {}
      }
     }
    }
   },
   "outputs": [
    {
     "name": "stdout",
     "output_type": "stream",
     "text": [
      "['EI', 'EI_sim', 'I', 'VI_norm', 'VI_rand', 'VI_sim', '_Moran__calc', '_Moran__moments', '__class__', '__delattr__', '__dict__', '__dir__', '__doc__', '__eq__', '__format__', '__ge__', '__getattribute__', '__gt__', '__hash__', '__init__', '__init_subclass__', '__le__', '__lt__', '__module__', '__ne__', '__new__', '__reduce__', '__reduce_ex__', '__repr__', '__setattr__', '__sizeof__', '__str__', '__subclasshook__', '__weakref__', '_statistic', 'by_col', 'n', 'p_norm', 'p_rand', 'p_sim', 'p_z_sim', 'permutations', 'seI_norm', 'seI_rand', 'seI_sim', 'sim', 'w', 'y', 'z', 'z2ss', 'z_norm', 'z_rand', 'z_sim']\n"
     ]
    }
   ],
   "source": [
    "# Binary Adjacency\n",
    "w = ntw.contiguityweights(graph=False)\n",
    "\n",
    "# Build the y vector\n",
    "edges = w.neighbors.keys()\n",
    "y = np.zeros(len(edges))\n",
    "for i, e in enumerate(edges):\n",
    "    if e in counts.keys():\n",
    "        y[i] = counts[e]\n",
    "\n",
    "# Moran's I\n",
    "res = esda.moran.Moran(y, w, permutations=99)\n",
    "print(dir(res))"
   ]
  },
  {
   "cell_type": "markdown",
   "metadata": {
    "extensions": {
     "jupyter_dashboards": {
      "version": 1,
      "views": {
       "grid_default": {
        "col": 0,
        "height": 4,
        "hidden": false,
        "row": 32,
        "width": 12
       },
       "report_default": {}
      }
     }
    }
   },
   "source": [
    "### Moran's I using the graph representation to generate the W\n",
    "\n",
    "* Note that we have to regenerate the counts per edge, since the graph will have less edges."
   ]
  },
  {
   "cell_type": "code",
   "execution_count": 15,
   "metadata": {
    "ExecuteTime": {
     "end_time": "2018-11-24T20:29:55.753334Z",
     "start_time": "2018-11-24T20:29:55.720991Z"
    },
    "extensions": {
     "jupyter_dashboards": {
      "version": 1,
      "views": {
       "grid_default": {
        "hidden": true
       },
       "report_default": {}
      }
     }
    }
   },
   "outputs": [
    {
     "name": "stdout",
     "output_type": "stream",
     "text": [
      "['EI', 'EI_sim', 'I', 'VI_norm', 'VI_rand', 'VI_sim', '_Moran__calc', '_Moran__moments', '__class__', '__delattr__', '__dict__', '__dir__', '__doc__', '__eq__', '__format__', '__ge__', '__getattribute__', '__gt__', '__hash__', '__init__', '__init_subclass__', '__le__', '__lt__', '__module__', '__ne__', '__new__', '__reduce__', '__reduce_ex__', '__repr__', '__setattr__', '__sizeof__', '__str__', '__subclasshook__', '__weakref__', '_statistic', 'by_col', 'n', 'p_norm', 'p_rand', 'p_sim', 'p_z_sim', 'permutations', 'seI_norm', 'seI_rand', 'seI_sim', 'sim', 'w', 'y', 'z', 'z2ss', 'z_norm', 'z_rand', 'z_sim']\n"
     ]
    }
   ],
   "source": [
    "counts = ntw.count_per_edge(ntw.pointpatterns['crimes'].obs_to_edge, graph=True)\n",
    "\n",
    "# Binary Adjacency\n",
    "w = ntw.contiguityweights(graph=True)\n",
    "\n",
    "# Build the y vector\n",
    "edges = w.neighbors.keys()\n",
    "y = np.zeros(len(edges))\n",
    "for i, e in enumerate(edges):\n",
    "    if e in counts.keys():\n",
    "        y[i] = counts[e]\n",
    "\n",
    "# Moran's I\n",
    "res = esda.moran.Moran(y, w, permutations=99)\n",
    "\n",
    "print(dir(res))"
   ]
  },
  {
   "cell_type": "markdown",
   "metadata": {
    "extensions": {
     "jupyter_dashboards": {
      "version": 1,
      "views": {
       "grid_default": {
        "col": 0,
        "height": 4,
        "hidden": false,
        "row": 36,
        "width": 4
       },
       "report_default": {}
      }
     }
    }
   },
   "source": [
    "### Moran's I using the segmented network and intensities instead of counts"
   ]
  },
  {
   "cell_type": "code",
   "execution_count": 16,
   "metadata": {
    "ExecuteTime": {
     "end_time": "2018-11-24T20:29:55.913502Z",
     "start_time": "2018-11-24T20:29:55.762136Z"
    },
    "extensions": {
     "jupyter_dashboards": {
      "version": 1,
      "views": {
       "grid_default": {
        "hidden": true
       },
       "report_default": {}
      }
     }
    }
   },
   "outputs": [
    {
     "name": "stdout",
     "output_type": "stream",
     "text": [
      "['EI', 'EI_sim', 'I', 'VI_norm', 'VI_rand', 'VI_sim', '_Moran__calc', '_Moran__moments', '__class__', '__delattr__', '__dict__', '__dir__', '__doc__', '__eq__', '__format__', '__ge__', '__getattribute__', '__gt__', '__hash__', '__init__', '__init_subclass__', '__le__', '__lt__', '__module__', '__ne__', '__new__', '__reduce__', '__reduce_ex__', '__repr__', '__setattr__', '__sizeof__', '__str__', '__subclasshook__', '__weakref__', '_statistic', 'by_col', 'n', 'p_norm', 'p_rand', 'p_sim', 'p_z_sim', 'permutations', 'seI_norm', 'seI_rand', 'seI_sim', 'sim', 'w', 'y', 'z', 'z2ss', 'z_norm', 'z_rand', 'z_sim']\n"
     ]
    }
   ],
   "source": [
    "# Binary Adjacency\n",
    "w = n200.contiguityweights(graph=False)\n",
    "\n",
    "# Compute the counts\n",
    "counts = n200.count_per_edge(n200.pointpatterns['crimes'].obs_to_edge, graph=False)\n",
    "\n",
    "# Build the y vector and convert from raw counts to intensities\n",
    "edges = w.neighbors.keys()\n",
    "y = np.zeros(len(edges))\n",
    "for i, e in enumerate(edges):\n",
    "    if e in counts.keys():\n",
    "        length = n200.edge_lengths[e]\n",
    "        y[i] = counts[e] / length\n",
    "\n",
    "# Moran's I\n",
    "res = esda.moran.Moran(y, w, permutations=99)\n",
    "\n",
    "print(dir(res))"
   ]
  },
  {
   "cell_type": "markdown",
   "metadata": {
    "extensions": {
     "jupyter_dashboards": {
      "version": 1,
      "views": {
       "grid_default": {
        "col": 4,
        "height": 4,
        "hidden": false,
        "row": 36,
        "width": 4
       },
       "report_default": {}
      }
     }
    }
   },
   "source": [
    "### Timings for distance based methods, e.g. G-function"
   ]
  },
  {
   "cell_type": "code",
   "execution_count": 17,
   "metadata": {
    "ExecuteTime": {
     "end_time": "2018-11-24T20:29:56.385370Z",
     "start_time": "2018-11-24T20:29:55.916306Z"
    },
    "extensions": {
     "jupyter_dashboards": {
      "version": 1,
      "views": {
       "grid_default": {
        "hidden": true
       },
       "report_default": {}
      }
     }
    }
   },
   "outputs": [
    {
     "name": "stdout",
     "output_type": "stream",
     "text": [
      "0.4652080535888672\n"
     ]
    }
   ],
   "source": [
    "t1 = time.time()\n",
    "n0 = ntw.allneighbordistances(ntw.pointpatterns['crimes'])\n",
    "print(time.time()-t1)"
   ]
  },
  {
   "cell_type": "code",
   "execution_count": 18,
   "metadata": {
    "ExecuteTime": {
     "end_time": "2018-11-24T20:29:58.576588Z",
     "start_time": "2018-11-24T20:29:56.388103Z"
    },
    "extensions": {
     "jupyter_dashboards": {
      "version": 1,
      "views": {
       "grid_default": {
        "hidden": true
       },
       "report_default": {}
      }
     }
    }
   },
   "outputs": [
    {
     "name": "stdout",
     "output_type": "stream",
     "text": [
      "2.18487286567688\n"
     ]
    }
   ],
   "source": [
    "t1 = time.time()\n",
    "n1 = n200.allneighbordistances(n200.pointpatterns['crimes'])\n",
    "print(time.time()-t1)"
   ]
  },
  {
   "cell_type": "markdown",
   "metadata": {
    "extensions": {
     "jupyter_dashboards": {
      "version": 1,
      "views": {
       "grid_default": {
        "col": 8,
        "height": 4,
        "hidden": false,
        "row": 36,
        "width": 4
       },
       "report_default": {}
      }
     }
    }
   },
   "source": [
    "* Note that the first time these methods are called, the underlying node-to-node shortest path distance matrix has to be calculated. Subsequent calls will not require this, and will be much faster:"
   ]
  },
  {
   "cell_type": "code",
   "execution_count": 19,
   "metadata": {
    "ExecuteTime": {
     "end_time": "2018-11-24T20:29:58.759731Z",
     "start_time": "2018-11-24T20:29:58.579210Z"
    },
    "extensions": {
     "jupyter_dashboards": {
      "version": 1,
      "views": {
       "grid_default": {
        "hidden": true
       },
       "report_default": {}
      }
     }
    }
   },
   "outputs": [
    {
     "name": "stdout",
     "output_type": "stream",
     "text": [
      "0.1767730712890625\n"
     ]
    }
   ],
   "source": [
    "t1 = time.time()\n",
    "n0 = ntw.allneighbordistances(ntw.pointpatterns['crimes'])\n",
    "print(time.time()-t1)"
   ]
  },
  {
   "cell_type": "code",
   "execution_count": 20,
   "metadata": {
    "ExecuteTime": {
     "end_time": "2018-11-24T20:29:58.941654Z",
     "start_time": "2018-11-24T20:29:58.761983Z"
    },
    "extensions": {
     "jupyter_dashboards": {
      "version": 1,
      "views": {
       "grid_default": {
        "hidden": true
       },
       "report_default": {}
      }
     }
    }
   },
   "outputs": [
    {
     "name": "stdout",
     "output_type": "stream",
     "text": [
      "0.17598915100097656\n"
     ]
    }
   ],
   "source": [
    "t1 = time.time()\n",
    "n1 = n200.allneighbordistances(n200.pointpatterns['crimes'])\n",
    "print(time.time()-t1)"
   ]
  },
  {
   "cell_type": "markdown",
   "metadata": {
    "extensions": {
     "jupyter_dashboards": {
      "version": 1,
      "views": {
       "grid_default": {
        "col": 0,
        "height": 4,
        "hidden": false,
        "row": 40,
        "width": 12
       },
       "report_default": {}
      }
     }
    }
   },
   "source": [
    "### Simulate a point pattern on the network\n",
    "\n",
    "* Need to supply a count of the number of points and a distirbution (default is uniform).  Generally, this will not be called by the user, since the simulation will be used for Monte Carlo permutation."
   ]
  },
  {
   "cell_type": "code",
   "execution_count": 21,
   "metadata": {
    "ExecuteTime": {
     "end_time": "2018-11-24T20:29:58.963503Z",
     "start_time": "2018-11-24T20:29:58.948394Z"
    },
    "extensions": {
     "jupyter_dashboards": {
      "version": 1,
      "views": {
       "grid_default": {
        "hidden": true
       },
       "report_default": {}
      }
     }
    }
   },
   "outputs": [
    {
     "data": {
      "text/plain": [
       "<spaghetti.network.SimulatedPointPattern at 0x1a214a02b0>"
      ]
     },
     "execution_count": 21,
     "metadata": {},
     "output_type": "execute_result"
    }
   ],
   "source": [
    "npts = ntw.pointpatterns['crimes'].npoints\n",
    "sim = ntw.simulate_observations(npts)\n",
    "sim"
   ]
  },
  {
   "cell_type": "markdown",
   "metadata": {},
   "source": [
    "### F-function"
   ]
  },
  {
   "cell_type": "code",
   "execution_count": 22,
   "metadata": {
    "ExecuteTime": {
     "end_time": "2018-11-24T20:30:31.815066Z",
     "start_time": "2018-11-24T20:29:58.967368Z"
    }
   },
   "outputs": [],
   "source": [
    "fres = spgh.NetworkF(ntw, ntw.pointpatterns['crimes'],\n",
    "                     permutations=99)"
   ]
  },
  {
   "cell_type": "code",
   "execution_count": 23,
   "metadata": {
    "ExecuteTime": {
     "end_time": "2018-11-24T20:30:32.080127Z",
     "start_time": "2018-11-24T20:30:31.817258Z"
    }
   },
   "outputs": [
    {
     "data": {
      "image/png": "[encoded data removed]",
      "text/plain": [
       "<Figure size 576x576 with 1 Axes>"
      ]
     },
     "metadata": {
      "needs_background": "light"
     },
     "output_type": "display_data"
    }
   ],
   "source": [
    "plt.figure(figsize=(8,8))\n",
    "plt.plot(fres.xaxis, fres.observed, 'b-', linewidth=1.5, label='Observed')\n",
    "plt.plot(fres.xaxis, fres.upperenvelope, 'r--', label='Upper')\n",
    "plt.plot(fres.xaxis, fres.lowerenvelope, 'k--', label='Lower')\n",
    "plt.legend(loc='best', fontsize='x-large')\n",
    "plt.title('Network F Function', fontsize='xx-large')\n",
    "plt.show()"
   ]
  },
  {
   "cell_type": "markdown",
   "metadata": {
    "extensions": {
     "jupyter_dashboards": {
      "version": 1,
      "views": {
       "grid_default": {
        "col": 0,
        "height": 4,
        "hidden": false,
        "row": 44,
        "width": 12
       },
       "report_default": {}
      }
     }
    }
   },
   "source": [
    "### Create a nearest neighbor matrix using the crimes point pattern\n",
    "\n",
    "* Right now, both the G and K functions generate a full distance matrix.  This is because, I know that the full generation is correct and I believe that the truncated generated, e.g. nearest neighbor, has a bug."
   ]
  },
  {
   "cell_type": "markdown",
   "metadata": {
    "extensions": {
     "jupyter_dashboards": {
      "version": 1,
      "views": {
       "grid_default": {
        "col": 0,
        "height": 4,
        "hidden": false,
        "row": 48,
        "width": 4
       },
       "report_default": {}
      }
     }
    }
   },
   "source": [
    "### G-function"
   ]
  },
  {
   "cell_type": "code",
   "execution_count": 24,
   "metadata": {
    "ExecuteTime": {
     "end_time": "2018-11-24T20:30:50.224659Z",
     "start_time": "2018-11-24T20:30:32.082639Z"
    },
    "extensions": {
     "jupyter_dashboards": {
      "version": 1,
      "views": {
       "grid_default": {
        "hidden": true
       },
       "report_default": {}
      }
     }
    }
   },
   "outputs": [],
   "source": [
    "gres = spgh.NetworkG(ntw, ntw.pointpatterns['crimes'],\n",
    "                     permutations=99)"
   ]
  },
  {
   "cell_type": "code",
   "execution_count": 25,
   "metadata": {
    "ExecuteTime": {
     "end_time": "2018-11-24T20:30:50.533776Z",
     "start_time": "2018-11-24T20:30:50.226346Z"
    },
    "extensions": {
     "jupyter_dashboards": {
      "version": 1,
      "views": {
       "grid_default": {
        "hidden": true
       },
       "report_default": {}
      }
     }
    }
   },
   "outputs": [
    {
     "data": {
      "image/png": "[encoded data removed]",
      "text/plain": [
       "<Figure size 576x576 with 1 Axes>"
      ]
     },
     "metadata": {
      "needs_background": "light"
     },
     "output_type": "display_data"
    }
   ],
   "source": [
    "plt.figure(figsize=(8,8))\n",
    "plt.plot(gres.xaxis, gres.observed, 'b-', linewidth=1.5, label='Observed')\n",
    "plt.plot(gres.xaxis, gres.upperenvelope, 'r--', label='Upper')\n",
    "plt.plot(gres.xaxis, gres.lowerenvelope, 'k--', label='Lower')\n",
    "plt.legend(loc='best', fontsize='x-large')\n",
    "plt.title('Network G Function', fontsize='xx-large')\n",
    "plt.show()"
   ]
  },
  {
   "cell_type": "markdown",
   "metadata": {
    "extensions": {
     "jupyter_dashboards": {
      "version": 1,
      "views": {
       "grid_default": {
        "col": 4,
        "height": 4,
        "hidden": false,
        "row": 48,
        "width": 4
       },
       "report_default": {}
      }
     }
    }
   },
   "source": [
    "### K-function"
   ]
  },
  {
   "cell_type": "code",
   "execution_count": 26,
   "metadata": {
    "ExecuteTime": {
     "end_time": "2018-11-24T20:31:09.497523Z",
     "start_time": "2018-11-24T20:30:50.536624Z"
    },
    "extensions": {
     "jupyter_dashboards": {
      "version": 1,
      "views": {
       "grid_default": {
        "hidden": true
       },
       "report_default": {}
      }
     }
    }
   },
   "outputs": [
    {
     "name": "stderr",
     "output_type": "stream",
     "text": [
      "/Users/jgaboardi/spaghetti/spaghetti/analysis.py:308: RuntimeWarning: invalid value encountered in less_equal\n",
      "  y[i] = len(nearest[nearest <= s])\n"
     ]
    }
   ],
   "source": [
    "kres = spgh.NetworkK(ntw, ntw.pointpatterns['crimes'],\n",
    "                     permutations=99)"
   ]
  },
  {
   "cell_type": "code",
   "execution_count": 27,
   "metadata": {
    "ExecuteTime": {
     "end_time": "2018-11-24T20:31:09.822087Z",
     "start_time": "2018-11-24T20:31:09.499370Z"
    },
    "extensions": {
     "jupyter_dashboards": {
      "version": 1,
      "views": {
       "grid_default": {
        "hidden": true
       },
       "report_default": {}
      }
     }
    }
   },
   "outputs": [
    {
     "data": {
      "image/png": "[encoded data removed]",
      "text/plain": [
       "<Figure size 576x576 with 1 Axes>"
      ]
     },
     "metadata": {
      "needs_background": "light"
     },
     "output_type": "display_data"
    }
   ],
   "source": [
    "plt.figure(figsize=(8,8))\n",
    "plt.plot(kres.xaxis, kres.observed, 'b-', linewidth=1.5, label='Observed')\n",
    "plt.plot(kres.xaxis, kres.upperenvelope, 'r--', label='Upper')\n",
    "plt.plot(kres.xaxis, kres.lowerenvelope, 'k--', label='Lower')\n",
    "plt.legend(loc='best', fontsize='x-large')\n",
    "plt.title('Network K Function', fontsize='xx-large')\n",
    "plt.show()"
   ]
  },
  {
   "cell_type": "markdown",
   "metadata": {
    "extensions": {
     "jupyter_dashboards": {
      "version": 1,
      "views": {
       "grid_default": {
        "col": 8,
        "height": 4,
        "hidden": false,
        "row": 48,
        "width": 4
       },
       "report_default": {}
      }
     }
    }
   },
   "source": [
    "-----------"
   ]
  }
 ],
 "metadata": {
  "_draft": {
   "nbviewer_url": "https://gist.github.com/2697ff11933bb0ea8b94c4326a540453"
  },
  "anaconda-cloud": {},
  "extensions": {
   "jupyter_dashboards": {
    "activeView": "grid_default",
    "version": 1,
    "views": {
     "grid_default": {
      "cellMargin": 10,
      "defaultCellHeight": 20,
      "maxColumns": 12,
      "name": "grid",
      "type": "grid"
     },
     "report_default": {
      "name": "report",
      "type": "report"
     }
    }
   }
  },
  "gist": {
   "data": {
    "description": "spaghetti/notebooks/Network_Usage.ipynb",
    "public": true
   },
   "id": "2697ff11933bb0ea8b94c4326a540453"
  },
  "kernelspec": {
   "display_name": "Python [conda env:py3_spgh_dev]",
   "language": "python",
   "name": "conda-env-py3_spgh_dev-py"
  },
  "language_info": {
   "codemirror_mode": {
    "name": "ipython",
    "version": 3
   },
   "file_extension": ".py",
   "mimetype": "text/x-python",
   "name": "python",
   "nbconvert_exporter": "python",
   "pygments_lexer": "ipython3",
   "version": "3.6.6"
  }
 },
 "nbformat": 4,
 "nbformat_minor": 1
}
