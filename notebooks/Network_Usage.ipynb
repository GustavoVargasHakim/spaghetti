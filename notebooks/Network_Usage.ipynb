{
 "cells": [
  {
   "cell_type": "markdown",
   "metadata": {},
   "source": [
    "-------------------"
   ]
  },
  {
   "cell_type": "markdown",
   "metadata": {
    "extensions": {
     "jupyter_dashboards": {
      "version": 1,
      "views": {
       "grid_default": {
        "col": 0,
        "height": 4,
        "hidden": false,
        "row": 0,
        "width": 12
       },
       "report_default": {}
      }
     }
    }
   },
   "source": [
    "## Basic Tutorial for `pysal.spaghetti`"
   ]
  },
  {
   "cell_type": "code",
   "execution_count": null,
   "metadata": {
    "ExecuteTime": {
     "end_time": "2018-12-09T18:41:20.024536Z",
     "start_time": "2018-12-09T18:41:20.003674Z"
    }
   },
   "outputs": [],
   "source": [
    "import os\n",
    "last_modified = None\n",
    "if os.name == \"posix\":\n",
    "    last_modified = !stat -f\\\n",
    "                    \"# This notebook was last updated: %Sm\"\\\n",
    "                     Network_Usage.ipynb\n",
    "elif os.name == \"nt\":\n",
    "    last_modified = !for %a in (Network_Usage.ipynb)\\\n",
    "                    do echo # This notebook was last updated: %~ta\n",
    "    \n",
    "if last_modified:\n",
    "    get_ipython().set_next_input(last_modified[-1])"
   ]
  },
  {
   "cell_type": "code",
   "execution_count": null,
   "metadata": {},
   "outputs": [],
   "source": [
    "# This notebook was last updated: Dec  9 13:41:13 2018"
   ]
  },
  {
   "cell_type": "markdown",
   "metadata": {},
   "source": [
    "--------------------------"
   ]
  },
  {
   "cell_type": "code",
   "execution_count": null,
   "metadata": {
    "ExecuteTime": {
     "end_time": "2018-12-09T18:41:21.433730Z",
     "start_time": "2018-12-09T18:41:20.052523Z"
    },
    "extensions": {
     "jupyter_dashboards": {
      "version": 1,
      "views": {
       "grid_default": {
        "hidden": true
       },
       "report_default": {}
      }
     }
    }
   },
   "outputs": [],
   "source": [
    "# pysal submodule imports\n",
    "from libpysal import examples\n",
    "import spaghetti as spgh\n",
    "import esda\n",
    "\n",
    "import numpy as np\n",
    "import matplotlib.pyplot as plt\n",
    "\n",
    "import time\n",
    "\n",
    "%matplotlib inline\n",
    "\n",
    "__author__ = \"James Gaboardi <jgaboardi@gmail.com>\""
   ]
  },
  {
   "cell_type": "markdown",
   "metadata": {
    "extensions": {
     "jupyter_dashboards": {
      "version": 1,
      "views": {
       "grid_default": {
        "col": 4,
        "height": 4,
        "hidden": false,
        "row": 4,
        "width": 4
       },
       "report_default": {}
      }
     }
    }
   },
   "source": [
    "### Instantiate a network"
   ]
  },
  {
   "cell_type": "code",
   "execution_count": null,
   "metadata": {
    "ExecuteTime": {
     "end_time": "2018-12-09T18:41:21.584808Z",
     "start_time": "2018-12-09T18:41:21.437222Z"
    },
    "extensions": {
     "jupyter_dashboards": {
      "version": 1,
      "views": {
       "grid_default": {
        "hidden": true
       },
       "report_default": {}
      }
     }
    }
   },
   "outputs": [],
   "source": [
    "ntw = spgh.Network(in_data=examples.get_path('streets.shp'))"
   ]
  },
  {
   "cell_type": "markdown",
   "metadata": {
    "extensions": {
     "jupyter_dashboards": {
      "version": 1,
      "views": {
       "grid_default": {
        "col": 8,
        "height": 4,
        "hidden": false,
        "row": 4,
        "width": 4
       },
       "report_default": {}
      }
     }
    }
   },
   "source": [
    "### Snap point patterns to the network"
   ]
  },
  {
   "cell_type": "code",
   "execution_count": null,
   "metadata": {
    "ExecuteTime": {
     "end_time": "2018-12-09T18:41:21.939817Z",
     "start_time": "2018-12-09T18:41:21.586655Z"
    },
    "extensions": {
     "jupyter_dashboards": {
      "version": 1,
      "views": {
       "grid_default": {
        "hidden": true
       },
       "report_default": {}
      }
     }
    }
   },
   "outputs": [],
   "source": [
    "# Crimes\n",
    "ntw.snapobservations(examples.get_path('crimes.shp'),\n",
    "                     'crimes',\n",
    "                     attribute=True)\n",
    "# Schools\n",
    "ntw.snapobservations(examples.get_path('schools.shp'),\n",
    "                     'schools',\n",
    "                     attribute=False)"
   ]
  },
  {
   "cell_type": "markdown",
   "metadata": {
    "extensions": {
     "jupyter_dashboards": {
      "version": 1,
      "views": {
       "grid_default": {
        "col": 0,
        "height": 4,
        "hidden": false,
        "row": 8,
        "width": null
       },
       "report_default": {}
      }
     }
    }
   },
   "source": [
    "### A network is composed of a single topological representation of roads and $n$ point patterns which are snapped to the network."
   ]
  },
  {
   "cell_type": "code",
   "execution_count": null,
   "metadata": {
    "ExecuteTime": {
     "end_time": "2018-12-09T18:41:21.951488Z",
     "start_time": "2018-12-09T18:41:21.943116Z"
    },
    "extensions": {
     "jupyter_dashboards": {
      "version": 1,
      "views": {
       "grid_default": {
        "hidden": true
       },
       "report_default": {}
      }
     }
    }
   },
   "outputs": [],
   "source": [
    "ntw.pointpatterns"
   ]
  },
  {
   "cell_type": "markdown",
   "metadata": {
    "extensions": {
     "jupyter_dashboards": {
      "version": 1,
      "views": {
       "grid_default": {
        "col": 0,
        "height": 4,
        "hidden": false,
        "row": 12,
        "width": 4
       },
       "report_default": {}
      }
     }
    }
   },
   "source": [
    "### Attributes for every point pattern"
   ]
  },
  {
   "cell_type": "markdown",
   "metadata": {
    "extensions": {
     "jupyter_dashboards": {
      "version": 1,
      "views": {
       "grid_default": {
        "col": 0,
        "height": 8,
        "hidden": false,
        "row": 16,
        "width": 12
       },
       "report_default": {}
      }
     }
    }
   },
   "source": [
    "1. `dist_snapped` dict keyed by pointid with the value as snapped distance from observation to network arc\n",
    "2. `dist_to_vertex` dict keyed by pointid with the value being a dict in the form \n",
    "        {node: distance to vertex, node: distance to vertex}\n",
    "3. `npoints` point observations in set\n",
    "4. `obs_to_arc` dict keyed by arc with the value being a dict in the form \n",
    "        {pointID:(x-coord, y-coord), pointID:(x-coord, y-coord), ... }\n",
    "5. `obs_to_vertex` list of incident network vertices to snapped observation points\n",
    "6. `points` geojson like representation of the point pattern.  Includes properties if read with attributes=True\n",
    "7. `snapped_coordinates` dict keyed by pointid with the value being (x-coord, y-coord)"
   ]
  },
  {
   "cell_type": "markdown",
   "metadata": {
    "extensions": {
     "jupyter_dashboards": {
      "version": 1,
      "views": {
       "grid_default": {
        "col": 0,
        "height": 4,
        "hidden": false,
        "row": 24,
        "width": 12
       },
       "report_default": {}
      }
     }
    }
   },
   "source": [
    "### Counts per link (arc or edge) are important, but should not be precomputed since we have different representations of the network (spatial and graph currently).  (Relatively) Uniform segmentation still needs to be done."
   ]
  },
  {
   "cell_type": "code",
   "execution_count": null,
   "metadata": {
    "ExecuteTime": {
     "end_time": "2018-12-09T18:41:21.962772Z",
     "start_time": "2018-12-09T18:41:21.956479Z"
    },
    "extensions": {
     "jupyter_dashboards": {
      "version": 1,
      "views": {
       "grid_default": {
        "hidden": true
       },
       "report_default": {}
      }
     }
    }
   },
   "outputs": [],
   "source": [
    "counts = ntw.count_per_link(ntw.pointpatterns['crimes'].obs_to_arc,\n",
    "                            graph=False)"
   ]
  },
  {
   "cell_type": "code",
   "execution_count": null,
   "metadata": {
    "ExecuteTime": {
     "end_time": "2018-12-09T18:41:21.975959Z",
     "start_time": "2018-12-09T18:41:21.966912Z"
    },
    "extensions": {
     "jupyter_dashboards": {
      "version": 1,
      "views": {
       "grid_default": {
        "hidden": true
       },
       "report_default": {}
      }
     }
    }
   },
   "outputs": [],
   "source": [
    "sum(list(counts.values())) / float(len(counts.keys()))"
   ]
  },
  {
   "cell_type": "markdown",
   "metadata": {
    "extensions": {
     "jupyter_dashboards": {
      "version": 1,
      "views": {
       "grid_default": {
        "col": 4,
        "height": 4,
        "hidden": false,
        "row": 12,
        "width": 4
       },
       "report_default": {}
      }
     }
    }
   },
   "source": [
    "### Network segmentation"
   ]
  },
  {
   "cell_type": "code",
   "execution_count": null,
   "metadata": {
    "ExecuteTime": {
     "end_time": "2018-12-09T18:41:22.491475Z",
     "start_time": "2018-12-09T18:41:21.979850Z"
    },
    "extensions": {
     "jupyter_dashboards": {
      "version": 1,
      "views": {
       "grid_default": {
        "hidden": true
       },
       "report_default": {}
      }
     }
    }
   },
   "outputs": [],
   "source": [
    "n200 = ntw.split_arcs(200.0)"
   ]
  },
  {
   "cell_type": "code",
   "execution_count": null,
   "metadata": {
    "ExecuteTime": {
     "end_time": "2018-12-09T18:41:22.498642Z",
     "start_time": "2018-12-09T18:41:22.493272Z"
    },
    "extensions": {
     "jupyter_dashboards": {
      "version": 1,
      "views": {
       "grid_default": {
        "hidden": true
       },
       "report_default": {}
      }
     }
    }
   },
   "outputs": [],
   "source": [
    "counts = n200.count_per_link(n200.pointpatterns['crimes'].obs_to_arc,\n",
    "                             graph=False)\n",
    "sum(counts.values()) / float(len(counts.keys()))"
   ]
  },
  {
   "cell_type": "markdown",
   "metadata": {},
   "source": [
    "### Create `geopandas.GeoDataFrame` objects of the vertices and arcs"
   ]
  },
  {
   "cell_type": "code",
   "execution_count": null,
   "metadata": {
    "ExecuteTime": {
     "end_time": "2018-12-09T18:41:23.059291Z",
     "start_time": "2018-12-09T18:41:22.501531Z"
    }
   },
   "outputs": [],
   "source": [
    "# 'full' unsegmented network\n",
    "vertices_df, arcs_df = spgh.element_as_gdf(ntw,\n",
    "                                           vertices=ntw.vertex_coords,\n",
    "                                           arcs=ntw.arcs)\n",
    "\n",
    "# network segmented at 200-meter increments\n",
    "vertices200_df, arcs200_df = spgh.element_as_gdf(ntw,\n",
    "                                                 vertices=n200.vertex_coords,\n",
    "                                                 arcs=n200.arcs)"
   ]
  },
  {
   "cell_type": "markdown",
   "metadata": {},
   "source": [
    "### Re-instantiate the network and snapped crimes for the `n200` object"
   ]
  },
  {
   "cell_type": "code",
   "execution_count": null,
   "metadata": {
    "ExecuteTime": {
     "end_time": "2018-12-09T18:41:23.411608Z",
     "start_time": "2018-12-09T18:41:23.061157Z"
    }
   },
   "outputs": [],
   "source": [
    "n200 = spgh.Network(in_data=arcs200_df)\n",
    "n200.snapobservations(examples.get_path('crimes.shp'),\n",
    "                      'crimes',\n",
    "                      attribute=True)"
   ]
  },
  {
   "cell_type": "markdown",
   "metadata": {
    "extensions": {
     "jupyter_dashboards": {
      "version": 1,
      "views": {
       "grid_default": {
        "col": 0,
        "height": 4,
        "hidden": false,
        "row": 28,
        "width": 12
       },
       "report_default": {}
      }
     }
    }
   },
   "source": [
    "### Visualization of the shapefile derived, unsegmented network with vertices in a larger, blue, semi-opaque form and the distance segmented network with small, red, fully opaque vertices."
   ]
  },
  {
   "cell_type": "code",
   "execution_count": null,
   "metadata": {
    "ExecuteTime": {
     "end_time": "2018-12-09T18:41:23.985591Z",
     "start_time": "2018-12-09T18:41:23.413508Z"
    }
   },
   "outputs": [],
   "source": [
    "base = arcs_df.plot(color='k', alpha=.25, figsize=(12,12))\n",
    "vertices_df.plot(ax=base, color='b', markersize=300, alpha=.25)\n",
    "arcs200_df.plot(ax=base, color='k', alpha=.25)\n",
    "vertices200_df.plot(ax=base, color='r', markersize=25, alpha=1.)"
   ]
  },
  {
   "cell_type": "markdown",
   "metadata": {
    "extensions": {
     "jupyter_dashboards": {
      "version": 1,
      "views": {
       "grid_default": {
        "col": 8,
        "height": 4,
        "hidden": false,
        "row": 12,
        "width": 4
       },
       "report_default": {}
      }
     }
    }
   },
   "source": [
    "### Moran's I using the digitized network"
   ]
  },
  {
   "cell_type": "code",
   "execution_count": null,
   "metadata": {
    "ExecuteTime": {
     "end_time": "2018-12-09T18:41:24.047034Z",
     "start_time": "2018-12-09T18:41:23.987958Z"
    },
    "extensions": {
     "jupyter_dashboards": {
      "version": 1,
      "views": {
       "grid_default": {
        "hidden": true
       },
       "report_default": {}
      }
     }
    }
   },
   "outputs": [],
   "source": [
    "# Binary Adjacency\n",
    "w = ntw.contiguityweights(graph=False)\n",
    "\n",
    "# Build the y vector\n",
    "arcs = w.neighbors.keys()\n",
    "y = np.zeros(len(arcs))\n",
    "\n",
    "for i, a in enumerate(arcs):\n",
    "    if a in counts.keys():\n",
    "        y[i] = counts[a]\n",
    "\n",
    "# Moran's I\n",
    "res = esda.moran.Moran(y,\n",
    "                       w,\n",
    "                       permutations=99)\n",
    "print(dir(res))"
   ]
  },
  {
   "cell_type": "markdown",
   "metadata": {
    "extensions": {
     "jupyter_dashboards": {
      "version": 1,
      "views": {
       "grid_default": {
        "col": 0,
        "height": 4,
        "hidden": false,
        "row": 32,
        "width": 12
       },
       "report_default": {}
      }
     }
    }
   },
   "source": [
    "### Moran's I using the graph representation to generate the W\n",
    "\n",
    "* Note that we have to regenerate the counts per arc, since the graph will have less edges."
   ]
  },
  {
   "cell_type": "code",
   "execution_count": null,
   "metadata": {
    "ExecuteTime": {
     "end_time": "2018-12-09T18:41:24.086225Z",
     "start_time": "2018-12-09T18:41:24.050295Z"
    },
    "extensions": {
     "jupyter_dashboards": {
      "version": 1,
      "views": {
       "grid_default": {
        "hidden": true
       },
       "report_default": {}
      }
     }
    }
   },
   "outputs": [],
   "source": [
    "counts = ntw.count_per_link(ntw.pointpatterns['crimes'].obs_to_arc,\n",
    "                            graph=True)\n",
    "\n",
    "# Binary Adjacency\n",
    "w = ntw.contiguityweights(graph=True)\n",
    "\n",
    "# Build the y vector\n",
    "edges = w.neighbors.keys()\n",
    "y = np.zeros(len(edges))\n",
    "\n",
    "for i, e in enumerate(edges):\n",
    "    if e in counts.keys():\n",
    "        y[i] = counts[e]\n",
    "\n",
    "# Moran's I\n",
    "res = esda.moran.Moran(y,\n",
    "                       w,\n",
    "                       permutations=99)\n",
    "\n",
    "print(dir(res))"
   ]
  },
  {
   "cell_type": "markdown",
   "metadata": {
    "extensions": {
     "jupyter_dashboards": {
      "version": 1,
      "views": {
       "grid_default": {
        "col": 0,
        "height": 4,
        "hidden": false,
        "row": 36,
        "width": 4
       },
       "report_default": {}
      }
     }
    }
   },
   "source": [
    "### Moran's I using the segmented network and intensities instead of counts"
   ]
  },
  {
   "cell_type": "code",
   "execution_count": null,
   "metadata": {
    "ExecuteTime": {
     "end_time": "2018-12-09T18:41:24.156933Z",
     "start_time": "2018-12-09T18:41:24.091246Z"
    },
    "extensions": {
     "jupyter_dashboards": {
      "version": 1,
      "views": {
       "grid_default": {
        "hidden": true
       },
       "report_default": {}
      }
     }
    }
   },
   "outputs": [],
   "source": [
    "# Binary Adjacency\n",
    "w = n200.contiguityweights(graph=False)\n",
    "\n",
    "# Compute the counts\n",
    "counts = n200.count_per_link(n200.pointpatterns['crimes'].obs_to_arc,\n",
    "                             graph=False)\n",
    "\n",
    "# Build the y vector and convert from raw counts to intensities\n",
    "arcs = w.neighbors.keys()\n",
    "y = np.zeros(len(arcs))\n",
    "\n",
    "for i, a in enumerate(edges):\n",
    "    if a in counts.keys():\n",
    "        length = n200.arc_lengths[a]\n",
    "        y[i] = counts[a] / length\n",
    "\n",
    "# Moran's I\n",
    "res = esda.moran.Moran(y,\n",
    "                       w,\n",
    "                       permutations=99)\n",
    "\n",
    "print(dir(res))"
   ]
  },
  {
   "cell_type": "markdown",
   "metadata": {
    "extensions": {
     "jupyter_dashboards": {
      "version": 1,
      "views": {
       "grid_default": {
        "col": 4,
        "height": 4,
        "hidden": false,
        "row": 36,
        "width": 4
       },
       "report_default": {}
      }
     }
    }
   },
   "source": [
    "### Timings for distance based methods, e.g. G-function"
   ]
  },
  {
   "cell_type": "code",
   "execution_count": null,
   "metadata": {
    "ExecuteTime": {
     "end_time": "2018-12-09T18:41:24.669203Z",
     "start_time": "2018-12-09T18:41:24.159427Z"
    },
    "extensions": {
     "jupyter_dashboards": {
      "version": 1,
      "views": {
       "grid_default": {
        "hidden": true
       },
       "report_default": {}
      }
     }
    }
   },
   "outputs": [],
   "source": [
    "t1 = time.time()\n",
    "n0 = ntw.allneighbordistances(ntw.pointpatterns['crimes'])\n",
    "print(time.time()-t1)"
   ]
  },
  {
   "cell_type": "code",
   "execution_count": null,
   "metadata": {
    "ExecuteTime": {
     "end_time": "2018-12-09T18:41:25.174228Z",
     "start_time": "2018-12-09T18:41:24.671917Z"
    },
    "extensions": {
     "jupyter_dashboards": {
      "version": 1,
      "views": {
       "grid_default": {
        "hidden": true
       },
       "report_default": {}
      }
     }
    }
   },
   "outputs": [],
   "source": [
    "t1 = time.time()\n",
    "n1 = n200.allneighbordistances(n200.pointpatterns['crimes'])\n",
    "print(time.time()-t1)"
   ]
  },
  {
   "cell_type": "markdown",
   "metadata": {
    "extensions": {
     "jupyter_dashboards": {
      "version": 1,
      "views": {
       "grid_default": {
        "col": 8,
        "height": 4,
        "hidden": false,
        "row": 36,
        "width": 4
       },
       "report_default": {}
      }
     }
    }
   },
   "source": [
    "* Note that the first time these methods are called, the underlying vertex-to-vertex shortest path distance matrix has to be calculated. Subsequent calls will not require this, and will be much faster:"
   ]
  },
  {
   "cell_type": "code",
   "execution_count": null,
   "metadata": {
    "ExecuteTime": {
     "end_time": "2018-12-09T18:41:25.365957Z",
     "start_time": "2018-12-09T18:41:25.177000Z"
    },
    "extensions": {
     "jupyter_dashboards": {
      "version": 1,
      "views": {
       "grid_default": {
        "hidden": true
       },
       "report_default": {}
      }
     }
    }
   },
   "outputs": [],
   "source": [
    "t1 = time.time()\n",
    "n0 = ntw.allneighbordistances(ntw.pointpatterns['crimes'])\n",
    "print(time.time()-t1)"
   ]
  },
  {
   "cell_type": "code",
   "execution_count": null,
   "metadata": {
    "ExecuteTime": {
     "end_time": "2018-12-09T18:41:25.695586Z",
     "start_time": "2018-12-09T18:41:25.372692Z"
    },
    "extensions": {
     "jupyter_dashboards": {
      "version": 1,
      "views": {
       "grid_default": {
        "hidden": true
       },
       "report_default": {}
      }
     }
    }
   },
   "outputs": [],
   "source": [
    "t1 = time.time()\n",
    "n1 = n200.allneighbordistances(n200.pointpatterns['crimes'])\n",
    "print(time.time()-t1)"
   ]
  },
  {
   "cell_type": "markdown",
   "metadata": {
    "extensions": {
     "jupyter_dashboards": {
      "version": 1,
      "views": {
       "grid_default": {
        "col": 0,
        "height": 4,
        "hidden": false,
        "row": 40,
        "width": 12
       },
       "report_default": {}
      }
     }
    }
   },
   "source": [
    "### Simulate a point pattern on the network\n",
    "\n",
    "* Need to supply a count of the number of points and a distirbution (default is uniform).  Generally, this will not be called by the user, since the simulation will be used for Monte Carlo permutation."
   ]
  },
  {
   "cell_type": "code",
   "execution_count": null,
   "metadata": {
    "ExecuteTime": {
     "end_time": "2018-12-09T18:41:25.719520Z",
     "start_time": "2018-12-09T18:41:25.699636Z"
    },
    "extensions": {
     "jupyter_dashboards": {
      "version": 1,
      "views": {
       "grid_default": {
        "hidden": true
       },
       "report_default": {}
      }
     }
    }
   },
   "outputs": [],
   "source": [
    "npts = ntw.pointpatterns['crimes'].npoints\n",
    "sim = ntw.simulate_observations(npts)\n",
    "sim"
   ]
  },
  {
   "cell_type": "markdown",
   "metadata": {},
   "source": [
    "### F-function"
   ]
  },
  {
   "cell_type": "code",
   "execution_count": null,
   "metadata": {
    "ExecuteTime": {
     "end_time": "2018-12-09T18:42:03.429690Z",
     "start_time": "2018-12-09T18:41:25.730122Z"
    }
   },
   "outputs": [],
   "source": [
    "fres = ntw.NetworkF(ntw.pointpatterns['crimes'],\n",
    "                    permutations=99)"
   ]
  },
  {
   "cell_type": "code",
   "execution_count": null,
   "metadata": {
    "ExecuteTime": {
     "end_time": "2018-12-09T18:42:03.740695Z",
     "start_time": "2018-12-09T18:42:03.431904Z"
    }
   },
   "outputs": [],
   "source": [
    "plt.figure(figsize=(8,8))\n",
    "plt.plot(fres.xaxis, fres.observed, 'b-', linewidth=1.5, label='Observed')\n",
    "plt.plot(fres.xaxis, fres.upperenvelope, 'r--', label='Upper')\n",
    "plt.plot(fres.xaxis, fres.lowerenvelope, 'k--', label='Lower')\n",
    "plt.legend(loc='best', fontsize='x-large')\n",
    "plt.title('Network F Function', fontsize='xx-large')\n",
    "plt.show()"
   ]
  },
  {
   "cell_type": "markdown",
   "metadata": {
    "extensions": {
     "jupyter_dashboards": {
      "version": 1,
      "views": {
       "grid_default": {
        "col": 0,
        "height": 4,
        "hidden": false,
        "row": 44,
        "width": 12
       },
       "report_default": {}
      }
     }
    }
   },
   "source": [
    "### Create a nearest neighbor matrix using the crimes point pattern\n",
    "\n",
    "* [note from jlaura] Right now, both the G and K functions generate a full distance matrix.  This is because, I know that the full generation is correct and I believe that the truncated generated, e.g. nearest neighbor, has a bug."
   ]
  },
  {
   "cell_type": "markdown",
   "metadata": {
    "extensions": {
     "jupyter_dashboards": {
      "version": 1,
      "views": {
       "grid_default": {
        "col": 0,
        "height": 4,
        "hidden": false,
        "row": 48,
        "width": 4
       },
       "report_default": {}
      }
     }
    }
   },
   "source": [
    "### G-function"
   ]
  },
  {
   "cell_type": "code",
   "execution_count": null,
   "metadata": {
    "ExecuteTime": {
     "end_time": "2018-12-09T18:42:22.008516Z",
     "start_time": "2018-12-09T18:42:03.744304Z"
    },
    "extensions": {
     "jupyter_dashboards": {
      "version": 1,
      "views": {
       "grid_default": {
        "hidden": true
       },
       "report_default": {}
      }
     }
    }
   },
   "outputs": [],
   "source": [
    "gres = ntw.NetworkG(ntw.pointpatterns['crimes'],\n",
    "                    permutations=99)"
   ]
  },
  {
   "cell_type": "code",
   "execution_count": null,
   "metadata": {
    "ExecuteTime": {
     "end_time": "2018-12-09T18:42:22.270773Z",
     "start_time": "2018-12-09T18:42:22.010297Z"
    },
    "extensions": {
     "jupyter_dashboards": {
      "version": 1,
      "views": {
       "grid_default": {
        "hidden": true
       },
       "report_default": {}
      }
     }
    }
   },
   "outputs": [],
   "source": [
    "plt.figure(figsize=(8,8))\n",
    "plt.plot(gres.xaxis, gres.observed, 'b-', linewidth=1.5, label='Observed')\n",
    "plt.plot(gres.xaxis, gres.upperenvelope, 'r--', label='Upper')\n",
    "plt.plot(gres.xaxis, gres.lowerenvelope, 'k--', label='Lower')\n",
    "plt.legend(loc='best', fontsize='x-large')\n",
    "plt.title('Network G Function', fontsize='xx-large')\n",
    "plt.show()"
   ]
  },
  {
   "cell_type": "markdown",
   "metadata": {
    "extensions": {
     "jupyter_dashboards": {
      "version": 1,
      "views": {
       "grid_default": {
        "col": 4,
        "height": 4,
        "hidden": false,
        "row": 48,
        "width": 4
       },
       "report_default": {}
      }
     }
    }
   },
   "source": [
    "### K-function"
   ]
  },
  {
   "cell_type": "code",
   "execution_count": null,
   "metadata": {
    "ExecuteTime": {
     "end_time": "2018-12-09T18:42:41.310951Z",
     "start_time": "2018-12-09T18:42:22.274221Z"
    },
    "extensions": {
     "jupyter_dashboards": {
      "version": 1,
      "views": {
       "grid_default": {
        "hidden": true
       },
       "report_default": {}
      }
     }
    }
   },
   "outputs": [],
   "source": [
    "kres = ntw.NetworkK(ntw.pointpatterns['crimes'],\n",
    "                    permutations=99)"
   ]
  },
  {
   "cell_type": "code",
   "execution_count": null,
   "metadata": {
    "ExecuteTime": {
     "end_time": "2018-12-09T18:42:41.604204Z",
     "start_time": "2018-12-09T18:42:41.312799Z"
    },
    "extensions": {
     "jupyter_dashboards": {
      "version": 1,
      "views": {
       "grid_default": {
        "hidden": true
       },
       "report_default": {}
      }
     }
    }
   },
   "outputs": [],
   "source": [
    "plt.figure(figsize=(8,8))\n",
    "plt.plot(kres.xaxis, kres.observed, 'b-', linewidth=1.5, label='Observed')\n",
    "plt.plot(kres.xaxis, kres.upperenvelope, 'r--', label='Upper')\n",
    "plt.plot(kres.xaxis, kres.lowerenvelope, 'k--', label='Lower')\n",
    "plt.legend(loc='best', fontsize='x-large')\n",
    "plt.title('Network K Function', fontsize='xx-large')\n",
    "plt.show()"
   ]
  },
  {
   "cell_type": "markdown",
   "metadata": {
    "extensions": {
     "jupyter_dashboards": {
      "version": 1,
      "views": {
       "grid_default": {
        "col": 8,
        "height": 4,
        "hidden": false,
        "row": 48,
        "width": 4
       },
       "report_default": {}
      }
     }
    }
   },
   "source": [
    "-----------"
   ]
  }
 ],
 "metadata": {
  "_draft": {
   "nbviewer_url": "https://gist.github.com/2697ff11933bb0ea8b94c4326a540453"
  },
  "anaconda-cloud": {},
  "extensions": {
   "jupyter_dashboards": {
    "activeView": "grid_default",
    "version": 1,
    "views": {
     "grid_default": {
      "cellMargin": 10,
      "defaultCellHeight": 20,
      "maxColumns": 12,
      "name": "grid",
      "type": "grid"
     },
     "report_default": {
      "name": "report",
      "type": "report"
     }
    }
   }
  },
  "gist": {
   "data": {
    "description": "spaghetti/notebooks/Network_Usage.ipynb",
    "public": true
   },
   "id": "2697ff11933bb0ea8b94c4326a540453"
  },
  "kernelspec": {
   "display_name": "Python [conda env:py3_spgh_dev]",
   "language": "python",
   "name": "conda-env-py3_spgh_dev-py"
  },
  "language_info": {
   "codemirror_mode": {
    "name": "ipython",
    "version": 3
   },
   "file_extension": ".py",
   "mimetype": "text/x-python",
   "name": "python",
   "nbconvert_exporter": "python",
   "pygments_lexer": "ipython3",
   "version": "3.6.6"
  }
 },
 "nbformat": 4,
 "nbformat_minor": 1
}
