{
 "cells": [
  {
   "cell_type": "markdown",
   "metadata": {},
   "source": [
    "-------------------"
   ]
  },
  {
   "cell_type": "markdown",
   "metadata": {
    "extensions": {
     "jupyter_dashboards": {
      "version": 1,
      "views": {
       "grid_default": {
        "col": 0,
        "height": 4,
        "hidden": false,
        "row": 0,
        "width": 12
       },
       "report_default": {}
      }
     }
    }
   },
   "source": [
    "## Basic Tutorial for `pysal.spaghetti`"
   ]
  },
  {
   "cell_type": "code",
   "execution_count": 1,
   "metadata": {
    "ExecuteTime": {
     "end_time": "2018-11-24T20:15:48.949897Z",
     "start_time": "2018-11-24T20:15:48.927513Z"
    }
   },
   "outputs": [],
   "source": [
    "import os\n",
    "last_modified = None\n",
    "if os.name == \"posix\":\n",
    "    last_modified = !stat -f\\\n",
    "                    \"# This notebook was last updated: %Sm\"\\\n",
    "                     Network_Usage.ipynb\n",
    "elif os.name == \"nt\":\n",
    "    last_modified = !for %a in (Network_Usage.ipynb)\\\n",
    "                    do echo # This notebook was last updated: %~ta\n",
    "    \n",
    "if last_modified:\n",
    "    get_ipython().set_next_input(last_modified[-1])"
   ]
  },
  {
   "cell_type": "code",
   "execution_count": null,
   "metadata": {},
   "outputs": [],
   "source": [
    "# This notebook was last updated: Nov 21 09:04:36 2018"
   ]
  },
  {
   "cell_type": "code",
   "execution_count": 2,
   "metadata": {
    "ExecuteTime": {
     "end_time": "2018-11-24T20:15:49.504407Z",
     "start_time": "2018-11-24T20:15:49.500929Z"
    }
   },
   "outputs": [],
   "source": [
    "# This notebook was last updated: Nov 17 11:38:07 2018"
   ]
  },
  {
   "cell_type": "markdown",
   "metadata": {},
   "source": [
    "--------------------------"
   ]
  },
  {
   "cell_type": "code",
   "execution_count": 3,
   "metadata": {
    "ExecuteTime": {
     "end_time": "2018-11-24T20:15:54.145115Z",
     "start_time": "2018-11-24T20:15:50.336031Z"
    },
    "extensions": {
     "jupyter_dashboards": {
      "version": 1,
      "views": {
       "grid_default": {
        "hidden": true
       },
       "report_default": {}
      }
     }
    }
   },
   "outputs": [],
   "source": [
    "# pysal submodule imports\n",
    "from libpysal import examples\n",
    "import spaghetti as spgh\n",
    "import esda\n",
    "\n",
    "import geopandas as gpd\n",
    "from shapely.geometry import Point, LineString\n",
    "import numpy as np\n",
    "import matplotlib.pyplot as plt\n",
    "import time\n",
    "%matplotlib inline\n",
    "\n",
    "__author__ = \"James Gaboardi <jgaboardi@gmail.com>\""
   ]
  },
  {
   "cell_type": "markdown",
   "metadata": {
    "extensions": {
     "jupyter_dashboards": {
      "version": 1,
      "views": {
       "grid_default": {
        "col": 4,
        "height": 4,
        "hidden": false,
        "row": 4,
        "width": 4
       },
       "report_default": {}
      }
     }
    }
   },
   "source": [
    "### Instantiate a network"
   ]
  },
  {
   "cell_type": "code",
   "execution_count": 4,
   "metadata": {
    "ExecuteTime": {
     "end_time": "2018-11-24T20:15:54.230737Z",
     "start_time": "2018-11-24T20:15:54.147902Z"
    },
    "extensions": {
     "jupyter_dashboards": {
      "version": 1,
      "views": {
       "grid_default": {
        "hidden": true
       },
       "report_default": {}
      }
     }
    }
   },
   "outputs": [],
   "source": [
    "ntw = spgh.Network(in_data=examples.get_path('streets.shp'))"
   ]
  },
  {
   "cell_type": "markdown",
   "metadata": {
    "extensions": {
     "jupyter_dashboards": {
      "version": 1,
      "views": {
       "grid_default": {
        "col": 8,
        "height": 4,
        "hidden": false,
        "row": 4,
        "width": 4
       },
       "report_default": {}
      }
     }
    }
   },
   "source": [
    "### Snap point patterns to the network"
   ]
  },
  {
   "cell_type": "code",
   "execution_count": 5,
   "metadata": {
    "ExecuteTime": {
     "end_time": "2018-11-24T20:15:54.593815Z",
     "start_time": "2018-11-24T20:15:54.232565Z"
    },
    "extensions": {
     "jupyter_dashboards": {
      "version": 1,
      "views": {
       "grid_default": {
        "hidden": true
       },
       "report_default": {}
      }
     }
    }
   },
   "outputs": [],
   "source": [
    "# Crimes\n",
    "ntw.snapobservations(examples.get_path('crimes.shp'), 'crimes', attribute=True)\n",
    "# Schools\n",
    "ntw.snapobservations(examples.get_path('schools.shp'), 'schools', attribute=False)"
   ]
  },
  {
   "cell_type": "markdown",
   "metadata": {
    "extensions": {
     "jupyter_dashboards": {
      "version": 1,
      "views": {
       "grid_default": {
        "col": 0,
        "height": 4,
        "hidden": false,
        "row": 8,
        "width": null
       },
       "report_default": {}
      }
     }
    }
   },
   "source": [
    "### A network is composed of a single topological representation of a road and $n$ point patterns which are snapped to the network."
   ]
  },
  {
   "cell_type": "code",
   "execution_count": 6,
   "metadata": {
    "ExecuteTime": {
     "end_time": "2018-11-24T20:15:54.605255Z",
     "start_time": "2018-11-24T20:15:54.596905Z"
    },
    "extensions": {
     "jupyter_dashboards": {
      "version": 1,
      "views": {
       "grid_default": {
        "hidden": true
       },
       "report_default": {}
      }
     }
    }
   },
   "outputs": [
    {
     "data": {
      "text/plain": [
       "{'crimes': <spaghetti.network.PointPattern at 0x1a2a16c6d8>,\n",
       " 'schools': <spaghetti.network.PointPattern at 0x1a2a16c668>}"
      ]
     },
     "execution_count": 6,
     "metadata": {},
     "output_type": "execute_result"
    }
   ],
   "source": [
    "ntw.pointpatterns"
   ]
  },
  {
   "cell_type": "markdown",
   "metadata": {
    "extensions": {
     "jupyter_dashboards": {
      "version": 1,
      "views": {
       "grid_default": {
        "col": 0,
        "height": 4,
        "hidden": false,
        "row": 12,
        "width": 4
       },
       "report_default": {}
      }
     }
    }
   },
   "source": [
    "### Attributes for every point pattern"
   ]
  },
  {
   "cell_type": "markdown",
   "metadata": {
    "extensions": {
     "jupyter_dashboards": {
      "version": 1,
      "views": {
       "grid_default": {
        "col": 0,
        "height": 8,
        "hidden": false,
        "row": 16,
        "width": 12
       },
       "report_default": {}
      }
     }
    }
   },
   "source": [
    "1. `dist_to_node` dict keyed by pointid with the value being a dict in the form \n",
    "        {node: distance to node, node: distance to node}\n",
    "2. `obs_to_edge` dict keyed by edge with the value being a dict in the form \n",
    "        {pointID:(x-coord, y-coord), pointID:(x-coord, y-coord), ... }\n",
    "3. `obs_to_node`\n",
    "4. `points` geojson like representation of the point pattern.  Includes properties if read with attributes=True\n",
    "5. `snapped_coordinates` dict keyed by pointid with the value being (x-coord, y-coord)"
   ]
  },
  {
   "cell_type": "markdown",
   "metadata": {
    "extensions": {
     "jupyter_dashboards": {
      "version": 1,
      "views": {
       "grid_default": {
        "col": 0,
        "height": 4,
        "hidden": false,
        "row": 24,
        "width": 12
       },
       "report_default": {}
      }
     }
    }
   },
   "source": [
    "### Counts per edge are important, but should not be precomputed since we have different representations of the network (digitized and graph currently).  (Relatively) Uniform segmentation still needs to be done."
   ]
  },
  {
   "cell_type": "code",
   "execution_count": 7,
   "metadata": {
    "ExecuteTime": {
     "end_time": "2018-11-24T20:15:54.628931Z",
     "start_time": "2018-11-24T20:15:54.624397Z"
    },
    "extensions": {
     "jupyter_dashboards": {
      "version": 1,
      "views": {
       "grid_default": {
        "hidden": true
       },
       "report_default": {}
      }
     }
    }
   },
   "outputs": [],
   "source": [
    "counts = ntw.count_per_edge(ntw.pointpatterns['crimes'].obs_to_edge,\n",
    "                            graph=False)"
   ]
  },
  {
   "cell_type": "code",
   "execution_count": 8,
   "metadata": {
    "ExecuteTime": {
     "end_time": "2018-11-24T20:15:55.553742Z",
     "start_time": "2018-11-24T20:15:55.545857Z"
    },
    "extensions": {
     "jupyter_dashboards": {
      "version": 1,
      "views": {
       "grid_default": {
        "hidden": true
       },
       "report_default": {}
      }
     }
    }
   },
   "outputs": [
    {
     "data": {
      "text/plain": [
       "2.682242990654206"
      ]
     },
     "execution_count": 8,
     "metadata": {},
     "output_type": "execute_result"
    }
   ],
   "source": [
    "sum(list(counts.values())) / float(len(counts.keys()))"
   ]
  },
  {
   "cell_type": "markdown",
   "metadata": {
    "extensions": {
     "jupyter_dashboards": {
      "version": 1,
      "views": {
       "grid_default": {
        "col": 4,
        "height": 4,
        "hidden": false,
        "row": 12,
        "width": 4
       },
       "report_default": {}
      }
     }
    }
   },
   "source": [
    "### Segmentation"
   ]
  },
  {
   "cell_type": "code",
   "execution_count": 9,
   "metadata": {
    "ExecuteTime": {
     "end_time": "2018-11-24T20:15:59.181397Z",
     "start_time": "2018-11-24T20:15:58.704599Z"
    },
    "extensions": {
     "jupyter_dashboards": {
      "version": 1,
      "views": {
       "grid_default": {
        "hidden": true
       },
       "report_default": {}
      }
     }
    }
   },
   "outputs": [],
   "source": [
    "n200 = ntw.segment_edges(200.0)"
   ]
  },
  {
   "cell_type": "code",
   "execution_count": 10,
   "metadata": {
    "ExecuteTime": {
     "end_time": "2018-11-24T20:15:59.283602Z",
     "start_time": "2018-11-24T20:15:59.277333Z"
    },
    "extensions": {
     "jupyter_dashboards": {
      "version": 1,
      "views": {
       "grid_default": {
        "hidden": true
       },
       "report_default": {}
      }
     }
    }
   },
   "outputs": [
    {
     "data": {
      "text/plain": [
       "2.05"
      ]
     },
     "execution_count": 10,
     "metadata": {},
     "output_type": "execute_result"
    }
   ],
   "source": [
    "counts = n200.count_per_edge(n200.pointpatterns['crimes'].obs_to_edge, graph=False)\n",
    "sum(counts.values()) / float(len(counts.keys()))"
   ]
  },
  {
   "cell_type": "markdown",
   "metadata": {},
   "source": [
    "### Create `geopandas.GeoDataFrame` objects of the nodes and edges"
   ]
  },
  {
   "cell_type": "code",
   "execution_count": null,
   "metadata": {
    "ExecuteTime": {
     "end_time": "2018-11-17T14:28:56.167462Z",
     "start_time": "2018-11-17T14:28:56.151109Z"
    }
   },
   "outputs": [],
   "source": [
    "def get_nodes_edges(nodes_dict, edges_dict=None, idx='id', geo='geometry'):\n",
    "    \"\"\"return GeoDataFrame of nodes and edges\n",
    "    \"\"\"\n",
    "    # nodes\n",
    "    nodes = gpd.GeoDataFrame(list(nodes_dict.items()), columns=[idx, geo])\n",
    "    nodes.geometry = nodes.geometry.apply(lambda p: Point(p))\n",
    "    if not edges_dict:\n",
    "        return nodes\n",
    "    \n",
    "    # edges\n",
    "    edges = {}\n",
    "    for (node1_id, node2_id) in edges_dict:\n",
    "        node1 = nodes.loc[(nodes[idx] == node1_id), geo].squeeze()\n",
    "        node2 = nodes.loc[(nodes[idx] == node2_id), geo].squeeze()\n",
    "        edges[(node1_id, node2_id)] = LineString((node1, node2))\n",
    "    edges = gpd.GeoDataFrame(list(edges.items()), columns=[idx, geo])\n",
    "    \n",
    "    return nodes, edges"
   ]
  },
  {
   "cell_type": "code",
   "execution_count": 16,
   "metadata": {
    "ExecuteTime": {
     "end_time": "2018-11-24T20:19:49.941132Z",
     "start_time": "2018-11-24T20:19:49.290329Z"
    }
   },
   "outputs": [],
   "source": [
    "# 'full' unsegmented network\n",
    "nodes_df, edges_df = spgh.element_as_gdf(ntw, nodes=ntw.node_coords,\n",
    "                                         edges=ntw.edges)\n",
    "# network segmented at 200-meter increments\n",
    "nodes200_df, edges200_df = spgh.element_as_gdf(ntw, nodes=n200.node_coords,\n",
    "                                               edges=n200.edges)"
   ]
  },
  {
   "cell_type": "markdown",
   "metadata": {
    "extensions": {
     "jupyter_dashboards": {
      "version": 1,
      "views": {
       "grid_default": {
        "col": 0,
        "height": 4,
        "hidden": false,
        "row": 28,
        "width": 12
       },
       "report_default": {}
      }
     }
    }
   },
   "source": [
    "### Visualization of the shapefile derived, unsegmented network with nodes in a larger, blue, semi-opaque form and the distance segmented network with small, red, fully opaque nodes."
   ]
  },
  {
   "cell_type": "code",
   "execution_count": 17,
   "metadata": {
    "ExecuteTime": {
     "end_time": "2018-11-24T20:19:53.310540Z",
     "start_time": "2018-11-24T20:19:52.695862Z"
    }
   },
   "outputs": [
    {
     "data": {
      "text/plain": [
       "<matplotlib.axes._subplots.AxesSubplot at 0x1a2a4840b8>"
      ]
     },
     "execution_count": 17,
     "metadata": {},
     "output_type": "execute_result"
    },
    {
     "data": {
      "image/png": "[encoded data removed]",
      "text/plain": [
       "<Figure size 864x864 with 1 Axes>"
      ]
     },
     "metadata": {
      "needs_background": "light"
     },
     "output_type": "display_data"
    }
   ],
   "source": [
    "base = edges_df.plot(color='k', alpha=.25, figsize=(12,12))\n",
    "nodes_df.plot(ax=base, color='b', markersize=300, alpha=.25)\n",
    "edges200_df.plot(ax=base, color='k', alpha=.25)\n",
    "nodes200_df.plot(ax=base, color='r', markersize=25, alpha=1.)"
   ]
  },
  {
   "cell_type": "markdown",
   "metadata": {
    "extensions": {
     "jupyter_dashboards": {
      "version": 1,
      "views": {
       "grid_default": {
        "col": 8,
        "height": 4,
        "hidden": false,
        "row": 12,
        "width": 4
       },
       "report_default": {}
      }
     }
    }
   },
   "source": [
    "### Moran's I using the digitized network"
   ]
  },
  {
   "cell_type": "code",
   "execution_count": 18,
   "metadata": {
    "ExecuteTime": {
     "end_time": "2018-11-24T20:19:53.990904Z",
     "start_time": "2018-11-24T20:19:53.904249Z"
    },
    "extensions": {
     "jupyter_dashboards": {
      "version": 1,
      "views": {
       "grid_default": {
        "hidden": true
       },
       "report_default": {}
      }
     }
    }
   },
   "outputs": [
    {
     "name": "stdout",
     "output_type": "stream",
     "text": [
      "['EI', 'EI_sim', 'I', 'VI_norm', 'VI_rand', 'VI_sim', '_Moran__calc', '_Moran__moments', '__class__', '__delattr__', '__dict__', '__dir__', '__doc__', '__eq__', '__format__', '__ge__', '__getattribute__', '__gt__', '__hash__', '__init__', '__init_subclass__', '__le__', '__lt__', '__module__', '__ne__', '__new__', '__reduce__', '__reduce_ex__', '__repr__', '__setattr__', '__sizeof__', '__str__', '__subclasshook__', '__weakref__', '_statistic', 'by_col', 'n', 'p_norm', 'p_rand', 'p_sim', 'p_z_sim', 'permutations', 'seI_norm', 'seI_rand', 'seI_sim', 'sim', 'w', 'y', 'z', 'z2ss', 'z_norm', 'z_rand', 'z_sim']\n"
     ]
    }
   ],
   "source": [
    "# Binary Adjacency\n",
    "w = ntw.contiguityweights(graph=False)\n",
    "\n",
    "# Build the y vector\n",
    "edges = w.neighbors.keys()\n",
    "y = np.zeros(len(edges))\n",
    "for i, e in enumerate(edges):\n",
    "    if e in counts.keys():\n",
    "        y[i] = counts[e]\n",
    "\n",
    "# Moran's I\n",
    "res = esda.moran.Moran(y, w, permutations=99)\n",
    "print(dir(res))"
   ]
  },
  {
   "cell_type": "markdown",
   "metadata": {
    "extensions": {
     "jupyter_dashboards": {
      "version": 1,
      "views": {
       "grid_default": {
        "col": 0,
        "height": 4,
        "hidden": false,
        "row": 32,
        "width": 12
       },
       "report_default": {}
      }
     }
    }
   },
   "source": [
    "### Moran's I using the graph representation to generate the W\n",
    "\n",
    "* Note that we have to regenerate the counts per edge, since the graph will have less edges."
   ]
  },
  {
   "cell_type": "code",
   "execution_count": 19,
   "metadata": {
    "ExecuteTime": {
     "end_time": "2018-11-24T20:19:54.854673Z",
     "start_time": "2018-11-24T20:19:54.816168Z"
    },
    "extensions": {
     "jupyter_dashboards": {
      "version": 1,
      "views": {
       "grid_default": {
        "hidden": true
       },
       "report_default": {}
      }
     }
    }
   },
   "outputs": [
    {
     "name": "stdout",
     "output_type": "stream",
     "text": [
      "['EI', 'EI_sim', 'I', 'VI_norm', 'VI_rand', 'VI_sim', '_Moran__calc', '_Moran__moments', '__class__', '__delattr__', '__dict__', '__dir__', '__doc__', '__eq__', '__format__', '__ge__', '__getattribute__', '__gt__', '__hash__', '__init__', '__init_subclass__', '__le__', '__lt__', '__module__', '__ne__', '__new__', '__reduce__', '__reduce_ex__', '__repr__', '__setattr__', '__sizeof__', '__str__', '__subclasshook__', '__weakref__', '_statistic', 'by_col', 'n', 'p_norm', 'p_rand', 'p_sim', 'p_z_sim', 'permutations', 'seI_norm', 'seI_rand', 'seI_sim', 'sim', 'w', 'y', 'z', 'z2ss', 'z_norm', 'z_rand', 'z_sim']\n"
     ]
    }
   ],
   "source": [
    "counts = ntw.count_per_edge(ntw.pointpatterns['crimes'].obs_to_edge, graph=True)\n",
    "\n",
    "# Binary Adjacency\n",
    "w = ntw.contiguityweights(graph=True)\n",
    "\n",
    "# Build the y vector\n",
    "edges = w.neighbors.keys()\n",
    "y = np.zeros(len(edges))\n",
    "for i, e in enumerate(edges):\n",
    "    if e in counts.keys():\n",
    "        y[i] = counts[e]\n",
    "\n",
    "# Moran's I\n",
    "res = esda.moran.Moran(y, w, permutations=99)\n",
    "\n",
    "print(dir(res))"
   ]
  },
  {
   "cell_type": "markdown",
   "metadata": {
    "extensions": {
     "jupyter_dashboards": {
      "version": 1,
      "views": {
       "grid_default": {
        "col": 0,
        "height": 4,
        "hidden": false,
        "row": 36,
        "width": 4
       },
       "report_default": {}
      }
     }
    }
   },
   "source": [
    "### Moran's I using the segmented network and intensities instead of counts"
   ]
  },
  {
   "cell_type": "code",
   "execution_count": 20,
   "metadata": {
    "ExecuteTime": {
     "end_time": "2018-11-24T20:19:55.405152Z",
     "start_time": "2018-11-24T20:19:55.245877Z"
    },
    "extensions": {
     "jupyter_dashboards": {
      "version": 1,
      "views": {
       "grid_default": {
        "hidden": true
       },
       "report_default": {}
      }
     }
    }
   },
   "outputs": [
    {
     "name": "stdout",
     "output_type": "stream",
     "text": [
      "['EI', 'EI_sim', 'I', 'VI_norm', 'VI_rand', 'VI_sim', '_Moran__calc', '_Moran__moments', '__class__', '__delattr__', '__dict__', '__dir__', '__doc__', '__eq__', '__format__', '__ge__', '__getattribute__', '__gt__', '__hash__', '__init__', '__init_subclass__', '__le__', '__lt__', '__module__', '__ne__', '__new__', '__reduce__', '__reduce_ex__', '__repr__', '__setattr__', '__sizeof__', '__str__', '__subclasshook__', '__weakref__', '_statistic', 'by_col', 'n', 'p_norm', 'p_rand', 'p_sim', 'p_z_sim', 'permutations', 'seI_norm', 'seI_rand', 'seI_sim', 'sim', 'w', 'y', 'z', 'z2ss', 'z_norm', 'z_rand', 'z_sim']\n"
     ]
    }
   ],
   "source": [
    "# Binary Adjacency\n",
    "w = n200.contiguityweights(graph=False)\n",
    "\n",
    "# Compute the counts\n",
    "counts = n200.count_per_edge(n200.pointpatterns['crimes'].obs_to_edge, graph=False)\n",
    "\n",
    "# Build the y vector and convert from raw counts to intensities\n",
    "edges = w.neighbors.keys()\n",
    "y = np.zeros(len(edges))\n",
    "for i, e in enumerate(edges):\n",
    "    if e in counts.keys():\n",
    "        length = n200.edge_lengths[e]\n",
    "        y[i] = counts[e] / length\n",
    "\n",
    "# Moran's I\n",
    "res = esda.moran.Moran(y, w, permutations=99)\n",
    "\n",
    "print(dir(res))"
   ]
  },
  {
   "cell_type": "markdown",
   "metadata": {
    "extensions": {
     "jupyter_dashboards": {
      "version": 1,
      "views": {
       "grid_default": {
        "col": 4,
        "height": 4,
        "hidden": false,
        "row": 36,
        "width": 4
       },
       "report_default": {}
      }
     }
    }
   },
   "source": [
    "### Timings for distance based methods, e.g. G-function"
   ]
  },
  {
   "cell_type": "code",
   "execution_count": 21,
   "metadata": {
    "ExecuteTime": {
     "end_time": "2018-11-24T20:19:56.402241Z",
     "start_time": "2018-11-24T20:19:55.919929Z"
    },
    "extensions": {
     "jupyter_dashboards": {
      "version": 1,
      "views": {
       "grid_default": {
        "hidden": true
       },
       "report_default": {}
      }
     }
    }
   },
   "outputs": [
    {
     "name": "stdout",
     "output_type": "stream",
     "text": [
      "0.4785599708557129\n"
     ]
    }
   ],
   "source": [
    "t1 = time.time()\n",
    "n0 = ntw.allneighbordistances(ntw.pointpatterns['crimes'])\n",
    "print(time.time()-t1)"
   ]
  },
  {
   "cell_type": "code",
   "execution_count": 22,
   "metadata": {
    "ExecuteTime": {
     "end_time": "2018-11-24T20:19:58.722769Z",
     "start_time": "2018-11-24T20:19:56.405434Z"
    },
    "extensions": {
     "jupyter_dashboards": {
      "version": 1,
      "views": {
       "grid_default": {
        "hidden": true
       },
       "report_default": {}
      }
     }
    }
   },
   "outputs": [
    {
     "name": "stdout",
     "output_type": "stream",
     "text": [
      "2.3140616416931152\n"
     ]
    }
   ],
   "source": [
    "t1 = time.time()\n",
    "n1 = n200.allneighbordistances(n200.pointpatterns['crimes'])\n",
    "print(time.time()-t1)"
   ]
  },
  {
   "cell_type": "markdown",
   "metadata": {
    "extensions": {
     "jupyter_dashboards": {
      "version": 1,
      "views": {
       "grid_default": {
        "col": 8,
        "height": 4,
        "hidden": false,
        "row": 36,
        "width": 4
       },
       "report_default": {}
      }
     }
    }
   },
   "source": [
    "* Note that the first time these methods are called, the underlying node-to-node shortest path distance matrix has to be calculated. Subsequent calls will not require this, and will be much faster:"
   ]
  },
  {
   "cell_type": "code",
   "execution_count": 23,
   "metadata": {
    "ExecuteTime": {
     "end_time": "2018-11-24T20:19:58.922136Z",
     "start_time": "2018-11-24T20:19:58.726047Z"
    },
    "extensions": {
     "jupyter_dashboards": {
      "version": 1,
      "views": {
       "grid_default": {
        "hidden": true
       },
       "report_default": {}
      }
     }
    }
   },
   "outputs": [
    {
     "name": "stdout",
     "output_type": "stream",
     "text": [
      "0.19106483459472656\n"
     ]
    }
   ],
   "source": [
    "t1 = time.time()\n",
    "n0 = ntw.allneighbordistances(ntw.pointpatterns['crimes'])\n",
    "print(time.time()-t1)"
   ]
  },
  {
   "cell_type": "code",
   "execution_count": null,
   "metadata": {
    "ExecuteTime": {
     "start_time": "2018-11-24T20:19:56.768Z"
    },
    "extensions": {
     "jupyter_dashboards": {
      "version": 1,
      "views": {
       "grid_default": {
        "hidden": true
       },
       "report_default": {}
      }
     }
    }
   },
   "outputs": [
    {
     "name": "stdout",
     "output_type": "stream",
     "text": [
      "0.1782081127166748\n"
     ]
    }
   ],
   "source": [
    "t1 = time.time()\n",
    "n1 = n200.allneighbordistances(n200.pointpatterns['crimes'])\n",
    "print(time.time()-t1)"
   ]
  },
  {
   "cell_type": "markdown",
   "metadata": {
    "extensions": {
     "jupyter_dashboards": {
      "version": 1,
      "views": {
       "grid_default": {
        "col": 0,
        "height": 4,
        "hidden": false,
        "row": 40,
        "width": 12
       },
       "report_default": {}
      }
     }
    }
   },
   "source": [
    "### Simulate a point pattern on the network\n",
    "\n",
    "* Need to supply a count of the number of points and a distirbution (default is uniform).  Generally, this will not be called by the user, since the simulation will be used for Monte Carlo permutation."
   ]
  },
  {
   "cell_type": "code",
   "execution_count": null,
   "metadata": {
    "ExecuteTime": {
     "start_time": "2018-11-24T20:19:57.780Z"
    },
    "extensions": {
     "jupyter_dashboards": {
      "version": 1,
      "views": {
       "grid_default": {
        "hidden": true
       },
       "report_default": {}
      }
     }
    }
   },
   "outputs": [
    {
     "data": {
      "text/plain": [
       "<spaghetti.network.SimulatedPointPattern at 0x1a2a39a048>"
      ]
     },
     "execution_count": 25,
     "metadata": {},
     "output_type": "execute_result"
    }
   ],
   "source": [
    "npts = ntw.pointpatterns['crimes'].npoints\n",
    "sim = ntw.simulate_observations(npts)\n",
    "sim"
   ]
  },
  {
   "cell_type": "markdown",
   "metadata": {},
   "source": [
    "### F-function"
   ]
  },
  {
   "cell_type": "code",
   "execution_count": null,
   "metadata": {
    "ExecuteTime": {
     "start_time": "2018-11-24T20:19:58.224Z"
    }
   },
   "outputs": [],
   "source": [
    "fres = spgh.NetworkF(ntw, ntw.pointpatterns['crimes'],\n",
    "                     permutations=99)"
   ]
  },
  {
   "cell_type": "code",
   "execution_count": null,
   "metadata": {
    "ExecuteTime": {
     "start_time": "2018-11-24T20:19:58.400Z"
    }
   },
   "outputs": [],
   "source": [
    "plt.figure(figsize=(8,8))\n",
    "plt.plot(fres.xaxis, fres.observed, 'b-', linewidth=1.5, label='Observed')\n",
    "plt.plot(fres.xaxis, fres.upperenvelope, 'r--', label='Upper')\n",
    "plt.plot(fres.xaxis, fres.lowerenvelope, 'k--', label='Lower')\n",
    "plt.legend(loc='best', fontsize='x-large')\n",
    "plt.title('Network F Function', fontsize='xx-large')\n",
    "plt.show()"
   ]
  },
  {
   "cell_type": "markdown",
   "metadata": {
    "extensions": {
     "jupyter_dashboards": {
      "version": 1,
      "views": {
       "grid_default": {
        "col": 0,
        "height": 4,
        "hidden": false,
        "row": 44,
        "width": 12
       },
       "report_default": {}
      }
     }
    }
   },
   "source": [
    "### Create a nearest neighbor matrix using the crimes point pattern\n",
    "\n",
    "* Right now, both the G and K functions generate a full distance matrix.  This is because, I know that the full generation is correct and I believe that the truncated generated, e.g. nearest neighbor, has a bug."
   ]
  },
  {
   "cell_type": "markdown",
   "metadata": {
    "extensions": {
     "jupyter_dashboards": {
      "version": 1,
      "views": {
       "grid_default": {
        "col": 0,
        "height": 4,
        "hidden": false,
        "row": 48,
        "width": 4
       },
       "report_default": {}
      }
     }
    }
   },
   "source": [
    "### G-function"
   ]
  },
  {
   "cell_type": "code",
   "execution_count": null,
   "metadata": {
    "ExecuteTime": {
     "start_time": "2018-11-24T20:19:59.972Z"
    },
    "extensions": {
     "jupyter_dashboards": {
      "version": 1,
      "views": {
       "grid_default": {
        "hidden": true
       },
       "report_default": {}
      }
     }
    }
   },
   "outputs": [],
   "source": [
    "gres = spgh.NetworkG(ntw, ntw.pointpatterns['crimes'],\n",
    "                     permutations=99)"
   ]
  },
  {
   "cell_type": "code",
   "execution_count": null,
   "metadata": {
    "ExecuteTime": {
     "start_time": "2018-11-24T20:20:00.184Z"
    },
    "extensions": {
     "jupyter_dashboards": {
      "version": 1,
      "views": {
       "grid_default": {
        "hidden": true
       },
       "report_default": {}
      }
     }
    }
   },
   "outputs": [],
   "source": [
    "plt.figure(figsize=(8,8))\n",
    "plt.plot(gres.xaxis, gres.observed, 'b-', linewidth=1.5, label='Observed')\n",
    "plt.plot(gres.xaxis, gres.upperenvelope, 'r--', label='Upper')\n",
    "plt.plot(gres.xaxis, gres.lowerenvelope, 'k--', label='Lower')\n",
    "plt.legend(loc='best', fontsize='x-large')\n",
    "plt.title('Network G Function', fontsize='xx-large')\n",
    "plt.show()"
   ]
  },
  {
   "cell_type": "markdown",
   "metadata": {
    "extensions": {
     "jupyter_dashboards": {
      "version": 1,
      "views": {
       "grid_default": {
        "col": 4,
        "height": 4,
        "hidden": false,
        "row": 48,
        "width": 4
       },
       "report_default": {}
      }
     }
    }
   },
   "source": [
    "### K-function"
   ]
  },
  {
   "cell_type": "code",
   "execution_count": null,
   "metadata": {
    "ExecuteTime": {
     "start_time": "2018-11-24T20:20:00.599Z"
    },
    "extensions": {
     "jupyter_dashboards": {
      "version": 1,
      "views": {
       "grid_default": {
        "hidden": true
       },
       "report_default": {}
      }
     }
    }
   },
   "outputs": [],
   "source": [
    "kres = spgh.NetworkK(ntw, ntw.pointpatterns['crimes'],\n",
    "                     permutations=99)"
   ]
  },
  {
   "cell_type": "code",
   "execution_count": null,
   "metadata": {
    "ExecuteTime": {
     "start_time": "2018-11-24T20:20:00.824Z"
    },
    "extensions": {
     "jupyter_dashboards": {
      "version": 1,
      "views": {
       "grid_default": {
        "hidden": true
       },
       "report_default": {}
      }
     }
    }
   },
   "outputs": [],
   "source": [
    "plt.figure(figsize=(8,8))\n",
    "plt.plot(kres.xaxis, kres.observed, 'b-', linewidth=1.5, label='Observed')\n",
    "plt.plot(kres.xaxis, kres.upperenvelope, 'r--', label='Upper')\n",
    "plt.plot(kres.xaxis, kres.lowerenvelope, 'k--', label='Lower')\n",
    "plt.legend(loc='best', fontsize='x-large')\n",
    "plt.title('Network K Function', fontsize='xx-large')\n",
    "plt.show()"
   ]
  },
  {
   "cell_type": "markdown",
   "metadata": {
    "extensions": {
     "jupyter_dashboards": {
      "version": 1,
      "views": {
       "grid_default": {
        "col": 8,
        "height": 4,
        "hidden": false,
        "row": 48,
        "width": 4
       },
       "report_default": {}
      }
     }
    }
   },
   "source": [
    "-----------"
   ]
  }
 ],
 "metadata": {
  "_draft": {
   "nbviewer_url": "https://gist.github.com/2697ff11933bb0ea8b94c4326a540453"
  },
  "anaconda-cloud": {},
  "extensions": {
   "jupyter_dashboards": {
    "activeView": "grid_default",
    "version": 1,
    "views": {
     "grid_default": {
      "cellMargin": 10,
      "defaultCellHeight": 20,
      "maxColumns": 12,
      "name": "grid",
      "type": "grid"
     },
     "report_default": {
      "name": "report",
      "type": "report"
     }
    }
   }
  },
  "gist": {
   "data": {
    "description": "spaghetti/notebooks/Network_Usage.ipynb",
    "public": true
   },
   "id": "2697ff11933bb0ea8b94c4326a540453"
  },
  "kernelspec": {
   "display_name": "Python [conda env:py3_spgh_dev]",
   "language": "python",
   "name": "conda-env-py3_spgh_dev-py"
  },
  "language_info": {
   "codemirror_mode": {
    "name": "ipython",
    "version": 3
   },
   "file_extension": ".py",
   "mimetype": "text/x-python",
   "name": "python",
   "nbconvert_exporter": "python",
   "pygments_lexer": "ipython3",
   "version": "3.6.6"
  }
 },
 "nbformat": 4,
 "nbformat_minor": 1
}
