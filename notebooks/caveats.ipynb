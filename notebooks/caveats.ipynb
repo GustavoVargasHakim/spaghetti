{
 "cells": [
  {
   "cell_type": "markdown",
   "metadata": {},
   "source": [
    "---------------\n",
    "\n",
    "**If any part of this notebook is used in your research, please cite with the reference found in** **[README.md](https://github.com/pysal/spaghetti#bibtex-citation).**\n",
    "\n",
    "\n",
    "----------------\n",
    "## Caveats\n",
    "### Demonstrating known caveats in `spaghetti`\n",
    "\n",
    "**Author: James D. Gaboardi** **<jgaboardi@gmail.com>**\n",
    "\n",
    "**This notebook demonstrates the following limitations and caveats:**\n",
    "\n",
    "1. Limitations in non-planarity\n",
    "2. Distance matrices between (dis)connected components\n",
    "3. zzzz"
   ]
  },
  {
   "cell_type": "code",
   "execution_count": 2,
   "metadata": {
    "ExecuteTime": {
     "end_time": "2020-03-10T12:22:01.334334Z",
     "start_time": "2020-03-10T12:22:01.099680Z"
    }
   },
   "outputs": [
    {
     "name": "stdout",
     "output_type": "stream",
     "text": [
      "2020-03-10T08:22:01-04:00\n",
      "\n",
      "CPython 3.7.3\n",
      "IPython 7.10.2\n",
      "\n",
      "compiler   : Clang 9.0.0 (tags/RELEASE_900/final)\n",
      "system     : Darwin\n",
      "release    : 19.3.0\n",
      "machine    : x86_64\n",
      "processor  : i386\n",
      "CPU cores  : 4\n",
      "interpreter: 64bit\n"
     ]
    }
   ],
   "source": [
    "%load_ext watermark\n",
    "%watermark"
   ]
  },
  {
   "cell_type": "code",
   "execution_count": 36,
   "metadata": {
    "ExecuteTime": {
     "end_time": "2020-03-10T12:47:27.632281Z",
     "start_time": "2020-03-10T12:47:27.619665Z"
    }
   },
   "outputs": [
    {
     "name": "stdout",
     "output_type": "stream",
     "text": [
      "watermark 2.0.2\n",
      "numpy      1.17.3\n",
      "libpysal   4.2.0\n",
      "spaghetti  1.4.2.post2\n",
      "geopandas  0.6.2\n",
      "matplotlib 3.1.2\n",
      "\n"
     ]
    }
   ],
   "source": [
    "import geopandas\n",
    "import libpysal\n",
    "from libpysal.cg import Point, Chain\n",
    "import matplotlib\n",
    "import matplotlib.pyplot as plt\n",
    "import numpy\n",
    "import spaghetti\n",
    "%matplotlib inline\n",
    "%watermark -w\n",
    "%watermark -iv"
   ]
  },
  {
   "cell_type": "code",
   "execution_count": 37,
   "metadata": {
    "ExecuteTime": {
     "end_time": "2020-03-10T12:47:27.895783Z",
     "start_time": "2020-03-10T12:47:27.890916Z"
    }
   },
   "outputs": [],
   "source": [
    "try:\n",
    "    from IPython.display import set_matplotlib_formats\n",
    "    set_matplotlib_formats(\"retina\")\n",
    "except ImportError:\n",
    "    pass"
   ]
  },
  {
   "cell_type": "markdown",
   "metadata": {},
   "source": [
    "-----------------------\n",
    "### 1. Limitations in non-planarity\n",
    "#### a) Barbed wire example\n",
    "##### Create some line segments of ``libpysal.cg.Chain`` objects"
   ]
  },
  {
   "cell_type": "code",
   "execution_count": 38,
   "metadata": {
    "ExecuteTime": {
     "end_time": "2020-03-10T12:47:28.495968Z",
     "start_time": "2020-03-10T12:47:28.483983Z"
    }
   },
   "outputs": [
    {
     "data": {
      "text/plain": [
       "[<libpysal.cg.shapes.Chain at 0x125b2cb38>,\n",
       " <libpysal.cg.shapes.Chain at 0x125b2c828>,\n",
       " <libpysal.cg.shapes.Chain at 0x125b2c668>,\n",
       " <libpysal.cg.shapes.Chain at 0x125b2cf28>,\n",
       " <libpysal.cg.shapes.Chain at 0x125b2ca20>,\n",
       " <libpysal.cg.shapes.Chain at 0x125b2c6a0>,\n",
       " <libpysal.cg.shapes.Chain at 0x125b2c4e0>]"
      ]
     },
     "execution_count": 38,
     "metadata": {},
     "output_type": "execute_result"
    }
   ],
   "source": [
    "lines = [\n",
    "    Chain([Point((2,7)), Point((2,3))]),\n",
    "    Chain([Point((2,3)), Point((0,3))]),\n",
    "    Chain([Point((0,3)), Point((0,5))]),\n",
    "    Chain([Point((0,5)), Point((5,5))]),\n",
    "    Chain([Point((5,5)), Point((5,7))]),\n",
    "    Chain([Point((5,7)), Point((3,7))]),\n",
    "    Chain([Point((3,7)), Point((3,3))])\n",
    "]\n",
    "lines"
   ]
  },
  {
   "cell_type": "markdown",
   "metadata": {},
   "source": [
    "##### Instantiate a ``spaghetti.Network`` object"
   ]
  },
  {
   "cell_type": "code",
   "execution_count": 39,
   "metadata": {
    "ExecuteTime": {
     "end_time": "2020-03-10T12:47:29.010099Z",
     "start_time": "2020-03-10T12:47:29.003619Z"
    }
   },
   "outputs": [],
   "source": [
    "ntw = spaghetti.Network(in_data=lines)"
   ]
  },
  {
   "cell_type": "markdown",
   "metadata": {},
   "source": [
    "##### Extract the network vertices and arcs"
   ]
  },
  {
   "cell_type": "code",
   "execution_count": 40,
   "metadata": {
    "ExecuteTime": {
     "end_time": "2020-03-10T12:47:29.707346Z",
     "start_time": "2020-03-10T12:47:29.670883Z"
    }
   },
   "outputs": [
    {
     "data": {
      "text/html": [
       "<div>\n",
       "<style scoped>\n",
       "    .dataframe tbody tr th:only-of-type {\n",
       "        vertical-align: middle;\n",
       "    }\n",
       "\n",
       "    .dataframe tbody tr th {\n",
       "        vertical-align: top;\n",
       "    }\n",
       "\n",
       "    .dataframe thead th {\n",
       "        text-align: right;\n",
       "    }\n",
       "</style>\n",
       "<table border=\"1\" class=\"dataframe\">\n",
       "  <thead>\n",
       "    <tr style=\"text-align: right;\">\n",
       "      <th></th>\n",
       "      <th>id</th>\n",
       "      <th>geometry</th>\n",
       "      <th>comp_label</th>\n",
       "    </tr>\n",
       "  </thead>\n",
       "  <tbody>\n",
       "    <tr>\n",
       "      <th>0</th>\n",
       "      <td>0</td>\n",
       "      <td>POINT (2.00000 7.00000)</td>\n",
       "      <td>0</td>\n",
       "    </tr>\n",
       "    <tr>\n",
       "      <th>1</th>\n",
       "      <td>1</td>\n",
       "      <td>POINT (2.00000 3.00000)</td>\n",
       "      <td>0</td>\n",
       "    </tr>\n",
       "    <tr>\n",
       "      <th>2</th>\n",
       "      <td>2</td>\n",
       "      <td>POINT (0.00000 3.00000)</td>\n",
       "      <td>0</td>\n",
       "    </tr>\n",
       "    <tr>\n",
       "      <th>3</th>\n",
       "      <td>3</td>\n",
       "      <td>POINT (0.00000 5.00000)</td>\n",
       "      <td>0</td>\n",
       "    </tr>\n",
       "    <tr>\n",
       "      <th>4</th>\n",
       "      <td>4</td>\n",
       "      <td>POINT (5.00000 5.00000)</td>\n",
       "      <td>0</td>\n",
       "    </tr>\n",
       "    <tr>\n",
       "      <th>5</th>\n",
       "      <td>5</td>\n",
       "      <td>POINT (5.00000 7.00000)</td>\n",
       "      <td>0</td>\n",
       "    </tr>\n",
       "    <tr>\n",
       "      <th>6</th>\n",
       "      <td>6</td>\n",
       "      <td>POINT (3.00000 7.00000)</td>\n",
       "      <td>0</td>\n",
       "    </tr>\n",
       "    <tr>\n",
       "      <th>7</th>\n",
       "      <td>7</td>\n",
       "      <td>POINT (3.00000 3.00000)</td>\n",
       "      <td>0</td>\n",
       "    </tr>\n",
       "  </tbody>\n",
       "</table>\n",
       "</div>"
      ],
      "text/plain": [
       "   id                 geometry  comp_label\n",
       "0   0  POINT (2.00000 7.00000)           0\n",
       "1   1  POINT (2.00000 3.00000)           0\n",
       "2   2  POINT (0.00000 3.00000)           0\n",
       "3   3  POINT (0.00000 5.00000)           0\n",
       "4   4  POINT (5.00000 5.00000)           0\n",
       "5   5  POINT (5.00000 7.00000)           0\n",
       "6   6  POINT (3.00000 7.00000)           0\n",
       "7   7  POINT (3.00000 3.00000)           0"
      ]
     },
     "execution_count": 40,
     "metadata": {},
     "output_type": "execute_result"
    }
   ],
   "source": [
    "vertices_df, arcs_df = spaghetti.element_as_gdf(ntw, vertices=True, arcs=True)\n",
    "vertices_df"
   ]
  },
  {
   "cell_type": "code",
   "execution_count": 41,
   "metadata": {
    "ExecuteTime": {
     "end_time": "2020-03-10T12:47:30.860605Z",
     "start_time": "2020-03-10T12:47:30.843429Z"
    }
   },
   "outputs": [
    {
     "data": {
      "text/html": [
       "<div>\n",
       "<style scoped>\n",
       "    .dataframe tbody tr th:only-of-type {\n",
       "        vertical-align: middle;\n",
       "    }\n",
       "\n",
       "    .dataframe tbody tr th {\n",
       "        vertical-align: top;\n",
       "    }\n",
       "\n",
       "    .dataframe thead th {\n",
       "        text-align: right;\n",
       "    }\n",
       "</style>\n",
       "<table border=\"1\" class=\"dataframe\">\n",
       "  <thead>\n",
       "    <tr style=\"text-align: right;\">\n",
       "      <th></th>\n",
       "      <th>id</th>\n",
       "      <th>geometry</th>\n",
       "      <th>comp_label</th>\n",
       "    </tr>\n",
       "  </thead>\n",
       "  <tbody>\n",
       "    <tr>\n",
       "      <th>0</th>\n",
       "      <td>(0, 1)</td>\n",
       "      <td>LINESTRING (2.00000 7.00000, 2.00000 3.00000)</td>\n",
       "      <td>0</td>\n",
       "    </tr>\n",
       "    <tr>\n",
       "      <th>1</th>\n",
       "      <td>(1, 2)</td>\n",
       "      <td>LINESTRING (2.00000 3.00000, 0.00000 3.00000)</td>\n",
       "      <td>0</td>\n",
       "    </tr>\n",
       "    <tr>\n",
       "      <th>2</th>\n",
       "      <td>(2, 3)</td>\n",
       "      <td>LINESTRING (0.00000 3.00000, 0.00000 5.00000)</td>\n",
       "      <td>0</td>\n",
       "    </tr>\n",
       "    <tr>\n",
       "      <th>3</th>\n",
       "      <td>(3, 4)</td>\n",
       "      <td>LINESTRING (0.00000 5.00000, 5.00000 5.00000)</td>\n",
       "      <td>0</td>\n",
       "    </tr>\n",
       "    <tr>\n",
       "      <th>4</th>\n",
       "      <td>(4, 5)</td>\n",
       "      <td>LINESTRING (5.00000 5.00000, 5.00000 7.00000)</td>\n",
       "      <td>0</td>\n",
       "    </tr>\n",
       "    <tr>\n",
       "      <th>5</th>\n",
       "      <td>(5, 6)</td>\n",
       "      <td>LINESTRING (5.00000 7.00000, 3.00000 7.00000)</td>\n",
       "      <td>0</td>\n",
       "    </tr>\n",
       "    <tr>\n",
       "      <th>6</th>\n",
       "      <td>(6, 7)</td>\n",
       "      <td>LINESTRING (3.00000 7.00000, 3.00000 3.00000)</td>\n",
       "      <td>0</td>\n",
       "    </tr>\n",
       "  </tbody>\n",
       "</table>\n",
       "</div>"
      ],
      "text/plain": [
       "       id                                       geometry  comp_label\n",
       "0  (0, 1)  LINESTRING (2.00000 7.00000, 2.00000 3.00000)           0\n",
       "1  (1, 2)  LINESTRING (2.00000 3.00000, 0.00000 3.00000)           0\n",
       "2  (2, 3)  LINESTRING (0.00000 3.00000, 0.00000 5.00000)           0\n",
       "3  (3, 4)  LINESTRING (0.00000 5.00000, 5.00000 5.00000)           0\n",
       "4  (4, 5)  LINESTRING (5.00000 5.00000, 5.00000 7.00000)           0\n",
       "5  (5, 6)  LINESTRING (5.00000 7.00000, 3.00000 7.00000)           0\n",
       "6  (6, 7)  LINESTRING (3.00000 7.00000, 3.00000 3.00000)           0"
      ]
     },
     "execution_count": 41,
     "metadata": {},
     "output_type": "execute_result"
    }
   ],
   "source": [
    "arcs_df"
   ]
  },
  {
   "cell_type": "markdown",
   "metadata": {},
   "source": [
    "##### Plot"
   ]
  },
  {
   "cell_type": "code",
   "execution_count": 42,
   "metadata": {
    "ExecuteTime": {
     "end_time": "2020-03-10T12:47:31.962881Z",
     "start_time": "2020-03-10T12:47:31.565040Z"
    }
   },
   "outputs": [
    {
     "data": {
      "text/plain": [
       "<matplotlib.axes._subplots.AxesSubplot at 0x125fbd358>"
      ]
     },
     "execution_count": 42,
     "metadata": {},
     "output_type": "execute_result"
    },
    {
     "data": {
      "image/png": "[encoded data removed]",
      "text/plain": [
       "<Figure size 648x648 with 1 Axes>"
      ]
     },
     "metadata": {
      "image/png": {
       "height": 435,
       "width": 529
      },
      "needs_background": "light"
     },
     "output_type": "display_data"
    }
   ],
   "source": [
    "base = arcs_df.plot(lw=6, color=\"k\", alpha=.35, figsize=(9, 9))\n",
    "vertices_df.plot(ax=base, fc=\"r\", ec=\"k\", markersize=200, zorder=2)"
   ]
  },
  {
   "cell_type": "markdown",
   "metadata": {},
   "source": [
    "The plot above shows newtowk arcs in gray and vertices in red. \n",
    "\n",
    "---------------------"
   ]
  },
  {
   "cell_type": "markdown",
   "metadata": {},
   "source": [
    "#### b) Goalpost example\n",
    "##### Create some line segments of ``libpysal.cg.Chain`` objects"
   ]
  },
  {
   "cell_type": "code",
   "execution_count": 43,
   "metadata": {
    "ExecuteTime": {
     "end_time": "2020-03-10T12:47:33.362846Z",
     "start_time": "2020-03-10T12:47:33.351850Z"
    },
    "scrolled": true
   },
   "outputs": [
    {
     "data": {
      "text/plain": [
       "[<libpysal.cg.shapes.Chain at 0x126019518>,\n",
       " <libpysal.cg.shapes.Chain at 0x126019390>]"
      ]
     },
     "execution_count": 43,
     "metadata": {},
     "output_type": "execute_result"
    }
   ],
   "source": [
    "U = [Chain([Point((2,2)), Point((2,1)), Point((4,1)), Point((4,2))])]\n",
    "I = [Chain([Point((3,0)), Point((3,1))])]\n",
    "arcs = U + I\n",
    "arcs"
   ]
  },
  {
   "cell_type": "markdown",
   "metadata": {},
   "source": [
    "##### Instantiate a ``spaghetti.Network`` object"
   ]
  },
  {
   "cell_type": "markdown",
   "metadata": {
    "ExecuteTime": {
     "end_time": "2020-03-10T12:47:33.788677Z",
     "start_time": "2020-03-10T12:47:33.768771Z"
    }
   },
   "source": [
    "ntw = spaghetti.Network(in_data=arcs)"
   ]
  },
  {
   "cell_type": "markdown",
   "metadata": {},
   "source": [
    "##### Examine the componets\n",
    "**There are two components:**"
   ]
  },
  {
   "cell_type": "code",
   "execution_count": 45,
   "metadata": {
    "ExecuteTime": {
     "end_time": "2020-03-10T12:47:34.251606Z",
     "start_time": "2020-03-10T12:47:34.243130Z"
    }
   },
   "outputs": [
    {
     "data": {
      "text/plain": [
       "2"
      ]
     },
     "execution_count": 45,
     "metadata": {},
     "output_type": "execute_result"
    }
   ],
   "source": [
    "ntw.network_n_components"
   ]
  },
  {
   "cell_type": "markdown",
   "metadata": {},
   "source": [
    "**Component ``0`` includes 4 vertices (the \"goal\") and component ``1`` includes 2 (the \"post\"):**"
   ]
  },
  {
   "cell_type": "code",
   "execution_count": 46,
   "metadata": {
    "ExecuteTime": {
     "end_time": "2020-03-10T12:47:34.859756Z",
     "start_time": "2020-03-10T12:47:34.851244Z"
    }
   },
   "outputs": [
    {
     "data": {
      "text/plain": [
       "{0: [0, 1, 2, 3], 1: [4, 5]}"
      ]
     },
     "execution_count": 46,
     "metadata": {},
     "output_type": "execute_result"
    }
   ],
   "source": [
    "ntw.network_component_vertices"
   ]
  },
  {
   "cell_type": "markdown",
   "metadata": {},
   "source": [
    "##### Extract the network vertices and arcs"
   ]
  },
  {
   "cell_type": "code",
   "execution_count": 47,
   "metadata": {
    "ExecuteTime": {
     "end_time": "2020-03-10T12:47:35.515319Z",
     "start_time": "2020-03-10T12:47:35.490775Z"
    }
   },
   "outputs": [
    {
     "data": {
      "text/html": [
       "<div>\n",
       "<style scoped>\n",
       "    .dataframe tbody tr th:only-of-type {\n",
       "        vertical-align: middle;\n",
       "    }\n",
       "\n",
       "    .dataframe tbody tr th {\n",
       "        vertical-align: top;\n",
       "    }\n",
       "\n",
       "    .dataframe thead th {\n",
       "        text-align: right;\n",
       "    }\n",
       "</style>\n",
       "<table border=\"1\" class=\"dataframe\">\n",
       "  <thead>\n",
       "    <tr style=\"text-align: right;\">\n",
       "      <th></th>\n",
       "      <th>id</th>\n",
       "      <th>geometry</th>\n",
       "      <th>comp_label</th>\n",
       "    </tr>\n",
       "  </thead>\n",
       "  <tbody>\n",
       "    <tr>\n",
       "      <th>0</th>\n",
       "      <td>0</td>\n",
       "      <td>POINT (2.00000 2.00000)</td>\n",
       "      <td>0</td>\n",
       "    </tr>\n",
       "    <tr>\n",
       "      <th>1</th>\n",
       "      <td>1</td>\n",
       "      <td>POINT (2.00000 1.00000)</td>\n",
       "      <td>0</td>\n",
       "    </tr>\n",
       "    <tr>\n",
       "      <th>2</th>\n",
       "      <td>2</td>\n",
       "      <td>POINT (4.00000 1.00000)</td>\n",
       "      <td>0</td>\n",
       "    </tr>\n",
       "    <tr>\n",
       "      <th>3</th>\n",
       "      <td>3</td>\n",
       "      <td>POINT (4.00000 2.00000)</td>\n",
       "      <td>0</td>\n",
       "    </tr>\n",
       "    <tr>\n",
       "      <th>4</th>\n",
       "      <td>4</td>\n",
       "      <td>POINT (3.00000 0.00000)</td>\n",
       "      <td>1</td>\n",
       "    </tr>\n",
       "    <tr>\n",
       "      <th>5</th>\n",
       "      <td>5</td>\n",
       "      <td>POINT (3.00000 1.00000)</td>\n",
       "      <td>1</td>\n",
       "    </tr>\n",
       "  </tbody>\n",
       "</table>\n",
       "</div>"
      ],
      "text/plain": [
       "   id                 geometry  comp_label\n",
       "0   0  POINT (2.00000 2.00000)           0\n",
       "1   1  POINT (2.00000 1.00000)           0\n",
       "2   2  POINT (4.00000 1.00000)           0\n",
       "3   3  POINT (4.00000 2.00000)           0\n",
       "4   4  POINT (3.00000 0.00000)           1\n",
       "5   5  POINT (3.00000 1.00000)           1"
      ]
     },
     "execution_count": 47,
     "metadata": {},
     "output_type": "execute_result"
    }
   ],
   "source": [
    "vertices_df, arcs_df = spaghetti.element_as_gdf(ntw, vertices=True, arcs=True)\n",
    "vertices_df"
   ]
  },
  {
   "cell_type": "code",
   "execution_count": 48,
   "metadata": {
    "ExecuteTime": {
     "end_time": "2020-03-10T12:47:36.266125Z",
     "start_time": "2020-03-10T12:47:36.251737Z"
    }
   },
   "outputs": [
    {
     "data": {
      "text/html": [
       "<div>\n",
       "<style scoped>\n",
       "    .dataframe tbody tr th:only-of-type {\n",
       "        vertical-align: middle;\n",
       "    }\n",
       "\n",
       "    .dataframe tbody tr th {\n",
       "        vertical-align: top;\n",
       "    }\n",
       "\n",
       "    .dataframe thead th {\n",
       "        text-align: right;\n",
       "    }\n",
       "</style>\n",
       "<table border=\"1\" class=\"dataframe\">\n",
       "  <thead>\n",
       "    <tr style=\"text-align: right;\">\n",
       "      <th></th>\n",
       "      <th>id</th>\n",
       "      <th>geometry</th>\n",
       "      <th>comp_label</th>\n",
       "    </tr>\n",
       "  </thead>\n",
       "  <tbody>\n",
       "    <tr>\n",
       "      <th>0</th>\n",
       "      <td>(0, 1)</td>\n",
       "      <td>LINESTRING (2.00000 2.00000, 2.00000 1.00000)</td>\n",
       "      <td>0</td>\n",
       "    </tr>\n",
       "    <tr>\n",
       "      <th>1</th>\n",
       "      <td>(1, 2)</td>\n",
       "      <td>LINESTRING (2.00000 1.00000, 4.00000 1.00000)</td>\n",
       "      <td>0</td>\n",
       "    </tr>\n",
       "    <tr>\n",
       "      <th>2</th>\n",
       "      <td>(2, 3)</td>\n",
       "      <td>LINESTRING (4.00000 1.00000, 4.00000 2.00000)</td>\n",
       "      <td>0</td>\n",
       "    </tr>\n",
       "    <tr>\n",
       "      <th>3</th>\n",
       "      <td>(4, 5)</td>\n",
       "      <td>LINESTRING (3.00000 0.00000, 3.00000 1.00000)</td>\n",
       "      <td>1</td>\n",
       "    </tr>\n",
       "  </tbody>\n",
       "</table>\n",
       "</div>"
      ],
      "text/plain": [
       "       id                                       geometry  comp_label\n",
       "0  (0, 1)  LINESTRING (2.00000 2.00000, 2.00000 1.00000)           0\n",
       "1  (1, 2)  LINESTRING (2.00000 1.00000, 4.00000 1.00000)           0\n",
       "2  (2, 3)  LINESTRING (4.00000 1.00000, 4.00000 2.00000)           0\n",
       "3  (4, 5)  LINESTRING (3.00000 0.00000, 3.00000 1.00000)           1"
      ]
     },
     "execution_count": 48,
     "metadata": {},
     "output_type": "execute_result"
    }
   ],
   "source": [
    "arcs_df"
   ]
  },
  {
   "cell_type": "markdown",
   "metadata": {},
   "source": [
    "##### Helper function for vertex labeling"
   ]
  },
  {
   "cell_type": "code",
   "execution_count": 49,
   "metadata": {
    "ExecuteTime": {
     "end_time": "2020-03-10T12:47:37.644441Z",
     "start_time": "2020-03-10T12:47:37.637296Z"
    }
   },
   "outputs": [],
   "source": [
    "def vert_labels(v, b, s):\n",
    "    \"\"\"Label each network vertex.\"\"\"\n",
    "    def _lab_loc(_x):\n",
    "        \"\"\"Internal helper for labeling vertices.\"\"\"\n",
    "        return _x.geometry.coords[0]\n",
    "    kws = {\"size\": s, \"ha\": \"left\", \"va\": \"bottom\", \"weight\": \"bold\"}\n",
    "    v.apply(lambda x: b.annotate(s=x.comp_label, xy=_lab_loc(x), **kws), axis=1)       "
   ]
  },
  {
   "cell_type": "markdown",
   "metadata": {},
   "source": [
    "##### Plot"
   ]
  },
  {
   "cell_type": "code",
   "execution_count": 55,
   "metadata": {
    "ExecuteTime": {
     "end_time": "2020-03-10T12:50:03.907293Z",
     "start_time": "2020-03-10T12:50:03.395948Z"
    }
   },
   "outputs": [
    {
     "data": {
      "image/png": "[encoded data removed]",
      "text/plain": [
       "<Figure size 648x648 with 1 Axes>"
      ]
     },
     "metadata": {
      "image/png": {
       "height": 520,
       "width": 532
      },
      "needs_background": "light"
     },
     "output_type": "display_data"
    }
   ],
   "source": [
    "base_kws = {\"alpha\":.5, \"lw\":5, \"cmap\":\"Paired\", \"column\":\"comp_label\"}\n",
    "base = arcs_df.plot(figsize=(9, 9), **base_kws)\n",
    "vertices_df.plot(ax=base, color=\"k\", markersize=40, zorder=2)\n",
    "# vertex labels\n",
    "vert_labels(vertices_df, base, 14)"
   ]
  },
  {
   "cell_type": "markdown",
   "metadata": {},
   "source": [
    "**As stated previously, flow from one network segment to another is only possible when segments share a vertex. In this case, no vertex is actually shared, although superficially there does appear to be. The plot above visualizes this concept by showing the two (dis)connected components of the \"goalpost\" network. Network arcs are colored by component membership and vertices are labeled by component membership.**\n",
    "\n",
    "-----------------------\n",
    "### 2. Distance matrices for multiple connected components\n",
    "#### Continuing with the \"goalpost\" network"
   ]
  },
  {
   "cell_type": "code",
   "execution_count": null,
   "metadata": {},
   "outputs": [],
   "source": []
  },
  {
   "cell_type": "code",
   "execution_count": null,
   "metadata": {},
   "outputs": [],
   "source": []
  },
  {
   "cell_type": "code",
   "execution_count": null,
   "metadata": {},
   "outputs": [],
   "source": []
  },
  {
   "cell_type": "code",
   "execution_count": null,
   "metadata": {},
   "outputs": [],
   "source": []
  },
  {
   "cell_type": "markdown",
   "metadata": {},
   "source": [
    "-----------------------"
   ]
  }
 ],
 "metadata": {
  "kernelspec": {
   "display_name": "Python [conda env:py3_spgh_dev]",
   "language": "python",
   "name": "conda-env-py3_spgh_dev-py"
  },
  "language_info": {
   "codemirror_mode": {
    "name": "ipython",
    "version": 3
   },
   "file_extension": ".py",
   "mimetype": "text/x-python",
   "name": "python",
   "nbconvert_exporter": "python",
   "pygments_lexer": "ipython3",
   "version": "3.7.3"
  }
 },
 "nbformat": 4,
 "nbformat_minor": 4
}
