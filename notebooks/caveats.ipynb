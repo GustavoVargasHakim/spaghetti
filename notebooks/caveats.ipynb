{
 "cells": [
  {
   "cell_type": "markdown",
   "metadata": {},
   "source": [
    "---------------\n",
    "\n",
    "**If any part of this notebook is used in your research, please cite with the reference found in** **[README.md](https://github.com/pysal/spaghetti#bibtex-citation).**\n",
    "\n",
    "\n",
    "----------------\n",
    "## Caveats\n",
    "### Demonstrating known caveats and tweaks in `spaghetti`\n",
    "\n",
    "**Author: James D. Gaboardi** **<jgaboardi@gmail.com>**\n",
    "\n",
    "**This notebook demonstrates the following limitations and caveats:**\n",
    "\n",
    "1. Limitations in non-planarity\n",
    "2. Relaxing vertex coordinate precision\n",
    "3. Distance matrices between (dis)connected components"
   ]
  },
  {
   "cell_type": "markdown",
   "metadata": {},
   "source": [
    "# `vertex_atol` -- maybe just `atol`\n",
    "# plot connectivity weights...\n",
    "# compare to fuzzy weights...\n",
    "# tests\n",
    "# docs...\n"
   ]
  },
  {
   "cell_type": "code",
   "execution_count": null,
   "metadata": {},
   "outputs": [],
   "source": []
  },
  {
   "cell_type": "code",
   "execution_count": 2,
   "metadata": {
    "ExecuteTime": {
     "end_time": "2020-03-23T02:13:56.272445Z",
     "start_time": "2020-03-23T02:13:56.023700Z"
    }
   },
   "outputs": [
    {
     "name": "stdout",
     "output_type": "stream",
     "text": [
      "2020-03-22T22:13:56-04:00\n",
      "\n",
      "CPython 3.7.3\n",
      "IPython 7.10.2\n",
      "\n",
      "compiler   : Clang 9.0.0 (tags/RELEASE_900/final)\n",
      "system     : Darwin\n",
      "release    : 19.3.0\n",
      "machine    : x86_64\n",
      "processor  : i386\n",
      "CPU cores  : 4\n",
      "interpreter: 64bit\n"
     ]
    }
   ],
   "source": [
    "%load_ext watermark\n",
    "%watermark"
   ]
  },
  {
   "cell_type": "code",
   "execution_count": 3,
   "metadata": {
    "ExecuteTime": {
     "end_time": "2020-03-23T02:13:58.451836Z",
     "start_time": "2020-03-23T02:13:56.657642Z"
    }
   },
   "outputs": [
    {
     "name": "stdout",
     "output_type": "stream",
     "text": [
      "watermark 2.0.2\n",
      "libpysal   4.2.2\n",
      "geopandas  0.7.0\n",
      "matplotlib 3.1.2\n",
      "numpy      1.17.3\n",
      "spaghetti  1.4.2.post2\n",
      "\n"
     ]
    }
   ],
   "source": [
    "import geopandas\n",
    "import libpysal\n",
    "from libpysal.cg import Point, Chain\n",
    "import matplotlib\n",
    "import matplotlib.pyplot as plt\n",
    "import numpy\n",
    "import spaghetti\n",
    "%matplotlib inline\n",
    "%watermark -w\n",
    "%watermark -iv"
   ]
  },
  {
   "cell_type": "code",
   "execution_count": 4,
   "metadata": {
    "ExecuteTime": {
     "end_time": "2020-03-23T02:13:58.461692Z",
     "start_time": "2020-03-23T02:13:58.455047Z"
    }
   },
   "outputs": [],
   "source": [
    "try:\n",
    "    from IPython.display import set_matplotlib_formats\n",
    "    set_matplotlib_formats(\"retina\")\n",
    "except ImportError:\n",
    "    pass"
   ]
  },
  {
   "cell_type": "markdown",
   "metadata": {},
   "source": [
    "##### Helper functions for arc and vertex labeling"
   ]
  },
  {
   "cell_type": "code",
   "execution_count": 16,
   "metadata": {
    "ExecuteTime": {
     "end_time": "2020-03-23T02:16:21.081046Z",
     "start_time": "2020-03-23T02:16:21.070932Z"
    }
   },
   "outputs": [],
   "source": [
    "def arc_labels(a, b, s):\n",
    "    \"\"\"Label each network arc.\"\"\"\n",
    "    def _lab_loc(_x):\n",
    "        \"\"\"Helper for labeling network arcs.\"\"\"\n",
    "        return _x.geometry.interpolate(0.5, normalized=True).coords[0]\n",
    "    kws = {\"size\": s, \"ha\": \"center\", \"va\": \"bottom\"}\n",
    "    a.apply(lambda x: b.annotate(s=x.id, xy=_lab_loc(x), **kws), axis=1)\n",
    "\n",
    "def vert_labels(v, b, s):\n",
    "    \"\"\"Label each network vertex.\"\"\"\n",
    "    def _lab_loc(_x):\n",
    "        \"\"\"Internal helper for labeling vertices.\"\"\"\n",
    "        return _x.geometry.coords[0]\n",
    "    kws = {\"size\": s, \"ha\": \"left\", \"va\": \"bottom\", \"weight\": \"bold\"}\n",
    "    v.apply(lambda x: b.annotate(s=x.comp_label, xy=_lab_loc(x), **kws), axis=1)       "
   ]
  },
  {
   "cell_type": "markdown",
   "metadata": {},
   "source": [
    "-----------------------\n",
    "### 1. Limitations in non-planarity\n",
    "#### a) Barbed wire example\n",
    "##### Create some line segments of ``libpysal.cg.Chain`` objects"
   ]
  },
  {
   "cell_type": "code",
   "execution_count": 6,
   "metadata": {
    "ExecuteTime": {
     "end_time": "2020-03-23T02:13:58.676263Z",
     "start_time": "2020-03-23T02:13:58.661992Z"
    }
   },
   "outputs": [
    {
     "data": {
      "text/plain": [
       "[<libpysal.cg.shapes.Chain at 0x120582f60>,\n",
       " <libpysal.cg.shapes.Chain at 0x120582f98>,\n",
       " <libpysal.cg.shapes.Chain at 0x1205780f0>,\n",
       " <libpysal.cg.shapes.Chain at 0x120578198>,\n",
       " <libpysal.cg.shapes.Chain at 0x120578240>,\n",
       " <libpysal.cg.shapes.Chain at 0x1205782e8>,\n",
       " <libpysal.cg.shapes.Chain at 0x120578390>]"
      ]
     },
     "execution_count": 6,
     "metadata": {},
     "output_type": "execute_result"
    }
   ],
   "source": [
    "lines = [\n",
    "    Chain([Point((2,7)), Point((2,3))]),\n",
    "    Chain([Point((2,3)), Point((0,3))]),\n",
    "    Chain([Point((0,3)), Point((0,5))]),\n",
    "    Chain([Point((0,5)), Point((5,5))]),\n",
    "    Chain([Point((5,5)), Point((5,7))]),\n",
    "    Chain([Point((5,7)), Point((3,7))]),\n",
    "    Chain([Point((3,7)), Point((3,3))])\n",
    "]\n",
    "lines"
   ]
  },
  {
   "cell_type": "markdown",
   "metadata": {},
   "source": [
    "##### Instantiate a ``spaghetti.Network`` object"
   ]
  },
  {
   "cell_type": "code",
   "execution_count": 7,
   "metadata": {
    "ExecuteTime": {
     "end_time": "2020-03-23T02:13:59.826016Z",
     "start_time": "2020-03-23T02:13:59.818829Z"
    }
   },
   "outputs": [],
   "source": [
    "ntw = spaghetti.Network(in_data=lines, extractgraph=False)"
   ]
  },
  {
   "cell_type": "markdown",
   "metadata": {},
   "source": [
    "##### Extract the network vertices and arcs"
   ]
  },
  {
   "cell_type": "code",
   "execution_count": 8,
   "metadata": {
    "ExecuteTime": {
     "end_time": "2020-03-23T02:14:01.554003Z",
     "start_time": "2020-03-23T02:14:01.519509Z"
    }
   },
   "outputs": [
    {
     "data": {
      "text/html": [
       "<div>\n",
       "<style scoped>\n",
       "    .dataframe tbody tr th:only-of-type {\n",
       "        vertical-align: middle;\n",
       "    }\n",
       "\n",
       "    .dataframe tbody tr th {\n",
       "        vertical-align: top;\n",
       "    }\n",
       "\n",
       "    .dataframe thead th {\n",
       "        text-align: right;\n",
       "    }\n",
       "</style>\n",
       "<table border=\"1\" class=\"dataframe\">\n",
       "  <thead>\n",
       "    <tr style=\"text-align: right;\">\n",
       "      <th></th>\n",
       "      <th>id</th>\n",
       "      <th>geometry</th>\n",
       "      <th>comp_label</th>\n",
       "    </tr>\n",
       "  </thead>\n",
       "  <tbody>\n",
       "    <tr>\n",
       "      <th>0</th>\n",
       "      <td>0</td>\n",
       "      <td>POINT (2.00000 7.00000)</td>\n",
       "      <td>0</td>\n",
       "    </tr>\n",
       "    <tr>\n",
       "      <th>1</th>\n",
       "      <td>1</td>\n",
       "      <td>POINT (2.00000 3.00000)</td>\n",
       "      <td>0</td>\n",
       "    </tr>\n",
       "    <tr>\n",
       "      <th>2</th>\n",
       "      <td>2</td>\n",
       "      <td>POINT (0.00000 3.00000)</td>\n",
       "      <td>0</td>\n",
       "    </tr>\n",
       "    <tr>\n",
       "      <th>3</th>\n",
       "      <td>3</td>\n",
       "      <td>POINT (0.00000 5.00000)</td>\n",
       "      <td>0</td>\n",
       "    </tr>\n",
       "    <tr>\n",
       "      <th>4</th>\n",
       "      <td>4</td>\n",
       "      <td>POINT (5.00000 5.00000)</td>\n",
       "      <td>0</td>\n",
       "    </tr>\n",
       "    <tr>\n",
       "      <th>5</th>\n",
       "      <td>5</td>\n",
       "      <td>POINT (5.00000 7.00000)</td>\n",
       "      <td>0</td>\n",
       "    </tr>\n",
       "    <tr>\n",
       "      <th>6</th>\n",
       "      <td>6</td>\n",
       "      <td>POINT (3.00000 7.00000)</td>\n",
       "      <td>0</td>\n",
       "    </tr>\n",
       "    <tr>\n",
       "      <th>7</th>\n",
       "      <td>7</td>\n",
       "      <td>POINT (3.00000 3.00000)</td>\n",
       "      <td>0</td>\n",
       "    </tr>\n",
       "  </tbody>\n",
       "</table>\n",
       "</div>"
      ],
      "text/plain": [
       "   id                 geometry  comp_label\n",
       "0   0  POINT (2.00000 7.00000)           0\n",
       "1   1  POINT (2.00000 3.00000)           0\n",
       "2   2  POINT (0.00000 3.00000)           0\n",
       "3   3  POINT (0.00000 5.00000)           0\n",
       "4   4  POINT (5.00000 5.00000)           0\n",
       "5   5  POINT (5.00000 7.00000)           0\n",
       "6   6  POINT (3.00000 7.00000)           0\n",
       "7   7  POINT (3.00000 3.00000)           0"
      ]
     },
     "execution_count": 8,
     "metadata": {},
     "output_type": "execute_result"
    }
   ],
   "source": [
    "vertices_df, arcs_df = spaghetti.element_as_gdf(ntw, vertices=True, arcs=True)\n",
    "vertices_df"
   ]
  },
  {
   "cell_type": "code",
   "execution_count": 9,
   "metadata": {
    "ExecuteTime": {
     "end_time": "2020-03-23T02:14:02.597116Z",
     "start_time": "2020-03-23T02:14:02.569575Z"
    }
   },
   "outputs": [
    {
     "data": {
      "text/html": [
       "<div>\n",
       "<style scoped>\n",
       "    .dataframe tbody tr th:only-of-type {\n",
       "        vertical-align: middle;\n",
       "    }\n",
       "\n",
       "    .dataframe tbody tr th {\n",
       "        vertical-align: top;\n",
       "    }\n",
       "\n",
       "    .dataframe thead th {\n",
       "        text-align: right;\n",
       "    }\n",
       "</style>\n",
       "<table border=\"1\" class=\"dataframe\">\n",
       "  <thead>\n",
       "    <tr style=\"text-align: right;\">\n",
       "      <th></th>\n",
       "      <th>id</th>\n",
       "      <th>geometry</th>\n",
       "      <th>comp_label</th>\n",
       "    </tr>\n",
       "  </thead>\n",
       "  <tbody>\n",
       "    <tr>\n",
       "      <th>0</th>\n",
       "      <td>(0, 1)</td>\n",
       "      <td>LINESTRING (2.00000 7.00000, 2.00000 3.00000)</td>\n",
       "      <td>0</td>\n",
       "    </tr>\n",
       "    <tr>\n",
       "      <th>1</th>\n",
       "      <td>(1, 2)</td>\n",
       "      <td>LINESTRING (2.00000 3.00000, 0.00000 3.00000)</td>\n",
       "      <td>0</td>\n",
       "    </tr>\n",
       "    <tr>\n",
       "      <th>2</th>\n",
       "      <td>(2, 3)</td>\n",
       "      <td>LINESTRING (0.00000 3.00000, 0.00000 5.00000)</td>\n",
       "      <td>0</td>\n",
       "    </tr>\n",
       "    <tr>\n",
       "      <th>3</th>\n",
       "      <td>(3, 4)</td>\n",
       "      <td>LINESTRING (0.00000 5.00000, 5.00000 5.00000)</td>\n",
       "      <td>0</td>\n",
       "    </tr>\n",
       "    <tr>\n",
       "      <th>4</th>\n",
       "      <td>(4, 5)</td>\n",
       "      <td>LINESTRING (5.00000 5.00000, 5.00000 7.00000)</td>\n",
       "      <td>0</td>\n",
       "    </tr>\n",
       "    <tr>\n",
       "      <th>5</th>\n",
       "      <td>(5, 6)</td>\n",
       "      <td>LINESTRING (5.00000 7.00000, 3.00000 7.00000)</td>\n",
       "      <td>0</td>\n",
       "    </tr>\n",
       "    <tr>\n",
       "      <th>6</th>\n",
       "      <td>(6, 7)</td>\n",
       "      <td>LINESTRING (3.00000 7.00000, 3.00000 3.00000)</td>\n",
       "      <td>0</td>\n",
       "    </tr>\n",
       "  </tbody>\n",
       "</table>\n",
       "</div>"
      ],
      "text/plain": [
       "       id                                       geometry  comp_label\n",
       "0  (0, 1)  LINESTRING (2.00000 7.00000, 2.00000 3.00000)           0\n",
       "1  (1, 2)  LINESTRING (2.00000 3.00000, 0.00000 3.00000)           0\n",
       "2  (2, 3)  LINESTRING (0.00000 3.00000, 0.00000 5.00000)           0\n",
       "3  (3, 4)  LINESTRING (0.00000 5.00000, 5.00000 5.00000)           0\n",
       "4  (4, 5)  LINESTRING (5.00000 5.00000, 5.00000 7.00000)           0\n",
       "5  (5, 6)  LINESTRING (5.00000 7.00000, 3.00000 7.00000)           0\n",
       "6  (6, 7)  LINESTRING (3.00000 7.00000, 3.00000 3.00000)           0"
      ]
     },
     "execution_count": 9,
     "metadata": {},
     "output_type": "execute_result"
    }
   ],
   "source": [
    "arcs_df"
   ]
  },
  {
   "cell_type": "markdown",
   "metadata": {},
   "source": [
    "##### Plot"
   ]
  },
  {
   "cell_type": "code",
   "execution_count": 15,
   "metadata": {
    "ExecuteTime": {
     "end_time": "2020-03-23T02:14:52.907969Z",
     "start_time": "2020-03-23T02:14:52.486058Z"
    }
   },
   "outputs": [
    {
     "data": {
      "image/png": "[encoded data removed]",
      "text/plain": [
       "<Figure size 648x648 with 1 Axes>"
      ]
     },
     "metadata": {
      "image/png": {
       "height": 434,
       "width": 539
      },
      "needs_background": "light"
     },
     "output_type": "display_data"
    }
   ],
   "source": [
    "base = arcs_df.plot(lw=3, color=\"k\", alpha=.35, figsize=(9, 9))\n",
    "vertices_df.plot(ax=base, fc=\"r\", ec=\"k\", markersize=50, zorder=2)\n",
    "# vertex labels\n",
    "vert_labels(vertices_df, base, 14)"
   ]
  },
  {
   "cell_type": "markdown",
   "metadata": {},
   "source": [
    "**The plot above shows network arcs in gray and vertices in red. Since there are no actual intersections between segments ``(0,1),(3,4)`` or ``(3,4),(6,7)``, there are no vertices. Therefore a shortest path from vertex ``0`` to ``7`` must follow the route ``{1,2,3,4,5,6}`` for a total of 21 units of distance.**"
   ]
  },
  {
   "cell_type": "code",
   "execution_count": 28,
   "metadata": {
    "ExecuteTime": {
     "end_time": "2020-03-23T02:31:40.617064Z",
     "start_time": "2020-03-23T02:31:40.612563Z"
    }
   },
   "outputs": [],
   "source": [
    "ntw.full_distance_matrix(n_processes=1, gen_tree=True)"
   ]
  },
  {
   "cell_type": "code",
   "execution_count": 29,
   "metadata": {
    "ExecuteTime": {
     "end_time": "2020-03-23T02:31:42.016514Z",
     "start_time": "2020-03-23T02:31:42.009243Z"
    }
   },
   "outputs": [
    {
     "data": {
      "text/plain": [
       "[6, 5, 4, 3, 2, 1, 0]"
      ]
     },
     "execution_count": 29,
     "metadata": {},
     "output_type": "execute_result"
    }
   ],
   "source": [
    "ntw.network_trees[0][7]"
   ]
  },
  {
   "cell_type": "code",
   "execution_count": 31,
   "metadata": {
    "ExecuteTime": {
     "end_time": "2020-03-23T02:31:53.612660Z",
     "start_time": "2020-03-23T02:31:53.605536Z"
    }
   },
   "outputs": [
    {
     "data": {
      "text/plain": [
       "21.0"
      ]
     },
     "execution_count": 31,
     "metadata": {},
     "output_type": "execute_result"
    }
   ],
   "source": [
    "ntw.distance_matrix[0][7]"
   ]
  },
  {
   "cell_type": "markdown",
   "metadata": {},
   "source": [
    "#### b) Goalpost example\n",
    "##### Create some line segments of ``libpysal.cg.Chain`` objects"
   ]
  },
  {
   "cell_type": "code",
   "execution_count": 52,
   "metadata": {
    "ExecuteTime": {
     "end_time": "2020-03-23T02:56:57.828393Z",
     "start_time": "2020-03-23T02:56:57.820017Z"
    },
    "scrolled": true
   },
   "outputs": [
    {
     "data": {
      "text/plain": [
       "[<libpysal.cg.shapes.Chain at 0x1265faac8>,\n",
       " <libpysal.cg.shapes.Chain at 0x1265fa2e8>]"
      ]
     },
     "execution_count": 52,
     "metadata": {},
     "output_type": "execute_result"
    }
   ],
   "source": [
    "U = [Chain([Point((2,2)), Point((2,1)), Point((4,1)), Point((4,2))])]\n",
    "I = [Chain([Point((3,0)), Point((3,1))])]\n",
    "arcs = U + I\n",
    "arcs"
   ]
  },
  {
   "cell_type": "markdown",
   "metadata": {},
   "source": [
    "##### Instantiate a ``spaghetti.Network`` object"
   ]
  },
  {
   "cell_type": "code",
   "execution_count": 53,
   "metadata": {
    "ExecuteTime": {
     "end_time": "2020-03-23T02:56:58.465986Z",
     "start_time": "2020-03-23T02:56:58.459543Z"
    }
   },
   "outputs": [
    {
     "name": "stderr",
     "output_type": "stream",
     "text": [
      "/Users/jgaboardi/miniconda3/envs/py3_spgh_dev/lib/python3.7/site-packages/libpysal/weights/weights.py:167: UserWarning: The weights matrix is not fully connected: \n",
      " There are 2 disconnected components.\n",
      " There is 1 island with id: (4, 5).\n",
      "  warnings.warn(message)\n",
      "/Users/jgaboardi/miniconda3/envs/py3_spgh_dev/lib/python3.7/site-packages/libpysal/weights/weights.py:167: UserWarning: The weights matrix is not fully connected: \n",
      " There are 2 disconnected components.\n",
      " There are 2 islands with ids: (0, 3), (4, 5).\n",
      "  warnings.warn(message)\n"
     ]
    }
   ],
   "source": [
    "ntw = spaghetti.Network(in_data=arcs)"
   ]
  },
  {
   "cell_type": "markdown",
   "metadata": {},
   "source": [
    "##### Examine the componets\n",
    "**There are two components:**"
   ]
  },
  {
   "cell_type": "code",
   "execution_count": 54,
   "metadata": {
    "ExecuteTime": {
     "end_time": "2020-03-23T02:56:59.246120Z",
     "start_time": "2020-03-23T02:56:59.239395Z"
    }
   },
   "outputs": [
    {
     "data": {
      "text/plain": [
       "2"
      ]
     },
     "execution_count": 54,
     "metadata": {},
     "output_type": "execute_result"
    }
   ],
   "source": [
    "ntw.network_n_components"
   ]
  },
  {
   "cell_type": "markdown",
   "metadata": {},
   "source": [
    "**Component ``0`` includes 4 vertices (the \"goal\") and component ``1`` includes 2 (the \"post\"):**"
   ]
  },
  {
   "cell_type": "code",
   "execution_count": 55,
   "metadata": {
    "ExecuteTime": {
     "end_time": "2020-03-23T02:57:00.117066Z",
     "start_time": "2020-03-23T02:57:00.108193Z"
    }
   },
   "outputs": [
    {
     "data": {
      "text/plain": [
       "{0: [0, 1, 2, 3], 1: [4, 5]}"
      ]
     },
     "execution_count": 55,
     "metadata": {},
     "output_type": "execute_result"
    }
   ],
   "source": [
    "ntw.network_component_vertices"
   ]
  },
  {
   "cell_type": "markdown",
   "metadata": {},
   "source": [
    "##### Extract the network vertices and arcs"
   ]
  },
  {
   "cell_type": "code",
   "execution_count": 56,
   "metadata": {
    "ExecuteTime": {
     "end_time": "2020-03-23T02:57:00.911106Z",
     "start_time": "2020-03-23T02:57:00.887629Z"
    }
   },
   "outputs": [
    {
     "data": {
      "text/html": [
       "<div>\n",
       "<style scoped>\n",
       "    .dataframe tbody tr th:only-of-type {\n",
       "        vertical-align: middle;\n",
       "    }\n",
       "\n",
       "    .dataframe tbody tr th {\n",
       "        vertical-align: top;\n",
       "    }\n",
       "\n",
       "    .dataframe thead th {\n",
       "        text-align: right;\n",
       "    }\n",
       "</style>\n",
       "<table border=\"1\" class=\"dataframe\">\n",
       "  <thead>\n",
       "    <tr style=\"text-align: right;\">\n",
       "      <th></th>\n",
       "      <th>id</th>\n",
       "      <th>geometry</th>\n",
       "      <th>comp_label</th>\n",
       "    </tr>\n",
       "  </thead>\n",
       "  <tbody>\n",
       "    <tr>\n",
       "      <th>0</th>\n",
       "      <td>0</td>\n",
       "      <td>POINT (2.00000 2.00000)</td>\n",
       "      <td>0</td>\n",
       "    </tr>\n",
       "    <tr>\n",
       "      <th>1</th>\n",
       "      <td>1</td>\n",
       "      <td>POINT (2.00000 1.00000)</td>\n",
       "      <td>0</td>\n",
       "    </tr>\n",
       "    <tr>\n",
       "      <th>2</th>\n",
       "      <td>2</td>\n",
       "      <td>POINT (4.00000 1.00000)</td>\n",
       "      <td>0</td>\n",
       "    </tr>\n",
       "    <tr>\n",
       "      <th>3</th>\n",
       "      <td>3</td>\n",
       "      <td>POINT (4.00000 2.00000)</td>\n",
       "      <td>0</td>\n",
       "    </tr>\n",
       "    <tr>\n",
       "      <th>4</th>\n",
       "      <td>4</td>\n",
       "      <td>POINT (3.00000 0.00000)</td>\n",
       "      <td>1</td>\n",
       "    </tr>\n",
       "    <tr>\n",
       "      <th>5</th>\n",
       "      <td>5</td>\n",
       "      <td>POINT (3.00000 1.00000)</td>\n",
       "      <td>1</td>\n",
       "    </tr>\n",
       "  </tbody>\n",
       "</table>\n",
       "</div>"
      ],
      "text/plain": [
       "   id                 geometry  comp_label\n",
       "0   0  POINT (2.00000 2.00000)           0\n",
       "1   1  POINT (2.00000 1.00000)           0\n",
       "2   2  POINT (4.00000 1.00000)           0\n",
       "3   3  POINT (4.00000 2.00000)           0\n",
       "4   4  POINT (3.00000 0.00000)           1\n",
       "5   5  POINT (3.00000 1.00000)           1"
      ]
     },
     "execution_count": 56,
     "metadata": {},
     "output_type": "execute_result"
    }
   ],
   "source": [
    "vertices_df, arcs_df = spaghetti.element_as_gdf(ntw, vertices=True, arcs=True)\n",
    "vertices_df"
   ]
  },
  {
   "cell_type": "code",
   "execution_count": 57,
   "metadata": {
    "ExecuteTime": {
     "end_time": "2020-03-23T02:57:01.750171Z",
     "start_time": "2020-03-23T02:57:01.736167Z"
    }
   },
   "outputs": [
    {
     "data": {
      "text/html": [
       "<div>\n",
       "<style scoped>\n",
       "    .dataframe tbody tr th:only-of-type {\n",
       "        vertical-align: middle;\n",
       "    }\n",
       "\n",
       "    .dataframe tbody tr th {\n",
       "        vertical-align: top;\n",
       "    }\n",
       "\n",
       "    .dataframe thead th {\n",
       "        text-align: right;\n",
       "    }\n",
       "</style>\n",
       "<table border=\"1\" class=\"dataframe\">\n",
       "  <thead>\n",
       "    <tr style=\"text-align: right;\">\n",
       "      <th></th>\n",
       "      <th>id</th>\n",
       "      <th>geometry</th>\n",
       "      <th>comp_label</th>\n",
       "    </tr>\n",
       "  </thead>\n",
       "  <tbody>\n",
       "    <tr>\n",
       "      <th>0</th>\n",
       "      <td>(0, 1)</td>\n",
       "      <td>LINESTRING (2.00000 2.00000, 2.00000 1.00000)</td>\n",
       "      <td>0</td>\n",
       "    </tr>\n",
       "    <tr>\n",
       "      <th>1</th>\n",
       "      <td>(1, 2)</td>\n",
       "      <td>LINESTRING (2.00000 1.00000, 4.00000 1.00000)</td>\n",
       "      <td>0</td>\n",
       "    </tr>\n",
       "    <tr>\n",
       "      <th>2</th>\n",
       "      <td>(2, 3)</td>\n",
       "      <td>LINESTRING (4.00000 1.00000, 4.00000 2.00000)</td>\n",
       "      <td>0</td>\n",
       "    </tr>\n",
       "    <tr>\n",
       "      <th>3</th>\n",
       "      <td>(4, 5)</td>\n",
       "      <td>LINESTRING (3.00000 0.00000, 3.00000 1.00000)</td>\n",
       "      <td>1</td>\n",
       "    </tr>\n",
       "  </tbody>\n",
       "</table>\n",
       "</div>"
      ],
      "text/plain": [
       "       id                                       geometry  comp_label\n",
       "0  (0, 1)  LINESTRING (2.00000 2.00000, 2.00000 1.00000)           0\n",
       "1  (1, 2)  LINESTRING (2.00000 1.00000, 4.00000 1.00000)           0\n",
       "2  (2, 3)  LINESTRING (4.00000 1.00000, 4.00000 2.00000)           0\n",
       "3  (4, 5)  LINESTRING (3.00000 0.00000, 3.00000 1.00000)           1"
      ]
     },
     "execution_count": 57,
     "metadata": {},
     "output_type": "execute_result"
    }
   ],
   "source": [
    "arcs_df"
   ]
  },
  {
   "cell_type": "code",
   "execution_count": null,
   "metadata": {
    "ExecuteTime": {
     "end_time": "2020-03-10T12:47:37.644441Z",
     "start_time": "2020-03-10T12:47:37.637296Z"
    }
   },
   "outputs": [],
   "source": []
  },
  {
   "cell_type": "markdown",
   "metadata": {},
   "source": [
    "##### Plot"
   ]
  },
  {
   "cell_type": "code",
   "execution_count": 67,
   "metadata": {
    "ExecuteTime": {
     "end_time": "2020-03-23T03:01:35.825764Z",
     "start_time": "2020-03-23T03:01:35.381743Z"
    }
   },
   "outputs": [
    {
     "data": {
      "image/png": "[encoded data removed]",
      "text/plain": [
       "<Figure size 648x648 with 1 Axes>"
      ]
     },
     "metadata": {
      "image/png": {
       "height": 520,
       "width": 532
      },
      "needs_background": "light"
     },
     "output_type": "display_data"
    }
   ],
   "source": [
    "base_kws = {\"alpha\":.5, \"lw\":5, \"cmap\":\"Paired\", \"column\":\"comp_label\"}\n",
    "base = arcs_df.plot(figsize=(9, 9), **base_kws)\n",
    "#vertices_df.plot(ax=base, color=\"k\", markersize=40, zorder=2)\n",
    "vertices_df.plot(ax=base, fc=\"r\", ec=\"k\", markersize=50, zorder=2)\n",
    "\n",
    "\n",
    "# vertex labels\n",
    "vert_labels(vertices_df, base, 14)"
   ]
  },
  {
   "cell_type": "markdown",
   "metadata": {},
   "source": [
    "**As stated previously, flow from one network segment to another is only possible when segments share a vertex. In this case, no vertex is actually shared, although superficially there does appear to be. The plot above visualizes this concept by showing the two (dis)connected components of the \"goalpost\" network. Network arcs are colored by component membership and vertices are labeled by component membership. This is also demonstrated below when overlaying a plot of ``libpysal.weights.W``.**"
   ]
  },
  {
   "cell_type": "code",
   "execution_count": 59,
   "metadata": {
    "ExecuteTime": {
     "end_time": "2020-03-23T02:57:07.184296Z",
     "start_time": "2020-03-23T02:57:07.169777Z"
    }
   },
   "outputs": [
    {
     "data": {
      "text/html": [
       "<div>\n",
       "<style scoped>\n",
       "    .dataframe tbody tr th:only-of-type {\n",
       "        vertical-align: middle;\n",
       "    }\n",
       "\n",
       "    .dataframe tbody tr th {\n",
       "        vertical-align: top;\n",
       "    }\n",
       "\n",
       "    .dataframe thead th {\n",
       "        text-align: right;\n",
       "    }\n",
       "</style>\n",
       "<table border=\"1\" class=\"dataframe\">\n",
       "  <thead>\n",
       "    <tr style=\"text-align: right;\">\n",
       "      <th></th>\n",
       "      <th>id</th>\n",
       "      <th>geometry</th>\n",
       "      <th>comp_label</th>\n",
       "    </tr>\n",
       "  </thead>\n",
       "  <tbody>\n",
       "    <tr>\n",
       "      <th>0</th>\n",
       "      <td>(0, 1)</td>\n",
       "      <td>LINESTRING (2.00000 2.00000, 2.00000 1.00000)</td>\n",
       "      <td>0</td>\n",
       "    </tr>\n",
       "    <tr>\n",
       "      <th>1</th>\n",
       "      <td>(1, 2)</td>\n",
       "      <td>LINESTRING (2.00000 1.00000, 4.00000 1.00000)</td>\n",
       "      <td>0</td>\n",
       "    </tr>\n",
       "    <tr>\n",
       "      <th>2</th>\n",
       "      <td>(2, 3)</td>\n",
       "      <td>LINESTRING (4.00000 1.00000, 4.00000 2.00000)</td>\n",
       "      <td>0</td>\n",
       "    </tr>\n",
       "    <tr>\n",
       "      <th>3</th>\n",
       "      <td>(4, 5)</td>\n",
       "      <td>LINESTRING (3.00000 0.00000, 3.00000 1.00000)</td>\n",
       "      <td>1</td>\n",
       "    </tr>\n",
       "  </tbody>\n",
       "</table>\n",
       "</div>"
      ],
      "text/plain": [
       "       id                                       geometry  comp_label\n",
       "0  (0, 1)  LINESTRING (2.00000 2.00000, 2.00000 1.00000)           0\n",
       "1  (1, 2)  LINESTRING (2.00000 1.00000, 4.00000 1.00000)           0\n",
       "2  (2, 3)  LINESTRING (4.00000 1.00000, 4.00000 2.00000)           0\n",
       "3  (4, 5)  LINESTRING (3.00000 0.00000, 3.00000 1.00000)           1"
      ]
     },
     "execution_count": 59,
     "metadata": {},
     "output_type": "execute_result"
    }
   ],
   "source": [
    "arcs_df"
   ]
  },
  {
   "cell_type": "code",
   "execution_count": 69,
   "metadata": {
    "ExecuteTime": {
     "end_time": "2020-03-23T03:03:45.736425Z",
     "start_time": "2020-03-23T03:03:45.249014Z"
    }
   },
   "outputs": [
    {
     "data": {
      "text/plain": [
       "<matplotlib.axes._subplots.AxesSubplot at 0x127c3d160>"
      ]
     },
     "execution_count": 69,
     "metadata": {},
     "output_type": "execute_result"
    },
    {
     "data": {
      "image/png": "[encoded data removed]",
      "text/plain": [
       "<Figure size 648x648 with 1 Axes>"
      ]
     },
     "metadata": {
      "image/png": {
       "height": 520,
       "width": 536
      },
      "needs_background": "light"
     },
     "output_type": "display_data"
    }
   ],
   "source": [
    "base_kws = {\"alpha\":.5, \"lw\":5, \"cmap\":\"Paired\", \"column\":\"comp_label\"}\n",
    "base = arcs_df.plot(figsize=(9, 9), **base_kws)\n",
    "\n",
    "node_kws = {\"s\":100, \"zorder\":2}\n",
    "edge_kws = {\"zorder\":1}\n",
    "w_kws = {\"edge_kws\":edge_kws, \"node_kws\":node_kws}\n",
    "ntw.w_network.plot(arcs_df, indexed_on=\"id\", ax=base, **w_kws)\n",
    "vertices_df.plot(ax=base, fc=\"r\", ec=\"k\", markersize=50, zorder=2)\n",
    "\n",
    "#vertices_df.plot(ax=base, color=\"k\", markersize=40, zorder=2)\n",
    "# vertex labels\n",
    "#vert_labels(vertices_df, base, 14)"
   ]
  },
  {
   "cell_type": "markdown",
   "metadata": {},
   "source": [
    "**However, if the line segments were digitized properly.....**"
   ]
  },
  {
   "cell_type": "code",
   "execution_count": null,
   "metadata": {},
   "outputs": [],
   "source": [
    "# L (backwards)L\n",
    "#     I"
   ]
  },
  {
   "cell_type": "code",
   "execution_count": null,
   "metadata": {},
   "outputs": [],
   "source": []
  },
  {
   "cell_type": "code",
   "execution_count": null,
   "metadata": {},
   "outputs": [],
   "source": []
  },
  {
   "cell_type": "markdown",
   "metadata": {},
   "source": [
    "#### c) Empirical Example — John Snow's Cholera Map"
   ]
  },
  {
   "cell_type": "code",
   "execution_count": 44,
   "metadata": {
    "ExecuteTime": {
     "end_time": "2020-03-23T02:51:59.877849Z",
     "start_time": "2020-03-23T02:51:59.703173Z"
    }
   },
   "outputs": [
    {
     "data": {
      "text/html": [
       "<div>\n",
       "<style scoped>\n",
       "    .dataframe tbody tr th:only-of-type {\n",
       "        vertical-align: middle;\n",
       "    }\n",
       "\n",
       "    .dataframe tbody tr th {\n",
       "        vertical-align: top;\n",
       "    }\n",
       "\n",
       "    .dataframe thead th {\n",
       "        text-align: right;\n",
       "    }\n",
       "</style>\n",
       "<table border=\"1\" class=\"dataframe\">\n",
       "  <thead>\n",
       "    <tr style=\"text-align: right;\">\n",
       "      <th></th>\n",
       "      <th>Id</th>\n",
       "      <th>geometry</th>\n",
       "    </tr>\n",
       "  </thead>\n",
       "  <tbody>\n",
       "    <tr>\n",
       "      <th>0</th>\n",
       "      <td>0</td>\n",
       "      <td>LINESTRING (698394.862 5710772.742, 698230.823...</td>\n",
       "    </tr>\n",
       "    <tr>\n",
       "      <th>1</th>\n",
       "      <td>0</td>\n",
       "      <td>LINESTRING (698373.590 5710607.200, 698481.244...</td>\n",
       "    </tr>\n",
       "    <tr>\n",
       "      <th>2</th>\n",
       "      <td>0</td>\n",
       "      <td>LINESTRING (698466.845 5710652.970, 698381.993...</td>\n",
       "    </tr>\n",
       "    <tr>\n",
       "      <th>3</th>\n",
       "      <td>0</td>\n",
       "      <td>LINESTRING (698373.590 5710607.200, 698322.058...</td>\n",
       "    </tr>\n",
       "    <tr>\n",
       "      <th>4</th>\n",
       "      <td>0</td>\n",
       "      <td>LINESTRING (698322.058 5710573.561, 698304.893...</td>\n",
       "    </tr>\n",
       "    <tr>\n",
       "      <th>...</th>\n",
       "      <td>...</td>\n",
       "      <td>...</td>\n",
       "    </tr>\n",
       "    <tr>\n",
       "      <th>113</th>\n",
       "      <td>0</td>\n",
       "      <td>LINESTRING (698851.874 5710691.953, 698837.518...</td>\n",
       "    </tr>\n",
       "    <tr>\n",
       "      <th>114</th>\n",
       "      <td>0</td>\n",
       "      <td>LINESTRING (698860.680 5710803.234, 698825.980...</td>\n",
       "    </tr>\n",
       "    <tr>\n",
       "      <th>115</th>\n",
       "      <td>0</td>\n",
       "      <td>LINESTRING (698748.567 5710903.073, 698703.656...</td>\n",
       "    </tr>\n",
       "    <tr>\n",
       "      <th>116</th>\n",
       "      <td>0</td>\n",
       "      <td>LINESTRING (698715.115 5710881.223, 698695.567...</td>\n",
       "    </tr>\n",
       "    <tr>\n",
       "      <th>117</th>\n",
       "      <td>0</td>\n",
       "      <td>LINESTRING (698673.506 5710931.132, 698695.567...</td>\n",
       "    </tr>\n",
       "  </tbody>\n",
       "</table>\n",
       "<p>118 rows × 2 columns</p>\n",
       "</div>"
      ],
      "text/plain": [
       "     Id                                           geometry\n",
       "0     0  LINESTRING (698394.862 5710772.742, 698230.823...\n",
       "1     0  LINESTRING (698373.590 5710607.200, 698481.244...\n",
       "2     0  LINESTRING (698466.845 5710652.970, 698381.993...\n",
       "3     0  LINESTRING (698373.590 5710607.200, 698322.058...\n",
       "4     0  LINESTRING (698322.058 5710573.561, 698304.893...\n",
       "..   ..                                                ...\n",
       "113   0  LINESTRING (698851.874 5710691.953, 698837.518...\n",
       "114   0  LINESTRING (698860.680 5710803.234, 698825.980...\n",
       "115   0  LINESTRING (698748.567 5710903.073, 698703.656...\n",
       "116   0  LINESTRING (698715.115 5710881.223, 698695.567...\n",
       "117   0  LINESTRING (698673.506 5710931.132, 698695.567...\n",
       "\n",
       "[118 rows x 2 columns]"
      ]
     },
     "execution_count": 44,
     "metadata": {},
     "output_type": "execute_result"
    }
   ],
   "source": [
    "soho = geopandas.read_file(libpysal.examples.get_path(\"Soho_Network.shp\"))\n",
    "soho = soho.to_crs(epsg=32630)\n",
    "soho"
   ]
  },
  {
   "cell_type": "code",
   "execution_count": 45,
   "metadata": {
    "ExecuteTime": {
     "end_time": "2020-03-23T02:52:00.538507Z",
     "start_time": "2020-03-23T02:52:00.466886Z"
    }
   },
   "outputs": [
    {
     "name": "stderr",
     "output_type": "stream",
     "text": [
      "/Users/jgaboardi/miniconda3/envs/py3_spgh_dev/lib/python3.7/site-packages/libpysal/weights/weights.py:167: UserWarning: The weights matrix is not fully connected: \n",
      " There are 45 disconnected components.\n",
      " There are 24 islands with ids: (22, 23), (28, 29), (30, 31), (47, 48), (49, 50), (58, 59), (67, 68), (75, 76), (84, 85), (86, 87), (108, 109), (110, 111), (121, 122), (128, 129), (172, 173), (183, 184), (185, 186), (190, 191), (208, 209), (212, 213), (216, 217), (218, 219), (220, 221), (222, 223).\n",
      "  warnings.warn(message)\n",
      "/Users/jgaboardi/miniconda3/envs/py3_spgh_dev/lib/python3.7/site-packages/libpysal/weights/weights.py:167: UserWarning: The weights matrix is not fully connected: \n",
      " There are 45 disconnected components.\n",
      " There are 37 islands with ids: (5, 149), (22, 23), (24, 27), (28, 29), (30, 31), (47, 48), (49, 50), (58, 59), (67, 68), (72, 74), (75, 76), (84, 85), (86, 87), (89, 90), (108, 109), (110, 111), (121, 122), (124, 127), (128, 129), (150, 152), (153, 155), (163, 215), (165, 211), (168, 170), (172, 173), (183, 184), (185, 186), (190, 191), (193, 195), (197, 199), (208, 209), (212, 213), (216, 217), (218, 219), (220, 221), (222, 223), (224, 226).\n",
      "  warnings.warn(message)\n"
     ]
    },
    {
     "ename": "NameError",
     "evalue": "name 'elem_kws' is not defined",
     "output_type": "error",
     "traceback": [
      "\u001b[0;31m---------------------------------------------------------------------------\u001b[0m",
      "\u001b[0;31mNameError\u001b[0m                                 Traceback (most recent call last)",
      "\u001b[0;32m<ipython-input-45-3aaca03e2e2f>\u001b[0m in \u001b[0;36m<module>\u001b[0;34m\u001b[0m\n\u001b[1;32m      1\u001b[0m \u001b[0mntw\u001b[0m \u001b[0;34m=\u001b[0m \u001b[0mspaghetti\u001b[0m\u001b[0;34m.\u001b[0m\u001b[0mNetwork\u001b[0m\u001b[0;34m(\u001b[0m\u001b[0min_data\u001b[0m\u001b[0;34m=\u001b[0m\u001b[0msoho\u001b[0m\u001b[0;34m,\u001b[0m \u001b[0mvertex_atol\u001b[0m\u001b[0;34m=\u001b[0m\u001b[0;32mNone\u001b[0m\u001b[0;34m)\u001b[0m\u001b[0;34m\u001b[0m\u001b[0;34m\u001b[0m\u001b[0m\n\u001b[0;32m----> 2\u001b[0;31m \u001b[0mvertices\u001b[0m\u001b[0;34m,\u001b[0m \u001b[0marcs\u001b[0m \u001b[0;34m=\u001b[0m \u001b[0mspaghetti\u001b[0m\u001b[0;34m.\u001b[0m\u001b[0melement_as_gdf\u001b[0m\u001b[0;34m(\u001b[0m\u001b[0mntw\u001b[0m\u001b[0;34m,\u001b[0m \u001b[0;34m**\u001b[0m\u001b[0melem_kws\u001b[0m\u001b[0;34m)\u001b[0m\u001b[0;34m\u001b[0m\u001b[0;34m\u001b[0m\u001b[0m\n\u001b[0m",
      "\u001b[0;31mNameError\u001b[0m: name 'elem_kws' is not defined"
     ]
    }
   ],
   "source": [
    "ntw = spaghetti.Network(in_data=soho, vertex_atol=None)\n",
    "vertices, arcs = spaghetti.element_as_gdf(ntw, **elem_kws)"
   ]
  },
  {
   "cell_type": "code",
   "execution_count": null,
   "metadata": {},
   "outputs": [],
   "source": []
  },
  {
   "cell_type": "markdown",
   "metadata": {},
   "source": [
    "-----------------------\n",
    "### 2. Precision limitations and/or known issues with digitization\n",
    "#### Slightly imprecise coordinates"
   ]
  },
  {
   "cell_type": "code",
   "execution_count": null,
   "metadata": {},
   "outputs": [],
   "source": []
  },
  {
   "cell_type": "code",
   "execution_count": null,
   "metadata": {},
   "outputs": [],
   "source": []
  },
  {
   "cell_type": "code",
   "execution_count": null,
   "metadata": {},
   "outputs": [],
   "source": []
  },
  {
   "cell_type": "code",
   "execution_count": null,
   "metadata": {},
   "outputs": [],
   "source": []
  },
  {
   "cell_type": "code",
   "execution_count": null,
   "metadata": {},
   "outputs": [],
   "source": []
  },
  {
   "cell_type": "markdown",
   "metadata": {},
   "source": [
    "#### Revisting with the \"goalpost\" network"
   ]
  },
  {
   "cell_type": "code",
   "execution_count": null,
   "metadata": {},
   "outputs": [],
   "source": []
  },
  {
   "cell_type": "code",
   "execution_count": null,
   "metadata": {},
   "outputs": [],
   "source": []
  },
  {
   "cell_type": "markdown",
   "metadata": {},
   "source": [
    "#### Empirical Example"
   ]
  },
  {
   "cell_type": "code",
   "execution_count": null,
   "metadata": {},
   "outputs": [],
   "source": []
  },
  {
   "cell_type": "code",
   "execution_count": null,
   "metadata": {},
   "outputs": [],
   "source": []
  },
  {
   "cell_type": "code",
   "execution_count": null,
   "metadata": {},
   "outputs": [],
   "source": []
  },
  {
   "cell_type": "code",
   "execution_count": null,
   "metadata": {},
   "outputs": [],
   "source": []
  },
  {
   "cell_type": "markdown",
   "metadata": {},
   "source": [
    "-----------------------\n",
    "### 3. Distance matrices for multiple connected components\n",
    "#### Continuing with the \"goalpost\" network"
   ]
  },
  {
   "cell_type": "code",
   "execution_count": null,
   "metadata": {},
   "outputs": [],
   "source": []
  },
  {
   "cell_type": "code",
   "execution_count": null,
   "metadata": {},
   "outputs": [],
   "source": []
  },
  {
   "cell_type": "code",
   "execution_count": null,
   "metadata": {},
   "outputs": [],
   "source": []
  },
  {
   "cell_type": "code",
   "execution_count": null,
   "metadata": {},
   "outputs": [],
   "source": []
  },
  {
   "cell_type": "markdown",
   "metadata": {},
   "source": [
    "-----------------------"
   ]
  }
 ],
 "metadata": {
  "kernelspec": {
   "display_name": "Python [conda env:py3_spgh_dev]",
   "language": "python",
   "name": "conda-env-py3_spgh_dev-py"
  },
  "language_info": {
   "codemirror_mode": {
    "name": "ipython",
    "version": 3
   },
   "file_extension": ".py",
   "mimetype": "text/x-python",
   "name": "python",
   "nbconvert_exporter": "python",
   "pygments_lexer": "ipython3",
   "version": "3.7.3"
  }
 },
 "nbformat": 4,
 "nbformat_minor": 4
}
