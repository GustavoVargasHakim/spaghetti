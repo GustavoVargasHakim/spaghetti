{
 "cells": [
  {
   "cell_type": "markdown",
   "metadata": {},
   "source": [
    "---------------\n",
    "\n",
    "**If any part of this notebook is used in your research, please cite with the reference found in** **[README.md](https://github.com/pysal/spaghetti#bibtex-citation).**\n",
    "\n",
    "\n",
    "----------------\n",
    "## Caveats\n",
    "### Demonstrating known caveats in `spaghetti`\n",
    "\n",
    "**Author: James D. Gaboardi** **<jgaboardi@gmail.com>**\n",
    "\n",
    "**This notebook demonstrates the following limitations and caveats:**\n",
    "\n",
    "1. Limitations in non-planarity\n",
    "2. Distance matrices between (dis)connected components\n",
    "3. zzzz"
   ]
  },
  {
   "cell_type": "code",
   "execution_count": 1,
   "metadata": {
    "ExecuteTime": {
     "end_time": "2020-03-10T01:52:08.148877Z",
     "start_time": "2020-03-10T01:52:07.741212Z"
    }
   },
   "outputs": [
    {
     "name": "stdout",
     "output_type": "stream",
     "text": [
      "2020-03-09T21:52:08-04:00\n",
      "\n",
      "CPython 3.7.3\n",
      "IPython 7.10.2\n",
      "\n",
      "compiler   : Clang 9.0.0 (tags/RELEASE_900/final)\n",
      "system     : Darwin\n",
      "release    : 19.3.0\n",
      "machine    : x86_64\n",
      "processor  : i386\n",
      "CPU cores  : 4\n",
      "interpreter: 64bit\n"
     ]
    }
   ],
   "source": [
    "%load_ext watermark\n",
    "%watermark"
   ]
  },
  {
   "cell_type": "code",
   "execution_count": 26,
   "metadata": {
    "ExecuteTime": {
     "end_time": "2020-03-10T02:08:14.919098Z",
     "start_time": "2020-03-10T02:08:14.906756Z"
    }
   },
   "outputs": [
    {
     "name": "stdout",
     "output_type": "stream",
     "text": [
      "watermark 2.0.2\n",
      "matplotlib 3.1.2\n",
      "spaghetti  1.4.2.post2\n",
      "numpy      1.17.3\n",
      "libpysal   4.2.0\n",
      "geopandas  0.6.2\n",
      "\n"
     ]
    }
   ],
   "source": [
    "import geopandas\n",
    "import libpysal\n",
    "from libpysal.cg import Point, Chain\n",
    "import matplotlib\n",
    "import matplotlib.pyplot as plt\n",
    "import numpy\n",
    "import spaghetti\n",
    "%matplotlib inline\n",
    "%watermark -w\n",
    "%watermark -iv"
   ]
  },
  {
   "cell_type": "code",
   "execution_count": 3,
   "metadata": {
    "ExecuteTime": {
     "end_time": "2020-03-10T01:52:10.579909Z",
     "start_time": "2020-03-10T01:52:10.566852Z"
    }
   },
   "outputs": [],
   "source": [
    "try:\n",
    "    from IPython.display import set_matplotlib_formats\n",
    "    set_matplotlib_formats(\"retina\")\n",
    "except ImportError:\n",
    "    pass"
   ]
  },
  {
   "cell_type": "markdown",
   "metadata": {},
   "source": [
    "-----------------------\n",
    "### 1. Limitations in non-planarity\n",
    "#### sub-info"
   ]
  },
  {
   "cell_type": "code",
   "execution_count": 13,
   "metadata": {
    "ExecuteTime": {
     "end_time": "2020-03-09T23:11:44.701516Z",
     "start_time": "2020-03-09T23:11:44.690061Z"
    }
   },
   "outputs": [
    {
     "data": {
      "text/plain": [
       "[<libpysal.cg.shapes.Chain at 0x12f8b0f28>,\n",
       " <libpysal.cg.shapes.Chain at 0x12f8b0e10>]"
      ]
     },
     "execution_count": 13,
     "metadata": {},
     "output_type": "execute_result"
    }
   ],
   "source": [
    "U = [Chain([Point((2,2)), Point((2,1)), Point((4,1)), Point((4,2))])]\n",
    "I = [Chain([Point((3,0)), Point((3,1))])]\n",
    "arcs = U + I\n",
    "arcs"
   ]
  },
  {
   "cell_type": "code",
   "execution_count": 5,
   "metadata": {
    "ExecuteTime": {
     "end_time": "2020-03-09T23:05:50.206382Z",
     "start_time": "2020-03-09T23:05:50.181272Z"
    }
   },
   "outputs": [
    {
     "name": "stderr",
     "output_type": "stream",
     "text": [
      "/Users/jgaboardi/miniconda3/envs/py3_spgh_dev/lib/python3.7/site-packages/libpysal/weights/weights.py:167: UserWarning: The weights matrix is not fully connected: \n",
      " There are 2 disconnected components.\n",
      " There is 1 island with id: (4, 5).\n",
      "  warnings.warn(message)\n",
      "/Users/jgaboardi/miniconda3/envs/py3_spgh_dev/lib/python3.7/site-packages/libpysal/weights/weights.py:167: UserWarning: The weights matrix is not fully connected: \n",
      " There are 2 disconnected components.\n",
      " There are 2 islands with ids: (0, 3), (4, 5).\n",
      "  warnings.warn(message)\n"
     ]
    }
   ],
   "source": [
    "ntw = spaghetti.Network(in_data=arcs)"
   ]
  },
  {
   "cell_type": "code",
   "execution_count": 6,
   "metadata": {
    "ExecuteTime": {
     "end_time": "2020-03-09T23:05:50.276911Z",
     "start_time": "2020-03-09T23:05:50.268652Z"
    }
   },
   "outputs": [
    {
     "data": {
      "text/plain": [
       "2"
      ]
     },
     "execution_count": 6,
     "metadata": {},
     "output_type": "execute_result"
    }
   ],
   "source": [
    "ntw.network_n_components"
   ]
  },
  {
   "cell_type": "code",
   "execution_count": 12,
   "metadata": {
    "ExecuteTime": {
     "end_time": "2020-03-09T23:11:20.904379Z",
     "start_time": "2020-03-09T23:11:20.897937Z"
    }
   },
   "outputs": [
    {
     "data": {
      "text/plain": [
       "{0: [0, 1, 2, 3], 1: [4, 5]}"
      ]
     },
     "execution_count": 12,
     "metadata": {},
     "output_type": "execute_result"
    }
   ],
   "source": [
    "ntw.network_component_vertices"
   ]
  },
  {
   "cell_type": "code",
   "execution_count": 7,
   "metadata": {
    "ExecuteTime": {
     "end_time": "2020-03-09T23:07:55.712728Z",
     "start_time": "2020-03-09T23:07:55.692102Z"
    }
   },
   "outputs": [],
   "source": [
    "vertices_df, arcs_df = spaghetti.element_as_gdf(ntw, vertices=True, arcs=True)"
   ]
  },
  {
   "cell_type": "markdown",
   "metadata": {},
   "source": [
    "### ... label vertices AND arcs with component ID"
   ]
  },
  {
   "cell_type": "code",
   "execution_count": 22,
   "metadata": {
    "ExecuteTime": {
     "end_time": "2020-03-09T23:15:05.659572Z",
     "start_time": "2020-03-09T23:15:05.651392Z"
    }
   },
   "outputs": [],
   "source": [
    "def arc_labels(a, b, s):\n",
    "    \"\"\"Label each leg of the tour.\"\"\"\n",
    "    def _lab_loc(_x):\n",
    "        \"\"\"Helper for labeling location.\"\"\"\n",
    "        return _x.geometry.interpolate(0.5, normalized=True).coords[0]\n",
    "    kws = {\"size\": s, \"ha\": \"center\", \"va\": \"bottom\"}\n",
    "    a.apply(lambda x: b.annotate(s=x.id, xy=_lab_loc(x), **kws), axis=1)\n",
    "\n",
    "def vert_labels(v, b, s):\n",
    "    \"\"\"Label each point pattern observation.\"\"\"\n",
    "    def _lab_loc(_x):\n",
    "        \"\"\"Helper for labeling observations.\"\"\"\n",
    "        return _x.geometry.coords[0]\n",
    "    kws = {\"size\": s, \"ha\": \"left\", \"va\": \"bottom\", \"weight\": \"bold\"}\n",
    "    v.apply(lambda x: b.annotate(s=x.comp_label, xy=_lab_loc(x), **kws), axis=1)       "
   ]
  },
  {
   "cell_type": "code",
   "execution_count": 23,
   "metadata": {
    "ExecuteTime": {
     "end_time": "2020-03-09T23:15:06.929628Z",
     "start_time": "2020-03-09T23:15:06.917451Z"
    }
   },
   "outputs": [
    {
     "data": {
      "text/html": [
       "<div>\n",
       "<style scoped>\n",
       "    .dataframe tbody tr th:only-of-type {\n",
       "        vertical-align: middle;\n",
       "    }\n",
       "\n",
       "    .dataframe tbody tr th {\n",
       "        vertical-align: top;\n",
       "    }\n",
       "\n",
       "    .dataframe thead th {\n",
       "        text-align: right;\n",
       "    }\n",
       "</style>\n",
       "<table border=\"1\" class=\"dataframe\">\n",
       "  <thead>\n",
       "    <tr style=\"text-align: right;\">\n",
       "      <th></th>\n",
       "      <th>id</th>\n",
       "      <th>geometry</th>\n",
       "      <th>comp_label</th>\n",
       "    </tr>\n",
       "  </thead>\n",
       "  <tbody>\n",
       "    <tr>\n",
       "      <th>0</th>\n",
       "      <td>0</td>\n",
       "      <td>POINT (2.00000 2.00000)</td>\n",
       "      <td>0</td>\n",
       "    </tr>\n",
       "    <tr>\n",
       "      <th>1</th>\n",
       "      <td>1</td>\n",
       "      <td>POINT (2.00000 1.00000)</td>\n",
       "      <td>0</td>\n",
       "    </tr>\n",
       "    <tr>\n",
       "      <th>2</th>\n",
       "      <td>2</td>\n",
       "      <td>POINT (4.00000 1.00000)</td>\n",
       "      <td>0</td>\n",
       "    </tr>\n",
       "    <tr>\n",
       "      <th>3</th>\n",
       "      <td>3</td>\n",
       "      <td>POINT (4.00000 2.00000)</td>\n",
       "      <td>0</td>\n",
       "    </tr>\n",
       "    <tr>\n",
       "      <th>4</th>\n",
       "      <td>4</td>\n",
       "      <td>POINT (3.00000 0.00000)</td>\n",
       "      <td>1</td>\n",
       "    </tr>\n",
       "    <tr>\n",
       "      <th>5</th>\n",
       "      <td>5</td>\n",
       "      <td>POINT (3.00000 1.00000)</td>\n",
       "      <td>1</td>\n",
       "    </tr>\n",
       "  </tbody>\n",
       "</table>\n",
       "</div>"
      ],
      "text/plain": [
       "   id                 geometry  comp_label\n",
       "0   0  POINT (2.00000 2.00000)           0\n",
       "1   1  POINT (2.00000 1.00000)           0\n",
       "2   2  POINT (4.00000 1.00000)           0\n",
       "3   3  POINT (4.00000 2.00000)           0\n",
       "4   4  POINT (3.00000 0.00000)           1\n",
       "5   5  POINT (3.00000 1.00000)           1"
      ]
     },
     "execution_count": 23,
     "metadata": {},
     "output_type": "execute_result"
    }
   ],
   "source": [
    "vertices_df"
   ]
  },
  {
   "cell_type": "code",
   "execution_count": 26,
   "metadata": {
    "ExecuteTime": {
     "end_time": "2020-03-10T01:18:54.995483Z",
     "start_time": "2020-03-10T01:18:54.528484Z"
    }
   },
   "outputs": [
    {
     "data": {
      "image/png": "[encoded data removed]",
      "text/plain": [
       "<Figure size 648x648 with 1 Axes>"
      ]
     },
     "metadata": {
      "image/png": {
       "height": 520,
       "width": 532
      },
      "needs_background": "light"
     },
     "output_type": "display_data"
    }
   ],
   "source": [
    "base = arcs_df.plot(column=\"comp_label\", lw=9, cmap=\"Paired\", figsize=(9, 9))\n",
    "vertices_df.plot(ax=base, color=\"k\", markersize=40, zorder=2)\n",
    "# vertex labels\n",
    "vert_labels(vertices_df, base, 14)"
   ]
  },
  {
   "cell_type": "code",
   "execution_count": null,
   "metadata": {},
   "outputs": [],
   "source": []
  },
  {
   "cell_type": "markdown",
   "metadata": {},
   "source": [
    "#### Flow from one network segment to another is only possible when segments share a vertex. In this case, no vertex is shared. The following plot visualoi"
   ]
  },
  {
   "cell_type": "code",
   "execution_count": null,
   "metadata": {},
   "outputs": [],
   "source": []
  },
  {
   "cell_type": "markdown",
   "metadata": {},
   "source": [
    "-----------------------\n",
    "### 2. Info...\n",
    "#### sub-info"
   ]
  },
  {
   "cell_type": "code",
   "execution_count": null,
   "metadata": {},
   "outputs": [],
   "source": []
  },
  {
   "cell_type": "code",
   "execution_count": null,
   "metadata": {},
   "outputs": [],
   "source": []
  },
  {
   "cell_type": "code",
   "execution_count": null,
   "metadata": {},
   "outputs": [],
   "source": []
  },
  {
   "cell_type": "code",
   "execution_count": null,
   "metadata": {},
   "outputs": [],
   "source": []
  },
  {
   "cell_type": "markdown",
   "metadata": {},
   "source": [
    "-----------------------\n",
    "### 3. Info...\n",
    "#### sub-info"
   ]
  },
  {
   "cell_type": "code",
   "execution_count": null,
   "metadata": {},
   "outputs": [],
   "source": []
  },
  {
   "cell_type": "code",
   "execution_count": 50,
   "metadata": {
    "ExecuteTime": {
     "end_time": "2020-03-10T02:21:00.196422Z",
     "start_time": "2020-03-10T02:21:00.187179Z"
    }
   },
   "outputs": [],
   "source": [
    "def _x(idx):\n",
    "    return r*numpy.cos((idx*2*numpy.pi)/npts)+origin[0]\n",
    "def _y(idx):\n",
    "    return r*numpy.sin((idx*2*numpy.pi)/npts)+origin[1]"
   ]
  },
  {
   "cell_type": "code",
   "execution_count": 57,
   "metadata": {
    "ExecuteTime": {
     "end_time": "2020-03-10T02:21:34.047783Z",
     "start_time": "2020-03-10T02:21:34.043846Z"
    }
   },
   "outputs": [],
   "source": [
    "r = 1\n",
    "npts = 64\n",
    "origin = (5,5)"
   ]
  },
  {
   "cell_type": "code",
   "execution_count": 58,
   "metadata": {
    "ExecuteTime": {
     "end_time": "2020-03-10T02:21:34.452682Z",
     "start_time": "2020-03-10T02:21:34.443446Z"
    }
   },
   "outputs": [],
   "source": [
    "points = [Point((_x(i), _y(i))) for i in range(npts)]\n",
    "lines = [Chain(points+[points[0]])]"
   ]
  },
  {
   "cell_type": "code",
   "execution_count": 59,
   "metadata": {
    "ExecuteTime": {
     "end_time": "2020-03-10T02:21:34.840374Z",
     "start_time": "2020-03-10T02:21:34.830142Z"
    }
   },
   "outputs": [],
   "source": [
    "points_gdf = geopandas.GeoDataFrame(geometry=points)\n",
    "lines_gdf = geopandas.GeoDataFrame(geometry=lines)"
   ]
  },
  {
   "cell_type": "code",
   "execution_count": 60,
   "metadata": {
    "ExecuteTime": {
     "end_time": "2020-03-10T02:21:35.678088Z",
     "start_time": "2020-03-10T02:21:35.187828Z"
    }
   },
   "outputs": [
    {
     "data": {
      "text/plain": [
       "<matplotlib.axes._subplots.AxesSubplot at 0x132dcff28>"
      ]
     },
     "execution_count": 60,
     "metadata": {},
     "output_type": "execute_result"
    },
    {
     "data": {
      "image/png": "[encoded data removed]",
      "text/plain": [
       "<Figure size 648x648 with 1 Axes>"
      ]
     },
     "metadata": {
      "image/png": {
       "height": 520,
       "width": 532
      },
      "needs_background": "light"
     },
     "output_type": "display_data"
    }
   ],
   "source": [
    "base = lines_gdf.plot(figsize=(9,9), color=\"k\", alpha=.5, lw=2)\n",
    "points_gdf.plot(ax=base, markersize=20, color=\"r\")"
   ]
  },
  {
   "cell_type": "code",
   "execution_count": 61,
   "metadata": {
    "ExecuteTime": {
     "end_time": "2020-03-10T02:21:48.014505Z",
     "start_time": "2020-03-10T02:21:48.007420Z"
    }
   },
   "outputs": [],
   "source": [
    "lines += [Chain([Point((0,5)), Point((4,5))])]\n",
    "lines_gdf = geopandas.GeoDataFrame(geometry=lines)"
   ]
  },
  {
   "cell_type": "code",
   "execution_count": 63,
   "metadata": {
    "ExecuteTime": {
     "end_time": "2020-03-10T02:22:07.239622Z",
     "start_time": "2020-03-10T02:22:06.909358Z"
    }
   },
   "outputs": [
    {
     "data": {
      "text/plain": [
       "<matplotlib.axes._subplots.AxesSubplot at 0x133ebe9e8>"
      ]
     },
     "execution_count": 63,
     "metadata": {},
     "output_type": "execute_result"
    },
    {
     "data": {
      "image/png": "[encoded data removed]",
      "text/plain": [
       "<Figure size 648x648 with 1 Axes>"
      ]
     },
     "metadata": {
      "image/png": {
       "height": 198,
       "width": 539
      },
      "needs_background": "light"
     },
     "output_type": "display_data"
    }
   ],
   "source": [
    "lines_gdf.plot(figsize=(9,9), color=\"k\", alpha=.5, lw=2)"
   ]
  },
  {
   "cell_type": "code",
   "execution_count": 66,
   "metadata": {
    "ExecuteTime": {
     "end_time": "2020-03-10T02:23:22.129187Z",
     "start_time": "2020-03-10T02:23:22.115608Z"
    }
   },
   "outputs": [],
   "source": [
    "ntw = spaghetti.Network(in_data=lines_gdf, extractgraph=True)"
   ]
  },
  {
   "cell_type": "code",
   "execution_count": 71,
   "metadata": {
    "ExecuteTime": {
     "end_time": "2020-03-10T02:24:49.289544Z",
     "start_time": "2020-03-10T02:24:49.279416Z"
    }
   },
   "outputs": [
    {
     "data": {
      "text/plain": [
       "{0: [(0, 1),\n",
       "  (0, 63),\n",
       "  (1, 2),\n",
       "  (2, 3),\n",
       "  (3, 4),\n",
       "  (4, 5),\n",
       "  (5, 6),\n",
       "  (6, 7),\n",
       "  (7, 8),\n",
       "  (8, 9),\n",
       "  (9, 10),\n",
       "  (10, 11),\n",
       "  (11, 12),\n",
       "  (12, 13),\n",
       "  (13, 14),\n",
       "  (14, 15),\n",
       "  (15, 16),\n",
       "  (16, 17),\n",
       "  (17, 18),\n",
       "  (18, 19),\n",
       "  (19, 20),\n",
       "  (20, 21),\n",
       "  (21, 22),\n",
       "  (22, 23),\n",
       "  (23, 24),\n",
       "  (24, 25),\n",
       "  (25, 26),\n",
       "  (26, 27),\n",
       "  (27, 28),\n",
       "  (28, 29),\n",
       "  (29, 30),\n",
       "  (30, 31),\n",
       "  (31, 32),\n",
       "  (32, 33),\n",
       "  (32, 64),\n",
       "  (33, 34),\n",
       "  (34, 35),\n",
       "  (35, 36),\n",
       "  (36, 37),\n",
       "  (37, 38),\n",
       "  (38, 39),\n",
       "  (39, 40),\n",
       "  (40, 41),\n",
       "  (41, 42),\n",
       "  (42, 43),\n",
       "  (43, 44),\n",
       "  (44, 45),\n",
       "  (45, 46),\n",
       "  (46, 47),\n",
       "  (47, 48),\n",
       "  (48, 49),\n",
       "  (49, 50),\n",
       "  (50, 51),\n",
       "  (51, 52),\n",
       "  (52, 53),\n",
       "  (53, 54),\n",
       "  (54, 55),\n",
       "  (55, 56),\n",
       "  (56, 57),\n",
       "  (57, 58),\n",
       "  (58, 59),\n",
       "  (59, 60),\n",
       "  (60, 61),\n",
       "  (61, 62),\n",
       "  (62, 63)]}"
      ]
     },
     "execution_count": 71,
     "metadata": {},
     "output_type": "execute_result"
    }
   ],
   "source": [
    "ntw.network_component2arc"
   ]
  },
  {
   "cell_type": "code",
   "execution_count": 69,
   "metadata": {
    "ExecuteTime": {
     "end_time": "2020-03-10T02:23:52.596624Z",
     "start_time": "2020-03-10T02:23:52.588908Z"
    }
   },
   "outputs": [
    {
     "data": {
      "text/plain": [
       "{0: [(32, 32), (32, 64)]}"
      ]
     },
     "execution_count": 69,
     "metadata": {},
     "output_type": "execute_result"
    }
   ],
   "source": [
    "ntw.graph_component2edge"
   ]
  },
  {
   "cell_type": "code",
   "execution_count": 70,
   "metadata": {
    "ExecuteTime": {
     "end_time": "2020-03-10T02:24:12.646095Z",
     "start_time": "2020-03-10T02:24:12.638836Z"
    }
   },
   "outputs": [
    {
     "data": {
      "text/plain": [
       "[(32, 32), (32, 64)]"
      ]
     },
     "execution_count": 70,
     "metadata": {},
     "output_type": "execute_result"
    }
   ],
   "source": [
    "ntw.edges"
   ]
  },
  {
   "cell_type": "code",
   "execution_count": 72,
   "metadata": {
    "ExecuteTime": {
     "end_time": "2020-03-10T02:26:18.592927Z",
     "start_time": "2020-03-10T02:26:18.586914Z"
    }
   },
   "outputs": [
    {
     "name": "stdout",
     "output_type": "stream",
     "text": [
      "['NetworkF', 'NetworkG', 'NetworkK', '__class__', '__delattr__', '__dict__', '__dir__', '__doc__', '__eq__', '__format__', '__ge__', '__getattribute__', '__gt__', '__hash__', '__init__', '__init_subclass__', '__le__', '__lt__', '__module__', '__ne__', '__new__', '__reduce__', '__reduce_ex__', '__repr__', '__setattr__', '__sizeof__', '__str__', '__subclasshook__', '__weakref__', '_evaluate_napts', '_extractnetwork', '_newpoint_coords', '_round_sig', '_snap_to_link', '_yield_napts', '_yieldneighbor', 'adjacencylist', 'allneighbordistances', 'arc_lengths', 'arcs', 'arcs_to_edges', 'compute_distance_to_vertices', 'compute_snap_dist', 'contiguityweights', 'count_per_link', 'distancebandweights', 'edge_lengths', 'edges', 'enum_links_vertex', 'extractgraph', 'full_distance_matrix', 'graph_component2edge', 'graph_component_is_ring', 'graph_component_labels', 'graph_component_lengths', 'graph_component_vertex_count', 'graph_component_vertices', 'graph_fully_connected', 'graph_largest_component', 'graph_longest_component', 'graph_n_components', 'identify_components', 'in_data', 'loadnetwork', 'nearestneighbordistances', 'network_component2arc', 'network_component_is_ring', 'network_component_labels', 'network_component_lengths', 'network_component_vertex_count', 'network_component_vertices', 'network_fully_connected', 'network_largest_component', 'network_longest_component', 'network_n_components', 'non_articulation_points', 'pointpatterns', 'savenetwork', 'shortest_paths', 'simulate_observations', 'snapobservations', 'split_arcs', 'unique_arcs', 'vertex_coords', 'vertex_list', 'vertex_sig', 'vertices', 'w_graph', 'w_network']\n"
     ]
    }
   ],
   "source": [
    "print(dir(ntw))"
   ]
  },
  {
   "cell_type": "code",
   "execution_count": 74,
   "metadata": {
    "ExecuteTime": {
     "end_time": "2020-03-10T02:26:40.446557Z",
     "start_time": "2020-03-10T02:26:40.440952Z"
    }
   },
   "outputs": [
    {
     "name": "stdout",
     "output_type": "stream",
     "text": [
      "['_W__get_id_order', '_W__neighbors_0', '_W__set_id_order', '__class__', '__delattr__', '__dict__', '__dir__', '__doc__', '__eq__', '__format__', '__ge__', '__getattribute__', '__getitem__', '__gt__', '__hash__', '__init__', '__init_subclass__', '__iter__', '__le__', '__lt__', '__module__', '__ne__', '__new__', '__reduce__', '__reduce_ex__', '__repr__', '__setattr__', '__sizeof__', '__str__', '__subclasshook__', '__weakref__', '_build_sparse', '_cache', '_cardinalities', '_component_labels', '_id2i', '_id_order', '_id_order_set', '_n', '_n_components', '_reset', '_sparse', '_transform', 'asymmetries', 'asymmetry', 'cardinalities', 'component_labels', 'diagW2', 'diagWtW', 'diagWtW_WW', 'from_WSP', 'from_adjlist', 'from_file', 'from_networkx', 'from_shapefile', 'full', 'get_transform', 'histogram', 'id2i', 'id_order', 'id_order_set', 'islands', 'max_neighbors', 'mean_neighbors', 'min_neighbors', 'n', 'n_components', 'neighbor_offsets', 'neighbors', 'nonzero', 'pct_nonzero', 'plot', 'remap_ids', 's0', 's1', 's2', 's2array', 'sd', 'set_shapefile', 'set_transform', 'silence_warnings', 'sparse', 'symmetrize', 'to_WSP', 'to_adjlist', 'to_networkx', 'transform', 'transformations', 'trcW2', 'trcWtW', 'trcWtW_WW', 'weights']\n"
     ]
    }
   ],
   "source": [
    "print(dir(ntw.w_network))"
   ]
  },
  {
   "cell_type": "code",
   "execution_count": 76,
   "metadata": {
    "ExecuteTime": {
     "end_time": "2020-03-10T02:29:22.006015Z",
     "start_time": "2020-03-10T02:29:21.997910Z"
    }
   },
   "outputs": [
    {
     "data": {
      "text/plain": [
       "OrderedDict([((32, 32), [(32, 64)]), ((32, 64), [(32, 32)])])"
      ]
     },
     "execution_count": 76,
     "metadata": {},
     "output_type": "execute_result"
    }
   ],
   "source": [
    "ntw.w_graph.neighbors"
   ]
  },
  {
   "cell_type": "code",
   "execution_count": 80,
   "metadata": {
    "ExecuteTime": {
     "end_time": "2020-03-10T02:33:44.989777Z",
     "start_time": "2020-03-10T02:33:44.984168Z"
    }
   },
   "outputs": [],
   "source": [
    "arc2degree = {}\n",
    "for i in ntw.w_network.neighbors:\n",
    "    if i in arc2degree.keys():\n",
    "        continue\n",
    "    (v1, v2), neighs = i, ntw.w_network.neighbors[i]\n",
    "    vertex2degree"
   ]
  },
  {
   "cell_type": "code",
   "execution_count": 81,
   "metadata": {
    "ExecuteTime": {
     "end_time": "2020-03-10T02:33:49.358485Z",
     "start_time": "2020-03-10T02:33:49.351399Z"
    }
   },
   "outputs": [
    {
     "data": {
      "text/plain": [
       "62"
      ]
     },
     "execution_count": 81,
     "metadata": {},
     "output_type": "execute_result"
    }
   ],
   "source": [
    "v1"
   ]
  },
  {
   "cell_type": "code",
   "execution_count": 75,
   "metadata": {
    "ExecuteTime": {
     "end_time": "2020-03-10T02:27:04.339728Z",
     "start_time": "2020-03-10T02:27:04.318482Z"
    }
   },
   "outputs": [
    {
     "data": {
      "text/plain": [
       "OrderedDict([((0, 1), [(0, 63), (1, 2)]),\n",
       "             ((0, 63), [(0, 1), (62, 63)]),\n",
       "             ((1, 2), [(0, 1), (2, 3)]),\n",
       "             ((2, 3), [(1, 2), (3, 4)]),\n",
       "             ((3, 4), [(2, 3), (4, 5)]),\n",
       "             ((4, 5), [(3, 4), (5, 6)]),\n",
       "             ((5, 6), [(4, 5), (6, 7)]),\n",
       "             ((6, 7), [(5, 6), (7, 8)]),\n",
       "             ((7, 8), [(6, 7), (8, 9)]),\n",
       "             ((8, 9), [(7, 8), (9, 10)]),\n",
       "             ((9, 10), [(8, 9), (10, 11)]),\n",
       "             ((10, 11), [(9, 10), (11, 12)]),\n",
       "             ((11, 12), [(10, 11), (12, 13)]),\n",
       "             ((12, 13), [(11, 12), (13, 14)]),\n",
       "             ((13, 14), [(12, 13), (14, 15)]),\n",
       "             ((14, 15), [(13, 14), (15, 16)]),\n",
       "             ((15, 16), [(14, 15), (16, 17)]),\n",
       "             ((16, 17), [(15, 16), (17, 18)]),\n",
       "             ((17, 18), [(16, 17), (18, 19)]),\n",
       "             ((18, 19), [(17, 18), (19, 20)]),\n",
       "             ((19, 20), [(18, 19), (20, 21)]),\n",
       "             ((20, 21), [(19, 20), (21, 22)]),\n",
       "             ((21, 22), [(20, 21), (22, 23)]),\n",
       "             ((22, 23), [(21, 22), (23, 24)]),\n",
       "             ((23, 24), [(22, 23), (24, 25)]),\n",
       "             ((24, 25), [(23, 24), (25, 26)]),\n",
       "             ((25, 26), [(24, 25), (26, 27)]),\n",
       "             ((26, 27), [(25, 26), (27, 28)]),\n",
       "             ((27, 28), [(26, 27), (28, 29)]),\n",
       "             ((28, 29), [(27, 28), (29, 30)]),\n",
       "             ((29, 30), [(28, 29), (30, 31)]),\n",
       "             ((30, 31), [(29, 30), (31, 32)]),\n",
       "             ((31, 32), [(30, 31), (32, 33), (32, 64)]),\n",
       "             ((32, 33), [(31, 32), (32, 64), (33, 34)]),\n",
       "             ((32, 64), [(31, 32), (32, 33)]),\n",
       "             ((33, 34), [(32, 33), (34, 35)]),\n",
       "             ((34, 35), [(33, 34), (35, 36)]),\n",
       "             ((35, 36), [(34, 35), (36, 37)]),\n",
       "             ((36, 37), [(35, 36), (37, 38)]),\n",
       "             ((37, 38), [(36, 37), (38, 39)]),\n",
       "             ((38, 39), [(37, 38), (39, 40)]),\n",
       "             ((39, 40), [(38, 39), (40, 41)]),\n",
       "             ((40, 41), [(39, 40), (41, 42)]),\n",
       "             ((41, 42), [(40, 41), (42, 43)]),\n",
       "             ((42, 43), [(41, 42), (43, 44)]),\n",
       "             ((43, 44), [(42, 43), (44, 45)]),\n",
       "             ((44, 45), [(43, 44), (45, 46)]),\n",
       "             ((45, 46), [(44, 45), (46, 47)]),\n",
       "             ((46, 47), [(45, 46), (47, 48)]),\n",
       "             ((47, 48), [(46, 47), (48, 49)]),\n",
       "             ((48, 49), [(47, 48), (49, 50)]),\n",
       "             ((49, 50), [(48, 49), (50, 51)]),\n",
       "             ((50, 51), [(49, 50), (51, 52)]),\n",
       "             ((51, 52), [(50, 51), (52, 53)]),\n",
       "             ((52, 53), [(51, 52), (53, 54)]),\n",
       "             ((53, 54), [(52, 53), (54, 55)]),\n",
       "             ((54, 55), [(53, 54), (55, 56)]),\n",
       "             ((55, 56), [(54, 55), (56, 57)]),\n",
       "             ((56, 57), [(55, 56), (57, 58)]),\n",
       "             ((57, 58), [(56, 57), (58, 59)]),\n",
       "             ((58, 59), [(57, 58), (59, 60)]),\n",
       "             ((59, 60), [(58, 59), (60, 61)]),\n",
       "             ((60, 61), [(59, 60), (61, 62)]),\n",
       "             ((61, 62), [(60, 61), (62, 63)]),\n",
       "             ((62, 63), [(0, 63), (61, 62)])])"
      ]
     },
     "execution_count": 75,
     "metadata": {},
     "output_type": "execute_result"
    }
   ],
   "source": [
    "ntw.w_network.neighbors"
   ]
  },
  {
   "cell_type": "markdown",
   "metadata": {},
   "source": [
    "--------------------"
   ]
  }
 ],
 "metadata": {
  "kernelspec": {
   "display_name": "Python [conda env:py3_spgh_dev]",
   "language": "python",
   "name": "conda-env-py3_spgh_dev-py"
  },
  "language_info": {
   "codemirror_mode": {
    "name": "ipython",
    "version": 3
   },
   "file_extension": ".py",
   "mimetype": "text/x-python",
   "name": "python",
   "nbconvert_exporter": "python",
   "pygments_lexer": "ipython3",
   "version": "3.7.3"
  }
 },
 "nbformat": 4,
 "nbformat_minor": 4
}
